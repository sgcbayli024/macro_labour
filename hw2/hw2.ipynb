{
 "cells": [
  {
   "cell_type": "markdown",
   "metadata": {},
   "source": [
    "# Homework 2"
   ]
  },
  {
   "cell_type": "markdown",
   "metadata": {},
   "source": [
    "## ECON 8582"
   ]
  },
  {
   "cell_type": "markdown",
   "metadata": {},
   "source": [
    "### Conor Bayliss"
   ]
  },
  {
   "cell_type": "markdown",
   "metadata": {},
   "source": [
    "#### **Question 1**"
   ]
  },
  {
   "cell_type": "markdown",
   "metadata": {},
   "source": [
    "**Write the system of equilbrium equations, and define an equilibrium. Be careful to note that the value of a filled job, $J(x)$, and the value of an employed worker, $E(x)$, depend on the match-specific productivity $x$. Recall that we assume that matched can only separate at the random times of the new productivity draws.**"
   ]
  },
  {
   "cell_type": "markdown",
   "metadata": {},
   "source": [
    "Let us first derive the HJB equations, and then define an equilibrium. We begin with the firm."
   ]
  },
  {
   "cell_type": "markdown",
   "metadata": {},
   "source": [
    "Firstly, the value of a vacancy is given by\n",
    "$$\n",
    "V = \\frac{1}{1+\\delta t r}[-yc\\delta t+ \\delta t q(\\theta)J(1)+ (1-\\delta t q(\\theta))V]\n",
    "$$\n",
    "where $-yc\\delta t$ is the flow cost of the vacany. Since the value of a matched job depends on productivity, and the productivity upon matching is standardised to 1. Multiplying through by $\\frac{1}{1+\\delta t r}$, we see\n",
    "$$\n",
    "(1+\\delta t r) V = [-yc\\delta t+ \\delta t q(\\theta)J(1)+ (1-\\delta t q(\\theta))V]\n",
    "$$\n",
    "$$ \n",
    "\\implies (1+\\delta t r) V - (1-\\delta t q(\\theta)) V = [-yc\\delta t+ \\delta t q(\\theta)J(1)]\n",
    "$$\n",
    "$$\n",
    "\\implies [\\delta t r - \\delta t q(\\theta)] V = [-yc\\delta t+ \\delta t q(\\theta)J(1)]\n",
    "$$\n",
    "and, cancelling out $\\delta t$,\n",
    "$$\n",
    "[r-q(\\theta)]V = -yc + q(\\theta) J(1)\n",
    "$$\n",
    "or,\n",
    "$$\n",
    "r V = -yc + q(\\theta) [J(1)- V].\n",
    "$$\n",
    "Starting from first-principles, the value of a filled job at productivity $x$, $J(x)$, is\n",
    "$$\n",
    "J(x) = \\frac{1}{1+\\delta t r}[xy\\delta t - w(x)\\delta t + \\lambda \\delta t \\int_0^x\\max\\{J(x'),V\\}dF(x') + (1-\\lambda \\delta t )J(x)]\n",
    "$$\n",
    "where $xy\\delta t$ is the output of the match, $-w(x)\\delta t$ is the flow wage cost, and the other two terms deal with the Poisson process on productivity. With rate $\\lambda \\delta t$, the match productivity can change, and if the productivity level declines the firm and worker can choose the stick together or separate, and with rate $ (1-\\lambda \\delta t ) $ the match continues with the same productivity. Following a similar process as before,\n",
    "$$\n",
    "(1+\\delta t r)J(x) = [xy\\delta t - w(x)\\delta t + \\lambda \\delta t \\int_0^x\\max\\{J(x'),V\\}dF(x') + (1-\\lambda \\delta t )J(x)]\n",
    "$$\n",
    "$$\n",
    "\\implies (\\delta t r + \\lambda \\delta t)J(x) = xy\\delta t - w(x)\\delta t + \\lambda \\delta t \\int_0^x\\max\\{J(x'),V\\}dF(x')\n",
    "$$\n",
    "$$\n",
    "\\implies (r+\\lambda)J(x) = xy - w(x) + \\lambda \\int_0^x\\max\\{J(x'),V\\}dF(x').\n",
    "$$"
   ]
  },
  {
   "cell_type": "markdown",
   "metadata": {},
   "source": [
    "Let's proceed in the same manner and derive the HJB equations for the worker. To do so, we note that the value of being unemployed is independent of any productivity. Therefore, we set up the problem as follows\n",
    "$$\n",
    "U = \\frac{1}{1+\\delta t r}[z\\delta t + \\theta q(\\theta)\\delta t E(1) + (1-\\theta q(\\theta)\\delta t)U]\n",
    "$$\n",
    "where $z$ is the utility flow cost from leisure, $\\theta q(\\theta)$ is the match probability for an individual, and $E(1)$ is the value of starting unemployed tomorrow at the initial match productivity. Now, we notice that the above implies\n",
    "$$\n",
    "(1+\\delta t r)U = z\\delta t + \\theta q(\\theta) \\delta t E(1) + (1-\\theta q(\\theta)\\delta t) U\n",
    "$$\n",
    "$$\n",
    "\\implies (\\delta t r + \\theta q(\\theta)\\delta t)U = z \\delta t + \\theta q(\\theta) \\delta t E(1)\n",
    "$$\n",
    "$$\n",
    "\\implies (r+\\theta q(\\theta)) U = z + \\theta q(\\theta) E(1),\n",
    "$$\n",
    "or, rearranging,\n",
    "$$\n",
    "\\implies rU = z + \\theta q(\\theta)[E(1)-U]\n",
    "$$\n",
    "which is the value we were looking for. Finally, find the HJB equation for an employed worker with match specific productivity $x$. Begin with the following\n",
    "$$\n",
    "E(x) = \\frac{1}{1+\\delta t r}[w(x)\\delta t + \\lambda \\delta t \\int_0^x \\max\\{E(x'), U\\}dF(x') + (1-\\lambda\\delta t)E(x)]\n",
    "$$\n",
    "and proceed as above,\n",
    "$$\n",
    "\\implies (1+\\delta t r)E(x) = [w(x)\\delta t + \\lambda \\delta t \\int_0^x \\max\\{E(x'), U\\}dF(x') + (1-\\lambda\\delta t)E(x)]\n",
    "$$\n",
    "$$\n",
    "\\implies (\\delta t r + \\lambda\\delta t)E(x) = w(x)\\delta t + \\lambda \\delta t \\int_0^x \\max\\{E(x'), U\\}dF(x')\n",
    "$$\n",
    "$$\n",
    "\\implies (r+\\lambda)E(x) = w(x) + \\lambda \\int_0^x \\max\\{E(x'), U\\}dF(x')\n",
    "$$\n",
    "which is the desired equation.\n"
   ]
  },
  {
   "cell_type": "markdown",
   "metadata": {},
   "source": [
    "Now, let us define an equilibrium."
   ]
  },
  {
   "cell_type": "markdown",
   "metadata": {},
   "source": [
    "##### **Definition** *Equilibrium*"
   ]
  },
  {
   "cell_type": "markdown",
   "metadata": {},
   "source": [
    "An *equilibrium* consists of value functions for the household, $\\{U, E(x)\\}$, value functions for the firm, $\\{V, J(x)\\}$ and wages determined via Nash bargaining, $w(x)$ such that given wages, the value functions solve both the firm's and household's problems:\n",
    "* *firm*:\n",
    "$$\n",
    "F(x) = \\max\\{J(x), V\\}, \\forall x\n",
    "$$\n",
    "* *household*:\n",
    "$$\n",
    "G(x) = \\max\\{E(x), U\\},  \\forall x.\n",
    "$$\n",
    "but note that, by free-entry, $V$ = 0 at equilibrium."
   ]
  },
  {
   "cell_type": "markdown",
   "metadata": {},
   "source": [
    "#### **Question 2**"
   ]
  },
  {
   "cell_type": "markdown",
   "metadata": {},
   "source": [
    "**Show that the Bellman equation for the surplus, $\\Sigma(x)$, of a match is**\n",
    "\n",
    "$$\n",
    "r\\Sigma(x) = yx - rU + \\lambda \\int_0^x \\max\\{\\Sigma(x') - \\Sigma(x), -\\Sigma(x)\\}dF(x') + \\lambda(1-F(x))\\max\\{0, - \\Sigma(x)\\}\n",
    "$$"
   ]
  },
  {
   "cell_type": "markdown",
   "metadata": {},
   "source": []
  },
  {
   "cell_type": "markdown",
   "metadata": {},
   "source": [
    "**Now, guess that it is optimal to separate according to a cutoff rule: that is, there is a level $x_R$ of match specific productivity such that, if $x\\leq x_R$, the match separates, and if $x>x_R$ the match continues.**"
   ]
  },
  {
   "cell_type": "markdown",
   "metadata": {},
   "source": [
    "$\\quad$ **(a) Argue that the cutoff must be $x_R = \\frac{rU}{y}$, where $U$ denotes the value of an unemployed worker.**"
   ]
  },
  {
   "cell_type": "markdown",
   "metadata": {},
   "source": [
    "Above, we indeed saw that the Bellman equation for the surplus can be written as\n",
    "$$\n",
    "r\\Sigma(x) = yx - rU + \\lambda \\int_0^x \\max\\{\\Sigma(x') - \\Sigma(x), -\\Sigma(x)\\}dF(x') + \\lambda(1-F(x))\\max\\{0, - \\Sigma(x)\\}.\n",
    "$$\n",
    "Now, assume the existence of a cutoff wage, $w_R$. At such a wage, it must be that $E(x_R) = U$, and $J(x_R) = V$. That is, it is optimal for both firms and workers to break the match. Hence, since the definition of the surplus is \n",
    "$$\n",
    "\\Sigma(x) = J(x) - V + E(x) - U\n",
    "$$\n",
    "it must be that\n",
    "$$\n",
    "\\Sigma(x_R) = 0.\n",
    "$$\n",
    "Then, $r\\Sigma(x_R) = 0$, $\\max\\{\\Sigma(x') - \\Sigma(x_R), -\\Sigma(x_R)\\} = -\\Sigma(x_R) = 0$ since by assumption, $\\Sigma(x) < 0, \\forall x<x_R$, and $\\max\\{0, - \\Sigma(x_R)\\} = 0$. Hence, the Bellman reduces to:\n",
    "$$\n",
    "0 = x_R y - rU \\quad \\implies \\quad x_R = \\frac{rU}{y}\n",
    "$$\n",
    "as required."
   ]
  },
  {
   "cell_type": "markdown",
   "metadata": {},
   "source": [
    "$\\quad$ **(b) Find a closed form expression for $\\Sigma(x)$ when $x < x_R$.**"
   ]
  },
  {
   "cell_type": "markdown",
   "metadata": {},
   "source": [
    "Now, consider $x<x_R$. In this case, we know $\\Sigma(x) < 0 = \\Sigma(x_R)$ and, by implication, $x'< x \\implies \\Sigma(x') - \\Sigma(x) < - \\Sigma(x)$. Therefore,\n",
    "$$\n",
    "r\\Sigma(x) = yx - rU + \\lambda \\int_0^x \\max\\{\\Sigma(x') - \\Sigma(x), - \\Sigma(x)\\}dF(x') + \\lambda (1-F(x))\\max\\{0, -\\Sigma(x)\\}\n",
    "$$\n",
    "$$\n",
    "\\implies \\quad \\forall x < x_R, \\quad r\\Sigma(x) = yx - rU - \\lambda \\int_0^x \\Sigma(x) dF(x') - \\lambda (1-F(x))\\Sigma(x)\n",
    "$$\n",
    "$$\n",
    "\\implies r\\Sigma(x) = yx - rU - \\lambda \\Sigma(x)F(x) - \\lambda (1-F(x)) \\Sigma(x)\n",
    "$$\n",
    "$$\n",
    "\\implies r\\Sigma(x) = xy - rU - \\lambda \\Sigma(x)\n",
    "$$\n",
    "$$\n",
    "\\implies (r+\\lambda)\\Sigma(x) = yx - rU\n",
    "$$\n",
    "and finally we arrive at\n",
    "$$\n",
    "\\Sigma(x) = \\frac{yx}{r+\\lambda} - \\frac{r}{r+\\lambda}U\n",
    "$$\n",
    "which is the desired closed-form expression."
   ]
  },
  {
   "cell_type": "markdown",
   "metadata": {},
   "source": [
    "$\\quad$ **(c) For $x>x_R$, find an expression for the derivative $\\Sigma'(x)$. Find an \"integral\" expression for $\\Sigma(x)$.**"
   ]
  },
  {
   "cell_type": "markdown",
   "metadata": {},
   "source": []
  },
  {
   "cell_type": "markdown",
   "metadata": {},
   "source": [
    "$\\quad$  **(d) Argue that the guess is verified: that is, show that the function $\\Sigma(x)$ that you just calculated solves the Bellman equation for the surplus.**"
   ]
  },
  {
   "cell_type": "markdown",
   "metadata": {},
   "source": []
  },
  {
   "cell_type": "markdown",
   "metadata": {},
   "source": [
    "#### **Question 3**"
   ]
  },
  {
   "cell_type": "markdown",
   "metadata": {},
   "source": [
    "**Use the free entry condition, $V = 0$, in order to find one equilibrium condition for $(x_R, \\theta)$ (the \"job-creation\" condition). Find another equilibrium condition, by combining the condition $x_R = \\frac{rU}{y}$ with the Bellman equation for an unemployed worker (the \"job-destruction\" condition).**"
   ]
  },
  {
   "cell_type": "markdown",
   "metadata": {},
   "source": [
    "Using the free entry condition and the Bellman for a vacancy, we see\n",
    "$$\n",
    "V = 0 \\quad \\& rV = -yc + q(\\theta)[J(1)-V] \\implies J(1) = \\frac{yc}{q(\\theta)}\n",
    "$$\n",
    "and then using the reservation productivity and the Bellman for an unemployed worker we find\n",
    "$$\n",
    "yx_R = z + \\theta q(\\theta)[E(1)- \\frac{yx_R}{r}] \\implies E(1) = \\frac{yx_R(r+\\theta q(\\theta))- rz}{r\\theta q(\\theta)}.\n",
    "$$\n",
    "Now, let the Nash barginaing weights on the firm and household be $(1-\\beta)$ and $\\beta$ respectively such that the Nash bargaining solutions are\n",
    "$$\n",
    "E(x) - U = \\beta \\Sigma(x) \\quad \\& \\quad J(x) = (1-\\beta) \\Sigma(x)\n",
    "$$\n",
    "and put these into the above conditions to find\n",
    "$$\n",
    "\\Sigma(1) = \\frac{yc}{\\beta q(\\theta)} = \\frac{yx_R - z}{(1-\\beta)\\theta q(\\theta)}\n",
    "$$\n",
    "$$\n",
    "\\implies \\frac{yx_R-z}{yc}=\\frac{(1-\\beta)\\theta}{\\beta}\n",
    "$$\n",
    "which is an equilibrium condition."
   ]
  },
  {
   "cell_type": "markdown",
   "metadata": {},
   "source": [
    "#### **Question 4**"
   ]
  },
  {
   "cell_type": "markdown",
   "metadata": {},
   "source": [
    "**Argue that the resulting system of equations has a unique solution. Provide the comparative static of the intensity of job destruction, $\\lambda F(x_R)$, with respect to the aggregate productivity parameter y.**"
   ]
  },
  {
   "cell_type": "markdown",
   "metadata": {},
   "source": []
  }
 ],
 "metadata": {
  "kernelspec": {
   "display_name": "Julia 1.10.1",
   "language": "julia",
   "name": "julia-1.10"
  },
  "language_info": {
   "file_extension": ".jl",
   "mimetype": "application/julia",
   "name": "julia",
   "version": "1.10.1"
  }
 },
 "nbformat": 4,
 "nbformat_minor": 2
}
