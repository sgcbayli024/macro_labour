{
 "cells": [
  {
   "cell_type": "markdown",
   "metadata": {},
   "source": [
    "# Homework 2"
   ]
  },
  {
   "cell_type": "markdown",
   "metadata": {},
   "source": [
    "## ECON 8582"
   ]
  },
  {
   "cell_type": "markdown",
   "metadata": {},
   "source": [
    "### Conor Bayliss"
   ]
  },
  {
   "cell_type": "markdown",
   "metadata": {},
   "source": [
    "#### **Question 1**"
   ]
  },
  {
   "cell_type": "markdown",
   "metadata": {},
   "source": [
    "**Write the system of equilbrium equations, and define an equilibrium. Be careful to note that the value of a filled job, $J(x)$, and the value of an employed worker, $E(x)$, depend on the match-specific productivity $x$. Recall that we assume that matched can only separate at the random times of the new productivity draws.**"
   ]
  },
  {
   "cell_type": "markdown",
   "metadata": {},
   "source": [
    "Let us first derive the HJB equations, and then define an equilibrium. We begin with the firm."
   ]
  },
  {
   "cell_type": "markdown",
   "metadata": {},
   "source": [
    "Firstly, the value of a vacancy is given by\n",
    "$$\n",
    "V = \\frac{1}{1+\\delta t r}[-yc\\delta t+ \\delta t q(\\theta)J(1)+ (1-\\delta t q(\\theta))V]\n",
    "$$\n",
    "where $-yc\\delta t$ is the flow cost of the vacany. Since the value of a matched job depends on productivity, and the productivity upon matching is standardised to 1. Multiplying through by $\\frac{1}{1+\\delta t r}$, we see\n",
    "$$\n",
    "(1+\\delta t r) V = [-yc\\delta t+ \\delta t q(\\theta)J(1)+ (1-\\delta t q(\\theta))V]\n",
    "$$\n",
    "$$ \n",
    "\\implies (1+\\delta t r) V - (1-\\delta t q(\\theta)) V = [-yc\\delta t+ \\delta t q(\\theta)J(1)]\n",
    "$$\n",
    "$$\n",
    "\\implies [\\delta t r - \\delta t q(\\theta)] V = [-yc\\delta t+ \\delta t q(\\theta)J(1)]\n",
    "$$\n",
    "and, cancelling out $\\delta t$,\n",
    "$$\n",
    "[r-q(\\theta)]V = -yc + q(\\theta) J(1)\n",
    "$$\n",
    "or,\n",
    "$$\n",
    "r V = -yc + q(\\theta) [J(1)- V].\n",
    "$$\n",
    "Starting from first-principles, the value of a filled job at productivity $x$, $J(x)$, is\n",
    "$$\n",
    "J(x) = \\frac{1}{1+\\delta t r}[xy\\delta t - w(x)\\delta t + \\lambda \\delta t \\int_0^x\\max\\{J(x'),V\\}dF(x') + (1-\\lambda \\delta t )J(x)]\n",
    "$$\n",
    "where $xy\\delta t$ is the output of the match, $-w(x)\\delta t$ is the flow wage cost, and the other two terms deal with the Poisson process on productivity. With rate $\\lambda \\delta t$, the match productivity can change, and if the productivity level declines the firm and worker can choose the stick together or separate, and with rate $ (1-\\lambda \\delta t ) $ the match continues with the same productivity. Following a similar process as before,\n",
    "$$\n",
    "(1+\\delta t r)J(x) = [xy\\delta t - w(x)\\delta t + \\lambda \\delta t \\int_0^x\\max\\{J(x'),V\\}dF(x') + (1-\\lambda \\delta t )J(x)]\n",
    "$$\n",
    "$$\n",
    "\\implies (\\delta t r + \\lambda \\delta t)J(x) = xy\\delta t - w(x)\\delta t + \\lambda \\delta t \\int_0^x\\max\\{J(x'),V\\}dF(x')\n",
    "$$\n",
    "$$\n",
    "\\implies (r+\\lambda)J(x) = xy - w(x) + \\lambda \\int_0^x\\max\\{J(x'),V\\}dF(x').\n",
    "$$"
   ]
  },
  {
   "cell_type": "markdown",
   "metadata": {},
   "source": [
    "Let's proceed in the same manner and derive the HJB equations for the worker. To do so, we note that the value of being unemployed is independent of any productivity. Therefore, we set up the problem as follows\n",
    "$$\n",
    "U = \\frac{1}{1+\\delta t r}[z\\delta t + \\theta q(\\theta)\\delta t E(1) + (1-\\theta q(\\theta)\\delta t)U]\n",
    "$$\n",
    "where $z$ is the utility flow cost from leisure, $\\theta q(\\theta)$ is the match probability for an individual, and $E(1)$ is the value of starting unemployed tomorrow at the initial match productivity. Now, we notice that the above implies\n",
    "$$\n",
    "(1+\\delta t r)U = z\\delta t + \\theta q(\\theta) \\delta t E(1) + (1-\\theta q(\\theta)\\delta t) U\n",
    "$$\n",
    "$$\n",
    "\\implies (\\delta t r + \\theta q(\\theta)\\delta t)U = z \\delta t + \\theta q(\\theta) \\delta t E(1)\n",
    "$$\n",
    "$$\n",
    "\\implies (r+\\theta q(\\theta)) U = z + \\theta q(\\theta) E(1),\n",
    "$$\n",
    "or, rearranging,\n",
    "$$\n",
    "\\implies rU = z + \\theta q(\\theta)[E(1)-U]\n",
    "$$\n",
    "which is the value we were looking for. Finally, find the HJB equation for an employed worker with match specific productivity $x$. Begin with the following\n",
    "$$\n",
    "E(x) = \\frac{1}{1+\\delta t r}[w(x)\\delta t + \\lambda \\delta t \\int_0^x \\max\\{E(x'), U\\}dF(x') + (1-\\lambda\\delta t)E(x)]\n",
    "$$\n",
    "and proceed as above,\n",
    "$$\n",
    "\\implies (1+\\delta t r)E(x) = [w(x)\\delta t + \\lambda \\delta t \\int_0^x \\max\\{E(x'), U\\}dF(x') + (1-\\lambda\\delta t)E(x)]\n",
    "$$\n",
    "$$\n",
    "\\implies (\\delta t r + \\lambda\\delta t)E(x) = w(x)\\delta t + \\lambda \\delta t \\int_0^x \\max\\{E(x'), U\\}dF(x')\n",
    "$$\n",
    "$$\n",
    "\\implies (r+\\lambda)E(x) = w(x) + \\lambda \\int_0^x \\max\\{E(x'), U\\}dF(x')\n",
    "$$\n",
    "which is the desired equation.\n"
   ]
  },
  {
   "cell_type": "markdown",
   "metadata": {},
   "source": [
    "Now, let us define an equilibrium."
   ]
  },
  {
   "cell_type": "markdown",
   "metadata": {},
   "source": [
    "##### **Definition** *Equilibrium*"
   ]
  },
  {
   "cell_type": "markdown",
   "metadata": {},
   "source": [
    "An *equilibrium* consists of value functions for the household, $\\{U, E(x)\\}$, value functions for the firm, $\\{V, J(x)\\}$ and wages determined via Nash bargaining, $w(x)$ such that given wages, the value functions solve both the firm's and household's problems:\n",
    "* *firm*:\n",
    "$$\n",
    "F(x) = \\max\\{J(x), V\\}, \\forall x\n",
    "$$\n",
    "* *household*:\n",
    "$$\n",
    "G(x) = \\max\\{E(x), U\\},  \\forall x.\n",
    "$$\n",
    "but note that, by free-entry, $V$ = 0 at equilibrium."
   ]
  },
  {
   "cell_type": "markdown",
   "metadata": {},
   "source": [
    "#### **Question 2**"
   ]
  },
  {
   "cell_type": "markdown",
   "metadata": {},
   "source": [
    "**Show that the Bellman equation for the surplus, $\\Sigma(x)$, of a match is**\n",
    "\n",
    "$$\n",
    "r\\Sigma(x) = yx - rU + \\lambda \\int_0^x \\max\\{\\Sigma(x') - \\Sigma(x), -\\Sigma(x)\\}dF(x') + \\lambda(1-F(x))\\max\\{0, - \\Sigma(x)\\}\n",
    "$$"
   ]
  },
  {
   "cell_type": "markdown",
   "metadata": {},
   "source": []
  },
  {
   "cell_type": "markdown",
   "metadata": {},
   "source": []
  },
  {
   "cell_type": "markdown",
   "metadata": {},
   "source": []
  },
  {
   "cell_type": "markdown",
   "metadata": {},
   "source": [
    "**Now, guess that it is optimal to separate according to a cutoff rule: that is, there is a level $x_R$ of match specific productivity such that, if $x\\leq x_R$, the match separates, and if $x>x_R$ the match continues.**"
   ]
  },
  {
   "cell_type": "markdown",
   "metadata": {},
   "source": [
    "**(a) Argue that the cutoff must be $x_R = \\frac{rU}{y}$$, where $U$ denotes the value of an unemployed worker.**"
   ]
  },
  {
   "cell_type": "markdown",
   "metadata": {},
   "source": [
    "**(b) Find a closed form expression for $\\Sigma(x)$ when $x < x_R$.**"
   ]
  },
  {
   "cell_type": "markdown",
   "metadata": {},
   "source": [
    "**(c) For $x>x_R$, fina an expression for the derivative $\\Sigma'(x)$. Find an \"integral\" expression for $\\Sigma(x)$.**"
   ]
  },
  {
   "cell_type": "markdown",
   "metadata": {},
   "source": [
    "**(d) Argue that the guess is verified: that is, show that the function \\Sigma(x) that you just calculated solves the Bellman equation for the surplus.**"
   ]
  },
  {
   "cell_type": "markdown",
   "metadata": {},
   "source": [
    "#### **Question 3**"
   ]
  },
  {
   "cell_type": "markdown",
   "metadata": {},
   "source": [
    "**Use the free entry condition, $V = 0$, in order to find one equilibrium condition for $(x_R, \\theta)$ (the \"job-creation\" condition). Find another equilibrium condition, by combining the condition $x_R = \\frac{rU}{y}$ with the Bellman equation for an unemployed worker (the \"job-destruction\" condition).**"
   ]
  },
  {
   "cell_type": "markdown",
   "metadata": {},
   "source": [
    "#### **Question 4**"
   ]
  },
  {
   "cell_type": "markdown",
   "metadata": {},
   "source": [
    "**Argue that the resulting system of equations has a unique solution. Provide the comparative static of the intensity of job destruction, $\\lambda F(x_R)$, with respect to the aggregate productivity parameter y.**"
   ]
  }
 ],
 "metadata": {
  "kernelspec": {
   "display_name": "Julia 1.10.1",
   "language": "julia",
   "name": "julia-1.10"
  },
  "language_info": {
   "file_extension": ".jl",
   "mimetype": "application/julia",
   "name": "julia",
   "version": "1.10.1"
  }
 },
 "nbformat": 4,
 "nbformat_minor": 2
}
