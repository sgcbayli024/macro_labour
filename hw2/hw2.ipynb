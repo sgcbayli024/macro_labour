{
 "cells": [
  {
   "cell_type": "markdown",
   "metadata": {},
   "source": [
    "# Homework 2"
   ]
  },
  {
   "cell_type": "markdown",
   "metadata": {},
   "source": [
    "## ECON 8582"
   ]
  },
  {
   "cell_type": "markdown",
   "metadata": {},
   "source": [
    "### Conor Bayliss"
   ]
  },
  {
   "cell_type": "markdown",
   "metadata": {},
   "source": [
    "#### **Question 1**"
   ]
  },
  {
   "cell_type": "markdown",
   "metadata": {},
   "source": [
    "**Write the system of equilbrium equations, and define an equilibrium. Be careful to note that the value of a filled job, $J(x)$, and the value of an employed worker, $E(x)$, depend on the match-specific productivity $x$. Recall that we assume that matched can only separate at the random times of the new productivity draws.**"
   ]
  },
  {
   "cell_type": "markdown",
   "metadata": {},
   "source": [
    "Let us first derive the HJB equations, and then define an equilibrium. We begin with the firm."
   ]
  },
  {
   "cell_type": "markdown",
   "metadata": {},
   "source": [
    "Firstly, the value of a vacancy is given by\n",
    "$$\n",
    "V = \\frac{1}{1+\\delta t r}[-yc\\delta t+ \\delta t q(\\theta)J(1)+ (1-\\delta t q(\\theta))V]\n",
    "$$\n",
    "where $-yc\\delta t$ is the flow cost of the vacany. Since the value of a matched job depends on productivity, and the productivity upon matching is standardised to 1. Multiplying through by $\\frac{1}{1+\\delta t r}$, we see\n",
    "$$\n",
    "(1+\\delta t r) V = [-yc\\delta t+ \\delta t q(\\theta)J(1)+ (1-\\delta t q(\\theta))V]\n",
    "$$\n",
    "$$ \n",
    "\\implies (1+\\delta t r) V - (1-\\delta t q(\\theta)) V = [-yc\\delta t+ \\delta t q(\\theta)J(1)]\n",
    "$$\n",
    "$$\n",
    "\\implies [\\delta t r - \\delta t q(\\theta)] V = [-yc\\delta t+ \\delta t q(\\theta)J(1)]\n",
    "$$\n",
    "and, cancelling out $\\delta t$,\n",
    "$$\n",
    "[r-q(\\theta)]V = -yc + q(\\theta) J(1)\n",
    "$$\n",
    "or,\n",
    "$$\n",
    "r V = -yc + q(\\theta) [J(1)- V].\n",
    "$$\n",
    "Starting from first-principles, the value of a filled job at productivity $x$, $J(x)$, is\n",
    "$$\n",
    "J(x) = \\frac{1}{1+\\delta t r}[xy\\delta t - w(x)\\delta t + \\lambda \\delta t \\int_0^x\\max\\{J(x'),V\\}dF(x') + (1-\\lambda \\delta t )J(x)]\n",
    "$$\n",
    "where $xy\\delta t$ is the output of the match, $-w(x)\\delta t$ is the flow wage cost, and the other two terms deal with the Poisson process on productivity. With rate $\\lambda \\delta t$, the match productivity can change, and if the productivity level declines the firm and worker can choose the stick together or separate, and with rate $ (1-\\lambda \\delta t ) $ the match continues with the same productivity. Following a similar process as before,\n",
    "$$\n",
    "(1+\\delta t r)J(x) = [xy\\delta t - w(x)\\delta t + \\lambda \\delta t \\int_0^x\\max\\{J(x'),V\\}dF(x') + (1-\\lambda \\delta t )J(x)]\n",
    "$$\n",
    "$$\n",
    "\\implies (\\delta t r + \\lambda \\delta t)J(x) = xy\\delta t - w(x)\\delta t + \\lambda \\delta t \\int_0^x\\max\\{J(x'),V\\}dF(x')\n",
    "$$\n",
    "$$\n",
    "\\implies (r+\\lambda)J(x) = xy - w(x) + \\lambda \\int_0^x\\max\\{J(x'),V\\}dF(x').\n",
    "$$"
   ]
  },
  {
   "cell_type": "markdown",
   "metadata": {},
   "source": [
    "Let's proceed in the same manner and derive the HJB equations for the worker. To do so, we note that the value of being unemployed is independent of any productivity. Therefore, we set up the problem as follows\n",
    "$$\n",
    "U = \\frac{1}{1+\\delta t r}[z\\delta t + \\theta q(\\theta)\\delta t E(1) + (1-\\theta q(\\theta)\\delta t)U]\n",
    "$$\n",
    "where $z$ is the utility flow cost from leisure, $\\theta q(\\theta)$ is the match probability for an individual, and $E(1)$ is the value of starting unemployed tomorrow at the initial match productivity. Now, we notice that the above implies\n",
    "$$\n",
    "(1+\\delta t r)U = z\\delta t + \\theta q(\\theta) \\delta t E(1) + (1-\\theta q(\\theta)\\delta t) U\n",
    "$$\n",
    "$$\n",
    "\\implies (\\delta t r + \\theta q(\\theta)\\delta t)U = z \\delta t + \\theta q(\\theta) \\delta t E(1)\n",
    "$$\n",
    "$$\n",
    "\\implies (r+\\theta q(\\theta)) U = z + \\theta q(\\theta) E(1),\n",
    "$$\n",
    "or, rearranging,\n",
    "$$\n",
    "\\implies rU = z + \\theta q(\\theta)[E(1)-U]\n",
    "$$\n",
    "which is the value we were looking for. Finally, find the HJB equation for an employed worker with match specific productivity $x$. Begin with the following\n",
    "$$\n",
    "E(x) = \\frac{1}{1+\\delta t r}[w(x)\\delta t + \\lambda \\delta t \\int_0^x \\max\\{E(x'), U\\}dF(x') + (1-\\lambda\\delta t)E(x)]\n",
    "$$\n",
    "and proceed as above,\n",
    "$$\n",
    "\\implies (1+\\delta t r)E(x) = [w(x)\\delta t + \\lambda \\delta t \\int_0^x \\max\\{E(x'), U\\}dF(x') + (1-\\lambda\\delta t)E(x)]\n",
    "$$\n",
    "$$\n",
    "\\implies (\\delta t r + \\lambda\\delta t)E(x) = w(x)\\delta t + \\lambda \\delta t \\int_0^x \\max\\{E(x'), U\\}dF(x')\n",
    "$$\n",
    "$$\n",
    "\\implies (r+\\lambda)E(x) = w(x) + \\lambda \\int_0^x \\max\\{E(x'), U\\}dF(x')\n",
    "$$\n",
    "which is the desired equation.\n"
   ]
  },
  {
   "cell_type": "markdown",
   "metadata": {},
   "source": [
    "Now, let us define an equilibrium."
   ]
  },
  {
   "cell_type": "markdown",
   "metadata": {},
   "source": [
    "##### **Definition** *Equilibrium*"
   ]
  },
  {
   "cell_type": "markdown",
   "metadata": {},
   "source": [
    "An *equilibrium* consists of value functions for the household, $\\{U, E(x)\\}$, value functions for the firm, $\\{V, J(x)\\}$ and wages determined via Nash bargaining, $w(x)$ such that given wages, the value functions solve both the firm's and household's problems:\n",
    "* *firm*:\n",
    "$$\n",
    "F(x) = \\max\\{J(x), V\\}, \\forall x\n",
    "$$\n",
    "* *household*:\n",
    "$$\n",
    "G(x) = \\max\\{E(x), U\\},  \\forall x.\n",
    "$$\n",
    "but note that, by free-entry, $V$ = 0 at equilibrium."
   ]
  },
  {
   "cell_type": "markdown",
   "metadata": {},
   "source": [
    "#### **Question 2**"
   ]
  },
  {
   "cell_type": "markdown",
   "metadata": {},
   "source": [
    "**Show that the Bellman equation for the surplus, $\\Sigma(x)$, of a match is**\n",
    "\n",
    "$$\n",
    "r\\Sigma(x) = yx - rU + \\lambda \\int_0^x \\max\\{\\Sigma(x') - \\Sigma(x), -\\Sigma(x)\\}dF(x') + \\lambda(1-F(x))\\max\\{0, - \\Sigma(x)\\}\n",
    "$$"
   ]
  },
  {
   "cell_type": "markdown",
   "metadata": {},
   "source": [
    "Firstly, the surplus of a match is given by\n",
    "$$\n",
    "\\Sigma(x) = E(x) + J(x) - V - U\n",
    "$$\n",
    "which implies\n",
    "$$\n",
    "r\\Sigma(x) = rE(x) + rJ(x) - rU\n",
    "$$\n",
    "where we note that the $V$ term drops out by free-entry. If wages are determined via Nash bargaining, with weights of $\\beta$ and $(1-\\beta)$ for the worker and firm respectively, we have\n",
    "$$\n",
    "E(x) = U + \\beta \\Sigma(x) \\quad \\& \\quad J(x) = (1-\\beta) \\Sigma(x) \n",
    "$$\n",
    "which implies, \n",
    "$$\n",
    "(r+\\lambda) J(x) = xy - w(x) + \\lambda (1-\\beta) \\int_0^x \\max \\{\\Sigma(x') ,0 \\}dF(x') \\quad \\& \\quad (r+\\lambda) E(x) = w(x) + \\lambda \\beta \\int_0^x \\max \\{\\Sigma(x') ,0 \\}dF(x').\n",
    "$$\n",
    "Taking $\\lambda J(x)$ and $\\lambda E(x)$ and rewriting using the Nash bargaining conditions implies\n",
    "$$\n",
    "rJ(x) = xy - w(x) + \\lambda (1-\\beta) \\int_0^x \\max \\{\\Sigma(x') - \\Sigma(x) , -\\Sigma(x) \\}dF(x') - \\lambda (1-\\beta) \\int_x^1 \\Sigma(x)dF(x') \\quad \\& \\quad r E(x) = w(x) + \\lambda \\beta \\int_0^x \\max \\{\\Sigma(x') - \\Sigma(x) , -\\Sigma(x) \\}dF(x') - \\lambda \\beta \\int_x^1 \\Sigma(x)dF(x')\n",
    "$$\n",
    "$$\n",
    "\\implies r\\Sigma(x) = yx - rU + \\lambda \\int_0^x \\max\\{ \\Sigma(x') - \\Sigma(x), -\\Sigma(x) \\}dF(x') -\\lambda \\int_x^1 \\Sigma(x)dF(x')\n",
    "$$\n",
    "$$\n",
    "\\implies r\\Sigma(x) = yx - rU + \\lambda \\int_0^x \\max\\{ \\Sigma(x') - \\Sigma(x), -\\Sigma(x) \\}dF(x') -\\lambda (1-F(x))\\Sigma(x)\n",
    "$$\n",
    "where we have remembered to subtract the $rU$ term. \n"
   ]
  },
  {
   "cell_type": "markdown",
   "metadata": {},
   "source": [
    "**Now, guess that it is optimal to separate according to a cutoff rule: that is, there is a level $x_R$ of match specific productivity such that, if $x\\leq x_R$, the match separates, and if $x>x_R$ the match continues.**"
   ]
  },
  {
   "cell_type": "markdown",
   "metadata": {},
   "source": [
    "$\\quad$ **(a) Argue that the cutoff must be $x_R = \\frac{rU}{y}$, where $U$ denotes the value of an unemployed worker.**"
   ]
  },
  {
   "cell_type": "markdown",
   "metadata": {},
   "source": [
    "Above, we indeed saw that the Bellman equation for the surplus can be written as\n",
    "$$\n",
    "r\\Sigma(x) = yx - rU + \\lambda \\int_0^x \\max\\{\\Sigma(x') - \\Sigma(x), -\\Sigma(x)\\}dF(x') + \\lambda(1-F(x))\\max\\{0, - \\Sigma(x)\\}.\n",
    "$$\n",
    "Now, assume the existence of a cutoff wage, $w_R$. At such a wage, it must be that $E(x_R) = U$, and $J(x_R) = V$. That is, it is optimal for both firms and workers to break the match. Since the definition of the surplus is \n",
    "$$\n",
    "\\Sigma(x) = J(x) - V + E(x) - U\n",
    "$$\n",
    "it must be that\n",
    "$$\n",
    "\\Sigma(x_R) = 0.\n",
    "$$\n",
    "Then, $r\\Sigma(x_R) = 0$, $\\max\\{\\Sigma(x') - \\Sigma(x_R), -\\Sigma(x_R)\\} = -\\Sigma(x_R) = 0$ since by assumption, $\\Sigma(x) < 0, \\forall x<x_R$, and $\\max\\{0, - \\Sigma(x_R)\\} = 0$. Hence, the Bellman reduces to:\n",
    "$$\n",
    "0 = x_R y - rU \\quad \\implies \\quad x_R = \\frac{rU}{y}\n",
    "$$\n",
    "as required."
   ]
  },
  {
   "cell_type": "markdown",
   "metadata": {},
   "source": [
    "$\\quad$ **(b) Find a closed form expression for $\\Sigma(x)$ when $x < x_R$.**"
   ]
  },
  {
   "cell_type": "markdown",
   "metadata": {},
   "source": [
    "Now, consider $x<x_R$. In this case, we know $\\Sigma(x) < 0 = \\Sigma(x_R)$ and, by implication, $x'< x \\implies \\Sigma(x') - \\Sigma(x) < - \\Sigma(x)$. Therefore,\n",
    "$$\n",
    "r\\Sigma(x) = yx - rU + \\lambda \\int_0^x \\max\\{\\Sigma(x') - \\Sigma(x), - \\Sigma(x)\\}dF(x') + \\lambda (1-F(x))\\max\\{0, -\\Sigma(x)\\}\n",
    "$$\n",
    "$$\n",
    "\\implies \\quad \\forall x < x_R, \\quad r\\Sigma(x) = yx - rU - \\lambda \\int_0^x \\Sigma(x) dF(x') - \\lambda (1-F(x))\\Sigma(x)\n",
    "$$\n",
    "$$\n",
    "\\implies r\\Sigma(x) = yx - rU - \\lambda \\Sigma(x)F(x) - \\lambda (1-F(x)) \\Sigma(x)\n",
    "$$\n",
    "$$\n",
    "\\implies r\\Sigma(x) = xy - rU - \\lambda \\Sigma(x)\n",
    "$$\n",
    "$$\n",
    "\\implies (r+\\lambda)\\Sigma(x) = yx - rU\n",
    "$$\n",
    "and finally we arrive at\n",
    "$$\n",
    "\\Sigma(x) = \\frac{yx}{r+\\lambda} - \\frac{r}{r+\\lambda}U\n",
    "$$\n",
    "which is the desired closed-form expression."
   ]
  },
  {
   "cell_type": "markdown",
   "metadata": {},
   "source": [
    "$\\quad$ **(c) For $x>x_R$, find an expression for the derivative $\\Sigma'(x)$. Find an \"integral\" expression for $\\Sigma(x)$.**"
   ]
  },
  {
   "cell_type": "markdown",
   "metadata": {},
   "source": [
    "Differentiating $\\Sigma(x)$ with respect to $x$ yields, \n",
    "$$\n",
    "\\Sigma'(x) = \\frac{y}{r+\\lambda}.\n",
    "$$\n",
    "For $x>x_R$, it must be that $\\Sigma(x) > \\Sigma(x_R) = 0$. Hence, using the surplus equation we see\n",
    "$$\n",
    "r\\Sigma(x) = yx - rU - \\lambda \\int_0^{x_R} \\Sigma(x)dF(x') + \\lambda \\int_{x_R}^x [\\Sigma(x') - \\Sigma(x)]dF(x')\n",
    "$$\n",
    "$$\n",
    "\\implies r\\Sigma(x) = yx - rU - \\lambda \\Sigma(x)F(x_R) + \\lambda \\int_{x_R}^x \\Sigma(x') dF(x') - \\lambda \\Sigma(x)[F(x) - F(x_R)]\n",
    "$$\n",
    "$$\n",
    "\\implies r\\Sigma(x) = yx - rU + \\lambda \\int_{x_R}^x \\Sigma(x') dF(x') - \\lambda \\Sigma(x)F(x)\n",
    "$$\n",
    "and, integrating by parts, $\\int_a^b u(x) v'(x)dx = [ u(x)v(x) ]_{a}^{b} - \\int_a^b u'(x)v(x)dx$, we see\n",
    "$$\n",
    "\\int_{x_R}^x \\Sigma(x') dF(x') =  F(x)\\Sigma(x) - \\Sigma(x) + \\frac{y}{r+\\lambda}\\int_{x_R}^x [1-F(x')]dx'.\n",
    "$$\n",
    "So, combining the two conditions yields\n",
    "$$\n",
    "r\\Sigma(x) = yx - rU - \\lambda \\Sigma(x) F(x) + \\lambda \\Sigma(x) F(x) - \\lambda \\Sigma(x) + \\frac{y \\lambda}{r+\\lambda}\\int_{x_R}^x [1-F(x')]dx'\n",
    "$$\n",
    "$$\n",
    "\\implies (r+\\lambda)\\Sigma(x) = yx - rU + \\frac{y \\lambda}{r+\\lambda}\\int_{x_R}^x [1-F(x')]dx'.\n",
    "$$"
   ]
  },
  {
   "cell_type": "markdown",
   "metadata": {},
   "source": [
    "$\\quad$  **(d) Argue that the guess is verified: that is, show that the function $\\Sigma(x)$ that you just calculated solves the Bellman equation for the surplus.**"
   ]
  },
  {
   "cell_type": "markdown",
   "metadata": {},
   "source": [
    "Now, we check that the above condition satisfies the Bellman equation for $\\Sigma(x)$. To do so, rewrite the Bellman as follows\n",
    "$$\n",
    "(r+\\lambda)\\Sigma(x) = \\lambda\\Sigma(x) + yx - rU + \\lambda \\int_0^x \\max\\{\\Sigma(x') - \\Sigma(x), -\\Sigma(x)\\}dF(x') - \\lambda(1-F(x))\\max\\{0, \\Sigma(x)\\}\n",
    "$$\n",
    "$$\n",
    "\\implies (r+\\lambda)\\Sigma(x) =  yx - rU + \\lambda \\int_0^x \\max\\{\\Sigma(x'), 0\\}dF(x') - \\lambda(1-F(x))\\max\\{0, \\Sigma(x)\\}\n",
    "$$\n",
    "where we have added $\\lambda\\Sigma(x)$ to both sides and cancelled it with the $\\Sigma(x)$ terms inside the integral, and changed the sign of the last term. Assume $x>x_R$ in what follows. We also know that \n",
    "$$\n",
    "(r+\\lambda)\\Sigma(x) = yx - rU + \\frac{y \\lambda}{r+\\lambda}\\int_{x_R}^x [1-F(x')]dx'\n",
    "$$\n",
    "If $x>x_R$, then $\\max\\{0, \\Sigma(x)\\} = \\Sigma(x)$, which we will take advantage of in both $\\max$ terms. We also know that\n",
    "$$\n",
    "\\int_0^x \\max\\{\\Sigma(x'), 0\\}dF(x') = \\int_{x_R}^x \\max\\{\\Sigma(x'), 0\\}dF(x')\n",
    "$$\n",
    "since the max of these will be $0$ if $x \\leq x_R$. So, rewriting,\n",
    "$$\n",
    "yx - rU + \\frac{y \\lambda}{r+\\lambda}\\int_{x_R}^x [1-F(x')]dx' = yx - rU + \\lambda \\int_{x_R}^x \\Sigma(x')dF(x') - \\lambda(1-F(x))\\Sigma(x)\n",
    "$$\n",
    "$$\n",
    "\\implies \\frac{y \\lambda}{r+\\lambda}\\int_{x_R}^x [1-F(x')]dx' + \\lambda(1-F(x))\\Sigma(x) = \\lambda \\int_{x_R}^x \\Sigma(x')dF(x')\n",
    "$$\n",
    "$$\n",
    "\\implies \\frac{y}{r+\\lambda}\\int_{x_R}^x [1-F(x')]dx' + (1-F(x))\\Sigma(x) = \\int_{x_R}^x \\Sigma(x')dF(x')\n",
    "$$\n",
    "which is the same as the results of integration by parts from the previous section.\n"
   ]
  },
  {
   "cell_type": "markdown",
   "metadata": {},
   "source": [
    "#### **Question 3**"
   ]
  },
  {
   "cell_type": "markdown",
   "metadata": {},
   "source": [
    "**Use the free entry condition, $V = 0$, in order to find one equilibrium condition for $(x_R, \\theta)$ (the \"job-creation\" condition). Find another equilibrium condition, by combining the condition $x_R = \\frac{rU}{y}$ with the Bellman equation for an unemployed worker (the \"job-destruction\" condition).**"
   ]
  },
  {
   "cell_type": "markdown",
   "metadata": {},
   "source": [
    "Using the free entry condition and the Bellman for a vacancy, we see\n",
    "$$\n",
    "V = 0 \\quad \\& \\quad rV = -yc + q(\\theta)[J(1)-V] \\implies J(1) = \\frac{yc}{q(\\theta)}\n",
    "$$\n",
    "and then using the reservation productivity and the Bellman for an unemployed worker we find\n",
    "$$\n",
    "yx_R = z + \\theta q(\\theta)[E(1)- \\frac{yx_R}{r}] \\implies E(1) = \\frac{yx_R(r+\\theta q(\\theta))- rz}{r\\theta q(\\theta)}.\n",
    "$$\n",
    "Now, let the Nash barginaing weights on the firm and household be $(1-\\beta)$ and $\\beta$ respectively such that the Nash bargaining solutions are\n",
    "$$\n",
    "E(x) - U = \\beta \\Sigma(x) \\quad \\& \\quad J(x) = (1-\\beta) \\Sigma(x)\n",
    "$$\n",
    "and put these into the above conditions to find\n",
    "$$\n",
    "\\Sigma(1) = \\frac{yc}{\\beta q(\\theta)} = \\frac{yx_R - z}{(1-\\beta)\\theta q(\\theta)}\n",
    "$$\n",
    "$$\n",
    "\\implies \\frac{yx_R-z}{yc}=\\frac{(1-\\beta)\\theta}{\\beta} \\tag{1}\n",
    "$$\n",
    "which is an equilibrium condition. To find the second equilibrium condition, recall that the Bellman equation can be rewritten as \n",
    "$$\n",
    "(r+\\lambda)\\Sigma(x) = yx - rU + \\frac{y \\lambda}{r+\\lambda}\\int_{x_R}^x [1-F(x')]dx'\n",
    "$$\n",
    "and substituting in the Bellman for $rU$ and since we know that $\\beta\\Sigma(1) = E(1) - U$, we see\n",
    "$$\n",
    "(r+\\lambda)\\Sigma(x) = yx - z - \\beta \\theta q(\\theta)\\Sigma(1) + \\frac{y \\lambda}{r+\\lambda}\\int_{x_R}^x [1-F(x')]dx'\n",
    "$$\n",
    "and, evaluating at $x_R$ we know that $\\Sigma(x_R) = 0$ and so\n",
    "$$\n",
    "0 = yx_R - z - \\beta \\theta q(\\theta)\\Sigma(1) + \\frac{y \\lambda}{r+\\lambda}\\int_{x_R}^x [1-F(x')]dx'\n",
    "$$\n",
    "and then using $\\Sigma(1) = \\frac{J(1)}{1-\\beta}$ and $J(1) = \\frac{yc}{q(\\theta)}$ we can rewrite as\n",
    "$$\n",
    "yx_R = z + \\frac{\\beta yc}{1-\\beta} - \\frac{y \\lambda}{r+\\lambda}\\int_{x_R}^x [1-F(x')]dx' \n",
    "\\tag{2}$$\n",
    "and so $(1)$ and $(2)$ are two equations in two unknowns, $x_R$ and $\\theta$, which determine the equilibrium.\n"
   ]
  },
  {
   "cell_type": "markdown",
   "metadata": {},
   "source": [
    "#### **Question 4**"
   ]
  },
  {
   "cell_type": "markdown",
   "metadata": {},
   "source": [
    "**Argue that the resulting system of equations has a unique solution. Provide the comparative static of the intensity of job destruction, $\\lambda F(x_R)$, with respect to the aggregate productivity parameter y.**"
   ]
  },
  {
   "cell_type": "markdown",
   "metadata": {},
   "source": [
    "*Incomplete*"
   ]
  }
 ],
 "metadata": {
  "kernelspec": {
   "display_name": "Julia 1.10.1",
   "language": "julia",
   "name": "julia-1.10"
  },
  "language_info": {
   "file_extension": ".jl",
   "mimetype": "application/julia",
   "name": "julia",
   "version": "1.10.1"
  }
 },
 "nbformat": 4,
 "nbformat_minor": 2
}
