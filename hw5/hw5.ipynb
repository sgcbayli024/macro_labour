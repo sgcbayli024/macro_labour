{
 "cells": [
  {
   "cell_type": "markdown",
   "metadata": {},
   "source": [
    "# **Homework 5: Basic Block Recursivity**"
   ]
  },
  {
   "cell_type": "markdown",
   "metadata": {},
   "source": [
    "## **ECON8582: Macro-Labour**"
   ]
  },
  {
   "cell_type": "markdown",
   "metadata": {},
   "source": [
    "#### *Conor Bayliss*"
   ]
  },
  {
   "cell_type": "code",
   "execution_count": 1,
   "metadata": {},
   "outputs": [],
   "source": [
    "using LinearAlgebra, QuantEcon, Random, CairoMakie"
   ]
  },
  {
   "cell_type": "markdown",
   "metadata": {},
   "source": [
    "#### **Calibration**"
   ]
  },
  {
   "cell_type": "code",
   "execution_count": 2,
   "metadata": {},
   "outputs": [
    {
     "data": {
      "text/plain": [
       "(β = 0.996, ρ = 0.98, σe = 0.01, nz = 15, γ = 0.6, κ = 1.89, δ = 0.012, σ = 0, α = 1, χ = 2, a = 0.3333333333333333, w_lb = 0.1, w_ub = 1, Δw = 0.025, b = 0.54, s_lb = 0.2, s_ub = 0.4, Δs = 0.02, toler = 1.0e-6, maxiter = 1000)"
      ]
     },
     "metadata": {},
     "output_type": "display_data"
    }
   ],
   "source": [
    "pars = (;β = 0.996, # discount factor\n",
    "        ρ = 0.98, # autocorrelation of productivity process\n",
    "        σe = 0.01, # standard deviation of productivity process\n",
    "        nz = 15, # number of points in the productivity grid\n",
    "        γ = 0.6, # coefficient of job finding rate\n",
    "        κ = 1.89, # vacancy posting cost\n",
    "        δ = 0.012, # separation rate\n",
    "        σ = 0, # CRRA parameter\n",
    "        α = 1, # search cost parameter\n",
    "        χ = 2, # search cost exponent\n",
    "        a = 1/3, # λ(s) = s^a job posting opportunities\n",
    "        w_lb = .1, # lower bound of wage grid\n",
    "        w_ub = 1, # upper bound of wage grid\n",
    "        Δw = 0.025, # wage grid step\n",
    "        b = 0.54, # benefit parameter\n",
    "        s_lb = 0.2, # lower bound of search cost grid\n",
    "        s_ub = 0.4, # upper bound of search cost grid\n",
    "        Δs = 0.02, # search cost grid step\n",
    "        toler = 1e-6, # tolerance for convergence\n",
    "        maxiter = 1000) # maximum number of iterations"
   ]
  },
  {
   "cell_type": "markdown",
   "metadata": {},
   "source": [
    "##### **Income process**"
   ]
  },
  {
   "cell_type": "code",
   "execution_count": 3,
   "metadata": {},
   "outputs": [
    {
     "data": {
      "text/plain": [
       "([0.8285936952614785, 0.8511519660876842, 0.8743243805956225, 0.8981276587043299, 0.9225789755287533, 0.9476959737723538, 0.9734967764570943, 1.0, 1.027224767645724, 1.0551907232648117, 1.0839180455276196, 1.1134274624641165, 1.14374026642007, 1.174878329420415, 1.2068641189508822], [0.8687458127689781 0.1228529432198556 … 1.386000000000016e-25 1.0000000000000126e-28; 0.008775210229989686 0.8698981131022091 … 1.2741400000000137e-23 9.900000000000117e-27; … ; 9.900000000000117e-27 1.2741400000000137e-23 … 0.8698981131022091 0.008775210229989686; 1.0000000000000126e-28 1.386000000000016e-25 … 0.1228529432198556 0.8687458127689781])"
      ]
     },
     "metadata": {},
     "output_type": "display_data"
    }
   ],
   "source": [
    "function income_process(p)\n",
    "    (;ρ, σe, nz) = p\n",
    "    mc = rouwenhorst(nz, ρ, σe)\n",
    "    z_grid = exp.(mc.state_values)\n",
    "    Π = mc.p\n",
    "    return z_grid, Π \n",
    "end\n",
    "\n",
    "test_z_grid, test_Π = income_process(pars)"
   ]
  },
  {
   "cell_type": "markdown",
   "metadata": {},
   "source": [
    "##### **Wage grid**"
   ]
  },
  {
   "cell_type": "code",
   "execution_count": 4,
   "metadata": {},
   "outputs": [
    {
     "data": {
      "text/plain": [
       "0.1:0.025:1.0"
      ]
     },
     "metadata": {},
     "output_type": "display_data"
    }
   ],
   "source": [
    "function wage_grid(pars)\n",
    "    (;w_lb, w_ub, Δw) = pars\n",
    "    w_grid = range(w_lb, w_ub, step = Δw)\n",
    "    return w_grid\n",
    "end\n",
    "\n",
    "test_w_grid = wage_grid(pars)"
   ]
  },
  {
   "cell_type": "markdown",
   "metadata": {},
   "source": [
    "##### **Search grid**"
   ]
  },
  {
   "cell_type": "code",
   "execution_count": 5,
   "metadata": {},
   "outputs": [
    {
     "data": {
      "text/plain": [
       "0.2:0.02:0.4"
      ]
     },
     "metadata": {},
     "output_type": "display_data"
    }
   ],
   "source": [
    "function search_cost_grid(pars)\n",
    "    (;s_lb, s_ub, Δs) = pars\n",
    "    s_grid = range(s_lb, s_ub, step = Δs)\n",
    "    return s_grid\n",
    "end\n",
    "\n",
    "test_s_grid = search_cost_grid(pars)"
   ]
  },
  {
   "cell_type": "markdown",
   "metadata": {},
   "source": [
    "##### **Job finding rate**"
   ]
  },
  {
   "cell_type": "code",
   "execution_count": 6,
   "metadata": {},
   "outputs": [
    {
     "data": {
      "text/plain": [
       "11-element Vector{Float64}:\n",
       " 0.11681940254944001\n",
       " 0.12509945901524733\n",
       " 0.13304036654489015\n",
       " 0.14067162398429822\n",
       " 0.14801861621348178\n",
       " 0.1551034048002631\n",
       " 0.16194532737867068\n",
       " 0.16856146074207967\n",
       " 0.17496698456267964\n",
       " 0.18117547118705724\n",
       " 0.18719911946843884"
      ]
     },
     "metadata": {},
     "output_type": "display_data"
    }
   ],
   "source": [
    "function job_finding_rate(θ_grid, pars)\n",
    "    (;γ) = pars\n",
    "    p = θ_grid.*(1. .+ θ_grid.^γ).^(-1/γ)\n",
    "    return p\n",
    "end\n",
    "\n",
    "test_find_rate = job_finding_rate(test_s_grid, pars)"
   ]
  },
  {
   "cell_type": "markdown",
   "metadata": {},
   "source": [
    "##### **Job posting opportunities**"
   ]
  },
  {
   "cell_type": "code",
   "execution_count": 7,
   "metadata": {},
   "outputs": [
    {
     "data": {
      "text/plain": [
       "11-element Vector{Float64}:\n",
       " 0.5848035476425733\n",
       " 0.6036810736797686\n",
       " 0.6214465011907718\n",
       " 0.6382504298859908\n",
       " 0.654213262037718\n",
       " 0.6694329500821695\n",
       " 0.6839903786706788\n",
       " 0.6979532046908887\n",
       " 0.7113786608980126\n",
       " 0.7243156443441741\n",
       " 0.7368062997280773"
      ]
     },
     "metadata": {},
     "output_type": "display_data"
    }
   ],
   "source": [
    "function job_opp(pars)\n",
    "    (;a) = pars\n",
    "    temp_s_grid = search_cost_grid(pars)\n",
    "    job_opp = temp_s_grid.^a\n",
    "    return job_opp\n",
    "end\n",
    "\n",
    "test_job_opp = job_opp(pars)"
   ]
  },
  {
   "cell_type": "markdown",
   "metadata": {},
   "source": [
    "##### **Benefits grid**"
   ]
  },
  {
   "cell_type": "code",
   "execution_count": 8,
   "metadata": {},
   "outputs": [
    {
     "data": {
      "text/plain": [
       "0.054000000000000006:0.013500000000000002:0.54"
      ]
     },
     "metadata": {},
     "output_type": "display_data"
    }
   ],
   "source": [
    "function benefits_grid(pars)\n",
    "    (;b) = pars\n",
    "    temp_w_grid = wage_grid(pars)\n",
    "    benefits = b .* temp_w_grid\n",
    "    return benefits\n",
    "end\n",
    "\n",
    "test_benefits = benefits_grid(pars)"
   ]
  },
  {
   "cell_type": "markdown",
   "metadata": {},
   "source": [
    "##### **Utility**"
   ]
  },
  {
   "cell_type": "code",
   "execution_count": 9,
   "metadata": {},
   "outputs": [
    {
     "data": {
      "text/plain": [
       "1.0"
      ]
     },
     "metadata": {},
     "output_type": "display_data"
    }
   ],
   "source": [
    "function utility(c,pars)\n",
    "    (;σ) = pars\n",
    "    \n",
    "    if σ == 1\n",
    "        u = log\n",
    "    else\n",
    "        u = x -> (x^(1-σ) - 1)/(1-σ)\n",
    "    end\n",
    "\n",
    "    return u(c)\n",
    "end\n",
    "\n",
    "test_c = utility(2,pars)"
   ]
  },
  {
   "cell_type": "markdown",
   "metadata": {},
   "source": [
    "##### **Job destruction**"
   ]
  },
  {
   "cell_type": "code",
   "execution_count": 10,
   "metadata": {},
   "outputs": [
    {
     "name": "stdout",
     "output_type": "stream",
     "text": [
      "test_z_grid[5] = 0.9225789755287533\n",
      "test_w_grid[34] = 0.925\n"
     ]
    },
    {
     "data": {
      "text/plain": [
       "1"
      ]
     },
     "metadata": {},
     "output_type": "display_data"
    }
   ],
   "source": [
    "function job_dest(z,w,pars)\n",
    "    (;δ) = pars\n",
    "    if z >= w\n",
    "        return δ\n",
    "    else\n",
    "        return 1\n",
    "    end\n",
    "end\n",
    "\n",
    "@show test_z_grid[5]\n",
    "@show test_w_grid[34]\n",
    "test_job_dest = job_dest(test_z_grid[5],test_w_grid[34],pars)"
   ]
  },
  {
   "cell_type": "markdown",
   "metadata": {},
   "source": [
    "##### **Search costs**"
   ]
  },
  {
   "cell_type": "code",
   "execution_count": 11,
   "metadata": {},
   "outputs": [
    {
     "data": {
      "text/plain": [
       "11-element Vector{Float64}:\n",
       " 0.04000000000000001\n",
       " 0.0484\n",
       " 0.0576\n",
       " 0.06760000000000001\n",
       " 0.07840000000000001\n",
       " 0.09\n",
       " 0.1024\n",
       " 0.11560000000000002\n",
       " 0.1296\n",
       " 0.1444\n",
       " 0.16000000000000003"
      ]
     },
     "metadata": {},
     "output_type": "display_data"
    }
   ],
   "source": [
    "function search_costs(s,pars)\n",
    "    (;α, χ) = pars\n",
    "    return α .* (s.^χ)\n",
    "end\n",
    "\n",
    "test_search_costs = search_costs(test_s_grid,pars)"
   ]
  },
  {
   "cell_type": "markdown",
   "metadata": {},
   "source": [
    "##### **Initial guess for $\\mathbf{J}$**"
   ]
  },
  {
   "cell_type": "code",
   "execution_count": 12,
   "metadata": {},
   "outputs": [
    {
     "data": {
      "text/plain": [
       "37×15 Matrix{Float64}:\n",
       " 0.0  0.0  0.0  0.0  0.0  0.0  0.0  0.0  0.0  0.0  0.0  0.0  0.0  0.0  0.0\n",
       " 0.0  0.0  0.0  0.0  0.0  0.0  0.0  0.0  0.0  0.0  0.0  0.0  0.0  0.0  0.0\n",
       " 0.0  0.0  0.0  0.0  0.0  0.0  0.0  0.0  0.0  0.0  0.0  0.0  0.0  0.0  0.0\n",
       " 0.0  0.0  0.0  0.0  0.0  0.0  0.0  0.0  0.0  0.0  0.0  0.0  0.0  0.0  0.0\n",
       " 0.0  0.0  0.0  0.0  0.0  0.0  0.0  0.0  0.0  0.0  0.0  0.0  0.0  0.0  0.0\n",
       " 0.0  0.0  0.0  0.0  0.0  0.0  0.0  0.0  0.0  0.0  0.0  0.0  0.0  0.0  0.0\n",
       " 0.0  0.0  0.0  0.0  0.0  0.0  0.0  0.0  0.0  0.0  0.0  0.0  0.0  0.0  0.0\n",
       " 0.0  0.0  0.0  0.0  0.0  0.0  0.0  0.0  0.0  0.0  0.0  0.0  0.0  0.0  0.0\n",
       " 0.0  0.0  0.0  0.0  0.0  0.0  0.0  0.0  0.0  0.0  0.0  0.0  0.0  0.0  0.0\n",
       " 0.0  0.0  0.0  0.0  0.0  0.0  0.0  0.0  0.0  0.0  0.0  0.0  0.0  0.0  0.0\n",
       " ⋮                        ⋮                        ⋮                   \n",
       " 0.0  0.0  0.0  0.0  0.0  0.0  0.0  0.0  0.0  0.0  0.0  0.0  0.0  0.0  0.0\n",
       " 0.0  0.0  0.0  0.0  0.0  0.0  0.0  0.0  0.0  0.0  0.0  0.0  0.0  0.0  0.0\n",
       " 0.0  0.0  0.0  0.0  0.0  0.0  0.0  0.0  0.0  0.0  0.0  0.0  0.0  0.0  0.0\n",
       " 0.0  0.0  0.0  0.0  0.0  0.0  0.0  0.0  0.0  0.0  0.0  0.0  0.0  0.0  0.0\n",
       " 0.0  0.0  0.0  0.0  0.0  0.0  0.0  0.0  0.0  0.0  0.0  0.0  0.0  0.0  0.0\n",
       " 0.0  0.0  0.0  0.0  0.0  0.0  0.0  0.0  0.0  0.0  0.0  0.0  0.0  0.0  0.0\n",
       " 0.0  0.0  0.0  0.0  0.0  0.0  0.0  0.0  0.0  0.0  0.0  0.0  0.0  0.0  0.0\n",
       " 0.0  0.0  0.0  0.0  0.0  0.0  0.0  0.0  0.0  0.0  0.0  0.0  0.0  0.0  0.0\n",
       " 0.0  0.0  0.0  0.0  0.0  0.0  0.0  0.0  0.0  0.0  0.0  0.0  0.0  0.0  0.0"
      ]
     },
     "metadata": {},
     "output_type": "display_data"
    }
   ],
   "source": [
    "function initial_J(pars)\n",
    "    (;nz,w_ub,w_lb,Δw) = pars\n",
    "    nw = (w_ub - w_lb)/Δw + 1\n",
    "    nw = round(Int,nw)\n",
    "    J = zeros(nw,nz)\n",
    "    return J\n",
    "end\n",
    "\n",
    "test_J = initial_J(pars)"
   ]
  },
  {
   "cell_type": "markdown",
   "metadata": {},
   "source": [
    "#### **Value function iteration on J**"
   ]
  },
  {
   "cell_type": "code",
   "execution_count": 18,
   "metadata": {},
   "outputs": [
    {
     "data": {
      "text/plain": [
       "37×15 Matrix{Float64}:\n",
       " 51.5029     52.1771    52.8629       …  60.4167   61.2475   62.093\n",
       " 49.9357     50.6099    51.2957          58.8495   59.6803   60.5258\n",
       " 48.3685     49.0427    49.7285          57.2823   58.1131   58.9586\n",
       " 46.8013     47.4755    48.1613          55.7151   56.5459   57.3914\n",
       " 45.2341     45.9083    46.5941          54.1479   54.9787   55.8242\n",
       " 43.6669     44.3411    45.0269       …  52.5807   53.4115   54.257\n",
       " 42.0997     42.7739    43.4597          51.0135   51.8443   52.6898\n",
       " 40.5325     41.2067    41.8925          49.4463   50.2771   51.1226\n",
       " 38.9653     39.6395    40.3253          47.8791   48.7099   49.5554\n",
       " 37.3981     38.0723    38.7581          46.3119   47.1427   47.9882\n",
       "  ⋮                                   ⋱                      \n",
       "  7.62132     8.29549    8.98132         16.5351   17.3659   18.2114\n",
       "  6.05412     6.72829    7.41412         14.9679   15.7987   16.6442\n",
       " -0.0214063   4.85121    5.7971       …  13.4004   14.2312   15.0768\n",
       " -0.0464063  -0.023848  -0.000675619     11.8076   12.6413   13.4892\n",
       " -0.0714063  -0.048848  -0.0256756       10.1863   11.0263   11.879\n",
       " -0.0964063  -0.073848  -0.0506756        8.53712   9.38652  10.2467\n",
       " -0.121406   -0.098848  -0.0756756        6.9077    7.76427   8.63007\n",
       " -0.146406   -0.123848  -0.100676     …   5.37028   6.22342   7.08653\n",
       " -0.171406   -0.148848  -0.125676         4.15337   4.96612   5.79759"
      ]
     },
     "metadata": {},
     "output_type": "display_data"
    }
   ],
   "source": [
    "function iterate(pars)\n",
    "    (;nz, w_ub, w_lb, Δw, a, b, γ, κ, δ, α, χ, β, toler, maxiter) = pars\n",
    "    nw = (w_ub - w_lb)/Δw + 1\n",
    "    nw = round(Int,nw)\n",
    "    J_init = initial_J(pars)\n",
    "    J_new = copy(J_init)\n",
    "    error = 1\n",
    "    iter = 1\n",
    "    z_grid, Π = income_process(pars)\n",
    "    w_grid = wage_grid(pars)\n",
    "    EV = zeros(nw,nz)\n",
    "    while iter < maxiter\n",
    "        J_new = copy(J_init)\n",
    "        for i in 1:nw\n",
    "            for j in 1:nz\n",
    "                EV[i,j] = 0\n",
    "                for jp in 1:nz\n",
    "                    EV[i,j] += J_init[i,jp] * Π[j,jp]\n",
    "                end\n",
    "            end\n",
    "            J_init[i,:] = z_grid .- w_grid[i] .+ (β .* (1 .- job_dest.(z_grid,w_grid[i],Ref(pars)))) .* EV[i,:]\n",
    "        end\n",
    "        error = maximum(abs.(J_new - J_init))\n",
    "        J_new = copy(J_init)\n",
    "        if error < toler\n",
    "            println(\"--------------------\")\n",
    "            println(\"Converged in $iter iterations\")\n",
    "            println(\"Error: $error\")\n",
    "            println(\"--------------------\")\n",
    "            break\n",
    "        end\n",
    "        if iter == maxiter\n",
    "            println(\"Maximum number of iterations reached\")\n",
    "        end\n",
    "        if iter % 1 == 0\n",
    "            println(\"--------------------\")\n",
    "            println(\"Iteration: $iter\")\n",
    "            println(\"Error: $error\")\n",
    "            println(\"--------------------\")\n",
    "        end\n",
    "        iter += 1\n",
    "    end\n",
    "    return J_new\n",
    "end\n",
    "\n",
    "J_out = iterate(pars)\n",
    "    "
   ]
  }
 ],
 "metadata": {
  "kernelspec": {
   "display_name": "Julia 1.10.1",
   "language": "julia",
   "name": "julia-1.10"
  },
  "language_info": {
   "file_extension": ".jl",
   "mimetype": "application/julia",
   "name": "julia",
   "version": "1.10.1"
  }
 },
 "nbformat": 4,
 "nbformat_minor": 2
}
