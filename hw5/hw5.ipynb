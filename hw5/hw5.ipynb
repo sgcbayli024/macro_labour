{
 "cells": [
  {
   "cell_type": "markdown",
   "metadata": {},
   "source": [
    "# **Homework 5: Basic Block Recursivity**"
   ]
  },
  {
   "cell_type": "markdown",
   "metadata": {},
   "source": [
    "## **ECON8582: Macro-Labour**"
   ]
  },
  {
   "cell_type": "markdown",
   "metadata": {},
   "source": [
    "#### *Conor Bayliss*"
   ]
  },
  {
   "cell_type": "code",
   "execution_count": 13,
   "metadata": {},
   "outputs": [],
   "source": [
    "using LinearAlgebra, QuantEcon, Random, CairoMakie"
   ]
  },
  {
   "cell_type": "markdown",
   "metadata": {},
   "source": [
    "#### **Calibration**"
   ]
  },
  {
   "cell_type": "code",
   "execution_count": 64,
   "metadata": {},
   "outputs": [
    {
     "data": {
      "text/plain": [
       "(β = 0.996, ρ = 0.98, σe = 0.01, nz = 15, γ = 0.6, κ = 1.89, δ = 0.012, σ = 0, α = 1, χ = 2, a = 0.3333333333333333, w_lb = 0.1, w_ub = 1, Δw = 0.025, b = 0.54, s_lb = 0.2, s_ub = 0.4, Δs = 0.02, toler = 1.0e-6, maxiter = 1000)"
      ]
     },
     "metadata": {},
     "output_type": "display_data"
    }
   ],
   "source": [
    "pars = (;β = 0.996, # discount factor\n",
    "        ρ = 0.98, # autocorrelation of productivity process\n",
    "        σe = 0.01, # standard deviation of productivity process\n",
    "        nz = 15, # number of points in the productivity grid\n",
    "        γ = 0.6, # coefficient of job finding rate\n",
    "        κ = 1.89, # vacancy posting cost\n",
    "        δ = 0.012, # separation rate\n",
    "        σ = 0, # CRRA parameter\n",
    "        α = 1, # search cost parameter\n",
    "        χ = 2, # search cost exponent\n",
    "        a = 1/3, # λ(s) = s^a job posting opportunities\n",
    "        w_lb = .1, # lower bound of wage grid\n",
    "        w_ub = 1, # upper bound of wage grid\n",
    "        Δw = 0.025, # wage grid step\n",
    "        b = 0.54, # benefit parameter\n",
    "        s_lb = 0.2, # lower bound of search cost grid\n",
    "        s_ub = 0.4, # upper bound of search cost grid\n",
    "        Δs = 0.02, # search cost grid step\n",
    "        toler = 1e-6, # tolerance for convergence\n",
    "        maxiter = 1000) # maximum number of iterations"
   ]
  },
  {
   "cell_type": "markdown",
   "metadata": {},
   "source": [
    "##### **Income process**"
   ]
  },
  {
   "cell_type": "code",
   "execution_count": 65,
   "metadata": {},
   "outputs": [
    {
     "data": {
      "text/plain": [
       "([0.8285936952614785, 0.8511519660876842, 0.8743243805956225, 0.8981276587043299, 0.9225789755287533, 0.9476959737723538, 0.9734967764570943, 1.0, 1.027224767645724, 1.0551907232648117, 1.0839180455276196, 1.1134274624641165, 1.14374026642007, 1.174878329420415, 1.2068641189508822], [0.8687458127689781 0.1228529432198556 … 1.386000000000016e-25 1.0000000000000126e-28; 0.008775210229989686 0.8698981131022091 … 1.2741400000000137e-23 9.900000000000117e-27; … ; 9.900000000000117e-27 1.2741400000000137e-23 … 0.8698981131022091 0.008775210229989686; 1.0000000000000126e-28 1.386000000000016e-25 … 0.1228529432198556 0.8687458127689781])"
      ]
     },
     "metadata": {},
     "output_type": "display_data"
    }
   ],
   "source": [
    "function income_process(p)\n",
    "    (;ρ, σe, nz) = p\n",
    "    mc = rouwenhorst(nz, ρ, σe)\n",
    "    z_grid = exp.(mc.state_values)\n",
    "    Π = mc.p\n",
    "    return z_grid, Π\n",
    "end\n",
    "\n",
    "test_z_grid, test_Π = income_process(pars)"
   ]
  },
  {
   "cell_type": "markdown",
   "metadata": {},
   "source": [
    "##### **Wage grid**"
   ]
  },
  {
   "cell_type": "code",
   "execution_count": 30,
   "metadata": {},
   "outputs": [
    {
     "data": {
      "text/plain": [
       "0.1:0.025:1.0"
      ]
     },
     "metadata": {},
     "output_type": "display_data"
    }
   ],
   "source": [
    "function wage_grid(pars)\n",
    "    (;w_lb, w_ub, Δw) = pars\n",
    "    w_grid = range(w_lb, w_ub, step = Δw)\n",
    "    return w_grid\n",
    "end\n",
    "\n",
    "test_w_grid = wage_grid(pars)"
   ]
  },
  {
   "cell_type": "markdown",
   "metadata": {},
   "source": [
    "##### **Search grid**"
   ]
  },
  {
   "cell_type": "code",
   "execution_count": 31,
   "metadata": {},
   "outputs": [
    {
     "data": {
      "text/plain": [
       "0.2:0.02:0.4"
      ]
     },
     "metadata": {},
     "output_type": "display_data"
    }
   ],
   "source": [
    "function search_cost_grid(pars)\n",
    "    (;s_lb, s_ub, Δs) = pars\n",
    "    s_grid = range(s_lb, s_ub, step = Δs)\n",
    "    return s_grid\n",
    "end\n",
    "\n",
    "test_s_grid = search_cost_grid(pars)"
   ]
  },
  {
   "cell_type": "markdown",
   "metadata": {},
   "source": [
    "##### **Job finding rate**"
   ]
  },
  {
   "cell_type": "code",
   "execution_count": 58,
   "metadata": {},
   "outputs": [
    {
     "data": {
      "text/plain": [
       "11-element Vector{Float64}:\n",
       " 0.11681940254944001\n",
       " 0.12509945901524733\n",
       " 0.13304036654489015\n",
       " 0.14067162398429822\n",
       " 0.14801861621348178\n",
       " 0.1551034048002631\n",
       " 0.16194532737867068\n",
       " 0.16856146074207967\n",
       " 0.17496698456267964\n",
       " 0.18117547118705724\n",
       " 0.18719911946843884"
      ]
     },
     "metadata": {},
     "output_type": "display_data"
    }
   ],
   "source": [
    "###################### to do ######################\n",
    "function job_finding_rate(θ_grid, pars)\n",
    "    (;γ) = pars\n",
    "    p = θ_grid.*(1. .+ θ_grid.^γ).^(-1/γ)\n",
    "    return p\n",
    "end\n",
    "\n",
    "test_find_rate = job_finding_rate(test_s_grid, pars)"
   ]
  },
  {
   "cell_type": "markdown",
   "metadata": {},
   "source": [
    "##### **Job posting opportunities**"
   ]
  },
  {
   "cell_type": "code",
   "execution_count": 27,
   "metadata": {},
   "outputs": [
    {
     "data": {
      "text/plain": [
       "11-element Vector{Float64}:\n",
       " 0.5848035476425733\n",
       " 0.6036810736797686\n",
       " 0.6214465011907718\n",
       " 0.6382504298859908\n",
       " 0.654213262037718\n",
       " 0.6694329500821695\n",
       " 0.6839903786706788\n",
       " 0.6979532046908887\n",
       " 0.7113786608980126\n",
       " 0.7243156443441741\n",
       " 0.7368062997280773"
      ]
     },
     "metadata": {},
     "output_type": "display_data"
    }
   ],
   "source": [
    "function job_opp(pars)\n",
    "    (;a) = pars\n",
    "    temp_s_grid = search_cost_grid(pars)\n",
    "    job_opp = temp_s_grid.^a\n",
    "    return job_opp\n",
    "end\n",
    "\n",
    "test_job_opp = job_opp(pars)"
   ]
  },
  {
   "cell_type": "markdown",
   "metadata": {},
   "source": [
    "##### **Benefits grid**"
   ]
  },
  {
   "cell_type": "code",
   "execution_count": 28,
   "metadata": {},
   "outputs": [
    {
     "data": {
      "text/plain": [
       "0.054000000000000006:0.013500000000000002:0.54"
      ]
     },
     "metadata": {},
     "output_type": "display_data"
    }
   ],
   "source": [
    "function benefits_grid(pars)\n",
    "    (;b) = pars\n",
    "    temp_w_grid = wage_grid(pars)\n",
    "    benefits = b .* temp_w_grid\n",
    "    return benefits\n",
    "end\n",
    "\n",
    "test_benefits = benefits_grid(pars)"
   ]
  },
  {
   "cell_type": "markdown",
   "metadata": {},
   "source": [
    "##### **Utility**"
   ]
  },
  {
   "cell_type": "code",
   "execution_count": 43,
   "metadata": {},
   "outputs": [
    {
     "data": {
      "text/plain": [
       "1.0"
      ]
     },
     "metadata": {},
     "output_type": "display_data"
    }
   ],
   "source": [
    "function utility(c,pars)\n",
    "    (;σ) = pars\n",
    "    \n",
    "    if σ == 1\n",
    "        u = log\n",
    "    else\n",
    "        u = x -> (x^(1-σ) - 1)/(1-σ)\n",
    "    end\n",
    "\n",
    "    return u(c)\n",
    "end\n",
    "\n",
    "test_c = utility(2,pars)"
   ]
  },
  {
   "cell_type": "markdown",
   "metadata": {},
   "source": [
    "##### **Job destruction**"
   ]
  },
  {
   "cell_type": "code",
   "execution_count": 54,
   "metadata": {},
   "outputs": [
    {
     "data": {
      "text/plain": [
       "1"
      ]
     },
     "metadata": {},
     "output_type": "display_data"
    }
   ],
   "source": [
    "function job_dest(z,w,pars)\n",
    "    (;δ) = pars\n",
    "    if z >= w\n",
    "        return δ\n",
    "    else\n",
    "        return 1\n",
    "    end\n",
    "end\n",
    "\n",
    "test_job_dest = job_dest(test_z_grid[1],test_w_grid[35],pars)"
   ]
  },
  {
   "cell_type": "markdown",
   "metadata": {},
   "source": [
    "##### **Search costs**"
   ]
  },
  {
   "cell_type": "code",
   "execution_count": 68,
   "metadata": {},
   "outputs": [
    {
     "data": {
      "text/plain": [
       "11-element Vector{Float64}:\n",
       " 0.04000000000000001\n",
       " 0.0484\n",
       " 0.0576\n",
       " 0.06760000000000001\n",
       " 0.07840000000000001\n",
       " 0.09\n",
       " 0.1024\n",
       " 0.11560000000000002\n",
       " 0.1296\n",
       " 0.1444\n",
       " 0.16000000000000003"
      ]
     },
     "metadata": {},
     "output_type": "display_data"
    }
   ],
   "source": [
    "function search_costs(s,pars)\n",
    "    (;α, χ) = pars\n",
    "    return α .* (s.^χ)\n",
    "end\n",
    "\n",
    "test_search_costs = search_costs(test_s_grid,pars)"
   ]
  },
  {
   "cell_type": "markdown",
   "metadata": {},
   "source": [
    "##### **Initial guess for $\\mathbf{J}$**"
   ]
  },
  {
   "cell_type": "code",
   "execution_count": 63,
   "metadata": {},
   "outputs": [
    {
     "data": {
      "text/plain": [
       "15×37 Matrix{Float64}:\n",
       " 0.0  0.0  0.0  0.0  0.0  0.0  0.0  0.0  …  0.0  0.0  0.0  0.0  0.0  0.0  0.0\n",
       " 0.0  0.0  0.0  0.0  0.0  0.0  0.0  0.0     0.0  0.0  0.0  0.0  0.0  0.0  0.0\n",
       " 0.0  0.0  0.0  0.0  0.0  0.0  0.0  0.0     0.0  0.0  0.0  0.0  0.0  0.0  0.0\n",
       " 0.0  0.0  0.0  0.0  0.0  0.0  0.0  0.0     0.0  0.0  0.0  0.0  0.0  0.0  0.0\n",
       " 0.0  0.0  0.0  0.0  0.0  0.0  0.0  0.0     0.0  0.0  0.0  0.0  0.0  0.0  0.0\n",
       " 0.0  0.0  0.0  0.0  0.0  0.0  0.0  0.0  …  0.0  0.0  0.0  0.0  0.0  0.0  0.0\n",
       " 0.0  0.0  0.0  0.0  0.0  0.0  0.0  0.0     0.0  0.0  0.0  0.0  0.0  0.0  0.0\n",
       " 0.0  0.0  0.0  0.0  0.0  0.0  0.0  0.0     0.0  0.0  0.0  0.0  0.0  0.0  0.0\n",
       " 0.0  0.0  0.0  0.0  0.0  0.0  0.0  0.0     0.0  0.0  0.0  0.0  0.0  0.0  0.0\n",
       " 0.0  0.0  0.0  0.0  0.0  0.0  0.0  0.0     0.0  0.0  0.0  0.0  0.0  0.0  0.0\n",
       " 0.0  0.0  0.0  0.0  0.0  0.0  0.0  0.0  …  0.0  0.0  0.0  0.0  0.0  0.0  0.0\n",
       " 0.0  0.0  0.0  0.0  0.0  0.0  0.0  0.0     0.0  0.0  0.0  0.0  0.0  0.0  0.0\n",
       " 0.0  0.0  0.0  0.0  0.0  0.0  0.0  0.0     0.0  0.0  0.0  0.0  0.0  0.0  0.0\n",
       " 0.0  0.0  0.0  0.0  0.0  0.0  0.0  0.0     0.0  0.0  0.0  0.0  0.0  0.0  0.0\n",
       " 0.0  0.0  0.0  0.0  0.0  0.0  0.0  0.0     0.0  0.0  0.0  0.0  0.0  0.0  0.0"
      ]
     },
     "metadata": {},
     "output_type": "display_data"
    }
   ],
   "source": [
    "function initial_J(pars)\n",
    "    (;nz,w_ub,w_lb,Δw) = pars\n",
    "    nw = (w_ub - w_lb)/Δw + 1\n",
    "    nw = round(Int,nw)\n",
    "    J = zeros(nz,nw)\n",
    "    return J\n",
    "end\n",
    "\n",
    "test_J = initial_J(pars)"
   ]
  },
  {
   "cell_type": "markdown",
   "metadata": {},
   "source": [
    "#### **Value function iteration on J**"
   ]
  },
  {
   "cell_type": "code",
   "execution_count": 66,
   "metadata": {},
   "outputs": [
    {
     "ename": "Base.Meta.ParseError",
     "evalue": "ParseError:\n# Error @ c:\\Users\\bayle\\Documents\\Github\\macro_labour\\hw5\\hw5.ipynb:4:5\n    J_init = initial_J(pars)\r\n    \n#   └ ── Expected `end`",
     "output_type": "error",
     "traceback": [
      "ParseError:\n",
      "# Error @ c:\\Users\\bayle\\Documents\\Github\\macro_labour\\hw5\\hw5.ipynb:4:5\n",
      "    J_init = initial_J(pars)\r\n",
      "    \n",
      "#   └ ── Expected `end`\n",
      "\n",
      "Stacktrace:\n",
      " [1] top-level scope\n",
      "   @ c:\\Users\\bayle\\Documents\\Github\\macro_labour\\hw5\\hw5.ipynb:4"
     ]
    }
   ],
   "source": [
    "function iterate(pars)\n",
    "    (;nz, w_ub, w_lb, Δw, a, b, γ, κ, δ, α, χ, β, toler, maxiter) = pars\n",
    "    J_init = initial_J(pars)\n",
    "    "
   ]
  }
 ],
 "metadata": {
  "kernelspec": {
   "display_name": "Julia 1.10.1",
   "language": "julia",
   "name": "julia-1.10"
  },
  "language_info": {
   "file_extension": ".jl",
   "mimetype": "application/julia",
   "name": "julia",
   "version": "1.10.1"
  }
 },
 "nbformat": 4,
 "nbformat_minor": 2
}
