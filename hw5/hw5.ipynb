{
 "cells": [
  {
   "cell_type": "markdown",
   "metadata": {},
   "source": [
    "# **Homework 5: Basic Block Recursivity**"
   ]
  },
  {
   "cell_type": "markdown",
   "metadata": {},
   "source": [
    "## **ECON8582: Macro-Labour**"
   ]
  },
  {
   "cell_type": "markdown",
   "metadata": {},
   "source": [
    "#### *Conor Bayliss*"
   ]
  },
  {
   "cell_type": "code",
   "execution_count": 1,
   "metadata": {},
   "outputs": [],
   "source": [
    "using LinearAlgebra, QuantEcon, Random, CairoMakie"
   ]
  },
  {
   "cell_type": "markdown",
   "metadata": {},
   "source": [
    "#### **Calibration**"
   ]
  },
  {
   "cell_type": "code",
   "execution_count": 21,
   "metadata": {},
   "outputs": [
    {
     "data": {
      "text/plain": [
       "(β = 0.996, ρ = 0.98, σe = 0.01, nz = 15, γ = 0.6, κ = 1.89, δ = 0.012, σ = 0, α = 1, χ = 2, a = 0.3333333333333333, w_lb = 0.1, w_ub = 1, Δw = 0.025, b = 0.54, s_lb = 0.2, s_ub = 0.4, Δs = 0.02, toler = 1.0e-6, maxiter = 100000)"
      ]
     },
     "metadata": {},
     "output_type": "display_data"
    }
   ],
   "source": [
    "pars = (;β = 0.996, # discount factor\n",
    "        ρ = 0.98, # autocorrelation of productivity process\n",
    "        σe = 0.01, # standard deviation of productivity process\n",
    "        nz = 15, # number of points in the productivity grid\n",
    "        γ = 0.6, # coefficient of job finding rate\n",
    "        κ = 1.89, # vacancy posting cost\n",
    "        δ = 0.012, # separation rate\n",
    "        σ = 0, # CRRA parameter\n",
    "        α = 1, # search cost parameter\n",
    "        χ = 2, # search cost exponent\n",
    "        a = 1/3, # λ(s) = s^a job posting opportunities\n",
    "        w_lb = .1, # lower bound of wage grid\n",
    "        w_ub = 1, # upper bound of wage grid\n",
    "        Δw = 0.025, # wage grid step\n",
    "        b = 0.54, # benefit parameter\n",
    "        s_lb = 0.2, # lower bound of search cost grid\n",
    "        s_ub = 0.4, # upper bound of search cost grid\n",
    "        Δs = 0.02, # search cost grid step\n",
    "        toler = 1e-6, # tolerance for convergence\n",
    "        maxiter = 100000) # maximum number of iterations"
   ]
  },
  {
   "cell_type": "markdown",
   "metadata": {},
   "source": [
    "##### **Income process**"
   ]
  },
  {
   "cell_type": "code",
   "execution_count": 38,
   "metadata": {},
   "outputs": [
    {
     "data": {
      "text/plain": [
       "([0.8285936952614785, 0.8511519660876842, 0.8743243805956225, 0.8981276587043299, 0.9225789755287533, 0.9476959737723538, 0.9734967764570943, 1.0, 1.027224767645724, 1.0551907232648117, 1.0839180455276196, 1.1134274624641165, 1.14374026642007, 1.174878329420415, 1.2068641189508822], [0.8687458127689781 0.1228529432198556 … 1.386000000000016e-25 1.0000000000000126e-28; 0.008775210229989686 0.8698981131022091 … 1.2741400000000137e-23 9.900000000000117e-27; … ; 9.900000000000117e-27 1.2741400000000137e-23 … 0.8698981131022091 0.008775210229989686; 1.0000000000000126e-28 1.386000000000016e-25 … 0.1228529432198556 0.8687458127689781])"
      ]
     },
     "metadata": {},
     "output_type": "display_data"
    }
   ],
   "source": [
    "function income_process(p)\n",
    "    (;ρ, σe, nz) = p\n",
    "    mc = rouwenhorst(nz, ρ, σe)\n",
    "    z_grid = exp.(mc.state_values)\n",
    "    Π = mc.p\n",
    "    return z_grid, Π \n",
    "end\n",
    "\n",
    "test_z_grid, test_Π = income_process(pars)"
   ]
  },
  {
   "cell_type": "markdown",
   "metadata": {},
   "source": [
    "##### **Wage grid**"
   ]
  },
  {
   "cell_type": "code",
   "execution_count": 39,
   "metadata": {},
   "outputs": [
    {
     "data": {
      "text/plain": [
       "0.1:0.025:1.0"
      ]
     },
     "metadata": {},
     "output_type": "display_data"
    }
   ],
   "source": [
    "function wage_grid(pars)\n",
    "    (;w_lb, w_ub, Δw) = pars\n",
    "    w_grid = range(w_lb, w_ub, step = Δw)\n",
    "    return w_grid\n",
    "end\n",
    "\n",
    "test_w_grid = wage_grid(pars)"
   ]
  },
  {
   "cell_type": "markdown",
   "metadata": {},
   "source": [
    "##### **Search grid**"
   ]
  },
  {
   "cell_type": "code",
   "execution_count": 40,
   "metadata": {},
   "outputs": [
    {
     "data": {
      "text/plain": [
       "0.2:0.02:0.4"
      ]
     },
     "metadata": {},
     "output_type": "display_data"
    }
   ],
   "source": [
    "function search_cost_grid(pars)\n",
    "    (;s_lb, s_ub, Δs) = pars\n",
    "    s_grid = range(s_lb, s_ub, step = Δs)\n",
    "    return s_grid\n",
    "end\n",
    "\n",
    "test_s_grid = search_cost_grid(pars)"
   ]
  },
  {
   "cell_type": "markdown",
   "metadata": {},
   "source": [
    "##### **Job finding rate**"
   ]
  },
  {
   "cell_type": "code",
   "execution_count": 53,
   "metadata": {},
   "outputs": [
    {
     "data": {
      "text/plain": [
       "job_finding_rate (generic function with 1 method)"
      ]
     },
     "metadata": {},
     "output_type": "display_data"
    }
   ],
   "source": [
    "function job_finding_rate(θ, pars)\n",
    "    (;γ) = pars\n",
    "    p = θ*(1. + θ^γ)^(-1/γ)\n",
    "    return p\n",
    "end"
   ]
  },
  {
   "cell_type": "markdown",
   "metadata": {},
   "source": [
    "##### **Job posting opportunities**"
   ]
  },
  {
   "cell_type": "code",
   "execution_count": 7,
   "metadata": {},
   "outputs": [
    {
     "data": {
      "text/plain": [
       "0.5848035476425733"
      ]
     },
     "metadata": {},
     "output_type": "display_data"
    }
   ],
   "source": [
    "function job_opp(s, pars)\n",
    "    (;a) = pars\n",
    "    job_opp = s^a\n",
    "    return job_opp\n",
    "end\n",
    "\n",
    "test_job_opp = job_opp(test_s_grid[1],pars)"
   ]
  },
  {
   "cell_type": "markdown",
   "metadata": {},
   "source": [
    "##### **Benefits grid**"
   ]
  },
  {
   "cell_type": "code",
   "execution_count": 8,
   "metadata": {},
   "outputs": [
    {
     "data": {
      "text/plain": [
       "0.054000000000000006:0.013500000000000002:0.54"
      ]
     },
     "metadata": {},
     "output_type": "display_data"
    }
   ],
   "source": [
    "function benefits_grid(pars)\n",
    "    (;b) = pars\n",
    "    temp_w_grid = wage_grid(pars)\n",
    "    benefits = b .* temp_w_grid\n",
    "    return benefits\n",
    "end\n",
    "\n",
    "test_benefits = benefits_grid(pars)"
   ]
  },
  {
   "cell_type": "markdown",
   "metadata": {},
   "source": [
    "##### **Utility**"
   ]
  },
  {
   "cell_type": "code",
   "execution_count": 9,
   "metadata": {},
   "outputs": [
    {
     "data": {
      "text/plain": [
       "1.0"
      ]
     },
     "metadata": {},
     "output_type": "display_data"
    }
   ],
   "source": [
    "function utility(c,pars)\n",
    "    (;σ) = pars\n",
    "    \n",
    "    if σ == 1\n",
    "        u = log\n",
    "    else\n",
    "        u = x -> (x^(1-σ) - 1)/(1-σ)\n",
    "    end\n",
    "\n",
    "    return u(c)\n",
    "end\n",
    "\n",
    "test_c = utility(2,pars)"
   ]
  },
  {
   "cell_type": "markdown",
   "metadata": {},
   "source": [
    "##### **Job destruction**"
   ]
  },
  {
   "cell_type": "code",
   "execution_count": 10,
   "metadata": {},
   "outputs": [
    {
     "data": {
      "text/plain": [
       "1"
      ]
     },
     "metadata": {},
     "output_type": "display_data"
    }
   ],
   "source": [
    "function job_dest(z,w,pars)\n",
    "    (;δ) = pars\n",
    "    if z >= w\n",
    "        return δ\n",
    "    else\n",
    "        return 1\n",
    "    end\n",
    "end\n",
    "\n",
    "test_job_dest = job_dest(test_z_grid[5],test_w_grid[34],pars)"
   ]
  },
  {
   "cell_type": "markdown",
   "metadata": {},
   "source": [
    "##### **Search costs**"
   ]
  },
  {
   "cell_type": "code",
   "execution_count": 11,
   "metadata": {},
   "outputs": [
    {
     "data": {
      "text/plain": [
       "0.04000000000000001"
      ]
     },
     "metadata": {},
     "output_type": "display_data"
    }
   ],
   "source": [
    "function search_costs(s,pars)\n",
    "    (;α, χ) = pars\n",
    "    return α * (s^χ)\n",
    "end\n",
    "\n",
    "test_search_costs = search_costs(test_s_grid[1],pars)"
   ]
  },
  {
   "cell_type": "markdown",
   "metadata": {},
   "source": [
    "##### **Initial guess for $\\mathbf{J}$**"
   ]
  },
  {
   "cell_type": "code",
   "execution_count": 12,
   "metadata": {},
   "outputs": [
    {
     "data": {
      "text/plain": [
       "37×15 Matrix{Float64}:\n",
       " 0.0  0.0  0.0  0.0  0.0  0.0  0.0  0.0  0.0  0.0  0.0  0.0  0.0  0.0  0.0\n",
       " 0.0  0.0  0.0  0.0  0.0  0.0  0.0  0.0  0.0  0.0  0.0  0.0  0.0  0.0  0.0\n",
       " 0.0  0.0  0.0  0.0  0.0  0.0  0.0  0.0  0.0  0.0  0.0  0.0  0.0  0.0  0.0\n",
       " 0.0  0.0  0.0  0.0  0.0  0.0  0.0  0.0  0.0  0.0  0.0  0.0  0.0  0.0  0.0\n",
       " 0.0  0.0  0.0  0.0  0.0  0.0  0.0  0.0  0.0  0.0  0.0  0.0  0.0  0.0  0.0\n",
       " 0.0  0.0  0.0  0.0  0.0  0.0  0.0  0.0  0.0  0.0  0.0  0.0  0.0  0.0  0.0\n",
       " 0.0  0.0  0.0  0.0  0.0  0.0  0.0  0.0  0.0  0.0  0.0  0.0  0.0  0.0  0.0\n",
       " 0.0  0.0  0.0  0.0  0.0  0.0  0.0  0.0  0.0  0.0  0.0  0.0  0.0  0.0  0.0\n",
       " 0.0  0.0  0.0  0.0  0.0  0.0  0.0  0.0  0.0  0.0  0.0  0.0  0.0  0.0  0.0\n",
       " 0.0  0.0  0.0  0.0  0.0  0.0  0.0  0.0  0.0  0.0  0.0  0.0  0.0  0.0  0.0\n",
       " ⋮                        ⋮                        ⋮                   \n",
       " 0.0  0.0  0.0  0.0  0.0  0.0  0.0  0.0  0.0  0.0  0.0  0.0  0.0  0.0  0.0\n",
       " 0.0  0.0  0.0  0.0  0.0  0.0  0.0  0.0  0.0  0.0  0.0  0.0  0.0  0.0  0.0\n",
       " 0.0  0.0  0.0  0.0  0.0  0.0  0.0  0.0  0.0  0.0  0.0  0.0  0.0  0.0  0.0\n",
       " 0.0  0.0  0.0  0.0  0.0  0.0  0.0  0.0  0.0  0.0  0.0  0.0  0.0  0.0  0.0\n",
       " 0.0  0.0  0.0  0.0  0.0  0.0  0.0  0.0  0.0  0.0  0.0  0.0  0.0  0.0  0.0\n",
       " 0.0  0.0  0.0  0.0  0.0  0.0  0.0  0.0  0.0  0.0  0.0  0.0  0.0  0.0  0.0\n",
       " 0.0  0.0  0.0  0.0  0.0  0.0  0.0  0.0  0.0  0.0  0.0  0.0  0.0  0.0  0.0\n",
       " 0.0  0.0  0.0  0.0  0.0  0.0  0.0  0.0  0.0  0.0  0.0  0.0  0.0  0.0  0.0\n",
       " 0.0  0.0  0.0  0.0  0.0  0.0  0.0  0.0  0.0  0.0  0.0  0.0  0.0  0.0  0.0"
      ]
     },
     "metadata": {},
     "output_type": "display_data"
    }
   ],
   "source": [
    "function initial_J(pars)\n",
    "    (;nz,w_ub,w_lb,Δw) = pars\n",
    "    nw = (w_ub - w_lb)/Δw + 1\n",
    "    nw = round(Int,nw)\n",
    "    J = zeros(nw,nz)\n",
    "    return J\n",
    "end\n",
    "\n",
    "test_J = initial_J(pars)"
   ]
  },
  {
   "cell_type": "markdown",
   "metadata": {},
   "source": [
    "#### **Value function iteration on $\\mathbf{J}$**"
   ]
  },
  {
   "cell_type": "code",
   "execution_count": 17,
   "metadata": {},
   "outputs": [
    {
     "name": "stdout",
     "output_type": "stream",
     "text": [
      "--------------------\n",
      "Iteration: 100\n",
      "Error: 0.18867370091780344\n",
      "--------------------\n",
      "--------------------\n",
      "Iteration: 200\n",
      "Error: 0.03687394205703498\n",
      "--------------------\n",
      "--------------------\n",
      "Iteration: 300\n",
      "Error: 0.007360990328706407\n",
      "--------------------\n",
      "--------------------\n",
      "Iteration: 400\n",
      "Error: 0.0014735920943351744\n",
      "--------------------\n",
      "--------------------\n",
      "Iteration: 500\n",
      "Error: 0.0002951078404294094\n",
      "--------------------\n",
      "--------------------\n",
      "Iteration: 600\n",
      "Error: 5.9102486900997064e-5\n",
      "--------------------\n",
      "--------------------\n",
      "Iteration: 700\n",
      "Error: 1.1836781190766033e-5\n",
      "--------------------\n",
      "--------------------\n",
      "Iteration: 800\n",
      "Error: 2.3706195619865866e-6\n",
      "--------------------\n",
      "--------------------\n",
      "Converged in 854 iterations\n",
      "Error: 9.948122894343214e-7\n",
      "--------------------\n",
      "  0.252056 seconds (243.96 k allocations: 40.930 MiB, 18.70% gc time, 72.04% compilation time)\n"
     ]
    },
    {
     "data": {
      "text/plain": [
       "37×15 Matrix{Float64}:\n",
       " 51.5029     52.1771    52.8629       …  60.4167   61.2475   62.093\n",
       " 49.9357     50.6099    51.2957          58.8495   59.6803   60.5258\n",
       " 48.3685     49.0427    49.7285          57.2823   58.1131   58.9586\n",
       " 46.8013     47.4755    48.1613          55.7151   56.5459   57.3914\n",
       " 45.2341     45.9083    46.5941          54.1479   54.9787   55.8242\n",
       " 43.6669     44.3411    45.0269       …  52.5807   53.4115   54.257\n",
       " 42.0997     42.7739    43.4597          51.0135   51.8443   52.6898\n",
       " 40.5325     41.2067    41.8925          49.4463   50.2771   51.1226\n",
       " 38.9653     39.6395    40.3253          47.8791   48.7099   49.5554\n",
       " 37.3981     38.0723    38.7581          46.3119   47.1427   47.9882\n",
       "  ⋮                                   ⋱                      \n",
       "  7.62132     8.29549    8.98132         16.5351   17.3659   18.2114\n",
       "  6.05412     6.72829    7.41412         14.9679   15.7987   16.6442\n",
       " -0.0214063   4.85121    5.7971       …  13.4004   14.2312   15.0768\n",
       " -0.0464063  -0.023848  -0.000675619     11.8076   12.6413   13.4892\n",
       " -0.0714063  -0.048848  -0.0256756       10.1863   11.0263   11.879\n",
       " -0.0964063  -0.073848  -0.0506756        8.53712   9.38652  10.2467\n",
       " -0.121406   -0.098848  -0.0756756        6.9077    7.76427   8.63007\n",
       " -0.146406   -0.123848  -0.100676     …   5.37028   6.22342   7.08653\n",
       " -0.171406   -0.148848  -0.125676         4.15337   4.96612   5.79759"
      ]
     },
     "metadata": {},
     "output_type": "display_data"
    }
   ],
   "source": [
    "function iterate_J(pars)\n",
    "    (;nz, w_ub, w_lb, Δw, a, b, γ, κ, δ, α, χ, β, toler, maxiter) = pars\n",
    "    nw = (w_ub - w_lb)/Δw + 1\n",
    "    nw = round(Int,nw)\n",
    "    J_init = initial_J(pars)\n",
    "    J_new = copy(J_init)\n",
    "    error = 1\n",
    "    iter = 1\n",
    "    z_grid, Π = income_process(pars)\n",
    "    w_grid = wage_grid(pars)\n",
    "    EV = zeros(nw,nz)\n",
    "    while iter <= maxiter\n",
    "        J_new = copy(J_init)\n",
    "        for i in 1:nw\n",
    "            for j in 1:nz\n",
    "                EV[i,j] = 0\n",
    "                for jp in 1:nz\n",
    "                    EV[i,j] += J_init[i,jp] * Π[j,jp]\n",
    "                end\n",
    "            end\n",
    "            J_init[i,:] = z_grid .- w_grid[i] .+ (β .* (1 .- job_dest.(z_grid,w_grid[i],Ref(pars)))) .* EV[i,:]\n",
    "        end\n",
    "        error = maximum(abs.(J_new - J_init))\n",
    "        J_new = copy(J_init)\n",
    "        if error < toler\n",
    "            println(\"--------------------\")\n",
    "            println(\"Converged in $iter iterations\")\n",
    "            println(\"Error: $error\")\n",
    "            println(\"--------------------\")\n",
    "            break\n",
    "        end\n",
    "        if iter == maxiter\n",
    "            println(\"Maximum number of iterations reached\")\n",
    "        end\n",
    "        if iter % 100 == 0\n",
    "            println(\"--------------------\")\n",
    "            println(\"Iteration: $iter\")\n",
    "            println(\"Error: $error\")\n",
    "            println(\"--------------------\")\n",
    "        end\n",
    "        iter += 1\n",
    "    end\n",
    "    return J_new\n",
    "end\n",
    "\n",
    " @time J_out = iterate_J(pars)"
   ]
  },
  {
   "cell_type": "markdown",
   "metadata": {},
   "source": [
    "#### **Solve for $\\theta$, setting $\\theta = 0$ in cases where $\\mathbf{J}<0$.** "
   ]
  },
  {
   "cell_type": "markdown",
   "metadata": {},
   "source": [
    "To do so, first notice that we have\n",
    "$$\n",
    "\\theta(w;\\psi) = \\frac{v(w;\\psi)}{u(w;\\psi)}, \\quad q(\\theta(w;\\psi)) = \\frac{M(w;\\psi)}{v(w;\\psi)}, \\quad p(\\theta(w;\\psi)) = \\frac{M(w;\\psi)}{u(w;\\psi)}\n",
    "$$\n",
    "and rearranging the last two conditions gives\n",
    "$$\n",
    "v(w;\\psi) = \\frac{M(w;\\psi)}{q(\\theta(w;\\psi))}, \\quad u(w;\\psi) = \\frac{M(w;\\psi)}{p(\\theta(w;\\psi))}\n",
    "$$\n",
    "and, plugging into his first condition, we obtain\n",
    "$$\n",
    "p(\\theta(w;\\psi)) = \\theta(w;\\psi) q(\\theta(w;\\psi)).\n",
    "$$\n",
    "In the problem, we are told to assume that \n",
    "$$\n",
    "p(\\theta(w;\\psi)) = \\theta(w;\\psi) (1+\\theta(w;\\psi)^\\gamma)^{-\\frac{1}{\\gamma}}\n",
    "$$\n",
    "and therefore we have\n",
    "$$\n",
    "q(\\theta(w;\\psi)) = (1+\\theta(w;\\psi)^\\gamma)^{-\\frac{1}{\\gamma}}.\n",
    "$$\n",
    "Since we want to find the $\\theta$'s themselves, we then use the free-entry condition\n",
    "$$\n",
    "\\kappa = q(\\theta(w;\\psi))\\mathbf{J}(w;\\psi)\n",
    "$$\n",
    "$$\n",
    "\\implies \\kappa = (1+\\theta(w;\\psi)^\\gamma)^{-\\frac{1}{\\gamma}} \\mathbf{J}(w;\\psi)\n",
    "$$\n",
    "by our functional form for $q$. Then, rearranging, we find\n",
    "$$\n",
    "\\theta(w;\\psi) = \\left[\\left(\\frac{\\mathbf{J}(w;\\psi)}{\\kappa}\\right)^\\gamma  - 1\\right]^{\\frac{1}{\\gamma}}.\n",
    "$$"
   ]
  },
  {
   "cell_type": "markdown",
   "metadata": {},
   "source": [
    "#### **Thetas**"
   ]
  },
  {
   "cell_type": "code",
   "execution_count": 43,
   "metadata": {},
   "outputs": [
    {
     "data": {
      "text/plain": [
       "37×15 Matrix{Float64}:\n",
       " 21.29     21.6133    21.9425    …  25.5845    25.9867    26.3965\n",
       " 20.5395   20.8621    21.1907       24.8266    25.2282    25.6373\n",
       " 19.7905   20.1125    20.4404       24.0698    24.4708    24.8793\n",
       " 19.0432   19.3644    19.6916       23.3142    23.7145    24.1224\n",
       " 18.2975   18.6181    18.9445       22.5599    22.9596    23.3667\n",
       " 17.5537   17.8734    18.1991    …  21.807     22.2059    22.6124\n",
       " 16.8117   17.1307    17.4555       21.0555    21.4537    21.8593\n",
       " 16.0718   16.3899    16.7138       20.3054    20.7028    21.1077\n",
       " 15.3341   15.6512    15.9742       19.557     19.9535    20.3576\n",
       " 14.5987   14.9147    15.2367       18.8101    19.2058    19.609\n",
       "  ⋮                              ⋱                        \n",
       "  1.56551   1.81296    2.07055       5.1523     5.50924    5.87508\n",
       "  1.01795   1.24812    1.49074       4.48638    4.83808    5.19901\n",
       "  0.0       0.633606   0.932713  …   3.83162    4.1771     4.53227\n",
       "  0.0       0.0        0.0           3.18025    3.51925    3.86835\n",
       "  0.0       0.0        0.0           2.53523    2.86687    3.20913\n",
       "  0.0       0.0        0.0           1.90308    2.2252     2.55887\n",
       "  0.0       0.0        0.0           1.31082    1.61746    1.93794\n",
       "  0.0       0.0        0.0       …   0.794693   1.07488    1.37388\n",
       "  0.0       0.0        0.0           0.431399   0.668565   0.932877"
      ]
     },
     "metadata": {},
     "output_type": "display_data"
    }
   ],
   "source": [
    "function thetas(J,pars)\n",
    "    (;γ, κ, nz, w_lb,w_ub,Δw) = pars\n",
    "    nw = (w_ub - w_lb)/Δw + 1\n",
    "    nw = round(Int,nw)\n",
    "    Θ = zeros(nw,nz)\n",
    "    for i in 1:nw\n",
    "        for j in 1:nz\n",
    "            if J[i,j] / κ >= 1.0\n",
    "                Θ[i,j] = ((J[i,j] / κ)^γ - 1.)^(1/γ)\n",
    "            else\n",
    "                Θ[i,j] = 0\n",
    "            end\n",
    "        end\n",
    "    end\n",
    "    return Θ\n",
    "end\n",
    "\n",
    "test_thetas = thetas(J_out,pars)"
   ]
  },
  {
   "cell_type": "markdown",
   "metadata": {},
   "source": [
    "#### **Probs**"
   ]
  },
  {
   "cell_type": "code",
   "execution_count": 54,
   "metadata": {},
   "outputs": [
    {
     "data": {
      "text/plain": [
       "37×15 Matrix{Float64}:\n",
       " 0.781278  0.782894  0.784506  0.786112  …  0.800353  0.80191   0.803462\n",
       " 0.777392  0.779086  0.780775  0.782457     0.797325  0.798945  0.80056\n",
       " 0.773314  0.775093  0.776864  0.778628     0.794169  0.795858  0.797539\n",
       " 0.769029  0.770899  0.77276   0.774612     0.790877  0.79264   0.794393\n",
       " 0.764518  0.766487  0.768446  0.770394     0.78744   0.789281  0.791111\n",
       " 0.759761  0.761839  0.763904  0.765955  …  0.783846  0.785772  0.787684\n",
       " 0.754736  0.756932  0.759113  0.761278     0.780084  0.7821    0.784102\n",
       " 0.749417  0.751743  0.75405   0.756339     0.77614   0.778254  0.780352\n",
       " 0.743775  0.746244  0.748691  0.751115     0.771999  0.77422   0.776421\n",
       " 0.737777  0.740403  0.743003  0.745578     0.767645  0.769981  0.772294\n",
       " ⋮                                       ⋱                      \n",
       " 0.388229  0.413056  0.43572   0.456513     0.588918  0.599594  0.609723\n",
       " 0.317787  0.3506    0.380018  0.406562     0.566495  0.578781  0.590364\n",
       " 0.0       0.246849  0.304088  0.341462  …  0.540413  0.554748  0.568159\n",
       " 0.0       0.0       0.0       0.17757      0.509053  0.526163  0.542004\n",
       " 0.0       0.0       0.0       0.0          0.470394  0.491407  0.510585\n",
       " 0.0       0.0       0.0       0.0          0.421316  0.44805   0.471983\n",
       " 0.0       0.0       0.0       0.0          0.35865   0.393726  0.424412\n",
       " 0.0       0.0       0.0       0.0       …  0.279682  0.326433  0.366417\n",
       " 0.0       0.0       0.0       0.0          0.196309  0.254441  0.304115"
      ]
     },
     "metadata": {},
     "output_type": "display_data"
    }
   ],
   "source": [
    "function probs(Θ,pars)\n",
    "    (;γ, nz, w_lb,w_ub,Δw) = pars\n",
    "    nw = (w_ub - w_lb)/Δw + 1\n",
    "    nw = round(Int,nw)\n",
    "    P = zeros(nw,nz)\n",
    "    P = Θ .* (1 .+ Θ.^γ).^(-1/γ)\n",
    "    return P\n",
    "end\n",
    "\n",
    "test_probs = probs(test_thetas,pars) "
   ]
  },
  {
   "cell_type": "markdown",
   "metadata": {},
   "source": [
    "#### **Initial guess for $\\mathbf{W}$**"
   ]
  },
  {
   "cell_type": "code",
   "execution_count": 19,
   "metadata": {},
   "outputs": [
    {
     "data": {
      "text/plain": [
       "37×15 Matrix{Float64}:\n",
       " 0.0  0.0  0.0  0.0  0.0  0.0  0.0  0.0  0.0  0.0  0.0  0.0  0.0  0.0  0.0\n",
       " 0.0  0.0  0.0  0.0  0.0  0.0  0.0  0.0  0.0  0.0  0.0  0.0  0.0  0.0  0.0\n",
       " 0.0  0.0  0.0  0.0  0.0  0.0  0.0  0.0  0.0  0.0  0.0  0.0  0.0  0.0  0.0\n",
       " 0.0  0.0  0.0  0.0  0.0  0.0  0.0  0.0  0.0  0.0  0.0  0.0  0.0  0.0  0.0\n",
       " 0.0  0.0  0.0  0.0  0.0  0.0  0.0  0.0  0.0  0.0  0.0  0.0  0.0  0.0  0.0\n",
       " 0.0  0.0  0.0  0.0  0.0  0.0  0.0  0.0  0.0  0.0  0.0  0.0  0.0  0.0  0.0\n",
       " 0.0  0.0  0.0  0.0  0.0  0.0  0.0  0.0  0.0  0.0  0.0  0.0  0.0  0.0  0.0\n",
       " 0.0  0.0  0.0  0.0  0.0  0.0  0.0  0.0  0.0  0.0  0.0  0.0  0.0  0.0  0.0\n",
       " 0.0  0.0  0.0  0.0  0.0  0.0  0.0  0.0  0.0  0.0  0.0  0.0  0.0  0.0  0.0\n",
       " 0.0  0.0  0.0  0.0  0.0  0.0  0.0  0.0  0.0  0.0  0.0  0.0  0.0  0.0  0.0\n",
       " ⋮                        ⋮                        ⋮                   \n",
       " 0.0  0.0  0.0  0.0  0.0  0.0  0.0  0.0  0.0  0.0  0.0  0.0  0.0  0.0  0.0\n",
       " 0.0  0.0  0.0  0.0  0.0  0.0  0.0  0.0  0.0  0.0  0.0  0.0  0.0  0.0  0.0\n",
       " 0.0  0.0  0.0  0.0  0.0  0.0  0.0  0.0  0.0  0.0  0.0  0.0  0.0  0.0  0.0\n",
       " 0.0  0.0  0.0  0.0  0.0  0.0  0.0  0.0  0.0  0.0  0.0  0.0  0.0  0.0  0.0\n",
       " 0.0  0.0  0.0  0.0  0.0  0.0  0.0  0.0  0.0  0.0  0.0  0.0  0.0  0.0  0.0\n",
       " 0.0  0.0  0.0  0.0  0.0  0.0  0.0  0.0  0.0  0.0  0.0  0.0  0.0  0.0  0.0\n",
       " 0.0  0.0  0.0  0.0  0.0  0.0  0.0  0.0  0.0  0.0  0.0  0.0  0.0  0.0  0.0\n",
       " 0.0  0.0  0.0  0.0  0.0  0.0  0.0  0.0  0.0  0.0  0.0  0.0  0.0  0.0  0.0\n",
       " 0.0  0.0  0.0  0.0  0.0  0.0  0.0  0.0  0.0  0.0  0.0  0.0  0.0  0.0  0.0"
      ]
     },
     "metadata": {},
     "output_type": "display_data"
    }
   ],
   "source": [
    "function initial_W(pars)\n",
    "    (;nz,w_ub,w_lb,Δw) = pars\n",
    "    nw = (w_ub - w_lb)/Δw + 1\n",
    "    nw = round(Int,nw)\n",
    "    W = zeros(nw,nz)\n",
    "    return W\n",
    "end\n",
    "\n",
    "test_W = initial_W(pars)"
   ]
  },
  {
   "cell_type": "markdown",
   "metadata": {},
   "source": [
    "#### **Initial guess for $\\mathbf{U}$**"
   ]
  },
  {
   "cell_type": "code",
   "execution_count": 20,
   "metadata": {},
   "outputs": [
    {
     "data": {
      "text/plain": [
       "37×15 Matrix{Float64}:\n",
       " 0.0  0.0  0.0  0.0  0.0  0.0  0.0  0.0  0.0  0.0  0.0  0.0  0.0  0.0  0.0\n",
       " 0.0  0.0  0.0  0.0  0.0  0.0  0.0  0.0  0.0  0.0  0.0  0.0  0.0  0.0  0.0\n",
       " 0.0  0.0  0.0  0.0  0.0  0.0  0.0  0.0  0.0  0.0  0.0  0.0  0.0  0.0  0.0\n",
       " 0.0  0.0  0.0  0.0  0.0  0.0  0.0  0.0  0.0  0.0  0.0  0.0  0.0  0.0  0.0\n",
       " 0.0  0.0  0.0  0.0  0.0  0.0  0.0  0.0  0.0  0.0  0.0  0.0  0.0  0.0  0.0\n",
       " 0.0  0.0  0.0  0.0  0.0  0.0  0.0  0.0  0.0  0.0  0.0  0.0  0.0  0.0  0.0\n",
       " 0.0  0.0  0.0  0.0  0.0  0.0  0.0  0.0  0.0  0.0  0.0  0.0  0.0  0.0  0.0\n",
       " 0.0  0.0  0.0  0.0  0.0  0.0  0.0  0.0  0.0  0.0  0.0  0.0  0.0  0.0  0.0\n",
       " 0.0  0.0  0.0  0.0  0.0  0.0  0.0  0.0  0.0  0.0  0.0  0.0  0.0  0.0  0.0\n",
       " 0.0  0.0  0.0  0.0  0.0  0.0  0.0  0.0  0.0  0.0  0.0  0.0  0.0  0.0  0.0\n",
       " ⋮                        ⋮                        ⋮                   \n",
       " 0.0  0.0  0.0  0.0  0.0  0.0  0.0  0.0  0.0  0.0  0.0  0.0  0.0  0.0  0.0\n",
       " 0.0  0.0  0.0  0.0  0.0  0.0  0.0  0.0  0.0  0.0  0.0  0.0  0.0  0.0  0.0\n",
       " 0.0  0.0  0.0  0.0  0.0  0.0  0.0  0.0  0.0  0.0  0.0  0.0  0.0  0.0  0.0\n",
       " 0.0  0.0  0.0  0.0  0.0  0.0  0.0  0.0  0.0  0.0  0.0  0.0  0.0  0.0  0.0\n",
       " 0.0  0.0  0.0  0.0  0.0  0.0  0.0  0.0  0.0  0.0  0.0  0.0  0.0  0.0  0.0\n",
       " 0.0  0.0  0.0  0.0  0.0  0.0  0.0  0.0  0.0  0.0  0.0  0.0  0.0  0.0  0.0\n",
       " 0.0  0.0  0.0  0.0  0.0  0.0  0.0  0.0  0.0  0.0  0.0  0.0  0.0  0.0  0.0\n",
       " 0.0  0.0  0.0  0.0  0.0  0.0  0.0  0.0  0.0  0.0  0.0  0.0  0.0  0.0  0.0\n",
       " 0.0  0.0  0.0  0.0  0.0  0.0  0.0  0.0  0.0  0.0  0.0  0.0  0.0  0.0  0.0"
      ]
     },
     "metadata": {},
     "output_type": "display_data"
    }
   ],
   "source": [
    "function initial_U(pars)\n",
    "    (;nz,w_ub,w_lb,Δw) = pars\n",
    "    nw = (w_ub - w_lb)/Δw + 1\n",
    "    nw = round(Int,nw)\n",
    "    U = zeros(nw,nz)\n",
    "    return U\n",
    "end\n",
    "\n",
    "test_U = initial_U(pars)"
   ]
  },
  {
   "cell_type": "markdown",
   "metadata": {},
   "source": [
    "#### **Value function iteration to find $\\mathbf{W}$ and $\\mathbf{U}$**"
   ]
  },
  {
   "cell_type": "code",
   "execution_count": 79,
   "metadata": {},
   "outputs": [
    {
     "name": "stdout",
     "output_type": "stream",
     "text": [
      "--------------------\n",
      "Iteration: 0\n",
      "Error: 1.0675017931804553\n",
      "--------------------\n",
      "--------------------\n",
      "Iteration: 100\n",
      "Error: 0.1839208479375074\n",
      "--------------------\n",
      "--------------------\n",
      "Iteration: 200\n",
      "Error: 0.036834772543933525\n",
      "--------------------\n",
      "--------------------\n",
      "Iteration: 300\n",
      "Error: 0.0073771077058353285\n",
      "--------------------\n",
      "--------------------\n",
      "Iteration: 400\n",
      "Error: 0.0014774554788488103\n",
      "--------------------\n",
      "--------------------\n",
      "Iteration: 500\n",
      "Error: 0.00029589845738087206\n",
      "--------------------\n",
      "--------------------\n",
      "Iteration: 600\n",
      "Error: 5.926127646205259e-5\n",
      "--------------------\n",
      "--------------------\n",
      "Iteration: 700\n",
      "Error: 1.186859480384328e-5\n",
      "--------------------\n",
      "--------------------\n",
      "Iteration: 800\n",
      "Error: 2.37699136818037e-6\n",
      "--------------------\n",
      "--------------------\n",
      "Converged in 854 iterations\n",
      "Error: 9.974861825412518e-7\n",
      "--------------------\n",
      "  5.096209 seconds (108.77 k allocations: 29.067 MiB, 0.30% gc time, 9.67% compilation time)\n"
     ]
    },
    {
     "data": {
      "text/plain": [
       "([-57.54226607386851 -57.54226607386853 … -57.54226607386858 -57.542266073868575; -55.96182812943449 -55.96182812943443 … -55.961828129434494 -55.9618281294345; … ; -0.8908585133488406 -0.8908585140695563 … -1.9474243545639771 -1.9751060600569348; -0.8470982839273258 -0.847098283813405 … -0.6800911031238399 -0.6757155654927867], [-1.4989312162430868 -1.4989312162430868 … -1.4989312162430868 -1.4989312162430868; -1.4812627512560779 -1.4812627512560779 … -1.4812627512560779 -1.4812627512560779; … ; -0.8693358567610551 -0.869335856761055 … -0.869335856761055 -0.869335856761055; -0.8505002850699497 -0.8505002850699497 … -0.8505002850699497 -0.8505002850699497], [0.4 0.4 … 0.4 0.4; 0.4 0.4 … 0.4 0.4; … ; 0.32 0.32 … 0.32 0.32; 0.32 0.32 … 0.32 0.32], [0.0 0.0 … 0.0 0.0; 0.0 0.0 … 0.0 0.0; … ; 0.0 0.0 … 0.0 0.0; 1.0 1.0 … 1.0 1.0])"
      ]
     },
     "metadata": {},
     "output_type": "display_data"
    }
   ],
   "source": [
    "function iterate_W_U(pars)\n",
    "    (;nz, w_ub, w_lb, Δw, s_lb, s_ub, Δs, a, b, γ, κ, δ, α, χ, β, toler, maxiter) = pars\n",
    "    nw = (w_ub - w_lb)/Δw + 1\n",
    "    nw = round(Int,nw)\n",
    "    ns = (s_ub - s_lb)/Δs + 1\n",
    "    ns = round(Int,ns)\n",
    "    W_init = initial_W(pars)\n",
    "    U_init = initial_U(pars)\n",
    "    W_new = copy(W_init)\n",
    "    U_new = copy(U_init)\n",
    "    search_policy = zeros(nw,nz)\n",
    "    decision = zeros(nw, nz)\n",
    "    EW = zeros(nw,nz)\n",
    "    EU = zeros(nw,nz,ns)\n",
    "    final_util = zeros(ns)\n",
    "    z_grid, Π = income_process(pars)\n",
    "    w_grid = wage_grid(pars)\n",
    "    b_grid = benefits_grid(pars)\n",
    "    s_grid = search_cost_grid(pars)\n",
    "    Θ = thetas(J_out,pars)\n",
    "    P = probs(Θ,pars)\n",
    "    error = toler+1\n",
    "    iter=0\n",
    "    while iter <= maxiter\n",
    "        for i in 1:nw\n",
    "            for j in 1:nz\n",
    "                EW[i,j] = 0\n",
    "                for jp in 1:nz\n",
    "                    EW[i,j] += Π[j,jp] * (1-job_dest(z_grid[jp],w_grid[i],pars)) * W_init[i,jp] + Π[j,jp] * job_dest(z_grid[jp],w_grid[i],pars) * U_init[i,jp]\n",
    "                end\n",
    "                W_new[i,j] = utility(w_grid[i],pars) + β * EW[i,j]\n",
    "            end\n",
    "        end\n",
    "        for i in 1:nw\n",
    "            for j in 1:nz\n",
    "                for s in 1:ns\n",
    "                    EU[i,j,s] = 0\n",
    "                    util = utility(b_grid[i],pars) - search_costs(s_grid[s],pars) \n",
    "                    λ = job_opp(s_grid[s],pars)\n",
    "                    search_max = 0\n",
    "                    for ip in 1:nw\n",
    "                        for jp in 1:nz\n",
    "                            on_job_search = max(search_max, P[ip,jp] * W_new[ip,jp] + (1 - P[ip,jp]) * (0.1 * U_new[1,jp] + 0.9 * U_new[ip,jp]))\n",
    "                        end\n",
    "                    end\n",
    "                    #for jp in 1:nz\n",
    "                        ### on_job_search = job_opp(Θ[i,jp],pars) .* W_new[i,jp] .+ (1 - job_opp(Θ[i,jp],pars)) .* (0.1 * U_new[1,jp] .+ 0.9 * U_new[i,jp]) ###\n",
    "                        ### on_job_search = P[i,jp] * W_new[i,jp] + (1 - P[i,jp]) * (0.1 * U_new[1,jp] + 0.9 * U_new[i,jp]) ###\n",
    "                        #if on_job_search > search_max\n",
    "                        #    search_max = on_job_search\n",
    "                        #end\n",
    "                    #end\n",
    "                    for jp in 1:nz\n",
    "                        EU[i,j,s] += Π[j,jp] * λ * search_max + Π[j,jp] * (1 - λ) * (0.1 * U_new[1,jp] .+ 0.9 * U_new[i,jp])\n",
    "                    end\n",
    "                    final_util[s] = util + β * EU[i,j,s]\n",
    "                end\n",
    "                max_value, max_index = findmax(final_util)\n",
    "                U_new[i,j] = max_value\n",
    "                search_policy[i,j] = s_grid[max_index]\n",
    "            end\n",
    "        end                            \n",
    "        errorW = maximum(abs.(W_new - W_init))\n",
    "        errorU = maximum(abs.(U_new - U_init))\n",
    "        error = max(errorW,errorU)\n",
    "        if error < toler\n",
    "            println(\"--------------------\")\n",
    "            println(\"Converged in $iter iterations\")\n",
    "            println(\"Error: $error\")\n",
    "            println(\"--------------------\")\n",
    "            break\n",
    "        end\n",
    "        if iter == maxiter\n",
    "            println(\"Maximum number of iterations reached\")\n",
    "        end\n",
    "        if iter % 100 == 0\n",
    "            println(\"--------------------\")\n",
    "            println(\"Iteration: $iter\")\n",
    "            println(\"Error: $error\")\n",
    "            println(\"--------------------\")\n",
    "        end\n",
    "        W_init = copy(W_new)\n",
    "        U_init = copy(U_new)\n",
    "        iter += 1\n",
    "    end\n",
    "    for i in 1:nw\n",
    "        for j in 1:nz\n",
    "            decision[i,j] = W_new[i,j] >= U_new[i,j] ? 1 : 0\n",
    "        end\n",
    "    end\n",
    "    return W_init,U_init,search_policy,decision\n",
    "end\n",
    "\n",
    "@time W_out, U_out, s_pol, wage_decision = iterate_W_U(pars)"
   ]
  },
  {
   "cell_type": "code",
   "execution_count": 80,
   "metadata": {},
   "outputs": [
    {
     "name": "stderr",
     "output_type": "stream",
     "text": [
      "Excessive output truncated after 531493 bytes."
     ]
    },
    {
     "name": "stdout",
     "output_type": "stream",
     "text": [
      "W_out = "
     ]
    },
    {
     "data": {
      "text/plain": [
       "37×15 Matrix{Float64}:\n",
       " -57.5423    -57.5423    -57.5423    …  -57.5423    -57.5423    -57.5423\n",
       " -55.9618    -55.9618    -55.9618       -55.9618    -55.9618    -55.9618\n",
       " -54.3814    -54.3814    -54.3814       -54.3814    -54.3814    -54.3814\n",
       " -52.801     -52.801     -52.801        -52.801     -52.801     -52.801\n",
       " -51.2205    -51.2205    -51.2205       -51.2205    -51.2205    -51.2205\n",
       " -49.6401    -49.6401    -49.6401    …  -49.6401    -49.6401    -49.6401\n",
       " -48.0596    -48.0596    -48.0596       -48.0596    -48.0596    -48.0596\n",
       " -46.4792    -46.4792    -46.4792       -46.4792    -46.4792    -46.4792\n",
       " -44.8988    -44.8988    -44.8988       -44.8988    -44.8988    -44.8988\n",
       " -43.3183    -43.3183    -43.3183       -43.3183    -43.3183    -43.3183\n",
       "   ⋮                                 ⋱                          \n",
       " -13.2862    -13.2862    -13.2862       -13.2862    -13.2862    -13.2862\n",
       " -11.7052    -11.7052    -11.7052       -11.7052    -11.7052    -11.7052\n",
       "  -2.21478    -9.49439   -10.0229    …  -10.1235    -10.1236    -10.1236\n",
       "  -1.06683    -1.10564    -1.69944       -8.49688    -8.50221    -8.50638\n",
       "  -1.02153    -1.02251    -1.04487       -6.82       -6.83637    -6.8492\n",
       "  -0.978056   -0.978071   -0.978531      -5.09574    -5.12862    -5.15438\n",
       "  -0.934617   -0.934617   -0.934623      -3.41421    -3.45867    -3.49351\n",
       "  -0.890859   -0.890859   -0.890859  …   -1.91209    -1.94742    -1.97511\n",
       "  -0.847098   -0.847098   -0.847098      -0.685676   -0.680091   -0.675716"
      ]
     },
     "metadata": {},
     "output_type": "display_data"
    }
   ],
   "source": [
    "@show W_out"
   ]
  },
  {
   "cell_type": "code",
   "execution_count": 81,
   "metadata": {},
   "outputs": [
    {
     "data": {
      "text/plain": [
       "37×15 Matrix{Float64}:\n",
       " -1.49893   -1.49893   -1.49893   …  -1.49893   -1.49893   -1.49893\n",
       " -1.48126   -1.48126   -1.48126      -1.48126   -1.48126   -1.48126\n",
       " -1.46359   -1.46359   -1.46359      -1.46359   -1.46359   -1.46359\n",
       " -1.44593   -1.44593   -1.44593      -1.44593   -1.44593   -1.44593\n",
       " -1.42826   -1.42826   -1.42826      -1.42826   -1.42826   -1.42826\n",
       " -1.41059   -1.41059   -1.41059   …  -1.41059   -1.41059   -1.41059\n",
       " -1.39292   -1.39292   -1.39292      -1.39292   -1.39292   -1.39292\n",
       " -1.37525   -1.37525   -1.37525      -1.37525   -1.37525   -1.37525\n",
       " -1.35758   -1.35758   -1.35758      -1.35758   -1.35758   -1.35758\n",
       " -1.33992   -1.33992   -1.33992      -1.33992   -1.33992   -1.33992\n",
       "  ⋮                               ⋱                        \n",
       " -0.999203  -0.999203  -0.999203     -0.999203  -0.999203  -0.999203\n",
       " -0.980731  -0.980731  -0.980731     -0.980731  -0.980731  -0.980731\n",
       " -0.962219  -0.962219  -0.962219  …  -0.962219  -0.962219  -0.962219\n",
       " -0.943707  -0.943707  -0.943707     -0.943707  -0.943707  -0.943707\n",
       " -0.925194  -0.925194  -0.925194     -0.925194  -0.925194  -0.925194\n",
       " -0.906682  -0.906682  -0.906682     -0.906682  -0.906682  -0.906682\n",
       " -0.88817   -0.88817   -0.88817      -0.88817   -0.88817   -0.88817\n",
       " -0.869336  -0.869336  -0.869336  …  -0.869336  -0.869336  -0.869336\n",
       " -0.8505    -0.8505    -0.8505       -0.8505    -0.8505    -0.8505"
      ]
     },
     "metadata": {},
     "output_type": "display_data"
    }
   ],
   "source": [
    "@show U_out"
   ]
  },
  {
   "cell_type": "code",
   "execution_count": 82,
   "metadata": {},
   "outputs": [
    {
     "data": {
      "text/plain": [
       "37×15 Matrix{Float64}:\n",
       " 0.4   0.4   0.4   0.4   0.4   0.4   …  0.4   0.4   0.4   0.4   0.4   0.4\n",
       " 0.4   0.4   0.4   0.4   0.4   0.4      0.4   0.4   0.4   0.4   0.4   0.4\n",
       " 0.4   0.4   0.4   0.4   0.4   0.4      0.4   0.4   0.4   0.4   0.4   0.4\n",
       " 0.4   0.4   0.4   0.4   0.4   0.4      0.4   0.4   0.4   0.4   0.4   0.4\n",
       " 0.4   0.4   0.4   0.4   0.4   0.4      0.4   0.4   0.4   0.4   0.4   0.4\n",
       " 0.4   0.4   0.4   0.4   0.4   0.4   …  0.4   0.4   0.4   0.4   0.4   0.4\n",
       " 0.4   0.4   0.4   0.4   0.4   0.4      0.4   0.4   0.4   0.4   0.4   0.4\n",
       " 0.4   0.4   0.4   0.4   0.4   0.4      0.4   0.4   0.4   0.4   0.4   0.4\n",
       " 0.4   0.4   0.4   0.4   0.4   0.4      0.4   0.4   0.4   0.4   0.4   0.4\n",
       " 0.4   0.4   0.4   0.4   0.4   0.4      0.4   0.4   0.4   0.4   0.4   0.4\n",
       " ⋮                             ⋮     ⋱        ⋮                       \n",
       " 0.36  0.36  0.36  0.36  0.36  0.36     0.36  0.36  0.36  0.36  0.36  0.36\n",
       " 0.34  0.34  0.34  0.34  0.34  0.34     0.34  0.34  0.34  0.34  0.34  0.34\n",
       " 0.34  0.34  0.34  0.34  0.34  0.34  …  0.34  0.34  0.34  0.34  0.34  0.34\n",
       " 0.34  0.34  0.34  0.34  0.34  0.34     0.34  0.34  0.34  0.34  0.34  0.34\n",
       " 0.34  0.34  0.34  0.34  0.34  0.34     0.34  0.34  0.34  0.34  0.34  0.34\n",
       " 0.34  0.34  0.34  0.34  0.34  0.34     0.34  0.34  0.34  0.34  0.34  0.34\n",
       " 0.34  0.34  0.34  0.34  0.34  0.34     0.34  0.34  0.34  0.34  0.34  0.34\n",
       " 0.32  0.32  0.32  0.32  0.32  0.32  …  0.32  0.32  0.32  0.32  0.32  0.32\n",
       " 0.32  0.32  0.32  0.32  0.32  0.32     0.32  0.32  0.32  0.32  0.32  0.32"
      ]
     },
     "metadata": {},
     "output_type": "display_data"
    }
   ],
   "source": [
    "@show s_pol"
   ]
  },
  {
   "cell_type": "code",
   "execution_count": 83,
   "metadata": {},
   "outputs": [
    {
     "data": {
      "text/plain": [
       "37×15 Matrix{Float64}:\n",
       " 0.0  0.0  0.0  0.0  0.0  0.0  0.0  0.0  0.0  0.0  0.0  0.0  0.0  0.0  0.0\n",
       " 0.0  0.0  0.0  0.0  0.0  0.0  0.0  0.0  0.0  0.0  0.0  0.0  0.0  0.0  0.0\n",
       " 0.0  0.0  0.0  0.0  0.0  0.0  0.0  0.0  0.0  0.0  0.0  0.0  0.0  0.0  0.0\n",
       " 0.0  0.0  0.0  0.0  0.0  0.0  0.0  0.0  0.0  0.0  0.0  0.0  0.0  0.0  0.0\n",
       " 0.0  0.0  0.0  0.0  0.0  0.0  0.0  0.0  0.0  0.0  0.0  0.0  0.0  0.0  0.0\n",
       " 0.0  0.0  0.0  0.0  0.0  0.0  0.0  0.0  0.0  0.0  0.0  0.0  0.0  0.0  0.0\n",
       " 0.0  0.0  0.0  0.0  0.0  0.0  0.0  0.0  0.0  0.0  0.0  0.0  0.0  0.0  0.0\n",
       " 0.0  0.0  0.0  0.0  0.0  0.0  0.0  0.0  0.0  0.0  0.0  0.0  0.0  0.0  0.0\n",
       " 0.0  0.0  0.0  0.0  0.0  0.0  0.0  0.0  0.0  0.0  0.0  0.0  0.0  0.0  0.0\n",
       " 0.0  0.0  0.0  0.0  0.0  0.0  0.0  0.0  0.0  0.0  0.0  0.0  0.0  0.0  0.0\n",
       " ⋮                        ⋮                        ⋮                   \n",
       " 0.0  0.0  0.0  0.0  0.0  0.0  0.0  0.0  0.0  0.0  0.0  0.0  0.0  0.0  0.0\n",
       " 0.0  0.0  0.0  0.0  0.0  0.0  0.0  0.0  0.0  0.0  0.0  0.0  0.0  0.0  0.0\n",
       " 0.0  0.0  0.0  0.0  0.0  0.0  0.0  0.0  0.0  0.0  0.0  0.0  0.0  0.0  0.0\n",
       " 0.0  0.0  0.0  0.0  0.0  0.0  0.0  0.0  0.0  0.0  0.0  0.0  0.0  0.0  0.0\n",
       " 0.0  0.0  0.0  0.0  0.0  0.0  0.0  0.0  0.0  0.0  0.0  0.0  0.0  0.0  0.0\n",
       " 0.0  0.0  0.0  0.0  0.0  0.0  0.0  0.0  0.0  0.0  0.0  0.0  0.0  0.0  0.0\n",
       " 0.0  0.0  0.0  0.0  0.0  0.0  0.0  0.0  0.0  0.0  0.0  0.0  0.0  0.0  0.0\n",
       " 0.0  0.0  0.0  0.0  0.0  0.0  0.0  0.0  0.0  0.0  0.0  0.0  0.0  0.0  0.0\n",
       " 1.0  1.0  1.0  1.0  1.0  1.0  1.0  1.0  1.0  1.0  1.0  1.0  1.0  1.0  1.0"
      ]
     },
     "metadata": {},
     "output_type": "display_data"
    }
   ],
   "source": [
    "@show wage_decision"
   ]
  }
 ],
 "metadata": {
  "kernelspec": {
   "display_name": "Julia 1.10.1",
   "language": "julia",
   "name": "julia-1.10"
  },
  "language_info": {
   "file_extension": ".jl",
   "mimetype": "application/julia",
   "name": "julia",
   "version": "1.10.1"
  }
 },
 "nbformat": 4,
 "nbformat_minor": 2
}
