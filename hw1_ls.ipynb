{
 "cells": [
  {
   "cell_type": "code",
   "execution_count": 8,
   "metadata": {},
   "outputs": [],
   "source": [
    "using LinearAlgebra, Plots, Random, Distributions"
   ]
  },
  {
   "cell_type": "code",
   "execution_count": 3,
   "metadata": {},
   "outputs": [
    {
     "data": {
      "text/plain": [
       "6-element Vector{Float64}:\n",
       " 1.0\n",
       " 2.0\n",
       " 0.0\n",
       " 1.0\n",
       " 0.0\n",
       " 1.0"
      ]
     },
     "metadata": {},
     "output_type": "display_data"
    }
   ],
   "source": [
    "# structural_params = [alpha, beta, lambda, benefits]\n",
    "Params = Vector{Float64}([0.0009, 0.995, 0.009, 0.1])\n",
    "# grid_sizes = [hc_grid_size, search_grid_size, wage_grid_size]\n",
    "Sizes = Vector{Int64}([201, 41, 41])\n",
    "# grid_bounds = [hc_min, hc_max, search_min, search_max, wage_min, wage_max]\n",
    "Bounds = Vector{Float64}([1.0, 2.0, 0.0, 1.0, 0.0, 1.0])"
   ]
  },
  {
   "cell_type": "code",
   "execution_count": 5,
   "metadata": {},
   "outputs": [
    {
     "data": {
      "text/plain": [
       "search_grid (generic function with 1 method)"
      ]
     },
     "metadata": {},
     "output_type": "display_data"
    }
   ],
   "source": [
    "function search_grid(S,P,B)\n",
    "\n",
    "    grid = range(B[3], stop=B[4], length=S[2])\n",
    "\n",
    "    return grid\n",
    "\n",
    "end"
   ]
  },
  {
   "cell_type": "code",
   "execution_count": 19,
   "metadata": {},
   "outputs": [
    {
     "data": {
      "text/plain": [
       "wage_grid (generic function with 1 method)"
      ]
     },
     "metadata": {},
     "output_type": "display_data"
    }
   ],
   "source": [
    "function wage_grid(S,P,B)\n",
    "\n",
    "    grid = range(B[5], stop=B[6], length=S[3])\n",
    "\n",
    "    lower, upper = 0, 1\n",
    "\n",
    "    dist = Normal(0.5, 0.1)\n",
    "\n",
    "    truncated_dist = Truncated(dist, lower, upper)\n",
    "    # Compute the cumulative distribution function at each point in the wage grid\n",
    "    cdf_values = [cdf(truncated_dist, point) for point in grid]\n",
    "    # Compute the probabilities by taking the differences between consecutive CDF values\n",
    "    probs = diff(cdf_values)\n",
    "\n",
    "    return grid, probs\n",
    "\n",
    "end"
   ]
  },
  {
   "cell_type": "code",
   "execution_count": 24,
   "metadata": {},
   "outputs": [
    {
     "data": {
      "text/plain": [
       "(0.0:0.025:1.0, [7.304320894485256e-7, 2.380591246961792e-6, 7.2908568300754895e-6, 2.098272808764946e-5, 5.6746075900387655e-5, 0.00014421187651184335, 0.0003443961607986427, 0.0007728734323300979, 0.00162986613783184, 0.003229903942435662  …  0.003229903942435719, 0.0016298661378318924, 0.0007728734323300124, 0.00034439616079873225, 0.00014421187651181278, 5.674607590033798e-5, 2.098272808770396e-5, 7.29085683004449e-6, 2.3805912470198365e-6, 7.30432089479649e-7])"
      ]
     },
     "metadata": {},
     "output_type": "display_data"
    }
   ],
   "source": [
    "w_grid, w_probs = wage_grid(Sizes, Params, Bounds)"
   ]
  },
  {
   "cell_type": "code",
   "execution_count": 25,
   "metadata": {},
   "outputs": [
    {
     "data": {
      "text/plain": [
       "human_capital_grid (generic function with 1 method)"
      ]
     },
     "metadata": {},
     "output_type": "display_data"
    }
   ],
   "source": [
    "function human_capital_grid(S,P,B)\n",
    "\n",
    "    grid = range(B[1], stop=B[2], length=S[1])\n",
    "\n",
    "    return grid\n",
    "\n",
    "end"
   ]
  },
  {
   "cell_type": "code",
   "execution_count": null,
   "metadata": {},
   "outputs": [],
   "source": []
  }
 ],
 "metadata": {
  "kernelspec": {
   "display_name": "Julia 1.10.1",
   "language": "julia",
   "name": "julia-1.10"
  },
  "language_info": {
   "file_extension": ".jl",
   "mimetype": "application/julia",
   "name": "julia",
   "version": "1.10.1"
  }
 },
 "nbformat": 4,
 "nbformat_minor": 2
}
