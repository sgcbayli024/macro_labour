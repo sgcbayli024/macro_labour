{
 "cells": [
  {
   "cell_type": "code",
   "execution_count": 1,
   "metadata": {},
   "outputs": [],
   "source": [
    "using LinearAlgebra, Plots, Random, Distributions"
   ]
  },
  {
   "cell_type": "code",
   "execution_count": 2,
   "metadata": {},
   "outputs": [
    {
     "data": {
      "text/plain": [
       "3-element Vector{Int64}:\n",
       " 10000\n",
       "   201\n",
       "     4"
      ]
     },
     "metadata": {},
     "output_type": "display_data"
    }
   ],
   "source": [
    "# structural_params = [alpha, beta, lambda, benefits, beta_hat]\n",
    "Params = Vector{Float64}([0.0009, 0.995, 0.009, 0.1, 0.9941045])\n",
    "# grid_sizes = [hc_grid_size, search_grid_size, wage_grid_size]\n",
    "Sizes = Vector{Int64}([201, 41, 41])\n",
    "# grid_bounds = [hc_min, hc_max, search_min, search_max, wage_min, wage_max]\n",
    "Bounds = Vector{Float64}([1.0, 2.0, 0.0, 1.0, 0.0, 1.0])\n",
    "# human_capital_losses = [unemployment_loss, job_loss]\n",
    "Losses = Vector{Int64}([10, 30])\n",
    "# draw_matrices = [number_of_workers, number_of_periods, seed]\n",
    "Draw = Vector{Int64}([10000, 201, 4])"
   ]
  },
  {
   "cell_type": "code",
   "execution_count": 4,
   "metadata": {},
   "outputs": [
    {
     "data": {
      "text/plain": [
       "search_grid (generic function with 1 method)"
      ]
     },
     "metadata": {},
     "output_type": "display_data"
    }
   ],
   "source": [
    "function search_grid(S,B)\n",
    "\n",
    "    grid = range(B[3], stop=B[4], length=S[2])\n",
    "\n",
    "    return grid\n",
    "\n",
    "end"
   ]
  },
  {
   "cell_type": "code",
   "execution_count": 5,
   "metadata": {},
   "outputs": [
    {
     "data": {
      "text/plain": [
       "wage_grid (generic function with 1 method)"
      ]
     },
     "metadata": {},
     "output_type": "display_data"
    }
   ],
   "source": [
    "function wage_grid(S,B)\n",
    "\n",
    "    grid = range(B[5], stop=B[6], length=S[3])\n",
    "\n",
    "    lower, upper = 0, 1\n",
    "\n",
    "    dist = Normal(0.5, sqrt(0.1))\n",
    "\n",
    "    truncated_dist = Truncated(dist, lower, upper)\n",
    "    # Compute the probability density function at each point in the wage grid\n",
    "    pdf_values = [pdf(truncated_dist, point) for point in grid]\n",
    "    # Normalise the probabilities so they sum to 1\n",
    "    probs = pdf_values / sum(pdf_values)\n",
    "\n",
    "    return grid, probs\n",
    "\n",
    "end"
   ]
  },
  {
   "cell_type": "code",
   "execution_count": 6,
   "metadata": {},
   "outputs": [
    {
     "data": {
      "text/plain": [
       "(0.0:0.025:1.0, [0.010096205463672238, 0.011404803845416155, 0.012802745710944611, 0.014282494929326978, 0.015834002055889584, 0.01744467870008861, 0.01909945224920802, 0.020780907501498747, 0.02246951848187184, 0.024143969930210292  …  0.024143969930210292, 0.02246951848187183, 0.02078090750149875, 0.01909945224920802, 0.01744467870008861, 0.015834002055889584, 0.014282494929326974, 0.012802745710944618, 0.011404803845416155, 0.010096205463672238])"
      ]
     },
     "metadata": {},
     "output_type": "display_data"
    }
   ],
   "source": [
    "w_grid, w_probs = wage_grid(Sizes, Bounds)"
   ]
  },
  {
   "cell_type": "code",
   "execution_count": 7,
   "metadata": {},
   "outputs": [
    {
     "data": {
      "text/plain": [
       "human_capital_grid (generic function with 1 method)"
      ]
     },
     "metadata": {},
     "output_type": "display_data"
    }
   ],
   "source": [
    "function human_capital_grid(S,B)\n",
    "\n",
    "    grid = range(B[1], stop=B[2], length=S[1])\n",
    "\n",
    "    return grid\n",
    "\n",
    "end"
   ]
  },
  {
   "cell_type": "code",
   "execution_count": 8,
   "metadata": {},
   "outputs": [
    {
     "data": {
      "text/plain": [
       "initial_value_functions (generic function with 1 method)"
      ]
     },
     "metadata": {},
     "output_type": "display_data"
    }
   ],
   "source": [
    "function initial_value_functions(S)\n",
    "\n",
    "    U = zeros(S[1], 1)\n",
    "\n",
    "    W = zeros(S[1], S[2])\n",
    "\n",
    "    return U, W\n",
    "\n",
    "end"
   ]
  },
  {
   "cell_type": "code",
   "execution_count": 9,
   "metadata": {},
   "outputs": [
    {
     "data": {
      "text/plain": [
       "cost_of_search (generic function with 1 method)"
      ]
     },
     "metadata": {},
     "output_type": "display_data"
    }
   ],
   "source": [
    "function cost_of_search(S,B)\n",
    "\n",
    "    grid = search_grid(S,B)\n",
    "\n",
    "    cost = (1/2) .* grid \n",
    "\n",
    "    return cost\n",
    "\n",
    "end"
   ]
  },
  {
   "cell_type": "code",
   "execution_count": 10,
   "metadata": {},
   "outputs": [
    {
     "data": {
      "text/plain": [
       "contact_probability (generic function with 1 method)"
      ]
     },
     "metadata": {},
     "output_type": "display_data"
    }
   ],
   "source": [
    "function contact_probability(S,B)\n",
    "\n",
    "    grid = search_grid(S,B)\n",
    "\n",
    "    contact_probs = grid .^ (0.3)\n",
    "\n",
    "    return contact_probs\n",
    "\n",
    "end"
   ]
  },
  {
   "cell_type": "markdown",
   "metadata": {},
   "source": [
    "Work on Bellman iteration here"
   ]
  },
  {
   "cell_type": "code",
   "execution_count": 11,
   "metadata": {},
   "outputs": [
    {
     "data": {
      "text/plain": [
       "Bellman (generic function with 1 method)"
      ]
     },
     "metadata": {},
     "output_type": "display_data"
    }
   ],
   "source": [
    "function Bellman(B, L, S, P, tolerance, max_iterations, tau)\n",
    "\n",
    "    U_0, W_0 = initial_value_functions(S)\n",
    "\n",
    "    U_1, W_1 = similar(U_0), similar(W_0)\n",
    "\n",
    "    search_intensity = similar(U_0)\n",
    "\n",
    "    store_U_values = zeros(S[2], S[3])\n",
    "\n",
    "    hc_grid = human_capital_grid(S,B)\n",
    "\n",
    "    s_grid = search_grid(S,B)\n",
    "\n",
    "    w_grid, w_probs = wage_grid(S,B)\n",
    "\n",
    "    cost = cost_of_search(S,B)\n",
    "\n",
    "    contact_probs = contact_probability(S,B)\n",
    "\n",
    "    reservation_wages = Float64[]\n",
    "\n",
    "    error = tolerance + 1\n",
    "\n",
    "    iter = 1\n",
    "\n",
    "    min_hc, max_hc = minimum(hc_grid), maximum(hc_grid)\n",
    "\n",
    "    b = P[4]\n",
    "\n",
    "    unemployment_loss, job_loss = L[1], L[2]\n",
    "\n",
    "    hc_tomorrow_unemp = 0\n",
    "\n",
    "    display(\"----- Iterating... -----\")\n",
    "\n",
    "    while error > tolerance\n",
    "\n",
    "        for i in 1:S[1]\n",
    "\n",
    "            if i <= 11\n",
    "\n",
    "                hc_tomorrow_unemp = min_hc\n",
    "\n",
    "                index = findfirst(isequal(hc_tomorrow_unemp), hc_grid)\n",
    "\n",
    "                for k in 1:S[2]\n",
    "\n",
    "                    for j in 1:S[3]\n",
    "\n",
    "                        wage_index = findfirst(isequal(w_grid[j]), w_grid)\n",
    "\n",
    "                        acceptance_value, rejection_value = W_0[index, wage_index], U_0[index]\n",
    "\n",
    "                        max_value = max(acceptance_value, rejection_value)\n",
    "\n",
    "                        store_U_values[k,j] = ((1-tau)*b) - cost[k] + ((P[5] * contact_probs[k]) * max_value) + ((P[5] * (1 - contact_probs[k])) * rejection_value)\n",
    "\n",
    "                    end\n",
    "\n",
    "                end\n",
    "\n",
    "                max_value, max_index = findmax(store_U_values * w_probs)\n",
    "\n",
    "                U_1[i,1] = max_value\n",
    "\n",
    "                search_intensity[i, 1] = cost[max_index[1]]\n",
    "\n",
    "            else\n",
    "\n",
    "                hc_tomorrow_unemp = hc_grid[i-10]\n",
    "\n",
    "                index = findfirst(isequal(hc_tomorrow_unemp), hc_grid)\n",
    "\n",
    "                for k in 1:S[2]\n",
    "\n",
    "                    for j in 1:S[3]\n",
    "\n",
    "                        wage_index = findfirst(isequal(w_grid[j]), w_grid)\n",
    "\n",
    "                        acceptance_value, rejection_value = W_0[index, wage_index], U_0[index]\n",
    "\n",
    "                        max_value = max(acceptance_value, rejection_value)\n",
    "\n",
    "                        store_U_values[k,j] = ((1-tau)*b) - cost[k] + ((P[5] * contact_probs[k]) * max_value) + ((P[5] * (1 - contact_probs[k])) * rejection_value)\n",
    "\n",
    "                    end\n",
    "\n",
    "                end\n",
    "\n",
    "                max_value, max_index = findmax(store_U_values * w_probs)\n",
    "\n",
    "                U_1[i,1] = max_value\n",
    "\n",
    "                search_intensity[i, 1] = cost[max_index[1]]\n",
    "\n",
    "            end\n",
    "\n",
    "            for i in 1:S[1]\n",
    "\n",
    "                if i <= 31\n",
    "\n",
    "                    for j in 1:S[2]\n",
    "\n",
    "                        W_1[i,j] = (1-tau)*w_grid[j]*hc_grid[i] + (P[5] * P[4] * W_0[i+1,j]) + ((P[5] * (1 - P[4]) * U_1[1,1]))\n",
    "\n",
    "                    end\n",
    "\n",
    "                else \n",
    "\n",
    "                    for j in 1:S[2]\n",
    "\n",
    "                        W_1[i,j] = (1-tau)*w_grid[j]*hc_grid[i] + (P[5] * P[4] * W_0[i,j]) + ((P[5] * (1 - P[4]) * U_1[i-30,1]))\n",
    "\n",
    "                    end\n",
    "\n",
    "                end\n",
    "\n",
    "            end\n",
    "\n",
    "        end\n",
    "\n",
    "        error_unemp = maximum(abs.(U_1 - U_0))\n",
    "\n",
    "        error_emp = maximum(abs.(W_1 - W_0))\n",
    "\n",
    "        error = max(error_unemp, error_emp)\n",
    "\n",
    "        if iter % 25 == 0\n",
    "\n",
    "            println(\"Iteration: \", iter, \" Error: \", error)\n",
    "\n",
    "        end\n",
    "\n",
    "        U_0, W_0 = copy(U_1), copy(W_1)\n",
    "\n",
    "        iter += 1\n",
    "    \n",
    "    end\n",
    "\n",
    "    for i in 1:S[1]\n",
    "\n",
    "        index = findfirst(x -> x >= U_1[i,1], W_1[i,:])\n",
    "        \n",
    "        if index !== nothing\n",
    "\n",
    "            push!(reservation_wages, w_grid[index])\n",
    "\n",
    "        else\n",
    "\n",
    "            push!(reservation_wages, w_grid[S[3]])  # Append the max value of the wage grid\n",
    "\n",
    "        end\n",
    "\n",
    "    end\n",
    "\n",
    "    display(\"---- Bellman has been solved... ----\")\n",
    "\n",
    "    #display(plot(U_1, title = \"Plot of U_1\", xlabel = \"Human Capital Index\", ylabel = \"Value\", legend = false))\n",
    "\n",
    "    #plot(W_1[:,1], title = \"Plot of W_1 columns\", xlabel = \"Human Capital Index\", ylabel = \"Value\", legend = false)\n",
    "\n",
    "    #for j in 2:size(W_1, 2)\n",
    "    #    plot!(W_1[:,j])\n",
    "    #end\n",
    "\n",
    "    #display(plot!())\n",
    "\n",
    "    #display(plot(search_intensity, title = \"Plot of Search Costs\", xlabel = \"Human Capital Index\", ylabel = \"Search Costs\", legend = false))\n",
    "\n",
    "    #display(plot(reservation_wages, title = \"Plot of Reservation Wages\", xlabel = \"Human Capital Index\", ylabel = \"Wage\", legend = false))\n",
    "\n",
    "    return W_1, U_1, search_intensity, reservation_wages\n",
    "\n",
    "end"
   ]
  },
  {
   "cell_type": "code",
   "execution_count": 21,
   "metadata": {},
   "outputs": [
    {
     "data": {
      "text/plain": [
       "\"----- Iterating... -----\""
      ]
     },
     "metadata": {},
     "output_type": "display_data"
    },
    {
     "data": {
      "text/plain": [
       "\"---- Bellman has been solved... ----\""
      ]
     },
     "metadata": {},
     "output_type": "display_data"
    },
    {
     "data": {
      "text/plain": [
       "([16.14480672325679 16.158694180627634 … 16.686417560719775 16.700305018090624; 16.14480672325679 16.15876357961189 … 16.689124121105692 16.703080977460793; … ; 16.541590294604056 16.569280489321507 … 17.621507888584578 17.64919808330203; 16.546093203874435 16.573852797576137 … 17.628717358240873 17.656476951942576], [16.251301164106412; 16.251301164106412; … ; 16.801639710190127; 16.80698970761044;;], [0.025; 0.025; … ; 0.05; 0.05;;], [0.2, 0.2, 0.2, 0.2, 0.2, 0.2, 0.2, 0.2, 0.2, 0.2  …  0.25, 0.25, 0.25, 0.25, 0.25, 0.25, 0.25, 0.25, 0.25, 0.25])"
      ]
     },
     "metadata": {},
     "output_type": "display_data"
    }
   ],
   "source": [
    "@time begin\n",
    "W_out, U_out, match_probs, res_wages = Bellman(Bounds, Losses, Sizes, Params, 1e-3, 1000, 0.5)\n",
    "end"
   ]
  },
  {
   "cell_type": "code",
   "execution_count": 12,
   "metadata": {},
   "outputs": [
    {
     "data": {
      "text/plain": [
       "draw_matrices (generic function with 1 method)"
      ]
     },
     "metadata": {},
     "output_type": "display_data"
    }
   ],
   "source": [
    "function draw_matrices(D, S, B, L, P)\n",
    "    # Create the human capital grid\n",
    "    hc_grid = human_capital_grid(S, B)\n",
    "    # Unpack the draw parameters\n",
    "    number_of_workers, number_of_periods, seed = D[1], D[2], D[3]\n",
    "    # Set the seed\n",
    "    Random.seed!(seed)\n",
    "    # Draw human capital of initial workers\n",
    "    #initial_human_capital = rand(hc_grid, number_of_workers)\n",
    "    # Draw human capital of newborn workers for each period in which they could be born\n",
    "    human_capital_draws = [rand(hc_grid) for _ in 1:number_of_workers, _ in 1:(number_of_periods)]\n",
    "    # Draw job loss probabilities for each worker and each period in which they could lose their job\n",
    "    job_loss_probabilities = rand(number_of_workers, number_of_periods - 1)\n",
    "    # Create the wage grid and the associated probabilities\n",
    "    w_grid, w_probs = wage_grid(S,B)\n",
    "    # Draw wage offers for each worker and each period\n",
    "    wage_offers = [rand(w_grid) for _ in 1:number_of_workers, _ in 1:number_of_periods]\n",
    "    # Draw death probabilities for each worker and each period in which they could die\n",
    "    death_probabilities = rand(number_of_workers, number_of_periods - 1)\n",
    "    # Draw match probabilities for each worker and each period in which they could be matched\n",
    "    match_probabilities = rand(number_of_workers, number_of_periods - 1)\n",
    "\n",
    "    ###\n",
    "\n",
    "    #job_losses = any(job_loss_probabilities .< 0.09)\n",
    "\n",
    "    #deaths = any(death_probabilities .< 0.0009)  \n",
    "\n",
    "    ###\n",
    "\n",
    "    return human_capital_draws, job_loss_probabilities, wage_offers, death_probabilities, match_probabilities\n",
    "\n",
    "    #return job_losses, deaths ### there are losses and deaths in the economy ###\n",
    "\n",
    "end "
   ]
  },
  {
   "cell_type": "code",
   "execution_count": 90,
   "metadata": {},
   "outputs": [
    {
     "data": {
      "text/plain": [
       "([1.3, 1.085, 1.16, 1.185, 1.46, 1.535, 1.785, 1.61, 1.695, 1.575  …  1.94, 1.755, 1.58, 1.345, 1.77, 1.24, 1.685, 1.59, 1.78, 1.7], [1.07 1.605 … 1.975 1.36; 1.735 1.11 … 1.33 1.265; … ; 1.935 1.585 … 1.535 1.735; 1.775 1.21 … 1.285 1.475], [0.9296817863322564 0.19403450388939392 … 0.5074646585576883 0.2872148451363469; 0.32810335132628154 0.48712668536593007 … 0.7642916658291372 0.6954780515341381; … ; 0.22217962409870684 0.9025248051196569 … 0.7637886287749661 0.9360351964252113; 0.6601784418126794 0.176154985106191 … 0.5738517508329355 0.49975992274454106], [0.775 0.4 … 0.0 0.9; 0.25 0.95 … 0.45 0.375; … ; 0.1 0.3 … 0.15 0.0; 0.1 0.85 … 0.05 0.4], [0.7410603739201328 0.221721386504108 … 0.9480638803479762 0.7799618771382438; 0.7530996729137789 0.7946086393750906 … 0.5647845041425161 0.9036596897492285; … ; 0.7114262846374387 0.08069564958978948 … 0.8957327083880275 0.8379014791278039; 0.2626500476440137 0.9468086808026296 … 0.4238450685954972 0.26231282679340373], [0.11765542764681147 0.07460510847047941 … 0.23404250741321353 0.185245377071805; 0.4926792484143807 0.32723131071883527 … 0.7417644897359745 0.07093080294515353; … ; 0.35853424586699123 0.49770499154421677 … 0.19261634551278017 0.6119071938463893; 0.8076813607461637 0.6738357601018073 … 0.8937517517949017 0.4784861829277328])"
      ]
     },
     "metadata": {},
     "output_type": "display_data"
    }
   ],
   "source": [
    "hc_draws, sacked_prob, w_offers, death_prob, match_probs = draw_matrices(Draw, Sizes, Bounds, Losses, Params)\n",
    "#losses, deaths = draw_matrices(Draw, Sizes, Bounds, Losses, Params)"
   ]
  },
  {
   "cell_type": "code",
   "execution_count": 13,
   "metadata": {},
   "outputs": [
    {
     "data": {
      "text/plain": [
       "initialise_matrices (generic function with 1 method)"
      ]
     },
     "metadata": {},
     "output_type": "display_data"
    }
   ],
   "source": [
    "function initialise_matrices( D, S, B, L, P)\n",
    "    # Unpack the draw parameters\n",
    "    number_of_workers, number_of_periods = D[1], D[2]\n",
    "    # Initialise the employment matrix\n",
    "    employment_matrix = zeros(Int64, number_of_workers, number_of_periods)\n",
    "    # Initialise the wage matrix\n",
    "    wage_matrix = zeros(Float64, number_of_workers, number_of_periods)\n",
    "    # Initialise the human capital matrix\n",
    "    human_capital_matrix = zeros(Float64, number_of_workers, number_of_periods)\n",
    "    \n",
    "    return employment_matrix, wage_matrix, human_capital_matrix\n",
    "    \n",
    "end"
   ]
  },
  {
   "cell_type": "code",
   "execution_count": 14,
   "metadata": {},
   "outputs": [
    {
     "data": {
      "text/plain": [
       "sim (generic function with 1 method)"
      ]
     },
     "metadata": {},
     "output_type": "display_data"
    }
   ],
   "source": [
    "function sim( D, S, B, L, P, tol, max_iterations, tau)\n",
    "\n",
    "    W_out, U_out, search_int, res_wages = Bellman(B, L, S, P, tol, max_iterations, tau)\n",
    "\n",
    "    hc_draws, sacked_prob, w_offers, death_prob, match_prob = draw_matrices(D, S, B, L, P)\n",
    "\n",
    "    employment_sim, wage_sim, hc_sim = initialise_matrices(D, S, B, L, P)\n",
    "\n",
    "    hc_grid = human_capital_grid(S,B)\n",
    "\n",
    "    min_hc, max_hc = minimum(hc_grid), maximum(hc_grid)\n",
    "\n",
    "    unemployment_loss, job_loss = L[1], L[2]\n",
    "\n",
    "    N, T = D[1], (D[2]-1) # N = number of workers, T = number of periods\n",
    "\n",
    "    for n in 1:N\n",
    "\n",
    "        for t in 1:T \n",
    "\n",
    "            if death_prob[n,t] > P[1] # survive\n",
    "\n",
    "                if employment_sim[n,t] == 1 # employed\n",
    "\n",
    "                    if t == 1\n",
    "\n",
    "                        hc_index = findfirst(isequal(hc_draws[n,1]), hc_grid)\n",
    "\n",
    "                    else\n",
    "\n",
    "                        hc_index = findfirst(isequal(hc_sim[n,t]), hc_grid)\n",
    "\n",
    "                    end\n",
    "\n",
    "                    if sacked_prob[n,t] <= P[3] # job loss\n",
    "\n",
    "                        employment_sim[n,t+1] = 0 ## they'll be unemployed tomorrow\n",
    "\n",
    "                        wage_sim[n,t+1] = 0 ## they won't be earning anything tomorrow (fill in benefits later)\n",
    "\n",
    "                        if hc_index <= 31\n",
    "                                    \n",
    "                            hc_sim[n,t+1] = min_hc ## lose human capital until they reach the minimum\n",
    "\n",
    "                        else\n",
    "\n",
    "                            hc_sim[n,t+1] = hc_grid[hc_index - job_loss] ## unemployment human capital loss\n",
    "\n",
    "                        end\n",
    "\n",
    "                    else # keep job\n",
    "\n",
    "                        employment_sim[n,t+1] = 1 ## they'll be employed tomorrow\n",
    "\n",
    "                        wage_sim[n,t+1] = wage_sim[n,t] ## the wage they'll be earning tomorrow\n",
    "\n",
    "                        if hc_index <= 200\n",
    "                                    \n",
    "                            hc_sim[n,t+1] = hc_grid[hc_index+1] ## accumulate human capital until they reach the maximum\n",
    "\n",
    "                        else\n",
    "\n",
    "                            hc_sim[n,t+1] = max_hc ## human capital is bounded above\n",
    "\n",
    "                        end\n",
    "\n",
    "                    end\n",
    "\n",
    "                else # unemployed\n",
    "\n",
    "                    if t == 1\n",
    "\n",
    "                        hc_index = findfirst(isequal(hc_draws[n,1]), hc_grid)\n",
    "\n",
    "                    else\n",
    "\n",
    "                        hc_index = findfirst(isequal(hc_sim[n,t]), hc_grid)\n",
    "\n",
    "                    end\n",
    "\n",
    "                    if match_prob[n,t] < search_int[hc_index] # match\n",
    "\n",
    "                        if w_offers[n,t] > res_wages[hc_index] ## if they'd accept the wage offer\n",
    "\n",
    "                            wage_sim[n,t+1] = w_offers[n,t] ## they'll be earning the wage tomorrow\n",
    "\n",
    "                            employment_sim[n,t+1] = 1 ## they'll be employed tomorrow\n",
    "\n",
    "                            if hc_index <= 21\n",
    "                                    \n",
    "                                hc_sim[n,t+1] = min_hc ## lose human capital until they reach the minimum\n",
    "\n",
    "                            else\n",
    "\n",
    "                                hc_sim[n,t+1] = hc_grid[hc_index - unemployment_loss] ## unemployment human capital loss\n",
    "\n",
    "                            end\n",
    "\n",
    "                        else ## if they wouldn't accept the wage offer\n",
    "\n",
    "                            wage_sim[n,t+1] = 0 ## they won't be earning anything tomorrow (fill in benefits later)\n",
    "\n",
    "                            employment_sim[n,t+1] = 0 ## they'll be unemployed tomorrow\n",
    "\n",
    "                            if hc_index <= 11\n",
    "                                    \n",
    "                                hc_sim[n,t+1] = min_hc ## lose human capital until they reach the minimum\n",
    "\n",
    "                            else\n",
    "\n",
    "                                hc_sim[n,t+1] = hc_grid[hc_index - unemployment_loss] ## unemployment human capital loss\n",
    "\n",
    "                            end\n",
    "\n",
    "                        end\n",
    "\n",
    "                    else # stay unemployed\n",
    "\n",
    "                        wage_sim[n,t+1] = 0 ## they won't be earning anything tomorrow (fill in benefits later)\n",
    "\n",
    "                        employment_sim[n,t+1] = 0 ## they'll be unemployed tomorrow\n",
    "\n",
    "                        if hc_index <= 11\n",
    "                                    \n",
    "                            hc_sim[n,t+1] = min_hc ## lose human capital until they reach the minimum\n",
    "\n",
    "                        else\n",
    "\n",
    "                            hc_sim[n,t+1] = hc_grid[hc_index - unemployment_loss] ## unemployment human capital loss\n",
    "\n",
    "                        end\n",
    "\n",
    "                    end\n",
    "\n",
    "                end\n",
    "\n",
    "            else # die\n",
    "\n",
    "                hc_sim[n,t+1] = hc_draws[n,t] ## replaced by a newborn\n",
    "\n",
    "                employment_sim[n,t+1] = 0 ## who will start unemployed\n",
    "\n",
    "                wage_sim[n,t+1] = 0 ## and won't be earning anything tomorrow (fill in benefits later)\n",
    "\n",
    "            end\n",
    "\n",
    "        end\n",
    "    \n",
    "    end\n",
    "\n",
    "    return employment_sim, wage_sim, hc_sim\n",
    "\n",
    "end"
   ]
  },
  {
   "cell_type": "code",
   "execution_count": 52,
   "metadata": {},
   "outputs": [
    {
     "data": {
      "text/plain": [
       "\"----- Iterating... -----\""
      ]
     },
     "metadata": {},
     "output_type": "display_data"
    },
    {
     "data": {
      "text/plain": [
       "\"---- Bellman has been solved... ----\""
      ]
     },
     "metadata": {},
     "output_type": "display_data"
    },
    {
     "data": {
      "text/plain": [
       "([0 0 … 1 1; 0 0 … 1 1; … ; 0 0 … 1 1; 0 0 … 1 1], [0.0 0.0 … 0.575 0.575; 0.0 0.0 … 0.325 0.325; … ; 0.0 0.0 … 0.975 0.975; 0.0 0.0 … 0.725 0.725], [0.0 1.25 … 1.97 1.975; 0.0 1.035 … 1.51 1.515; … ; 0.0 1.73 … 1.28 1.285; 0.0 1.65 … 1.275 1.28])"
      ]
     },
     "metadata": {},
     "output_type": "display_data"
    }
   ],
   "source": [
    "employment_sim, wage_sim, hc_sim = sim(Draw, Sizes, Bounds, Losses, Params, 1e-3, 1000, 0.5)"
   ]
  },
  {
   "cell_type": "code",
   "execution_count": 15,
   "metadata": {},
   "outputs": [
    {
     "data": {
      "text/plain": [
       "find_tax_rate (generic function with 1 method)"
      ]
     },
     "metadata": {},
     "output_type": "display_data"
    }
   ],
   "source": [
    "function find_tax_rate(D, S, B, L, P, Bellman_tolerance, maximum_iterations)\n",
    "\n",
    "    # Params\n",
    "    number_of_workers = D[1]\n",
    "    \n",
    "    # Initialise the tax rate bounds\n",
    "    lower_bound = 0.0\n",
    "    upper_bound = 1.0\n",
    "\n",
    "    # Define the number of columns to extract\n",
    "    num_columns = 100\n",
    "\n",
    "    government_spending = ones(D[1], 100)\n",
    "\n",
    "    unemployment_rate = 0.05\n",
    "\n",
    "    while abs(sum(government_spending)) > 0.01\n",
    "\n",
    "        guess_tau = (lower_bound + upper_bound) / 2\n",
    "\n",
    "        employment_sim, wage_sim, hc_sim = sim( D, S, B, L, P, Bellman_tolerance, maximum_iterations, guess_tau) # Simulate the economy\n",
    "\n",
    "        # Create new matrices with the last 100 columns\n",
    "        employment_sim_last_100 = employment_sim[:, end-num_columns+1:end]\n",
    "\n",
    "        wage_sim_last_100 = wage_sim[:, end-num_columns+1:end]\n",
    "\n",
    "        hc_sim_last_100 = hc_sim[:, end-num_columns+1:end]\n",
    "\n",
    "        # Fill in wage_sim with (1-guess_tau)*b where employment_sim is zero\n",
    "        wage_sim_last_100[employment_sim_last_100 .== 0] .= (1 - guess_tau) * P[3]\n",
    "\n",
    "        wage_sim_last_100[employment_sim_last_100 .== 1] .= ((1 - guess_tau) .* wage_sim_last_100[employment_sim_last_100 .== 1]) .* hc_sim_last_100[employment_sim_last_100 .== 1]\n",
    "\n",
    "        government_spending[employment_sim_last_100 .== 0] .= -(1-guess_tau) * P[3]\n",
    "\n",
    "        government_spending[employment_sim_last_100 .== 1] .= ((guess_tau .* wage_sim_last_100[employment_sim_last_100 .== 1]) .* hc_sim_last_100[employment_sim_last_100 .== 1])\n",
    "\n",
    "        unemployment_rate = sum(employment_sim_last_100 .== 0) / (number_of_workers) # get rid of num_columns so that it is a percentage      \n",
    "\n",
    "        # Check if the market clears\n",
    "        if sum(government_spending) < 0\n",
    "\n",
    "            lower_bound = guess_tau\n",
    "\n",
    "            upper_bound = upper_bound\n",
    "\n",
    "        else\n",
    "\n",
    "            lower_bound = lower_bound\n",
    "\n",
    "            upper_bound = guess_tau\n",
    "\n",
    "        end\n",
    "\n",
    "    end\n",
    "\n",
    "    tax_rate = (lower_bound + upper_bound) / 2\n",
    "\n",
    "    return tax_rate, unemployment_rate\n",
    "end"
   ]
  },
  {
   "cell_type": "code",
   "execution_count": 16,
   "metadata": {},
   "outputs": [
    {
     "data": {
      "text/plain": [
       "\"----- Iterating... -----\""
      ]
     },
     "metadata": {},
     "output_type": "display_data"
    },
    {
     "name": "stdout",
     "output_type": "stream",
     "text": [
      "Iteration: 25 Error: 0.10910697785816836\n",
      "Iteration: 50 Error: 0.0886352178392471\n",
      "Iteration: 75 Error: 0.07238027064038377\n",
      "Iteration: 100 Error: 0.05915665462775088\n",
      "Iteration: 125 Error: 0.048370540358066094\n",
      "Iteration: 150 Error: 0.03957447241278622\n",
      "Iteration: 175 Error: 0.03237886570434334\n",
      "Iteration: 200 Error: 0.026518293908809554\n",
      "Iteration: 225 Error: 0.02171854583593813\n",
      "Iteration: 250 Error: 0.017786864612473252\n",
      "Iteration: 275 Error: 0.014566744043627011\n",
      "Iteration: 300 Error: 0.011939011847653447\n",
      "Iteration: 325 Error: 0.009788881231608926\n",
      "Iteration: 350 Error: 0.008025973756396354\n",
      "Iteration: 375 Error: 0.0065808953559862715\n",
      "Iteration: 400 Error: 0.005395723185422696\n",
      "Iteration: 425 Error: 0.004424142182974933\n",
      "Iteration: 450 Error: 0.0036273858283699667\n",
      "Iteration: 475 Error: 0.002974185494871051\n",
      "Iteration: 500 Error: 0.0024385559660728973\n",
      "Iteration: 525 Error: 0.001999389483245295\n",
      "Iteration: 550 Error: 0.001639337459362622\n",
      "Iteration: 575 Error: 0.0013441045115847317\n",
      "Iteration: 600 Error: 0.0011020409054580682\n",
      "Iteration: 25 Error: 0.18041886952972774\n",
      "Iteration: 50 Error: 0.14535472657317428\n",
      "Iteration: 75 Error: 0.11733444115390945\n",
      "Iteration: 100 Error: 0.09479190076431365\n",
      "Iteration: 125 Error: 0.07666922792038022\n",
      "Iteration: 150 Error: 0.062341322128421695\n",
      "Iteration: 175 Error: 0.05072809055880256\n",
      "Iteration: 200 Error: 0.04127822580408491\n",
      "Iteration: 225 Error: 0.03360965937207183\n",
      "Iteration: 250 Error: 0.02738404487218915\n",
      "Iteration: 275 Error: 0.02231161896824574\n",
      "Iteration: 300 Error: 0.018178773198322062\n",
      "Iteration: 325 Error: 0.014811466414261787\n",
      "Iteration: 350 Error: 0.012067895613608215\n",
      "Iteration: 375 Error: 0.009833098876764979\n",
      "Iteration: 400 Error: 0.008011685506623678\n",
      "Iteration: 425 Error: 0.006530164414986217\n",
      "Iteration: 450 Error: 0.005328014767918887\n",
      "Iteration: 475 Error: 0.004347170999551508\n",
      "Iteration: 500 Error: 0.003546892514858513\n",
      "Iteration: 525 Error: 0.0028939387277944206\n",
      "Iteration: 550 Error: 0.002361188371274636\n",
      "Iteration: 575 Error: 0.0019265129807628512\n",
      "Iteration: 600 Error: 0.001571857760357176\n",
      "Iteration: 625 Error: 0.00128249165381078\n",
      "Iteration: 650 Error: 0.0010463954713806345\n",
      "Iteration: 25 Error: 0.21864713450344464\n",
      "Iteration: 50 Error: 0.17535465030509378\n",
      "Iteration: 75 Error: 0.14096154130545635\n",
      "Iteration: 100 Error: 0.11342968623550576\n",
      "Iteration: 125 Error: 0.09171497531511363\n",
      "Iteration: 150 Error: 0.07423628493864953\n",
      "Iteration: 175 Error: 0.06010515373801795\n",
      "Iteration: 200 Error: 0.04868033945948724\n",
      "Iteration: 225 Error: 0.03946898676159094\n",
      "Iteration: 250 Error: 0.032002648197813954\n",
      "Iteration: 275 Error: 0.02594706840749339\n",
      "Iteration: 300 Error: 0.02103809704367876\n",
      "Iteration: 325 Error: 0.017057242881328705\n",
      "Iteration: 350 Error: 0.013865364775259792\n",
      "Iteration: 375 Error: 0.011312864974062364\n",
      "Iteration: 400 Error: 0.009230259426697529\n",
      "Iteration: 425 Error: 0.0075310444595082515\n",
      "Iteration: 450 Error: 0.006144641014866892\n",
      "Iteration: 475 Error: 0.005013463060077328\n",
      "Iteration: 500 Error: 0.0040905256782188815\n",
      "Iteration: 525 Error: 0.0033374934897594244\n",
      "Iteration: 550 Error: 0.002723088343763891\n",
      "Iteration: 575 Error: 0.0022217901400232165\n",
      "Iteration: 600 Error: 0.0018127768192286453\n",
      "Iteration: 625 Error: 0.001479059492233148\n",
      "Iteration: 650 Error: 0.0012067767848478184\n",
      "Iteration: 25 Error: 0.23833986521062123\n",
      "Iteration: 50 Error: 0.19066979543823592\n",
      "Iteration: 75 Error: 0.15305733991562498\n",
      "Iteration: 100 Error: 0.12316850768588594\n",
      "Iteration: 125 Error: 0.09917877514947904\n",
      "Iteration: 150 Error: 0.08001250548422334\n",
      "Iteration: 175 Error: 0.06478185091564015\n",
      "Iteration: 200 Error: 0.052490278431552184\n",
      "Iteration: 225 Error: 0.042558004474283706\n",
      "Iteration: 250 Error: 0.03450512740555922\n",
      "Iteration: 275 Error: 0.027976025473492427\n",
      "Iteration: 300 Error: 0.022682368104149475\n",
      "Iteration: 325 Error: 0.0184022752083024\n",
      "Iteration: 350 Error: 0.014942786339204872\n",
      "Iteration: 375 Error: 0.012133655270957888\n",
      "Iteration: 400 Error: 0.009852619644860283\n",
      "Iteration: 425 Error: 0.008000401502961552\n",
      "Iteration: 450 Error: 0.006496386394260867\n",
      "Iteration: 475 Error: 0.0052751147761611605\n",
      "Iteration: 500 Error: 0.004283433006115445\n",
      "Iteration: 525 Error: 0.0034781799252598944\n",
      "Iteration: 550 Error: 0.0028243083468879604\n",
      "Iteration: 575 Error: 0.0022933596908956133\n",
      "Iteration: 600 Error: 0.0018622253755111728\n",
      "Iteration: 625 Error: 0.001512141057929739\n",
      "Iteration: 650 Error: 0.0012278699501919732\n",
      "Iteration: 675 Error: 0.0009970396654921387\n",
      "Iteration: 25 Error: 0.24818758475672809\n",
      "Iteration: 50 Error: 0.19851150116964966\n",
      "Iteration: 75 Error: 0.15901880664741697\n",
      "Iteration: 100 Error: 0.12797384202448114\n",
      "Iteration: 125 Error: 0.10304686536548147\n",
      "Iteration: 150 Error: 0.08308461142513579\n",
      "Iteration: 175 Error: 0.06699702200323543\n",
      "Iteration: 200 Error: 0.0542958171210266\n",
      "Iteration: 225 Error: 0.044021896949647754\n",
      "Iteration: 250 Error: 0.035692020376558276\n",
      "Iteration: 275 Error: 0.028938333121299564\n",
      "Iteration: 300 Error: 0.023462586735185198\n",
      "Iteration: 325 Error: 0.0190468617082189\n",
      "Iteration: 350 Error: 0.015466195441405262\n",
      "Iteration: 375 Error: 0.012558667411781244\n",
      "Iteration: 400 Error: 0.010197732710487628\n",
      "Iteration: 425 Error: 0.008280635916598555\n",
      "Iteration: 450 Error: 0.006723938852871925\n",
      "Iteration: 475 Error: 0.005459889089756587\n",
      "Iteration: 500 Error: 0.004433471143123313\n",
      "Iteration: 525 Error: 0.003600012024755017\n",
      "Iteration: 550 Error: 0.002923236931067663\n",
      "Iteration: 575 Error: 0.002373690447804222\n",
      "Iteration: 600 Error: 0.0019274545563234824\n",
      "Iteration: 625 Error: 0.0015651076449856305\n",
      "Iteration: 650 Error: 0.001270879218587595\n",
      "Iteration: 675 Error: 0.001031963515991663\n",
      "Iteration: 25 Error: 0.2532471000598573\n",
      "Iteration: 50 Error: 0.20242571902581474\n",
      "Iteration: 75 Error: 0.16214573081193606\n",
      "Iteration: 100 Error: 0.13035568016048416\n",
      "Iteration: 125 Error: 0.10497020207961683\n",
      "Iteration: 150 Error: 0.0846352955354277\n",
      "Iteration: 175 Error: 0.06824394355036034\n",
      "Iteration: 200 Error: 0.05516377214222601\n",
      "Iteration: 225 Error: 0.04472561647218498\n",
      "Iteration: 250 Error: 0.036262581240087854\n",
      "Iteration: 275 Error: 0.029400931768293503\n",
      "Iteration: 300 Error: 0.02383802150202996\n",
      "Iteration: 325 Error: 0.01935669895483727\n",
      "Iteration: 350 Error: 0.01571778562379933\n",
      "Iteration: 375 Error: 0.012762960538474033\n",
      "Iteration: 400 Error: 0.010363620271043317\n",
      "Iteration: 425 Error: 0.008415337867610617\n",
      "Iteration: 450 Error: 0.006833317853612186\n",
      "Iteration: 475 Error: 0.005548705663763087\n",
      "Iteration: 500 Error: 0.004505590871467291\n",
      "Iteration: 525 Error: 0.0036585737883996217\n",
      "Iteration: 550 Error: 0.002970789525086559\n",
      "Iteration: 575 Error: 0.0024123035129832715\n",
      "Iteration: 600 Error: 0.001958808656645772\n",
      "Iteration: 625 Error: 0.0015905674110499035\n",
      "Iteration: 650 Error: 0.001291552740767088\n",
      "Iteration: 675 Error: 0.0010487505720035983\n",
      "Iteration: 25 Error: 0.2557763823536554\n",
      "Iteration: 50 Error: 0.20438002320021909\n",
      "Iteration: 75 Error: 0.16370360392291872\n",
      "Iteration: 100 Error: 0.131541110920665\n",
      "Iteration: 125 Error: 0.10592743070721866\n",
      "Iteration: 150 Error: 0.08540708532565588\n",
      "Iteration: 175 Error: 0.06886626049914568\n",
      "Iteration: 200 Error: 0.05558663657507168\n",
      "Iteration: 225 Error: 0.04506872314381738\n",
      "Iteration: 250 Error: 0.03654076485240765\n",
      "Iteration: 275 Error: 0.029626477141121654\n",
      "Iteration: 300 Error: 0.024024139750871143\n",
      "Iteration: 325 Error: 0.01950778288786381\n",
      "Iteration: 350 Error: 0.01584046691755958\n",
      "Iteration: 375 Error: 0.012862578674798897\n",
      "Iteration: 400 Error: 0.010444510949490393\n",
      "Iteration: 425 Error: 0.008481021708945491\n",
      "Iteration: 450 Error: 0.006886653628441763\n",
      "Iteration: 475 Error: 0.005592014715404048\n",
      "Iteration: 500 Error: 0.00454075814823085\n",
      "Iteration: 525 Error: 0.00368712988252895\n",
      "Iteration: 550 Error: 0.002993977288987537\n",
      "Iteration: 575 Error: 0.002431132152260318\n",
      "Iteration: 600 Error: 0.001974097653821616\n",
      "Iteration: 625 Error: 0.0016029821921392795\n",
      "Iteration: 650 Error: 0.0013016336366931114\n",
      "Iteration: 675 Error: 0.001056936335587011\n",
      "Iteration: 25 Error: 0.25704615816569465\n",
      "Iteration: 50 Error: 0.20535649099766218\n",
      "Iteration: 75 Error: 0.16448646600827388\n",
      "Iteration: 100 Error: 0.13213241646672458\n",
      "Iteration: 125 Error: 0.10640490775540101\n",
      "Iteration: 150 Error: 0.08579206499009828\n",
      "Iteration: 175 Error: 0.06917235804692368\n",
      "Iteration: 200 Error: 0.05583857428996808\n",
      "Iteration: 225 Error: 0.04523780249501996\n",
      "Iteration: 250 Error: 0.03667785080433106\n",
      "Iteration: 275 Error: 0.029737623523445222\n",
      "Iteration: 300 Error: 0.024115840464297378\n",
      "Iteration: 325 Error: 0.019582244449473762\n",
      "Iteration: 350 Error: 0.015900930267498836\n",
      "Iteration: 375 Error: 0.012911675371242382\n",
      "Iteration: 400 Error: 0.010484377837492787\n",
      "Iteration: 425 Error: 0.008513393922861212\n",
      "Iteration: 450 Error: 0.006912940110417765\n",
      "Iteration: 475 Error: 0.005613359537157692\n",
      "Iteration: 500 Error: 0.004558090304549012\n",
      "Iteration: 525 Error: 0.003701203724247648\n",
      "Iteration: 550 Error: 0.0030054053546848536\n",
      "Iteration: 575 Error: 0.00244041182784116\n",
      "Iteration: 600 Error: 0.001981632820424295\n",
      "Iteration: 625 Error: 0.001609100804280672\n",
      "Iteration: 650 Error: 0.001306601995928247\n",
      "Iteration: 675 Error: 0.0010609706807684915\n",
      "Iteration: 25 Error: 0.25768104607171516\n",
      "Iteration: 50 Error: 0.20584450229888773\n",
      "Iteration: 75 Error: 0.16487771969830334\n",
      "Iteration: 100 Error: 0.13242767674314848\n",
      "Iteration: 125 Error: 0.1066433321905933\n",
      "Iteration: 150 Error: 0.0859843015787547\n",
      "Iteration: 175 Error: 0.06932735441100135\n",
      "Iteration: 200 Error: 0.05596437469322879\n",
      "Iteration: 225 Error: 0.04532167260346398\n",
      "Iteration: 250 Error: 0.03674585090944049\n",
      "Iteration: 275 Error: 0.02979275656643665\n",
      "Iteration: 300 Error: 0.02416133241897711\n",
      "Iteration: 325 Error: 0.019619184254764832\n",
      "Iteration: 350 Error: 0.015930925668143914\n",
      "Iteration: 375 Error: 0.012936031862913921\n",
      "Iteration: 400 Error: 0.010504155492533584\n",
      "Iteration: 425 Error: 0.008529453528005604\n",
      "Iteration: 450 Error: 0.006925980630995809\n",
      "Iteration: 475 Error: 0.00562394853825765\n",
      "Iteration: 500 Error: 0.004566688653362405\n",
      "Iteration: 525 Error: 0.003708185648370943\n",
      "Iteration: 550 Error: 0.003011074729762697\n",
      "Iteration: 575 Error: 0.0024450154031967486\n",
      "Iteration: 600 Error: 0.0019853709583514956\n",
      "Iteration: 625 Error: 0.0016121362004852813\n",
      "Iteration: 650 Error: 0.0013090667605482054\n",
      "Iteration: 675 Error: 0.0010629720882420202\n",
      "Iteration: 25 Error: 0.2579984900247254\n",
      "Iteration: 50 Error: 0.20608849268198703\n",
      "Iteration: 75 Error: 0.16507333437905558\n",
      "Iteration: 100 Error: 0.13257523651547487\n",
      "Iteration: 125 Error: 0.10676248809905431\n",
      "Iteration: 150 Error: 0.08608037447215011\n",
      "Iteration: 175 Error: 0.06940481598720893\n",
      "Iteration: 200 Error: 0.05602724501171963\n",
      "Iteration: 225 Error: 0.04536344156700167\n",
      "Iteration: 250 Error: 0.036779716299186305\n",
      "Iteration: 275 Error: 0.029820213906191384\n",
      "Iteration: 300 Error: 0.02418398753897577\n",
      "Iteration: 325 Error: 0.019637580383005115\n",
      "Iteration: 350 Error: 0.015945863463109333\n",
      "Iteration: 375 Error: 0.012948161465146768\n",
      "Iteration: 400 Error: 0.01051400482109699\n",
      "Iteration: 425 Error: 0.008537451257112139\n",
      "Iteration: 450 Error: 0.006932474847381798\n",
      "Iteration: 475 Error: 0.005629221890970371\n",
      "Iteration: 500 Error: 0.0045709706555641105\n",
      "Iteration: 525 Error: 0.0037116626664754904\n",
      "Iteration: 550 Error: 0.003013898094700096\n",
      "Iteration: 575 Error: 0.0024473079968316824\n",
      "Iteration: 600 Error: 0.001987232561681651\n",
      "Iteration: 625 Error: 0.0016136478364359164\n",
      "Iteration: 650 Error: 0.0013102942203389034\n",
      "Iteration: 675 Error: 0.0010639687948668097\n",
      "Iteration: 25 Error: 0.2578397680482185\n",
      "Iteration: 50 Error: 0.20596650512420034\n",
      "Iteration: 75 Error: 0.16497553312080981\n",
      "Iteration: 100 Error: 0.13250147917929667\n",
      "Iteration: 125 Error: 0.10670292819008154\n",
      "Iteration: 150 Error: 0.08603235257497488\n",
      "Iteration: 175 Error: 0.06936609693008222\n",
      "Iteration: 200 Error: 0.05599581925717345\n",
      "Iteration: 225 Error: 0.04534257862653135\n",
      "Iteration: 250 Error: 0.03676280106954266\n",
      "Iteration: 275 Error: 0.02980649939674862\n",
      "Iteration: 300 Error: 0.02417267138021373\n",
      "Iteration: 325 Error: 0.01962839157677365\n",
      "Iteration: 350 Error: 0.01593840208309416\n",
      "Iteration: 375 Error: 0.012942102768278119\n",
      "Iteration: 400 Error: 0.010509085113504568\n",
      "Iteration: 425 Error: 0.008533456417438856\n",
      "Iteration: 450 Error: 0.0069292310074189345\n",
      "Iteration: 475 Error: 0.005626587868441391\n",
      "Iteration: 500 Error: 0.004568831809386609\n",
      "Iteration: 525 Error: 0.0037099259072448376\n",
      "Iteration: 550 Error: 0.0030124878330894944\n",
      "Iteration: 575 Error: 0.002446162853765088\n",
      "Iteration: 600 Error: 0.001986302696870723\n",
      "Iteration: 625 Error: 0.0016128927791996261\n",
      "Iteration: 650 Error: 0.0013096811081680926\n",
      "Iteration: 675 Error: 0.0010634709431514011\n",
      "Iteration: 25 Error: 0.25776040705996817\n",
      "Iteration: 50 Error: 0.20590550371154137\n",
      "Iteration: 75 Error: 0.16492662640956013\n",
      "Iteration: 100 Error: 0.13246457796122613\n",
      "Iteration: 125 Error: 0.10667313019033386\n",
      "Iteration: 150 Error: 0.08600832707686124\n",
      "Iteration: 175 Error: 0.06934672567054179\n",
      "Iteration: 200 Error: 0.055980096975204674\n",
      "Iteration: 225 Error: 0.04533212561500122\n",
      "Iteration: 250 Error: 0.036754325989491576\n",
      "Iteration: 275 Error: 0.029799627981589083\n",
      "Iteration: 300 Error: 0.024167001899598972\n",
      "Iteration: 325 Error: 0.019623787915776347\n",
      "Iteration: 350 Error: 0.015934663875626143\n",
      "Iteration: 375 Error: 0.012939067315592467\n",
      "Iteration: 400 Error: 0.010506620303011971\n",
      "Iteration: 425 Error: 0.008531454972711572\n",
      "Iteration: 450 Error: 0.006927605819207372\n",
      "Iteration: 475 Error: 0.005625268203353073\n",
      "Iteration: 500 Error: 0.004567760231381612\n",
      "Iteration: 525 Error: 0.0037090557778185484\n",
      "Iteration: 550 Error: 0.003011781281422543\n",
      "Iteration: 575 Error: 0.002445589128484471\n",
      "Iteration: 600 Error: 0.0019858368276075566\n",
      "Iteration: 625 Error: 0.0016125144898353483\n",
      "Iteration: 650 Error: 0.0013093739343545963\n",
      "Iteration: 675 Error: 0.001063221515693158\n",
      "Iteration: 25 Error: 0.25780008755409334\n",
      "Iteration: 50 Error: 0.20593600441787352\n",
      "Iteration: 75 Error: 0.16495107976518142\n",
      "Iteration: 100 Error: 0.13248302857026673\n",
      "Iteration: 125 Error: 0.10668802919020948\n",
      "Iteration: 150 Error: 0.08602033982592161\n",
      "Iteration: 175 Error: 0.06935641130031556\n",
      "Iteration: 200 Error: 0.05598795811619084\n",
      "Iteration: 225 Error: 0.045337352120760954\n",
      "Iteration: 250 Error: 0.03675856352951712\n",
      "Iteration: 275 Error: 0.0298030636891653\n",
      "Iteration: 300 Error: 0.024169836639899245\n",
      "Iteration: 325 Error: 0.019626089746267894\n",
      "Iteration: 350 Error: 0.015936532979374363\n",
      "Iteration: 375 Error: 0.012940585041938846\n",
      "Iteration: 400 Error: 0.010507852708265375\n",
      "Iteration: 425 Error: 0.008532455695068109\n",
      "Iteration: 450 Error: 0.0069284184133096005\n",
      "Iteration: 475 Error: 0.005625928035897232\n",
      "Iteration: 500 Error: 0.004568296020387663\n",
      "Iteration: 525 Error: 0.0037094908425245876\n",
      "Iteration: 550 Error: 0.003012134557252466\n",
      "Iteration: 575 Error: 0.002445875991121227\n",
      "Iteration: 600 Error: 0.0019860697622320345\n",
      "Iteration: 625 Error: 0.00161270363452104\n",
      "Iteration: 650 Error: 0.0013095275212577917\n",
      "Iteration: 675 Error: 0.0010633462294222795\n",
      "Iteration: 25 Error: 0.2577802473070312\n",
      "Iteration: 50 Error: 0.20592075406470656\n",
      "Iteration: 75 Error: 0.16493885308737077\n",
      "Iteration: 100 Error: 0.13247380326574287\n",
      "Iteration: 125 Error: 0.1066805796902699\n",
      "Iteration: 150 Error: 0.08601433345139498\n",
      "Iteration: 175 Error: 0.069351568485434\n",
      "Iteration: 200 Error: 0.05598402754570131\n",
      "Iteration: 225 Error: 0.04533473886788286\n",
      "Iteration: 250 Error: 0.03675644475950435\n",
      "Iteration: 275 Error: 0.029801345835380744\n",
      "Iteration: 300 Error: 0.02416841926974911\n",
      "Iteration: 325 Error: 0.019624938831015015\n",
      "Iteration: 350 Error: 0.015935598427489595\n",
      "Iteration: 375 Error: 0.012939826178758551\n",
      "Iteration: 400 Error: 0.010507236505638673\n",
      "Iteration: 425 Error: 0.008531955333907604\n",
      "Iteration: 450 Error: 0.006928012116262039\n",
      "Iteration: 475 Error: 0.0056255981196216\n",
      "Iteration: 500 Error: 0.004568028125881085\n",
      "Iteration: 525 Error: 0.0037092733101786735\n",
      "Iteration: 550 Error: 0.0030119579193410573\n",
      "Iteration: 575 Error: 0.0024457325597992963\n",
      "Iteration: 600 Error: 0.0019859532949197956\n",
      "Iteration: 625 Error: 0.001612609062178194\n",
      "Iteration: 650 Error: 0.0013094507278097467\n",
      "Iteration: 675 Error: 0.0010632838725612714\n",
      "Iteration: 25 Error: 0.2577703271834979\n",
      "Iteration: 50 Error: 0.20591312888812574\n",
      "Iteration: 75 Error: 0.1649327397484619\n",
      "Iteration: 100 Error: 0.1324691906134845\n",
      "Iteration: 125 Error: 0.1066768549403001\n",
      "Iteration: 150 Error: 0.0860113302641281\n",
      "Iteration: 175 Error: 0.06934914707798967\n",
      "Iteration: 200 Error: 0.05598206226045477\n",
      "Iteration: 225 Error: 0.04533343224143849\n",
      "Iteration: 250 Error: 0.03675538537449796\n",
      "Iteration: 275 Error: 0.029800486908484913\n",
      "Iteration: 300 Error: 0.024167710584670488\n",
      "Iteration: 325 Error: 0.019624363373388576\n",
      "Iteration: 350 Error: 0.01593513115155787\n",
      "Iteration: 375 Error: 0.012939446747168404\n",
      "Iteration: 400 Error: 0.010506928404332427\n",
      "Iteration: 425 Error: 0.008531705153295377\n",
      "Iteration: 450 Error: 0.006927808967731153\n",
      "Iteration: 475 Error: 0.005625433161490889\n",
      "Iteration: 500 Error: 0.004567894178627796\n",
      "Iteration: 525 Error: 0.0037091645439915055\n",
      "Iteration: 550 Error: 0.0030118696003924583\n",
      "Iteration: 575 Error: 0.0024456608441454364\n",
      "Iteration: 600 Error: 0.0019858950612601234\n",
      "Iteration: 625 Error: 0.0016125617760067712\n",
      "Iteration: 650 Error: 0.0013094123310821715\n",
      "Iteration: 675 Error: 0.001063252694123662\n",
      "Iteration: 25 Error: 0.25777528724526455\n",
      "Iteration: 50 Error: 0.20591694147641526\n",
      "Iteration: 75 Error: 0.1649357964179181\n",
      "Iteration: 100 Error: 0.13247149693961902\n",
      "Iteration: 125 Error: 0.10667871731529388\n",
      "Iteration: 150 Error: 0.08601283185776154\n",
      "Iteration: 175 Error: 0.06935035778170828\n",
      "Iteration: 200 Error: 0.05598304490307271\n",
      "Iteration: 225 Error: 0.045334085554660675\n",
      "Iteration: 250 Error: 0.0367559150669976\n",
      "Iteration: 275 Error: 0.02980091637193283\n",
      "Iteration: 300 Error: 0.024168064927209798\n",
      "Iteration: 325 Error: 0.019624651102205348\n",
      "Iteration: 350 Error: 0.015935364789527284\n",
      "Iteration: 375 Error: 0.012939636462981241\n",
      "Iteration: 400 Error: 0.01050708245498555\n",
      "Iteration: 425 Error: 0.008531830243590832\n",
      "Iteration: 450 Error: 0.006927910542010807\n",
      "Iteration: 475 Error: 0.005625515640552692\n",
      "Iteration: 500 Error: 0.004567961152247335\n",
      "Iteration: 525 Error: 0.003709218927092195\n",
      "Iteration: 550 Error: 0.0030119137598560997\n",
      "Iteration: 575 Error: 0.0024456967019688136\n",
      "Iteration: 600 Error: 0.001985924178093512\n",
      "Iteration: 625 Error: 0.0016125854190960354\n",
      "Iteration: 650 Error: 0.0013094315294424064\n",
      "Iteration: 675 Error: 0.0010632682833460194\n",
      "Iteration: 25 Error: 0.2577728072143799\n",
      "Iteration: 50 Error: 0.20591503518227228\n",
      "Iteration: 75 Error: 0.16493426808319\n",
      "Iteration: 100 Error: 0.13247034377655353\n",
      "Iteration: 125 Error: 0.10667778612779699\n",
      "Iteration: 150 Error: 0.08601208106094305\n",
      "Iteration: 175 Error: 0.06934975242985075\n",
      "Iteration: 200 Error: 0.05598255358176729\n",
      "Iteration: 225 Error: 0.04533375889804958\n",
      "Iteration: 250 Error: 0.03675565022075489\n",
      "Iteration: 275 Error: 0.029800701640205318\n",
      "Iteration: 300 Error: 0.024167887755943696\n",
      "Iteration: 325 Error: 0.019624507237800515\n",
      "Iteration: 350 Error: 0.015935247970539024\n",
      "Iteration: 375 Error: 0.01293954160507127\n",
      "Iteration: 400 Error: 0.010507005429658989\n",
      "Iteration: 425 Error: 0.00853176769845021\n",
      "Iteration: 450 Error: 0.006927859754860322\n",
      "Iteration: 475 Error: 0.005625474401028896\n",
      "Iteration: 500 Error: 0.004567927665448224\n",
      "Iteration: 525 Error: 0.003709191735531192\n",
      "Iteration: 550 Error: 0.003011891680124279\n",
      "Iteration: 575 Error: 0.002445678773057125\n",
      "Iteration: 600 Error: 0.001985909619683923\n",
      "Iteration: 625 Error: 0.0016125735975478506\n",
      "Iteration: 650 Error: 0.0013094219302658416\n",
      "Iteration: 675 Error: 0.0010632604887419461\n",
      "Iteration: 25 Error: 0.257771567198942\n",
      "Iteration: 50 Error: 0.20591408203519634\n",
      "Iteration: 75 Error: 0.16493350391582595\n",
      "Iteration: 100 Error: 0.13246976719502257\n",
      "Iteration: 125 Error: 0.10667732053405743\n",
      "Iteration: 150 Error: 0.08601170566253913\n",
      "Iteration: 175 Error: 0.06934944975391488\n",
      "Iteration: 200 Error: 0.0559823079211057\n",
      "Iteration: 225 Error: 0.04533359556975114\n",
      "Iteration: 250 Error: 0.03675551779762998\n",
      "Iteration: 275 Error: 0.029800594274341563\n",
      "Iteration: 300 Error: 0.02416779917030709\n",
      "Iteration: 325 Error: 0.019624435305594545\n",
      "Iteration: 350 Error: 0.01593518956105555\n",
      "Iteration: 375 Error: 0.012939494176130495\n",
      "Iteration: 400 Error: 0.01050696691699926\n",
      "Iteration: 425 Error: 0.008531736425879899\n",
      "Iteration: 450 Error: 0.006927834361306395\n",
      "Iteration: 475 Error: 0.005625453781263445\n",
      "Iteration: 500 Error: 0.004567910922034457\n",
      "Iteration: 525 Error: 0.0037091781397649015\n",
      "Iteration: 550 Error: 0.0030118806402512632\n",
      "Iteration: 575 Error: 0.0024456698085941753\n",
      "Iteration: 600 Error: 0.0019859023404720233\n",
      "Iteration: 625 Error: 0.0016125676867844163\n",
      "Iteration: 650 Error: 0.0013094171306775593\n",
      "Iteration: 675 Error: 0.0010632565914292513\n",
      "Iteration: 25 Error: 0.2577709471912186\n",
      "Iteration: 50 Error: 0.2059136054616637\n",
      "Iteration: 75 Error: 0.1649331218321457\n",
      "Iteration: 100 Error: 0.1324694789042553\n",
      "Iteration: 125 Error: 0.10667708773717877\n",
      "Iteration: 150 Error: 0.0860115179633354\n",
      "Iteration: 175 Error: 0.06934929841594695\n",
      "Iteration: 200 Error: 0.05598218509077668\n",
      "Iteration: 225 Error: 0.04533351390559659\n",
      "Iteration: 250 Error: 0.03675545158606042\n",
      "Iteration: 275 Error: 0.02980054059141679\n",
      "Iteration: 300 Error: 0.024167754877495895\n",
      "Iteration: 325 Error: 0.019624399339498666\n",
      "Iteration: 350 Error: 0.015935160356299605\n",
      "Iteration: 375 Error: 0.012939470461653002\n",
      "Iteration: 400 Error: 0.010506947660665844\n",
      "Iteration: 425 Error: 0.00853172078959119\n",
      "Iteration: 450 Error: 0.006927821664511669\n",
      "Iteration: 475 Error: 0.005625443471366509\n",
      "Iteration: 500 Error: 0.004567902550341785\n",
      "Iteration: 525 Error: 0.0037091713418675454\n",
      "Iteration: 550 Error: 0.0030118751203147553\n",
      "Iteration: 575 Error: 0.002445665326369806\n",
      "Iteration: 600 Error: 0.001985898700858968\n",
      "Iteration: 625 Error: 0.0016125647313955938\n",
      "Iteration: 650 Error: 0.0013094147308692072\n",
      "Iteration: 675 Error: 0.0010632546427871148\n",
      "Iteration: 25 Error: 0.25777125719507854\n",
      "Iteration: 50 Error: 0.20591384374843535\n",
      "Iteration: 75 Error: 0.16493331287398405\n",
      "Iteration: 100 Error: 0.1324696230496336\n",
      "Iteration: 125 Error: 0.10667720413561455\n",
      "Iteration: 150 Error: 0.08601161181293548\n",
      "Iteration: 175 Error: 0.06934937408493269\n",
      "Iteration: 200 Error: 0.05598224650593764\n",
      "Iteration: 225 Error: 0.045333554737673865\n",
      "Iteration: 250 Error: 0.03675548469183809\n",
      "Iteration: 275 Error: 0.029800567432886282\n",
      "Iteration: 300 Error: 0.02416777702389794\n",
      "Iteration: 325 Error: 0.01962441732255371\n",
      "Iteration: 350 Error: 0.015935174958677578\n",
      "Iteration: 375 Error: 0.012939482318891748\n",
      "Iteration: 400 Error: 0.010506957288825447\n",
      "Iteration: 425 Error: 0.008531728607735545\n",
      "Iteration: 450 Error: 0.006927828012912585\n",
      "Iteration: 475 Error: 0.00562544862631853\n",
      "Iteration: 500 Error: 0.004567906736184568\n",
      "Iteration: 525 Error: 0.003709174740819776\n",
      "Iteration: 550 Error: 0.0030118778802901147\n",
      "Iteration: 575 Error: 0.0024456675674855433\n",
      "Iteration: 600 Error: 0.0019859005206654956\n",
      "Iteration: 625 Error: 0.0016125662090971105\n",
      "Iteration: 650 Error: 0.0013094159307698305\n",
      "Iteration: 675 Error: 0.001063255617097525\n",
      "Iteration: 25 Error: 0.25777141219700983\n",
      "Iteration: 50 Error: 0.20591396289181496\n",
      "Iteration: 75 Error: 0.164933408394905\n",
      "Iteration: 100 Error: 0.1324696951223281\n",
      "Iteration: 125 Error: 0.10667726233483066\n",
      "Iteration: 150 Error: 0.08601165873773553\n",
      "Iteration: 175 Error: 0.06934941191942556\n",
      "Iteration: 200 Error: 0.05598227721351279\n",
      "Iteration: 225 Error: 0.04533357515370895\n",
      "Iteration: 250 Error: 0.036755501244734035\n",
      "Iteration: 275 Error: 0.02980058085361037\n",
      "Iteration: 300 Error: 0.024167788097102516\n",
      "Iteration: 325 Error: 0.019624426314067023\n",
      "Iteration: 350 Error: 0.015935182259866565\n",
      "Iteration: 375 Error: 0.01293948824749691\n",
      "Iteration: 400 Error: 0.010506962102908801\n",
      "Iteration: 425 Error: 0.008531732516807722\n",
      "Iteration: 450 Error: 0.006927831187105937\n",
      "Iteration: 475 Error: 0.005625451203776777\n",
      "Iteration: 500 Error: 0.004567908829109513\n",
      "Iteration: 525 Error: 0.0037091764402958916\n",
      "Iteration: 550 Error: 0.003011879260270689\n",
      "Iteration: 575 Error: 0.0024456686880398593\n",
      "Iteration: 600 Error: 0.0019859014305794176\n",
      "Iteration: 625 Error: 0.0016125669479407634\n",
      "Iteration: 650 Error: 0.001309416530723695\n",
      "Iteration: 675 Error: 0.0010632561042669408\n",
      "Iteration: 25 Error: 0.2577713346960451\n",
      "Iteration: 50 Error: 0.2059139033201216\n",
      "Iteration: 75 Error: 0.1649333606344463\n",
      "Iteration: 100 Error: 0.1324696590859844\n",
      "Iteration: 125 Error: 0.10667723323522438\n",
      "Iteration: 150 Error: 0.08601163527533373\n",
      "Iteration: 175 Error: 0.06934939300217735\n",
      "Iteration: 200 Error: 0.05598226185973232\n",
      "Iteration: 225 Error: 0.04533356494568963\n",
      "Iteration: 250 Error: 0.03675549296828251\n",
      "Iteration: 275 Error: 0.029800574143244773\n",
      "Iteration: 300 Error: 0.02416778256050378\n",
      "Iteration: 325 Error: 0.019624421818321025\n",
      "Iteration: 350 Error: 0.01593517860926852\n",
      "Iteration: 375 Error: 0.012939485283190777\n",
      "Iteration: 400 Error: 0.010506959695881335\n",
      "Iteration: 425 Error: 0.008531730562260975\n",
      "Iteration: 450 Error: 0.006927829600016366\n",
      "Iteration: 475 Error: 0.005625449915051206\n",
      "Iteration: 500 Error: 0.004567907782650593\n",
      "Iteration: 525 Error: 0.0037091755905507284\n",
      "Iteration: 550 Error: 0.003011878570276849\n",
      "Iteration: 575 Error: 0.0024456681277627013\n",
      "Iteration: 600 Error: 0.001985900975618904\n",
      "Iteration: 625 Error: 0.0016125665785082788\n",
      "Iteration: 650 Error: 0.0013094162307538681\n",
      "Iteration: 675 Error: 0.001063255860692891\n",
      "Iteration: 25 Error: 0.257771373446527\n",
      "Iteration: 50 Error: 0.20591393310596828\n",
      "Iteration: 75 Error: 0.1649333845146792\n",
      "Iteration: 100 Error: 0.13246967710415092\n",
      "Iteration: 125 Error: 0.10667724778502574\n",
      "Iteration: 150 Error: 0.0860116470065364\n",
      "Iteration: 175 Error: 0.06934940246080146\n",
      "Iteration: 200 Error: 0.05598226953663499\n",
      "Iteration: 225 Error: 0.04533357004969574\n",
      "Iteration: 250 Error: 0.03675549710650472\n",
      "Iteration: 275 Error: 0.029800577498427572\n",
      "Iteration: 300 Error: 0.024167785328799596\n",
      "Iteration: 325 Error: 0.019624424066179813\n",
      "Iteration: 350 Error: 0.015935180434560436\n",
      "Iteration: 375 Error: 0.012939486765347397\n",
      "Iteration: 400 Error: 0.010506960899391515\n",
      "Iteration: 425 Error: 0.008531731539541454\n",
      "Iteration: 450 Error: 0.006927830393557599\n",
      "Iteration: 475 Error: 0.005625450559413991\n",
      "Iteration: 500 Error: 0.0045679083058729475\n",
      "Iteration: 525 Error: 0.003709176015412652\n",
      "Iteration: 550 Error: 0.0030118789152666636\n",
      "Iteration: 575 Error: 0.0024456684079083857\n",
      "Iteration: 600 Error: 0.0019859012030920553\n",
      "Iteration: 625 Error: 0.0016125667632351792\n",
      "Iteration: 650 Error: 0.0013094163807352288\n",
      "Iteration: 675 Error: 0.0010632559824728105\n",
      "Iteration: 25 Error: 0.25777135407128515\n",
      "Iteration: 50 Error: 0.2059139182130476\n",
      "Iteration: 75 Error: 0.1649333725745592\n",
      "Iteration: 100 Error: 0.13246966809506944\n",
      "Iteration: 125 Error: 0.10667724051012684\n",
      "Iteration: 150 Error: 0.08601164114093152\n",
      "Iteration: 175 Error: 0.06934939773148585\n",
      "Iteration: 200 Error: 0.0559822656981801\n",
      "Iteration: 225 Error: 0.045333567497692684\n",
      "Iteration: 250 Error: 0.03675549503739717\n",
      "Iteration: 275 Error: 0.029800575820836173\n",
      "Iteration: 300 Error: 0.024167783944648136\n",
      "Iteration: 325 Error: 0.019624422942243314\n",
      "Iteration: 350 Error: 0.015935179521910925\n",
      "Iteration: 375 Error: 0.01293948602428685\n",
      "Iteration: 400 Error: 0.010506960297632872\n",
      "Iteration: 425 Error: 0.008531731050915425\n",
      "Iteration: 450 Error: 0.00692782999678343\n",
      "Iteration: 475 Error: 0.005625450237232599\n",
      "Iteration: 500 Error: 0.004567908044265323\n",
      "Iteration: 525 Error: 0.0037091758029887956\n",
      "Iteration: 550 Error: 0.003011878742775309\n",
      "Iteration: 575 Error: 0.002445668267839096\n",
      "Iteration: 600 Error: 0.001985901089362585\n",
      "Iteration: 625 Error: 0.0016125666708646236\n",
      "Iteration: 650 Error: 0.0013094163057445485\n",
      "Iteration: 675 Error: 0.001063255921579298\n",
      "Iteration: 25 Error: 0.25777134438366556\n",
      "Iteration: 50 Error: 0.2059139107665846\n",
      "Iteration: 75 Error: 0.16493336660450097\n",
      "Iteration: 100 Error: 0.13246966359052692\n",
      "Iteration: 125 Error: 0.10667723687267738\n",
      "Iteration: 150 Error: 0.0860116382081344\n",
      "Iteration: 175 Error: 0.0693493953668316\n",
      "Iteration: 200 Error: 0.05598226377895443\n",
      "Iteration: 225 Error: 0.045333566221696486\n",
      "Iteration: 250 Error: 0.036755494002846945\n",
      "Iteration: 275 Error: 0.02980057498204758\n",
      "Iteration: 300 Error: 0.02416778325257951\n",
      "Iteration: 325 Error: 0.01962442238028217\n",
      "Iteration: 350 Error: 0.015935179065593275\n",
      "Iteration: 375 Error: 0.012939485653738814\n",
      "Iteration: 400 Error: 0.010506959996746446\n",
      "Iteration: 425 Error: 0.008531730806595306\n",
      "Iteration: 450 Error: 0.006927829798392793\n",
      "Iteration: 475 Error: 0.005625450076145455\n",
      "Iteration: 500 Error: 0.0045679079134473\n",
      "Iteration: 525 Error: 0.0037091756967768674\n",
      "Iteration: 550 Error: 0.003011878656529632\n",
      "Iteration: 575 Error: 0.0024456681978008987\n",
      "Iteration: 600 Error: 0.001985901032483639\n",
      "Iteration: 625 Error: 0.0016125666246864512\n",
      "Iteration: 650 Error: 0.0013094162682492083\n",
      "Iteration: 675 Error: 0.0010632558911467527\n"
     ]
    },
    {
     "data": {
      "text/plain": [
       "\"---- Bellman has been solved... ----\""
      ]
     },
     "metadata": {},
     "output_type": "display_data"
    },
    {
     "data": {
      "text/plain": [
       "\"----- Iterating... -----\""
      ]
     },
     "metadata": {},
     "output_type": "display_data"
    },
    {
     "data": {
      "text/plain": [
       "\"---- Bellman has been solved... ----\""
      ]
     },
     "metadata": {},
     "output_type": "display_data"
    },
    {
     "data": {
      "text/plain": [
       "\"----- Iterating... -----\""
      ]
     },
     "metadata": {},
     "output_type": "display_data"
    },
    {
     "data": {
      "text/plain": [
       "\"---- Bellman has been solved... ----\""
      ]
     },
     "metadata": {},
     "output_type": "display_data"
    },
    {
     "data": {
      "text/plain": [
       "\"----- Iterating... -----\""
      ]
     },
     "metadata": {},
     "output_type": "display_data"
    },
    {
     "data": {
      "text/plain": [
       "\"---- Bellman has been solved... ----\""
      ]
     },
     "metadata": {},
     "output_type": "display_data"
    },
    {
     "data": {
      "text/plain": [
       "\"----- Iterating... -----\""
      ]
     },
     "metadata": {},
     "output_type": "display_data"
    },
    {
     "data": {
      "text/plain": [
       "\"---- Bellman has been solved... ----\""
      ]
     },
     "metadata": {},
     "output_type": "display_data"
    },
    {
     "data": {
      "text/plain": [
       "\"----- Iterating... -----\""
      ]
     },
     "metadata": {},
     "output_type": "display_data"
    },
    {
     "data": {
      "text/plain": [
       "\"---- Bellman has been solved... ----\""
      ]
     },
     "metadata": {},
     "output_type": "display_data"
    },
    {
     "data": {
      "text/plain": [
       "\"----- Iterating... -----\""
      ]
     },
     "metadata": {},
     "output_type": "display_data"
    },
    {
     "data": {
      "text/plain": [
       "\"---- Bellman has been solved... ----\""
      ]
     },
     "metadata": {},
     "output_type": "display_data"
    },
    {
     "data": {
      "text/plain": [
       "\"----- Iterating... -----\""
      ]
     },
     "metadata": {},
     "output_type": "display_data"
    },
    {
     "data": {
      "text/plain": [
       "\"---- Bellman has been solved... ----\""
      ]
     },
     "metadata": {},
     "output_type": "display_data"
    },
    {
     "data": {
      "text/plain": [
       "\"----- Iterating... -----\""
      ]
     },
     "metadata": {},
     "output_type": "display_data"
    },
    {
     "data": {
      "text/plain": [
       "\"---- Bellman has been solved... ----\""
      ]
     },
     "metadata": {},
     "output_type": "display_data"
    },
    {
     "data": {
      "text/plain": [
       "\"----- Iterating... -----\""
      ]
     },
     "metadata": {},
     "output_type": "display_data"
    },
    {
     "data": {
      "text/plain": [
       "\"---- Bellman has been solved... ----\""
      ]
     },
     "metadata": {},
     "output_type": "display_data"
    },
    {
     "data": {
      "text/plain": [
       "\"----- Iterating... -----\""
      ]
     },
     "metadata": {},
     "output_type": "display_data"
    },
    {
     "data": {
      "text/plain": [
       "\"---- Bellman has been solved... ----\""
      ]
     },
     "metadata": {},
     "output_type": "display_data"
    },
    {
     "data": {
      "text/plain": [
       "\"----- Iterating... -----\""
      ]
     },
     "metadata": {},
     "output_type": "display_data"
    },
    {
     "data": {
      "text/plain": [
       "\"---- Bellman has been solved... ----\""
      ]
     },
     "metadata": {},
     "output_type": "display_data"
    },
    {
     "data": {
      "text/plain": [
       "\"----- Iterating... -----\""
      ]
     },
     "metadata": {},
     "output_type": "display_data"
    },
    {
     "data": {
      "text/plain": [
       "\"---- Bellman has been solved... ----\""
      ]
     },
     "metadata": {},
     "output_type": "display_data"
    },
    {
     "data": {
      "text/plain": [
       "\"----- Iterating... -----\""
      ]
     },
     "metadata": {},
     "output_type": "display_data"
    },
    {
     "data": {
      "text/plain": [
       "\"---- Bellman has been solved... ----\""
      ]
     },
     "metadata": {},
     "output_type": "display_data"
    },
    {
     "data": {
      "text/plain": [
       "\"----- Iterating... -----\""
      ]
     },
     "metadata": {},
     "output_type": "display_data"
    },
    {
     "data": {
      "text/plain": [
       "\"---- Bellman has been solved... ----\""
      ]
     },
     "metadata": {},
     "output_type": "display_data"
    },
    {
     "data": {
      "text/plain": [
       "\"----- Iterating... -----\""
      ]
     },
     "metadata": {},
     "output_type": "display_data"
    },
    {
     "data": {
      "text/plain": [
       "\"---- Bellman has been solved... ----\""
      ]
     },
     "metadata": {},
     "output_type": "display_data"
    },
    {
     "data": {
      "text/plain": [
       "\"----- Iterating... -----\""
      ]
     },
     "metadata": {},
     "output_type": "display_data"
    },
    {
     "data": {
      "text/plain": [
       "\"---- Bellman has been solved... ----\""
      ]
     },
     "metadata": {},
     "output_type": "display_data"
    },
    {
     "data": {
      "text/plain": [
       "\"----- Iterating... -----\""
      ]
     },
     "metadata": {},
     "output_type": "display_data"
    },
    {
     "data": {
      "text/plain": [
       "\"---- Bellman has been solved... ----\""
      ]
     },
     "metadata": {},
     "output_type": "display_data"
    },
    {
     "data": {
      "text/plain": [
       "\"----- Iterating... -----\""
      ]
     },
     "metadata": {},
     "output_type": "display_data"
    },
    {
     "data": {
      "text/plain": [
       "\"---- Bellman has been solved... ----\""
      ]
     },
     "metadata": {},
     "output_type": "display_data"
    },
    {
     "data": {
      "text/plain": [
       "\"----- Iterating... -----\""
      ]
     },
     "metadata": {},
     "output_type": "display_data"
    },
    {
     "data": {
      "text/plain": [
       "\"---- Bellman has been solved... ----\""
      ]
     },
     "metadata": {},
     "output_type": "display_data"
    },
    {
     "data": {
      "text/plain": [
       "\"----- Iterating... -----\""
      ]
     },
     "metadata": {},
     "output_type": "display_data"
    },
    {
     "data": {
      "text/plain": [
       "\"---- Bellman has been solved... ----\""
      ]
     },
     "metadata": {},
     "output_type": "display_data"
    },
    {
     "data": {
      "text/plain": [
       "\"----- Iterating... -----\""
      ]
     },
     "metadata": {},
     "output_type": "display_data"
    },
    {
     "data": {
      "text/plain": [
       "\"---- Bellman has been solved... ----\""
      ]
     },
     "metadata": {},
     "output_type": "display_data"
    },
    {
     "data": {
      "text/plain": [
       "\"----- Iterating... -----\""
      ]
     },
     "metadata": {},
     "output_type": "display_data"
    },
    {
     "data": {
      "text/plain": [
       "\"---- Bellman has been solved... ----\""
      ]
     },
     "metadata": {},
     "output_type": "display_data"
    },
    {
     "data": {
      "text/plain": [
       "\"----- Iterating... -----\""
      ]
     },
     "metadata": {},
     "output_type": "display_data"
    },
    {
     "data": {
      "text/plain": [
       "\"---- Bellman has been solved... ----\""
      ]
     },
     "metadata": {},
     "output_type": "display_data"
    },
    {
     "data": {
      "text/plain": [
       "\"----- Iterating... -----\""
      ]
     },
     "metadata": {},
     "output_type": "display_data"
    },
    {
     "data": {
      "text/plain": [
       "\"---- Bellman has been solved... ----\""
      ]
     },
     "metadata": {},
     "output_type": "display_data"
    },
    {
     "data": {
      "text/plain": [
       "(0.0016753524541854858, 19.9181)"
      ]
     },
     "metadata": {},
     "output_type": "display_data"
    }
   ],
   "source": [
    "tax_rate = find_tax_rate(Draw, Sizes, Bounds, Losses, Params, 1e-3, 1000)"
   ]
  }
 ],
 "metadata": {
  "kernelspec": {
   "display_name": "Julia 1.10.1",
   "language": "julia",
   "name": "julia-1.10"
  },
  "language_info": {
   "file_extension": ".jl",
   "mimetype": "application/julia",
   "name": "julia",
   "version": "1.10.1"
  }
 },
 "nbformat": 4,
 "nbformat_minor": 2
}
