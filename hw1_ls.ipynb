{
 "cells": [
  {
   "cell_type": "code",
   "execution_count": 8,
   "metadata": {},
   "outputs": [],
   "source": [
    "using LinearAlgebra, Plots, Random, Distributions"
   ]
  },
  {
   "cell_type": "code",
   "execution_count": 66,
   "metadata": {},
   "outputs": [
    {
     "data": {
      "text/plain": [
       "2-element Vector{Int64}:\n",
       " 10\n",
       " 30"
      ]
     },
     "metadata": {},
     "output_type": "display_data"
    }
   ],
   "source": [
    "# structural_params = [alpha, beta, lambda, benefits, beta_hat]\n",
    "Params = Vector{Float64}([0.0009, 0.995, 0.009, 0.1, 0.9941045])\n",
    "# grid_sizes = [hc_grid_size, search_grid_size, wage_grid_size]\n",
    "Sizes = Vector{Int64}([201, 41, 41])\n",
    "# grid_bounds = [hc_min, hc_max, search_min, search_max, wage_min, wage_max]\n",
    "Bounds = Vector{Float64}([1.0, 2.0, 0.0, 1.0, 0.0, 1.0])\n",
    "# human_capital_losses = [unemployment_loss, job_loss]\n",
    "Losses = Vector{Int64}([10, 30])"
   ]
  },
  {
   "cell_type": "code",
   "execution_count": 34,
   "metadata": {},
   "outputs": [
    {
     "data": {
      "text/plain": [
       "search_grid (generic function with 2 methods)"
      ]
     },
     "metadata": {},
     "output_type": "display_data"
    }
   ],
   "source": [
    "function search_grid(S,B)\n",
    "\n",
    "    grid = range(B[3], stop=B[4], length=S[2])\n",
    "\n",
    "    return grid\n",
    "\n",
    "end"
   ]
  },
  {
   "cell_type": "code",
   "execution_count": 65,
   "metadata": {},
   "outputs": [
    {
     "data": {
      "text/plain": [
       "wage_grid (generic function with 2 methods)"
      ]
     },
     "metadata": {},
     "output_type": "display_data"
    }
   ],
   "source": [
    "function wage_grid(S,B)\n",
    "\n",
    "    grid = range(B[5], stop=B[6], length=S[3])\n",
    "\n",
    "    lower, upper = 0, 1\n",
    "\n",
    "    dist = Normal(0.5, 0.1)\n",
    "\n",
    "    truncated_dist = Truncated(dist, lower, upper)\n",
    "    # Compute the cumulative distribution function at each point in the wage grid\n",
    "    cdf_values = [cdf(truncated_dist, point) for point in grid]\n",
    "    # Compute the probabilities by taking the differences between consecutive CDF values\n",
    "    probs = diff(cdf_values)\n",
    "\n",
    "    return grid, probs\n",
    "\n",
    "end"
   ]
  },
  {
   "cell_type": "code",
   "execution_count": 36,
   "metadata": {},
   "outputs": [
    {
     "data": {
      "text/plain": [
       "(0.0:0.025:1.0, [7.304320894485256e-7, 2.380591246961792e-6, 7.2908568300754895e-6, 2.098272808764946e-5, 5.6746075900387655e-5, 0.00014421187651184335, 0.0003443961607986427, 0.0007728734323300979, 0.00162986613783184, 0.003229903942435662  …  0.003229903942435719, 0.0016298661378318924, 0.0007728734323300124, 0.00034439616079873225, 0.00014421187651181278, 5.674607590033798e-5, 2.098272808770396e-5, 7.29085683004449e-6, 2.3805912470198365e-6, 7.30432089479649e-7])"
      ]
     },
     "metadata": {},
     "output_type": "display_data"
    }
   ],
   "source": [
    "w_grid, w_probs = wage_grid(Sizes, Bounds)"
   ]
  },
  {
   "cell_type": "code",
   "execution_count": 37,
   "metadata": {},
   "outputs": [
    {
     "data": {
      "text/plain": [
       "human_capital_grid (generic function with 2 methods)"
      ]
     },
     "metadata": {},
     "output_type": "display_data"
    }
   ],
   "source": [
    "function human_capital_grid(S,B)\n",
    "\n",
    "    grid = range(B[1], stop=B[2], length=S[1])\n",
    "\n",
    "    return grid\n",
    "\n",
    "end"
   ]
  },
  {
   "cell_type": "code",
   "execution_count": 38,
   "metadata": {},
   "outputs": [
    {
     "data": {
      "text/plain": [
       "initial_value_functions (generic function with 2 methods)"
      ]
     },
     "metadata": {},
     "output_type": "display_data"
    }
   ],
   "source": [
    "function initial_value_functions(S)\n",
    "\n",
    "    U = zeros(S[1], 1)\n",
    "\n",
    "    W = zeros(S[1], S[2])\n",
    "\n",
    "    return U, W\n",
    "\n",
    "end"
   ]
  },
  {
   "cell_type": "code",
   "execution_count": 39,
   "metadata": {},
   "outputs": [
    {
     "data": {
      "text/plain": [
       "cost_of_search (generic function with 1 method)"
      ]
     },
     "metadata": {},
     "output_type": "display_data"
    }
   ],
   "source": [
    "function cost_of_search(S,B)\n",
    "\n",
    "    grid = search_grid(S,B)\n",
    "\n",
    "    cost = (1/2) .* grid \n",
    "\n",
    "    return cost\n",
    "\n",
    "end"
   ]
  },
  {
   "cell_type": "code",
   "execution_count": 45,
   "metadata": {},
   "outputs": [
    {
     "data": {
      "text/plain": [
       "contact_probability (generic function with 1 method)"
      ]
     },
     "metadata": {},
     "output_type": "display_data"
    }
   ],
   "source": [
    "function contact_probability(S,B)\n",
    "\n",
    "    grid = search_grid(S,B)\n",
    "\n",
    "    contact_probs = grid .^ (0.3)\n",
    "\n",
    "    return contact_probs\n",
    "\n",
    "end"
   ]
  },
  {
   "cell_type": "markdown",
   "metadata": {},
   "source": [
    "Work on Bellman iteration here"
   ]
  },
  {
   "cell_type": "code",
   "execution_count": 94,
   "metadata": {},
   "outputs": [
    {
     "data": {
      "text/plain": [
       "Bellman (generic function with 1 method)"
      ]
     },
     "metadata": {},
     "output_type": "display_data"
    }
   ],
   "source": [
    "function Bellman(B, L, S, P, tolerance, max_iterations, tau)\n",
    "\n",
    "    U_init, W_init = initial_value_functions(S)\n",
    "\n",
    "    U_0, W_0 = similar(U_init), similar(W_init)\n",
    "\n",
    "    store_U_values = zeros(S[2], S[3])\n",
    "\n",
    "    hc_grid = human_capital_grid(S,B)\n",
    "\n",
    "    s_grid = search_grid(S,B)\n",
    "\n",
    "    w_grid, w_probs = wage_grid(S,B)\n",
    "\n",
    "    cost = cost_of_search(S,B)\n",
    "\n",
    "    contact_probs = contact_probability(S,B)\n",
    "\n",
    "    error = tolerance + 1\n",
    "\n",
    "    iter = 1\n",
    "\n",
    "    min_hc, max_hc = B[1], B[2]\n",
    "\n",
    "    b = P[4]\n",
    "\n",
    "    while error > tolerance\n",
    "\n",
    "        for i in 1:S[1]\n",
    "\n",
    "            grid_point = hc_grid[i]\n",
    "\n",
    "            next_grid_point = hc_grid[i+1]\n",
    "\n",
    "            hc_tomorrow_unemp = maximum( min_hc, grid_point - ( L[1] * (next_grid_point - grid_point) ) )\n",
    "\n",
    "            index = findfirst(isequal(hc_tomorrow_unemp), hc_grid)\n",
    "\n",
    "            for j in 1:S[3]\n",
    "\n",
    "                wage_index = findfirst(isequal(w_grid[j]), w_grid)\n",
    "\n",
    "                store_U_values[i,j] = ((1-tau)*b) .- cost .+ (P[5] .* contact_probs) .* [maximum(W_0[index, wage_index], U_0[index])] .+ ((P[5] .* (1 .- contact_probs)) .* U_0[index])\n",
    "\n",
    "            end\n",
    "\n",
    "        end\n",
    "\n",
    "        error = toler - 1.2\n",
    "    \n",
    "    end\n",
    "\n",
    "    return store_U_values\n",
    "\n",
    "end"
   ]
  },
  {
   "cell_type": "code",
   "execution_count": 95,
   "metadata": {},
   "outputs": [
    {
     "ename": "MethodError",
     "evalue": "MethodError: objects of type Float64 are not callable\nMaybe you forgot to use an operator such as *, ^, %, / etc. ?",
     "output_type": "error",
     "traceback": [
      "MethodError: objects of type Float64 are not callable\n",
      "Maybe you forgot to use an operator such as *, ^, %, / etc. ?\n",
      "\n",
      "Stacktrace:\n",
      " [1] mapreduce_first(f::Float64, op::Function, x::Float64)\n",
      "   @ Base .\\reduce.jl:424\n",
      " [2] mapreduce(f::Float64, op::Function, a::Float64)\n",
      "   @ Base .\\reduce.jl:451\n",
      " [3] maximum(f::Float64, a::Float64; kw::@Kwargs{})\n",
      "   @ Base .\\reduce.jl:705\n",
      " [4] Bellman(B::Vector{Float64}, L::Vector{Int64}, S::Vector{Int64}, P::Vector{Float64}, tolerance::Float64, max_iterations::Int64, tau::Float64)\n",
      "   @ Main c:\\Users\\bayle\\Documents\\Github\\macro_labour\\hw1_ls.ipynb:35\n",
      " [5] top-level scope\n",
      "   @ c:\\Users\\bayle\\Documents\\Github\\macro_labour\\hw1_ls.ipynb:1"
     ]
    }
   ],
   "source": [
    "out = Bellman(Bounds, Losses, Sizes, Params, 1e-2, 1000, 0.1)"
   ]
  }
 ],
 "metadata": {
  "kernelspec": {
   "display_name": "Julia 1.10.1",
   "language": "julia",
   "name": "julia-1.10"
  },
  "language_info": {
   "file_extension": ".jl",
   "mimetype": "application/julia",
   "name": "julia",
   "version": "1.10.1"
  }
 },
 "nbformat": 4,
 "nbformat_minor": 2
}
