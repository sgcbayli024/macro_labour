{
 "cells": [
  {
   "cell_type": "code",
   "execution_count": 1,
   "metadata": {},
   "outputs": [],
   "source": [
    "using LinearAlgebra, Plots, Random, Distributions"
   ]
  },
  {
   "cell_type": "code",
   "execution_count": 2,
   "metadata": {},
   "outputs": [
    {
     "data": {
      "text/plain": [
       "3-element Vector{Int64}:\n",
       " 10000\n",
       "   201\n",
       "    10"
      ]
     },
     "metadata": {},
     "output_type": "display_data"
    }
   ],
   "source": [
    "# structural_params = [alpha, beta, lambda, benefits, beta_hat]\n",
    "Params = Vector{Float64}([0.0009, 0.995, 0.009, 0.1, 0.9941045])\n",
    "# grid_sizes = [hc_grid_size, search_grid_size, wage_grid_size]\n",
    "Sizes = Vector{Int64}([201, 41, 41])\n",
    "# grid_bounds = [hc_min, hc_max, search_min, search_max, wage_min, wage_max]\n",
    "Bounds = Vector{Float64}([1.0, 2.0, 0.0, 1.0, 0.0, 1.0])\n",
    "# human_capital_losses = [unemployment_loss, job_loss]\n",
    "Losses = Vector{Int64}([10, 30])\n",
    "# draw_matrices = [number_of_workers, number_of_periods, seed]\n",
    "Draw = Vector{Int64}([10000, 201, 10])"
   ]
  },
  {
   "cell_type": "code",
   "execution_count": 3,
   "metadata": {},
   "outputs": [
    {
     "data": {
      "text/plain": [
       "search_grid (generic function with 1 method)"
      ]
     },
     "metadata": {},
     "output_type": "display_data"
    }
   ],
   "source": [
    "function search_grid(S,B)\n",
    "\n",
    "    grid = range(B[3], stop=B[4], length=S[2])\n",
    "\n",
    "    return grid\n",
    "\n",
    "end"
   ]
  },
  {
   "cell_type": "code",
   "execution_count": 4,
   "metadata": {},
   "outputs": [
    {
     "data": {
      "text/plain": [
       "wage_grid (generic function with 1 method)"
      ]
     },
     "metadata": {},
     "output_type": "display_data"
    }
   ],
   "source": [
    "function wage_grid(S,B)\n",
    "\n",
    "    grid = range(B[5], stop=B[6], length=S[3])\n",
    "\n",
    "    lower, upper = 0, 1\n",
    "\n",
    "    dist = Normal(0.5, sqrt(0.1))\n",
    "\n",
    "    truncated_dist = Truncated(dist, lower, upper)\n",
    "    # Compute the probability density function at each point in the wage grid\n",
    "    pdf_values = [pdf(truncated_dist, point) for point in grid]\n",
    "    # Normalise the probabilities so they sum to 1\n",
    "    probs = pdf_values / sum(pdf_values)\n",
    "\n",
    "    return grid, probs\n",
    "\n",
    "end"
   ]
  },
  {
   "cell_type": "code",
   "execution_count": 5,
   "metadata": {},
   "outputs": [
    {
     "data": {
      "text/plain": [
       "(0.0:0.025:1.0, [0.010096205463672238, 0.011404803845416155, 0.012802745710944611, 0.014282494929326978, 0.015834002055889584, 0.01744467870008861, 0.01909945224920802, 0.020780907501498747, 0.02246951848187184, 0.024143969930210292  …  0.024143969930210292, 0.02246951848187183, 0.02078090750149875, 0.01909945224920802, 0.01744467870008861, 0.015834002055889584, 0.014282494929326974, 0.012802745710944618, 0.011404803845416155, 0.010096205463672238])"
      ]
     },
     "metadata": {},
     "output_type": "display_data"
    }
   ],
   "source": [
    "w_grid, w_probs = wage_grid(Sizes, Bounds)"
   ]
  },
  {
   "cell_type": "code",
   "execution_count": 6,
   "metadata": {},
   "outputs": [
    {
     "data": {
      "text/plain": [
       "human_capital_grid (generic function with 1 method)"
      ]
     },
     "metadata": {},
     "output_type": "display_data"
    }
   ],
   "source": [
    "function human_capital_grid(S,B)\n",
    "\n",
    "    grid = range(B[1], stop=B[2], length=S[1])\n",
    "\n",
    "    return grid\n",
    "\n",
    "end"
   ]
  },
  {
   "cell_type": "code",
   "execution_count": 7,
   "metadata": {},
   "outputs": [
    {
     "data": {
      "text/plain": [
       "initial_value_functions (generic function with 1 method)"
      ]
     },
     "metadata": {},
     "output_type": "display_data"
    }
   ],
   "source": [
    "function initial_value_functions(S)\n",
    "\n",
    "    U = zeros(S[1], 1)\n",
    "\n",
    "    W = zeros(S[1], S[2])\n",
    "\n",
    "    return U, W\n",
    "\n",
    "end"
   ]
  },
  {
   "cell_type": "code",
   "execution_count": 8,
   "metadata": {},
   "outputs": [
    {
     "data": {
      "text/plain": [
       "cost_of_search (generic function with 1 method)"
      ]
     },
     "metadata": {},
     "output_type": "display_data"
    }
   ],
   "source": [
    "function cost_of_search(S,B)\n",
    "\n",
    "    grid = search_grid(S,B)\n",
    "\n",
    "    cost = (1/2) .* grid \n",
    "\n",
    "    return cost\n",
    "\n",
    "end"
   ]
  },
  {
   "cell_type": "code",
   "execution_count": 9,
   "metadata": {},
   "outputs": [
    {
     "data": {
      "text/plain": [
       "contact_probability (generic function with 1 method)"
      ]
     },
     "metadata": {},
     "output_type": "display_data"
    }
   ],
   "source": [
    "function contact_probability(S,B)\n",
    "\n",
    "    grid = search_grid(S,B)\n",
    "\n",
    "    contact_probs = grid .^ (0.3)\n",
    "\n",
    "    return contact_probs\n",
    "\n",
    "end"
   ]
  },
  {
   "cell_type": "markdown",
   "metadata": {},
   "source": [
    "Work on Bellman iteration here"
   ]
  },
  {
   "cell_type": "code",
   "execution_count": 20,
   "metadata": {},
   "outputs": [
    {
     "data": {
      "text/plain": [
       "Bellman (generic function with 1 method)"
      ]
     },
     "metadata": {},
     "output_type": "display_data"
    }
   ],
   "source": [
    "function Bellman(B, L, S, P, tolerance, max_iterations, tau)\n",
    "\n",
    "    U_0, W_0 = initial_value_functions(S)\n",
    "\n",
    "    U_1, W_1 = similar(U_0), similar(W_0)\n",
    "\n",
    "    search_intensity = similar(U_0)\n",
    "\n",
    "    store_U_values = zeros(S[2], S[3])\n",
    "\n",
    "    hc_grid = human_capital_grid(S,B)\n",
    "\n",
    "    s_grid = search_grid(S,B)\n",
    "\n",
    "    w_grid, w_probs = wage_grid(S,B)\n",
    "\n",
    "    cost = cost_of_search(S,B)\n",
    "\n",
    "    contact_probs = contact_probability(S,B)\n",
    "\n",
    "    reservation_wages = Float64[]\n",
    "\n",
    "    error = tolerance + 1\n",
    "\n",
    "    iter = 1\n",
    "\n",
    "    min_hc, max_hc = minimum(hc_grid), maximum(hc_grid)\n",
    "\n",
    "    b = P[4]\n",
    "\n",
    "    unemployment_loss, job_loss = L[1], L[2]\n",
    "\n",
    "    hc_tomorrow_unemp = 0\n",
    "\n",
    "    display(\"----- Iterating... -----\")\n",
    "\n",
    "    while error > tolerance\n",
    "\n",
    "        for i in 1:S[1]\n",
    "\n",
    "            if i <= 11\n",
    "\n",
    "                hc_tomorrow_unemp = min_hc\n",
    "\n",
    "                index = findfirst(isequal(hc_tomorrow_unemp), hc_grid)\n",
    "\n",
    "                for k in 1:S[2]\n",
    "\n",
    "                    for j in 1:S[3]\n",
    "\n",
    "                        wage_index = findfirst(isequal(w_grid[j]), w_grid)\n",
    "\n",
    "                        acceptance_value, rejection_value = W_0[index, wage_index], U_0[index]\n",
    "\n",
    "                        max_value = max(acceptance_value, rejection_value)\n",
    "\n",
    "                        store_U_values[k,j] = ((1-tau)*b) - cost[k] + ((P[5] * contact_probs[k]) * max_value) + ((P[5] * (1 - contact_probs[k])) * rejection_value)\n",
    "\n",
    "                    end\n",
    "\n",
    "                end\n",
    "\n",
    "                max_value, max_index = findmax(store_U_values * w_probs)\n",
    "\n",
    "                U_1[i,1] = max_value\n",
    "\n",
    "                search_intensity[i, 1] = cost[max_index[1]]\n",
    "\n",
    "            else\n",
    "\n",
    "                hc_tomorrow_unemp = hc_grid[i-10]\n",
    "\n",
    "                index = findfirst(isequal(hc_tomorrow_unemp), hc_grid)\n",
    "\n",
    "                for k in 1:S[2]\n",
    "\n",
    "                    for j in 1:S[3]\n",
    "\n",
    "                        wage_index = findfirst(isequal(w_grid[j]), w_grid)\n",
    "\n",
    "                        acceptance_value, rejection_value = W_0[index, wage_index], U_0[index]\n",
    "\n",
    "                        max_value = max(acceptance_value, rejection_value)\n",
    "\n",
    "                        store_U_values[k,j] = ((1-tau)*b) - cost[k] + ((P[5] * contact_probs[k]) * max_value) + ((P[5] * (1 - contact_probs[k])) * rejection_value)\n",
    "\n",
    "                    end\n",
    "\n",
    "                end\n",
    "\n",
    "                max_value, max_index = findmax(store_U_values * w_probs)\n",
    "\n",
    "                U_1[i,1] = max_value\n",
    "\n",
    "                search_intensity[i, 1] = cost[max_index[1]]\n",
    "\n",
    "            end\n",
    "\n",
    "            for i in 1:S[1]\n",
    "\n",
    "                if i <= 31\n",
    "\n",
    "                    for j in 1:S[2]\n",
    "\n",
    "                        W_1[i,j] = (1-tau)*w_grid[j]*hc_grid[i] + (P[5] * P[4] * W_0[i+1,j]) + ((P[5] * (1 - P[4]) * U_1[1,1]))\n",
    "\n",
    "                    end\n",
    "\n",
    "                else \n",
    "\n",
    "                    for j in 1:S[2]\n",
    "\n",
    "                        W_1[i,j] = (1-tau)*w_grid[j]*hc_grid[i] + (P[5] * P[4] * W_0[i,j]) + ((P[5] * (1 - P[4]) * U_1[i-30,1]))\n",
    "\n",
    "                    end\n",
    "\n",
    "                end\n",
    "\n",
    "            end\n",
    "\n",
    "        end\n",
    "\n",
    "        error_unemp = maximum(abs.(U_1 - U_0))\n",
    "\n",
    "        error_emp = maximum(abs.(W_1 - W_0))\n",
    "\n",
    "        error = max(error_unemp, error_emp)\n",
    "\n",
    "        if iter % 25 == 0\n",
    "\n",
    "            println(\"Iteration: \", iter, \" Error: \", error)\n",
    "\n",
    "        end\n",
    "\n",
    "        U_0, W_0 = copy(U_1), copy(W_1)\n",
    "\n",
    "        iter += 1\n",
    "    \n",
    "    end\n",
    "\n",
    "    for i in 1:S[1]\n",
    "\n",
    "        index = findfirst(x -> x >= U_1[i,1], W_1[i,:])\n",
    "        \n",
    "        if index !== nothing\n",
    "\n",
    "            push!(reservation_wages, w_grid[index])\n",
    "\n",
    "        else\n",
    "\n",
    "            push!(reservation_wages, w_grid[S[3]])  # Append the max value of the wage grid\n",
    "\n",
    "        end\n",
    "\n",
    "    end\n",
    "\n",
    "    display(\"---- Bellman has been solved... ----\")\n",
    "\n",
    "    #display(plot(U_1, title = \"Plot of U_1\", xlabel = \"Human Capital Index\", ylabel = \"Value\", legend = false))\n",
    "\n",
    "    #plot(W_1[:,1], title = \"Plot of W_1 columns\", xlabel = \"Human Capital Index\", ylabel = \"Value\", legend = false)\n",
    "\n",
    "    #for j in 2:size(W_1, 2)\n",
    "    #    plot!(W_1[:,j])\n",
    "    #end\n",
    "\n",
    "    #display(plot!())\n",
    "\n",
    "    #display(plot(search_intensity, title = \"Plot of Search Costs\", xlabel = \"Human Capital Index\", ylabel = \"Search Costs\", legend = false))\n",
    "\n",
    "    #display(plot(reservation_wages, title = \"Plot of Reservation Wages\", xlabel = \"Human Capital Index\", ylabel = \"Wage\", legend = false))\n",
    "\n",
    "    return W_1, U_1, search_intensity, reservation_wages\n",
    "\n",
    "end"
   ]
  },
  {
   "cell_type": "code",
   "execution_count": 21,
   "metadata": {},
   "outputs": [
    {
     "data": {
      "text/plain": [
       "\"----- Iterating... -----\""
      ]
     },
     "metadata": {},
     "output_type": "display_data"
    },
    {
     "data": {
      "text/plain": [
       "\"---- Bellman has been solved... ----\""
      ]
     },
     "metadata": {},
     "output_type": "display_data"
    },
    {
     "data": {
      "text/plain": [
       "([16.14480672325679 16.158694180627634 … 16.686417560719775 16.700305018090624; 16.14480672325679 16.15876357961189 … 16.689124121105692 16.703080977460793; … ; 16.541590294604056 16.569280489321507 … 17.621507888584578 17.64919808330203; 16.546093203874435 16.573852797576137 … 17.628717358240873 17.656476951942576], [16.251301164106412; 16.251301164106412; … ; 16.801639710190127; 16.80698970761044;;], [0.025; 0.025; … ; 0.05; 0.05;;], [0.2, 0.2, 0.2, 0.2, 0.2, 0.2, 0.2, 0.2, 0.2, 0.2  …  0.25, 0.25, 0.25, 0.25, 0.25, 0.25, 0.25, 0.25, 0.25, 0.25])"
      ]
     },
     "metadata": {},
     "output_type": "display_data"
    }
   ],
   "source": [
    "@time begin\n",
    "W_out, U_out, match_probs, res_wages = Bellman(Bounds, Losses, Sizes, Params, 1e-3, 1000, 0.5)\n",
    "end"
   ]
  },
  {
   "cell_type": "code",
   "execution_count": 12,
   "metadata": {},
   "outputs": [
    {
     "data": {
      "text/plain": [
       "draw_matrices (generic function with 1 method)"
      ]
     },
     "metadata": {},
     "output_type": "display_data"
    }
   ],
   "source": [
    "function draw_matrices(D, S, B, L, P)\n",
    "    # Create the human capital grid\n",
    "    hc_grid = human_capital_grid(S, B)\n",
    "    # Unpack the draw parameters\n",
    "    number_of_workers, number_of_periods, seed = D[1], D[2], D[3]\n",
    "    # Set the seed\n",
    "    Random.seed!(seed)\n",
    "    # Draw human capital of initial workers\n",
    "    #initial_human_capital = rand(hc_grid, number_of_workers)\n",
    "    # Draw human capital of newborn workers for each period in which they could be born\n",
    "    human_capital_draws = [rand(hc_grid) for _ in 1:number_of_workers, _ in 1:(number_of_periods)]\n",
    "    # Draw job loss probabilities for each worker and each period in which they could lose their job\n",
    "    job_loss_probabilities = rand(number_of_workers, number_of_periods - 1)\n",
    "    # Create the wage grid and the associated probabilities\n",
    "    w_grid, w_probs = wage_grid(S,B)\n",
    "    # Draw wage offers for each worker and each period\n",
    "    wage_offers = [rand(w_grid) for _ in 1:number_of_workers, _ in 1:number_of_periods]\n",
    "    # Draw death probabilities for each worker and each period in which they could die\n",
    "    death_probabilities = rand(number_of_workers, number_of_periods - 1)\n",
    "    # Draw match probabilities for each worker and each period in which they could be matched\n",
    "    match_probabilities = rand(number_of_workers, number_of_periods - 1)\n",
    "\n",
    "    ###\n",
    "\n",
    "    #job_losses = any(job_loss_probabilities .< 0.09)\n",
    "\n",
    "    #deaths = any(death_probabilities .< 0.0009)  \n",
    "\n",
    "    ###\n",
    "\n",
    "    return human_capital_draws, job_loss_probabilities, wage_offers, death_probabilities, match_probabilities\n",
    "\n",
    "    #return job_losses, deaths ### there are losses and deaths in the economy ###\n",
    "\n",
    "end "
   ]
  },
  {
   "cell_type": "code",
   "execution_count": 90,
   "metadata": {},
   "outputs": [
    {
     "data": {
      "text/plain": [
       "([1.3, 1.085, 1.16, 1.185, 1.46, 1.535, 1.785, 1.61, 1.695, 1.575  …  1.94, 1.755, 1.58, 1.345, 1.77, 1.24, 1.685, 1.59, 1.78, 1.7], [1.07 1.605 … 1.975 1.36; 1.735 1.11 … 1.33 1.265; … ; 1.935 1.585 … 1.535 1.735; 1.775 1.21 … 1.285 1.475], [0.9296817863322564 0.19403450388939392 … 0.5074646585576883 0.2872148451363469; 0.32810335132628154 0.48712668536593007 … 0.7642916658291372 0.6954780515341381; … ; 0.22217962409870684 0.9025248051196569 … 0.7637886287749661 0.9360351964252113; 0.6601784418126794 0.176154985106191 … 0.5738517508329355 0.49975992274454106], [0.775 0.4 … 0.0 0.9; 0.25 0.95 … 0.45 0.375; … ; 0.1 0.3 … 0.15 0.0; 0.1 0.85 … 0.05 0.4], [0.7410603739201328 0.221721386504108 … 0.9480638803479762 0.7799618771382438; 0.7530996729137789 0.7946086393750906 … 0.5647845041425161 0.9036596897492285; … ; 0.7114262846374387 0.08069564958978948 … 0.8957327083880275 0.8379014791278039; 0.2626500476440137 0.9468086808026296 … 0.4238450685954972 0.26231282679340373], [0.11765542764681147 0.07460510847047941 … 0.23404250741321353 0.185245377071805; 0.4926792484143807 0.32723131071883527 … 0.7417644897359745 0.07093080294515353; … ; 0.35853424586699123 0.49770499154421677 … 0.19261634551278017 0.6119071938463893; 0.8076813607461637 0.6738357601018073 … 0.8937517517949017 0.4784861829277328])"
      ]
     },
     "metadata": {},
     "output_type": "display_data"
    }
   ],
   "source": [
    "hc_draws, sacked_prob, w_offers, death_prob, match_probs = draw_matrices(Draw, Sizes, Bounds, Losses, Params)\n",
    "#losses, deaths = draw_matrices(Draw, Sizes, Bounds, Losses, Params)"
   ]
  },
  {
   "cell_type": "code",
   "execution_count": 13,
   "metadata": {},
   "outputs": [
    {
     "data": {
      "text/plain": [
       "initialise_matrices (generic function with 1 method)"
      ]
     },
     "metadata": {},
     "output_type": "display_data"
    }
   ],
   "source": [
    "function initialise_matrices( D, S, B, L, P)\n",
    "    # Unpack the draw parameters\n",
    "    number_of_workers, number_of_periods = D[1], D[2]\n",
    "    # Initialise the employment matrix\n",
    "    employment_matrix = zeros(Int64, number_of_workers, number_of_periods)\n",
    "    # Initialise the wage matrix\n",
    "    wage_matrix = zeros(Float64, number_of_workers, number_of_periods)\n",
    "    # Initialise the human capital matrix\n",
    "    human_capital_matrix = zeros(Float64, number_of_workers, number_of_periods)\n",
    "    \n",
    "    return employment_matrix, wage_matrix, human_capital_matrix\n",
    "    \n",
    "end"
   ]
  },
  {
   "cell_type": "code",
   "execution_count": 51,
   "metadata": {},
   "outputs": [
    {
     "data": {
      "text/plain": [
       "sim (generic function with 1 method)"
      ]
     },
     "metadata": {},
     "output_type": "display_data"
    }
   ],
   "source": [
    "function sim( D, S, B, L, P, tol, max_iterations, tau)\n",
    "\n",
    "    W_out, U_out, search_int, res_wages = Bellman(B, L, S, P, tol, max_iterations, tau)\n",
    "\n",
    "    hc_draws, sacked_prob, w_offers, death_prob, match_prob = draw_matrices(D, S, B, L, P)\n",
    "\n",
    "    employment_sim, wage_sim, hc_sim = initialise_matrices(D, S, B, L, P)\n",
    "\n",
    "    hc_grid = human_capital_grid(S,B)\n",
    "\n",
    "    min_hc, max_hc = minimum(hc_grid), maximum(hc_grid)\n",
    "\n",
    "    unemployment_loss, job_loss = L[1], L[2]\n",
    "\n",
    "    N, T = D[1], (D[2]-1) # N = number of workers, T = number of periods\n",
    "\n",
    "    for n in 1:N\n",
    "\n",
    "        for t in 1:T \n",
    "\n",
    "            if death_prob[n,t] > P[1] # survive\n",
    "\n",
    "                if employment_sim[n,t] == 1 # employed\n",
    "\n",
    "                    if t == 1\n",
    "\n",
    "                        hc_index = findfirst(isequal(hc_draws[n,1]), hc_grid)\n",
    "\n",
    "                    else\n",
    "\n",
    "                        hc_index = findfirst(isequal(hc_sim[n,t]), hc_grid)\n",
    "\n",
    "                    end\n",
    "\n",
    "                    if sacked_prob[n,t] <= P[3] # job loss\n",
    "\n",
    "                        employment_sim[n,t+1] = 0 ## they'll be unemployed tomorrow\n",
    "\n",
    "                        wage_sim[n,t+1] = 0 ## they won't be earning anything tomorrow (fill in benefits later)\n",
    "\n",
    "                        if hc_index <= 31\n",
    "                                    \n",
    "                            hc_sim[n,t+1] = min_hc ## lose human capital until they reach the minimum\n",
    "\n",
    "                        else\n",
    "\n",
    "                            hc_sim[n,t+1] = hc_grid[hc_index - job_loss] ## unemployment human capital loss\n",
    "\n",
    "                        end\n",
    "\n",
    "                    else # keep job\n",
    "\n",
    "                        employment_sim[n,t+1] = 1 ## they'll be employed tomorrow\n",
    "\n",
    "                        wage_sim[n,t+1] = wage_sim[n,t] ## the wage they'll be earning tomorrow\n",
    "\n",
    "                        if hc_index <= 200\n",
    "                                    \n",
    "                            hc_sim[n,t+1] = hc_grid[hc_index+1] ## accumulate human capital until they reach the maximum\n",
    "\n",
    "                        else\n",
    "\n",
    "                            hc_sim[n,t+1] = max_hc ## human capital is bounded above\n",
    "\n",
    "                        end\n",
    "\n",
    "                    end\n",
    "\n",
    "                else # unemployed\n",
    "\n",
    "                    if t == 1\n",
    "\n",
    "                        hc_index = findfirst(isequal(hc_draws[n,1]), hc_grid)\n",
    "\n",
    "                    else\n",
    "\n",
    "                        hc_index = findfirst(isequal(hc_sim[n,t]), hc_grid)\n",
    "\n",
    "                    end\n",
    "\n",
    "                    if match_prob[n,t] < search_int[hc_index] # match\n",
    "\n",
    "                        if w_offers[n,t] > res_wages[hc_index] ## if they'd accept the wage offer\n",
    "\n",
    "                            wage_sim[n,t+1] = w_offers[n,t] ## they'll be earning the wage tomorrow\n",
    "\n",
    "                            employment_sim[n,t+1] = 1 ## they'll be employed tomorrow\n",
    "\n",
    "                            if hc_index <= 21\n",
    "                                    \n",
    "                                hc_sim[n,t+1] = min_hc ## lose human capital until they reach the minimum\n",
    "\n",
    "                            else\n",
    "\n",
    "                                hc_sim[n,t+1] = hc_grid[hc_index - unemployment_loss] ## unemployment human capital loss\n",
    "\n",
    "                            end\n",
    "\n",
    "                        else ## if they wouldn't accept the wage offer\n",
    "\n",
    "                            wage_sim[n,t+1] = 0 ## they won't be earning anything tomorrow (fill in benefits later)\n",
    "\n",
    "                            employment_sim[n,t+1] = 0 ## they'll be unemployed tomorrow\n",
    "\n",
    "                            if hc_index <= 11\n",
    "                                    \n",
    "                                hc_sim[n,t+1] = min_hc ## lose human capital until they reach the minimum\n",
    "\n",
    "                            else\n",
    "\n",
    "                                hc_sim[n,t+1] = hc_grid[hc_index - unemployment_loss] ## unemployment human capital loss\n",
    "\n",
    "                            end\n",
    "\n",
    "                        end\n",
    "\n",
    "                    else # stay unemployed\n",
    "\n",
    "                        wage_sim[n,t+1] = 0 ## they won't be earning anything tomorrow (fill in benefits later)\n",
    "\n",
    "                        employment_sim[n,t+1] = 0 ## they'll be unemployed tomorrow\n",
    "\n",
    "                        if hc_index <= 11\n",
    "                                    \n",
    "                            hc_sim[n,t+1] = min_hc ## lose human capital until they reach the minimum\n",
    "\n",
    "                        else\n",
    "\n",
    "                            hc_sim[n,t+1] = hc_grid[hc_index - unemployment_loss] ## unemployment human capital loss\n",
    "\n",
    "                        end\n",
    "\n",
    "                    end\n",
    "\n",
    "                end\n",
    "\n",
    "            else # die\n",
    "\n",
    "                hc_sim[n,t+1] = hc_draws[n,t] ## replaced by a newborn\n",
    "\n",
    "                employment_sim[n,t+1] = 0 ## who will start unemployed\n",
    "\n",
    "                wage_sim[n,t+1] = 0 ## and won't be earning anything tomorrow (fill in benefits later)\n",
    "\n",
    "            end\n",
    "\n",
    "        end\n",
    "    \n",
    "    end\n",
    "\n",
    "    return employment_sim, wage_sim, hc_sim\n",
    "\n",
    "end"
   ]
  },
  {
   "cell_type": "code",
   "execution_count": 52,
   "metadata": {},
   "outputs": [
    {
     "data": {
      "text/plain": [
       "\"----- Iterating... -----\""
      ]
     },
     "metadata": {},
     "output_type": "display_data"
    },
    {
     "data": {
      "text/plain": [
       "\"---- Bellman has been solved... ----\""
      ]
     },
     "metadata": {},
     "output_type": "display_data"
    },
    {
     "data": {
      "text/plain": [
       "([0 0 … 1 1; 0 0 … 1 1; … ; 0 0 … 1 1; 0 0 … 1 1], [0.0 0.0 … 0.575 0.575; 0.0 0.0 … 0.325 0.325; … ; 0.0 0.0 … 0.975 0.975; 0.0 0.0 … 0.725 0.725], [0.0 1.25 … 1.97 1.975; 0.0 1.035 … 1.51 1.515; … ; 0.0 1.73 … 1.28 1.285; 0.0 1.65 … 1.275 1.28])"
      ]
     },
     "metadata": {},
     "output_type": "display_data"
    }
   ],
   "source": [
    "employment_sim, wage_sim, hc_sim = sim(Draw, Sizes, Bounds, Losses, Params, 1e-3, 1000, 0.5)"
   ]
  },
  {
   "cell_type": "code",
   "execution_count": 65,
   "metadata": {},
   "outputs": [
    {
     "data": {
      "text/plain": [
       "find_tax_rate (generic function with 1 method)"
      ]
     },
     "metadata": {},
     "output_type": "display_data"
    }
   ],
   "source": [
    "function find_tax_rate(D, S, B, L, P, Bellman_tolerance, maximum_iterations)\n",
    "\n",
    "    # Params\n",
    "    number_of_workers = D[1]\n",
    "    \n",
    "    # Initialise the tax rate bounds\n",
    "    lower_bound = 0.0\n",
    "    upper_bound = 1.0\n",
    "\n",
    "    # Define the number of columns to extract\n",
    "    num_columns = 100\n",
    "\n",
    "    government_spending = ones(D[1], 100)\n",
    "\n",
    "    unemployment_rate = 0.05\n",
    "\n",
    "    while abs(sum(government_spending)) > 0.01\n",
    "\n",
    "        guess_tau = (lower_bound + upper_bound) / 2\n",
    "\n",
    "        employment_sim, wage_sim, hc_sim = sim( D, S, B, L, P, Bellman_tolerance, maximum_iterations, guess_tau) # Simulate the economy\n",
    "\n",
    "        # Create new matrices with the last 100 columns\n",
    "        employment_sim_last_100 = employment_sim[:, end-num_columns+1:end]\n",
    "\n",
    "        wage_sim_last_100 = wage_sim[:, end-num_columns+1:end]\n",
    "\n",
    "        hc_sim_last_100 = hc_sim[:, end-num_columns+1:end]\n",
    "\n",
    "        # Fill in wage_sim with (1-guess_tau)*b where employment_sim is zero\n",
    "        wage_sim_last_100[employment_sim_last_100 .== 0] .= (1 - guess_tau) * P[3]\n",
    "\n",
    "        wage_sim_last_100[employment_sim_last_100 .== 1] .= ((1 - guess_tau) .* wage_sim_last_100[employment_sim_last_100 .== 1]) .* hc_sim_last_100[employment_sim_last_100 .== 1]\n",
    "\n",
    "        government_spending[employment_sim_last_100 .== 0] .= -(1-guess_tau) * P[3]\n",
    "\n",
    "        government_spending[employment_sim_last_100 .== 1] .= ((guess_tau .* wage_sim_last_100[employment_sim_last_100 .== 1]) .* hc_sim_last_100[employment_sim_last_100 .== 1])\n",
    "\n",
    "        unemployment_rate = sum(employment_sim_last_100 .== 0) / (number_of_workers * num_columns)      \n",
    "\n",
    "        # Check if the market clears\n",
    "        if sum(government_spending) < 0\n",
    "\n",
    "            lower_bound = guess_tau\n",
    "\n",
    "            upper_bound = upper_bound\n",
    "\n",
    "        else\n",
    "\n",
    "            lower_bound = lower_bound\n",
    "\n",
    "            upper_bound = guess_tau\n",
    "\n",
    "        end\n",
    "\n",
    "    end\n",
    "\n",
    "    tax_rate = (lower_bound + upper_bound) / 2\n",
    "\n",
    "    return tax_rate, unemployment_rate\n",
    "end"
   ]
  },
  {
   "cell_type": "code",
   "execution_count": 66,
   "metadata": {},
   "outputs": [
    {
     "data": {
      "text/plain": [
       "\"----- Iterating... -----\""
      ]
     },
     "metadata": {},
     "output_type": "display_data"
    },
    {
     "data": {
      "text/plain": [
       "\"---- Bellman has been solved... ----\""
      ]
     },
     "metadata": {},
     "output_type": "display_data"
    },
    {
     "data": {
      "text/plain": [
       "\"----- Iterating... -----\""
      ]
     },
     "metadata": {},
     "output_type": "display_data"
    },
    {
     "data": {
      "text/plain": [
       "\"---- Bellman has been solved... ----\""
      ]
     },
     "metadata": {},
     "output_type": "display_data"
    },
    {
     "data": {
      "text/plain": [
       "\"----- Iterating... -----\""
      ]
     },
     "metadata": {},
     "output_type": "display_data"
    },
    {
     "data": {
      "text/plain": [
       "\"---- Bellman has been solved... ----\""
      ]
     },
     "metadata": {},
     "output_type": "display_data"
    },
    {
     "data": {
      "text/plain": [
       "\"----- Iterating... -----\""
      ]
     },
     "metadata": {},
     "output_type": "display_data"
    },
    {
     "data": {
      "text/plain": [
       "\"---- Bellman has been solved... ----\""
      ]
     },
     "metadata": {},
     "output_type": "display_data"
    },
    {
     "data": {
      "text/plain": [
       "\"----- Iterating... -----\""
      ]
     },
     "metadata": {},
     "output_type": "display_data"
    },
    {
     "data": {
      "text/plain": [
       "\"---- Bellman has been solved... ----\""
      ]
     },
     "metadata": {},
     "output_type": "display_data"
    },
    {
     "data": {
      "text/plain": [
       "\"----- Iterating... -----\""
      ]
     },
     "metadata": {},
     "output_type": "display_data"
    },
    {
     "data": {
      "text/plain": [
       "\"---- Bellman has been solved... ----\""
      ]
     },
     "metadata": {},
     "output_type": "display_data"
    },
    {
     "data": {
      "text/plain": [
       "\"----- Iterating... -----\""
      ]
     },
     "metadata": {},
     "output_type": "display_data"
    },
    {
     "data": {
      "text/plain": [
       "\"---- Bellman has been solved... ----\""
      ]
     },
     "metadata": {},
     "output_type": "display_data"
    },
    {
     "data": {
      "text/plain": [
       "\"----- Iterating... -----\""
      ]
     },
     "metadata": {},
     "output_type": "display_data"
    },
    {
     "data": {
      "text/plain": [
       "\"---- Bellman has been solved... ----\""
      ]
     },
     "metadata": {},
     "output_type": "display_data"
    },
    {
     "data": {
      "text/plain": [
       "\"----- Iterating... -----\""
      ]
     },
     "metadata": {},
     "output_type": "display_data"
    },
    {
     "data": {
      "text/plain": [
       "\"---- Bellman has been solved... ----\""
      ]
     },
     "metadata": {},
     "output_type": "display_data"
    },
    {
     "data": {
      "text/plain": [
       "\"----- Iterating... -----\""
      ]
     },
     "metadata": {},
     "output_type": "display_data"
    },
    {
     "data": {
      "text/plain": [
       "\"---- Bellman has been solved... ----\""
      ]
     },
     "metadata": {},
     "output_type": "display_data"
    },
    {
     "data": {
      "text/plain": [
       "\"----- Iterating... -----\""
      ]
     },
     "metadata": {},
     "output_type": "display_data"
    },
    {
     "data": {
      "text/plain": [
       "\"---- Bellman has been solved... ----\""
      ]
     },
     "metadata": {},
     "output_type": "display_data"
    },
    {
     "data": {
      "text/plain": [
       "\"----- Iterating... -----\""
      ]
     },
     "metadata": {},
     "output_type": "display_data"
    },
    {
     "data": {
      "text/plain": [
       "\"---- Bellman has been solved... ----\""
      ]
     },
     "metadata": {},
     "output_type": "display_data"
    },
    {
     "data": {
      "text/plain": [
       "\"----- Iterating... -----\""
      ]
     },
     "metadata": {},
     "output_type": "display_data"
    },
    {
     "data": {
      "text/plain": [
       "\"---- Bellman has been solved... ----\""
      ]
     },
     "metadata": {},
     "output_type": "display_data"
    },
    {
     "data": {
      "text/plain": [
       "\"----- Iterating... -----\""
      ]
     },
     "metadata": {},
     "output_type": "display_data"
    },
    {
     "data": {
      "text/plain": [
       "\"---- Bellman has been solved... ----\""
      ]
     },
     "metadata": {},
     "output_type": "display_data"
    },
    {
     "data": {
      "text/plain": [
       "\"----- Iterating... -----\""
      ]
     },
     "metadata": {},
     "output_type": "display_data"
    },
    {
     "data": {
      "text/plain": [
       "\"---- Bellman has been solved... ----\""
      ]
     },
     "metadata": {},
     "output_type": "display_data"
    },
    {
     "data": {
      "text/plain": [
       "\"----- Iterating... -----\""
      ]
     },
     "metadata": {},
     "output_type": "display_data"
    },
    {
     "data": {
      "text/plain": [
       "\"---- Bellman has been solved... ----\""
      ]
     },
     "metadata": {},
     "output_type": "display_data"
    },
    {
     "data": {
      "text/plain": [
       "\"----- Iterating... -----\""
      ]
     },
     "metadata": {},
     "output_type": "display_data"
    },
    {
     "data": {
      "text/plain": [
       "\"---- Bellman has been solved... ----\""
      ]
     },
     "metadata": {},
     "output_type": "display_data"
    },
    {
     "data": {
      "text/plain": [
       "\"----- Iterating... -----\""
      ]
     },
     "metadata": {},
     "output_type": "display_data"
    },
    {
     "data": {
      "text/plain": [
       "\"---- Bellman has been solved... ----\""
      ]
     },
     "metadata": {},
     "output_type": "display_data"
    },
    {
     "data": {
      "text/plain": [
       "\"----- Iterating... -----\""
      ]
     },
     "metadata": {},
     "output_type": "display_data"
    },
    {
     "data": {
      "text/plain": [
       "\"---- Bellman has been solved... ----\""
      ]
     },
     "metadata": {},
     "output_type": "display_data"
    },
    {
     "data": {
      "text/plain": [
       "\"----- Iterating... -----\""
      ]
     },
     "metadata": {},
     "output_type": "display_data"
    },
    {
     "data": {
      "text/plain": [
       "\"---- Bellman has been solved... ----\""
      ]
     },
     "metadata": {},
     "output_type": "display_data"
    },
    {
     "data": {
      "text/plain": [
       "\"----- Iterating... -----\""
      ]
     },
     "metadata": {},
     "output_type": "display_data"
    },
    {
     "data": {
      "text/plain": [
       "\"---- Bellman has been solved... ----\""
      ]
     },
     "metadata": {},
     "output_type": "display_data"
    },
    {
     "data": {
      "text/plain": [
       "\"----- Iterating... -----\""
      ]
     },
     "metadata": {},
     "output_type": "display_data"
    },
    {
     "data": {
      "text/plain": [
       "\"---- Bellman has been solved... ----\""
      ]
     },
     "metadata": {},
     "output_type": "display_data"
    },
    {
     "data": {
      "text/plain": [
       "\"----- Iterating... -----\""
      ]
     },
     "metadata": {},
     "output_type": "display_data"
    },
    {
     "data": {
      "text/plain": [
       "\"---- Bellman has been solved... ----\""
      ]
     },
     "metadata": {},
     "output_type": "display_data"
    },
    {
     "data": {
      "text/plain": [
       "\"----- Iterating... -----\""
      ]
     },
     "metadata": {},
     "output_type": "display_data"
    },
    {
     "data": {
      "text/plain": [
       "\"---- Bellman has been solved... ----\""
      ]
     },
     "metadata": {},
     "output_type": "display_data"
    },
    {
     "data": {
      "text/plain": [
       "\"----- Iterating... -----\""
      ]
     },
     "metadata": {},
     "output_type": "display_data"
    },
    {
     "data": {
      "text/plain": [
       "\"---- Bellman has been solved... ----\""
      ]
     },
     "metadata": {},
     "output_type": "display_data"
    },
    {
     "data": {
      "text/plain": [
       "\"----- Iterating... -----\""
      ]
     },
     "metadata": {},
     "output_type": "display_data"
    },
    {
     "data": {
      "text/plain": [
       "\"---- Bellman has been solved... ----\""
      ]
     },
     "metadata": {},
     "output_type": "display_data"
    },
    {
     "data": {
      "text/plain": [
       "(0.001708589494228363, 0.200841)"
      ]
     },
     "metadata": {},
     "output_type": "display_data"
    }
   ],
   "source": [
    "tax_rate = find_tax_rate(Draw, Sizes, Bounds, Losses, Params, 1e-3, 1000)"
   ]
  }
 ],
 "metadata": {
  "kernelspec": {
   "display_name": "Julia 1.10.1",
   "language": "julia",
   "name": "julia-1.10"
  },
  "language_info": {
   "file_extension": ".jl",
   "mimetype": "application/julia",
   "name": "julia",
   "version": "1.10.1"
  }
 },
 "nbformat": 4,
 "nbformat_minor": 2
}
