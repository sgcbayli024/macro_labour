{
 "cells": [
  {
   "cell_type": "markdown",
   "metadata": {},
   "source": [
    "# **Homework 6: Estimating a Search Model**"
   ]
  },
  {
   "cell_type": "markdown",
   "metadata": {},
   "source": [
    "## **ECON8582: Macro-Labour**"
   ]
  },
  {
   "cell_type": "code",
   "execution_count": 1,
   "metadata": {},
   "outputs": [],
   "source": [
    "using Random, Distributions, Makie, CairoMakie, LinearAlgebra, Optim"
   ]
  },
  {
   "cell_type": "code",
   "execution_count": 2,
   "metadata": {},
   "outputs": [
    {
     "data": {
      "text/plain": [
       "productivity_sim (generic function with 1 method)"
      ]
     },
     "metadata": {},
     "output_type": "display_data"
    }
   ],
   "source": [
    "include(\"C:\\\\Users\\\\bayle\\\\Documents\\\\Github\\\\macro_labour\\\\hw6\\\\hw6.jl\")"
   ]
  },
  {
   "cell_type": "code",
   "execution_count": 3,
   "metadata": {},
   "outputs": [
    {
     "data": {
      "text/plain": [
       "minimise (generic function with 1 method)"
      ]
     },
     "metadata": {},
     "output_type": "display_data"
    }
   ],
   "source": [
    "function minimise(unemployment)\n",
    "    return (unemployment - 6.5)^2\n",
    "end"
   ]
  },
  {
   "cell_type": "code",
   "execution_count": 4,
   "metadata": {},
   "outputs": [
    {
     "data": {
      "text/plain": [
       "solve (generic function with 1 method)"
      ]
     },
     "metadata": {},
     "output_type": "display_data"
    }
   ],
   "source": [
    "function solve(p, b_guess)\n",
    "    println(\"--------------------\")\n",
    "    println(\"b = \", b_guess)\n",
    "    J_out = iterate_J(p)\n",
    "    p = (; p..., b = b_guess)\n",
    "    W_sol, U_sol, s_pol, wage_indexes = iterate_W_U(p, J_out)\n",
    "    sim_out_w, sim_out_e, u_rate, ts_u = sim(p, wage_indexes, J_out)\n",
    "    println(\"--------------------\")\n",
    "    println(\"Unemployment rate: \", u_rate)\n",
    "    return minimise(u_rate)\n",
    "end"
   ]
  },
  {
   "cell_type": "code",
   "execution_count": 5,
   "metadata": {},
   "outputs": [
    {
     "name": "stdout",
     "output_type": "stream",
     "text": [
      "--------------------\n",
      "b = 0.1\n",
      "--------------------\n",
      "Unemployment rate: 4.54765\n",
      "--------------------\n",
      "b = 0.17500000000000002\n",
      "--------------------\n",
      "Unemployment rate: 4.6715\n",
      "--------------------\n",
      "b = 0.25\n",
      "--------------------\n",
      "Unemployment rate: 4.95715\n",
      "--------------------\n",
      "b = 0.39999999999999997\n",
      "--------------------\n",
      "Unemployment rate: 5.34245\n",
      "--------------------\n",
      "b = 0.6249999999999999\n",
      "--------------------\n",
      "Unemployment rate: 5.640250000000001\n",
      "--------------------\n",
      "b = 1.0749999999999997\n",
      "--------------------\n",
      "Unemployment rate: 24.213325\n",
      "--------------------\n",
      "b = 0.8499999999999999\n",
      "--------------------\n",
      "Unemployment rate: 7.09535\n",
      "--------------------\n",
      "b = 1.2999999999999998\n",
      "--------------------\n",
      "Unemployment rate: 49.50697500000001\n",
      "--------------------\n",
      "b = 1.0749999999999997\n",
      "--------------------\n",
      "Unemployment rate: 24.213325\n",
      "--------------------\n",
      "b = 0.79375\n",
      "--------------------\n",
      "Unemployment rate: 7.0451250000000005\n",
      "--------------------\n",
      "b = 0.7375\n",
      "--------------------\n",
      "Unemployment rate: 6.645674999999999\n",
      "--------------------\n",
      "b = 0.6250000000000002\n",
      "--------------------\n",
      "Unemployment rate: 5.640250000000001\n",
      "--------------------\n",
      "b = 0.6812500000000001\n",
      "--------------------\n",
      "Unemployment rate: 5.640250000000001\n",
      "--------------------\n",
      "b = 0.7515625\n",
      "--------------------\n",
      "Unemployment rate: 7.0451250000000005\n",
      "--------------------\n",
      "b = 0.7375\n",
      "--------------------\n",
      "Unemployment rate: 6.645674999999999\n",
      "--------------------\n",
      "b = 0.7375\n",
      "--------------------\n",
      "Unemployment rate: 6.645674999999999\n",
      "[0.7375]\n"
     ]
    }
   ],
   "source": [
    "b_guess = [0.1]\n",
    "\n",
    "objective(b) = solve(pars, b[1])\n",
    "\n",
    "result = optimize(objective, b_guess, NelderMead())\n",
    "\n",
    "println(result.minimizer)"
   ]
  },
  {
   "cell_type": "code",
   "execution_count": 21,
   "metadata": {},
   "outputs": [
    {
     "name": "stdout",
     "output_type": "stream",
     "text": [
      "--------------------\n",
      "b_eps = 0.72\n",
      "--------------------\n",
      "Unemployment rate: 6.645674999999999\n",
      "--------------------\n",
      "std_error = 3.8078580000731725e-5\n",
      "--------------------\n"
     ]
    },
    {
     "data": {
      "text/plain": [
       "3.8078580000731725e-5"
      ]
     },
     "metadata": {},
     "output_type": "display_data"
    }
   ],
   "source": [
    "function solve_b_eps(p, b_eps)\n",
    "    println(\"--------------------\")\n",
    "    println(\"b_eps = \", b_eps)\n",
    "    J_out = iterate_J(p)\n",
    "    p = (; p..., b = b_eps)\n",
    "    W_sol, U_sol, s_pol, wage_indexes = iterate_W_U(p, J_out)\n",
    "    sim_out_w, sim_out_e, u_rate, ts_u = sim(p, wage_indexes, J_out)\n",
    "    println(\"--------------------\")\n",
    "    println(\"Unemployment rate: \", u_rate)\n",
    "    return u_rate\n",
    "end\n",
    "\n",
    "function std_error(p, actual_u, perturbed_u, b_eps, minimised_b)\n",
    "    (; T, Tb) = p\n",
    "    println(\"--------------------\")\n",
    "    out_true = minimise(actual_u)\n",
    "    out_eps = minimise(perturbed_u)\n",
    "    println(\"std_error = \", sqrt(abs((((out_true - out_eps) / (minimised_b - b_eps))^-2)/ (T-Tb))))\n",
    "    println(\"--------------------\")\n",
    "    return sqrt(abs((((out_true - out_eps) / (minimised_b - b_eps))^-2)/ (T-Tb)))\n",
    "end\n",
    "\n",
    "b_eps = 0.72\n",
    "\n",
    "perturbed_u = solve_b_eps(pars, b_eps)\n",
    "\n",
    "std_error(pars, result.minimum, perturbed_u, b_eps, result.minimizer[1])"
   ]
  }
 ],
 "metadata": {
  "kernelspec": {
   "display_name": "Julia 1.10.1",
   "language": "julia",
   "name": "julia-1.10"
  },
  "language_info": {
   "file_extension": ".jl",
   "mimetype": "application/julia",
   "name": "julia",
   "version": "1.10.1"
  }
 },
 "nbformat": 4,
 "nbformat_minor": 2
}
