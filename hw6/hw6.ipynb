{
 "cells": [
  {
   "cell_type": "markdown",
   "metadata": {},
   "source": [
    "# **Homework 6: Estimating a Search Model**"
   ]
  },
  {
   "cell_type": "markdown",
   "metadata": {},
   "source": [
    "## **ECON8582: Macro-Labour**"
   ]
  },
  {
   "cell_type": "code",
   "execution_count": 17,
   "metadata": {},
   "outputs": [],
   "source": [
    "using Random, Distributions, Makie, CairoMakie, LinearAlgebra, Optim"
   ]
  },
  {
   "cell_type": "code",
   "execution_count": 11,
   "metadata": {},
   "outputs": [
    {
     "data": {
      "text/plain": [
       "productivity_sim (generic function with 1 method)"
      ]
     },
     "metadata": {},
     "output_type": "display_data"
    }
   ],
   "source": [
    "include(\"C:\\\\Users\\\\bayle\\\\Documents\\\\Github\\\\macro_labour\\\\hw6\\\\hw6.jl\")"
   ]
  },
  {
   "cell_type": "code",
   "execution_count": 14,
   "metadata": {},
   "outputs": [
    {
     "data": {
      "text/plain": [
       "minimise (generic function with 1 method)"
      ]
     },
     "metadata": {},
     "output_type": "display_data"
    }
   ],
   "source": [
    "function minimise(unemployment)\n",
    "    return unemployment - 6.5\n",
    "end"
   ]
  },
  {
   "cell_type": "code",
   "execution_count": 16,
   "metadata": {},
   "outputs": [
    {
     "data": {
      "text/plain": [
       "solve (generic function with 1 method)"
      ]
     },
     "metadata": {},
     "output_type": "display_data"
    }
   ],
   "source": [
    "function solve(p, b_guess)\n",
    "    J_sol = iterate_J(p)\n",
    "    p = (; p..., b = b_guess)\n",
    "    W_sol, U_sol, s_pol, wage_indexes = iterate_W_U(p)\n",
    "    sim_out_w, sim_out_e, u_rate, ts_u = sim(p, s_pol, wage_indexes)\n",
    "    return minimise(u_rate)\n",
    "end"
   ]
  },
  {
   "cell_type": "code",
   "execution_count": 30,
   "metadata": {},
   "outputs": [
    {
     "name": "stdout",
     "output_type": "stream",
     "text": [
      "--------------------\n",
      "Iteration: 1\n",
      "Error: 1.106864118950882\n",
      "--------------------\n",
      "--------------------\n",
      "Iteration: 100\n",
      "Error: 0.18867370091780344\n",
      "--------------------\n",
      "--------------------\n",
      "Iteration: 200\n",
      "Error: 0.03687394205703498\n",
      "--------------------\n",
      "--------------------\n",
      "Iteration: 300\n",
      "Error: 0.007360990328706407\n",
      "--------------------\n",
      "--------------------\n",
      "Iteration: 400\n",
      "Error: 0.0014735920943351744\n",
      "--------------------\n",
      "--------------------\n",
      "Iteration: 500\n",
      "Error: 0.0002951078404294094\n",
      "--------------------\n",
      "--------------------\n",
      "Iteration: 600\n",
      "Error: 5.9102486900997064e-5\n",
      "--------------------\n",
      "--------------------\n",
      "Iteration: 700\n",
      "Error: 1.1836781190766033e-5\n",
      "--------------------\n",
      "--------------------\n",
      "Iteration: 800\n",
      "Error: 2.3706195619865866e-6\n",
      "--------------------\n",
      "--------------------\n",
      "Converged in 854 iterations\n",
      "Error: 9.948122894343214e-7\n",
      "--------------------\n"
     ]
    },
    {
     "ename": "UndefVarError",
     "evalue": "UndefVarError: `thetas` not defined",
     "output_type": "error",
     "traceback": [
      "UndefVarError: `thetas` not defined\n",
      "\n",
      "Stacktrace:\n",
      "  [1] iterate_W_U(pars::@NamedTuple{β::Float64, ρ::Float64, σe::Float64, nz::Int64, γ::Float64, κ::Float64, δ::Float64, σ::Int64, α::Int64, χ::Int64, a::Float64, w_lb::Float64, w_ub::Int64, Δw::Float64, b::Float64, b_end::Float64, s_lb::Float64, s_ub::Float64, Δs::Float64, toler::Float64, maxiter::Int64, Np::Int64, T::Int64, Tb::Int64})\n",
      "    @ Main C:\\Users\\bayle\\Documents\\Github\\macro_labour\\hw6\\hw6.jl:198\n",
      "  [2] solve(p::@NamedTuple{β::Float64, ρ::Float64, σe::Float64, nz::Int64, γ::Float64, κ::Float64, δ::Float64, σ::Int64, α::Int64, χ::Int64, a::Float64, w_lb::Float64, w_ub::Int64, Δw::Float64, b::Float64, b_end::Float64, s_lb::Float64, s_ub::Float64, Δs::Float64, toler::Float64, maxiter::Int64, Np::Int64, T::Int64, Tb::Int64}, b_guess::Float64)\n",
      "    @ Main c:\\Users\\bayle\\Documents\\Github\\macro_labour\\hw6\\hw6.ipynb:4\n",
      "  [3] objective(b::Vector{Float64})\n",
      "    @ Main c:\\Users\\bayle\\Documents\\Github\\macro_labour\\hw6\\hw6.ipynb:3\n",
      "  [4] value!!(obj::NonDifferentiable{Float64, Vector{Float64}}, x::Vector{Float64})\n",
      "    @ NLSolversBase C:\\Users\\bayle\\.julia\\packages\\NLSolversBase\\kavn7\\src\\interface.jl:9\n",
      "  [5] initial_state(method::NelderMead{Optim.AffineSimplexer, Optim.AdaptiveParameters}, options::Optim.Options{Float64, Nothing}, d::NonDifferentiable{Float64, Vector{Float64}}, initial_x::Vector{Float64})\n",
      "    @ Optim C:\\Users\\bayle\\.julia\\packages\\Optim\\EJwLF\\src\\multivariate\\solvers\\zeroth_order\\nelder_mead.jl:171\n",
      "  [6] optimize\n",
      "    @ C:\\Users\\bayle\\.julia\\packages\\Optim\\EJwLF\\src\\multivariate\\optimize\\optimize.jl:36 [inlined]\n",
      "  [7] #optimize#91\n",
      "    @ C:\\Users\\bayle\\.julia\\packages\\Optim\\EJwLF\\src\\multivariate\\optimize\\interface.jl:143 [inlined]\n",
      "  [8] optimize\n",
      "    @ C:\\Users\\bayle\\.julia\\packages\\Optim\\EJwLF\\src\\multivariate\\optimize\\interface.jl:139 [inlined]\n",
      "  [9] optimize(f::Function, initial_x::Vector{Float64}, method::NelderMead{Optim.AffineSimplexer, Optim.AdaptiveParameters})\n",
      "    @ Optim C:\\Users\\bayle\\.julia\\packages\\Optim\\EJwLF\\src\\multivariate\\optimize\\interface.jl:139\n",
      " [10] top-level scope\n",
      "    @ c:\\Users\\bayle\\Documents\\Github\\macro_labour\\hw6\\hw6.ipynb:5"
     ]
    }
   ],
   "source": [
    "b_guess = [0.5]\n",
    "\n",
    "objective(b) = solve(pars, b[1])\n",
    "\n",
    "result = optimize(objective, b_guess, NelderMead())\n",
    "\n",
    "println(result.minimizer)"
   ]
  }
 ],
 "metadata": {
  "kernelspec": {
   "display_name": "Julia 1.10.1",
   "language": "julia",
   "name": "julia-1.10"
  },
  "language_info": {
   "file_extension": ".jl",
   "mimetype": "application/julia",
   "name": "julia",
   "version": "1.10.1"
  }
 },
 "nbformat": 4,
 "nbformat_minor": 2
}
