{
 "cells": [
  {
   "cell_type": "markdown",
   "metadata": {},
   "source": [
    "In this notebook, I solve the alternative HW1 for Kyle Herkenhoff's . In this homework, we are asked to solve a simple Bewley model."
   ]
  },
  {
   "cell_type": "code",
   "execution_count": 2,
   "metadata": {},
   "outputs": [],
   "source": [
    "using LinearAlgebra, Optim, Makie, Roots, Interpolations"
   ]
  },
  {
   "cell_type": "code",
   "execution_count": 31,
   "metadata": {},
   "outputs": [
    {
     "data": {
      "text/plain": [
       "3-element Vector{Int64}:\n",
       "   2\n",
       "   2\n",
       " 101"
      ]
     },
     "metadata": {},
     "output_type": "display_data"
    }
   ],
   "source": [
    "# Params = [beta, gamma]\n",
    "Params = Vector{Float64}([0.9, 1.0])\n",
    "# Sizes = [grid_expansion_factor, number_of_states, number_of_actions]\n",
    "Sizes = Vector{Int64}([2, 2, 101])"
   ]
  },
  {
   "cell_type": "code",
   "execution_count": 4,
   "metadata": {},
   "outputs": [
    {
     "data": {
      "text/plain": [
       "expanding_grid (generic function with 1 method)"
      ]
     },
     "metadata": {},
     "output_type": "display_data"
    }
   ],
   "source": [
    "function expanding_grid(S)\n",
    "\n",
    "    zero_grid = LinRange(0, 1, S[3])\n",
    "\n",
    "    asset_grid = zeros(S[3], 1)\n",
    "\n",
    "    a_low = 0.0\n",
    "\n",
    "    a_high = 200.0\n",
    "\n",
    "    for i in 1:S[3]\n",
    "\n",
    "        asset_grid[i] = (zero_grid[i]^S[1]) * (a_high - a_low) + a_low\n",
    "\n",
    "    end\n",
    "\n",
    "    return asset_grid\n",
    "\n",
    "end"
   ]
  },
  {
   "cell_type": "code",
   "execution_count": 5,
   "metadata": {},
   "outputs": [
    {
     "data": {
      "text/plain": [
       "utility (generic function with 1 method)"
      ]
     },
     "metadata": {},
     "output_type": "display_data"
    }
   ],
   "source": [
    "function utility(c, P)\n",
    "\n",
    "    if P[2] == 1\n",
    "\n",
    "        return log(c)\n",
    "\n",
    "    else\n",
    "\n",
    "        return c^(1-P[2])/(1-P[2])\n",
    "\n",
    "    end\n",
    "\n",
    "end"
   ]
  },
  {
   "cell_type": "code",
   "execution_count": 6,
   "metadata": {},
   "outputs": [
    {
     "data": {
      "text/plain": [
       "states (generic function with 1 method)"
      ]
     },
     "metadata": {},
     "output_type": "display_data"
    }
   ],
   "source": [
    "function states(S)\n",
    "\n",
    "    states = range(0.95, 1.05, S[2])\n",
    "\n",
    "    transition = zeros(S[2], S[2])\n",
    "\n",
    "    for i in 1:S[2]\n",
    "\n",
    "        for j in 1:S[2]\n",
    "\n",
    "            transition[i,j] = 1/S[2]\n",
    "\n",
    "        end\n",
    "    \n",
    "    end\n",
    "\n",
    "    return states, transition\n",
    "\n",
    "end"
   ]
  },
  {
   "cell_type": "code",
   "execution_count": 7,
   "metadata": {},
   "outputs": [
    {
     "data": {
      "text/plain": [
       "generate_matrices (generic function with 1 method)"
      ]
     },
     "metadata": {},
     "output_type": "display_data"
    }
   ],
   "source": [
    "function generate_matrices(S, P)\n",
    "\n",
    "    value = zeros(S[3], S[2])\n",
    "\n",
    "    policy = zeros(S[3], S[2])\n",
    "\n",
    "    distance = zeros(S[3], S[2])\n",
    "\n",
    "    return value, policy, distance\n",
    "\n",
    "end"
   ]
  },
  {
   "cell_type": "code",
   "execution_count": 109,
   "metadata": {},
   "outputs": [
    {
     "data": {
      "text/plain": [
       "Bellman_grid_search (generic function with 1 method)"
      ]
     },
     "metadata": {},
     "output_type": "display_data"
    }
   ],
   "source": [
    "function Bellman_grid_search(S, P, tolerance, max_iterations)\n",
    "\n",
    "    iter = 0\n",
    "\n",
    "    println(\"Iterating...\")\n",
    "\n",
    "    state, transition = states(S)\n",
    "\n",
    "    bond_grid = expanding_grid(S)\n",
    "\n",
    "    error = tolerance + 1\n",
    "\n",
    "    Val, Pol, Distance = generate_matrices(S, P)\n",
    "\n",
    "    V_old = similar(Val)\n",
    "\n",
    "    Pol_old = similar(Pol)\n",
    "\n",
    "    expected_value = similar(Val)\n",
    "\n",
    "    #while (error > tolerance) && (max_iterations > 0)\n",
    "\n",
    "    for i in 1:S[3]\n",
    "\n",
    "        consumption = bond_grid[i] .+ state .- bond_grid'\n",
    "\n",
    "        c_positive = consumption .> 0\n",
    "\n",
    "        consumption_positive = consumption .* c_positive\n",
    "\n",
    "        #expected_value = V_old * transition\n",
    "\n",
    "        println(expected_value)\n",
    "\n",
    "        #Val[i,:] = utility.(consumption_positive', P) .+ (P[1] * expected_value')\n",
    "\n",
    "    end\n",
    "    \n",
    "    return Val, Pol\n",
    "\n",
    "end"
   ]
  },
  {
   "cell_type": "code",
   "execution_count": 108,
   "metadata": {},
   "outputs": [
    {
     "data": {
      "text/plain": [
       "([0.0 0.0; 0.0 0.0; … ; 0.0 0.0; 0.0 0.0], [0.0 0.0; 0.0 0.0; … ; 0.0 0.0; 0.0 0.0])"
      ]
     },
     "metadata": {},
     "output_type": "display_data"
    }
   ],
   "source": [
    "V, P = Bellman_grid_search(Sizes, Params, 0.01, 1000)"
   ]
  }
 ],
 "metadata": {
  "kernelspec": {
   "display_name": "Julia 1.10.1",
   "language": "julia",
   "name": "julia-1.10"
  },
  "language_info": {
   "file_extension": ".jl",
   "mimetype": "application/julia",
   "name": "julia",
   "version": "1.10.1"
  }
 },
 "nbformat": 4,
 "nbformat_minor": 2
}
