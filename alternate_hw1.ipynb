{
 "cells": [
  {
   "cell_type": "markdown",
   "metadata": {},
   "source": [
    "In this notebook, I solve the alternative HW1 for Kyle Herkenhoff's . In this homework, we are asked to solve a simple Bewley model."
   ]
  },
  {
   "cell_type": "code",
   "execution_count": 25,
   "metadata": {},
   "outputs": [
    {
     "ename": "ArgumentError",
     "evalue": "ArgumentError: Package Interpolations not found in current path.\n- Run `import Pkg; Pkg.add(\"Interpolations\")` to install the Interpolations package.",
     "output_type": "error",
     "traceback": [
      "ArgumentError: Package Interpolations not found in current path.\n",
      "- Run `import Pkg; Pkg.add(\"Interpolations\")` to install the Interpolations package.\n",
      "\n",
      "Stacktrace:\n",
      "  [1] macro expansion\n",
      "    @ .\\loading.jl:1772 [inlined]\n",
      "  [2] macro expansion\n",
      "    @ .\\lock.jl:267 [inlined]\n",
      "  [3] __require(into::Module, mod::Symbol)\n",
      "    @ Base .\\loading.jl:1753\n",
      "  [4] #invoke_in_world#3\n",
      "    @ .\\essentials.jl:926 [inlined]\n",
      "  [5] invoke_in_world\n",
      "    @ .\\essentials.jl:923 [inlined]\n",
      "  [6] require(into::Module, mod::Symbol)\n",
      "    @ Base .\\loading.jl:1746\n",
      "  [7] eval\n",
      "    @ .\\boot.jl:385 [inlined]\n",
      "  [8] include_string(mapexpr::typeof(REPL.softscope), mod::Module, code::String, filename::String)\n",
      "    @ Base .\\loading.jl:2076\n",
      "  [9] #invokelatest#2\n",
      "    @ .\\essentials.jl:892 [inlined]\n",
      " [10] invokelatest\n",
      "    @ .\\essentials.jl:889 [inlined]\n",
      " [11] (::VSCodeServer.var\"#214#215\"{VSCodeServer.NotebookRunCellArguments, String})()\n",
      "    @ VSCodeServer c:\\Users\\bayle\\.vscode\\extensions\\julialang.language-julia-1.75.2\\scripts\\packages\\VSCodeServer\\src\\serve_notebook.jl:19\n",
      " [12] withpath(f::VSCodeServer.var\"#214#215\"{VSCodeServer.NotebookRunCellArguments, String}, path::String)\n",
      "    @ VSCodeServer c:\\Users\\bayle\\.vscode\\extensions\\julialang.language-julia-1.75.2\\scripts\\packages\\VSCodeServer\\src\\repl.jl:274\n",
      " [13] notebook_runcell_request(conn::VSCodeServer.JSONRPC.JSONRPCEndpoint{Base.PipeEndpoint, Base.PipeEndpoint}, params::VSCodeServer.NotebookRunCellArguments)\n",
      "    @ VSCodeServer c:\\Users\\bayle\\.vscode\\extensions\\julialang.language-julia-1.75.2\\scripts\\packages\\VSCodeServer\\src\\serve_notebook.jl:13\n",
      " [14] dispatch_msg(x::VSCodeServer.JSONRPC.JSONRPCEndpoint{Base.PipeEndpoint, Base.PipeEndpoint}, dispatcher::VSCodeServer.JSONRPC.MsgDispatcher, msg::Dict{String, Any})\n",
      "    @ VSCodeServer.JSONRPC c:\\Users\\bayle\\.vscode\\extensions\\julialang.language-julia-1.75.2\\scripts\\packages\\JSONRPC\\src\\typed.jl:67\n",
      " [15] serve_notebook(pipename::String, outputchannel_logger::Base.CoreLogging.SimpleLogger; crashreporting_pipename::String)\n",
      "    @ VSCodeServer c:\\Users\\bayle\\.vscode\\extensions\\julialang.language-julia-1.75.2\\scripts\\packages\\VSCodeServer\\src\\serve_notebook.jl:139\n",
      " [16] top-level scope\n",
      "    @ c:\\Users\\bayle\\.vscode\\extensions\\julialang.language-julia-1.75.2\\scripts\\notebook\\notebook.jl:35"
     ]
    }
   ],
   "source": [
    "using LinearAlgebra, Optim, Makie, Roots, Interpolations"
   ]
  },
  {
   "cell_type": "code",
   "execution_count": 17,
   "metadata": {},
   "outputs": [
    {
     "data": {
      "text/plain": [
       "3-element Vector{Int64}:\n",
       "   2\n",
       "   2\n",
       " 100"
      ]
     },
     "metadata": {},
     "output_type": "display_data"
    }
   ],
   "source": [
    "# Params = [beta, gamma]\n",
    "Params = Vector{Float64}([0.9, 1.0])\n",
    "# Sizes = [grid_expansion_factor, number_of_states, number_of_actions]\n",
    "Sizes = Vector{Int64}([2, 2, 100])"
   ]
  },
  {
   "cell_type": "code",
   "execution_count": 24,
   "metadata": {},
   "outputs": [
    {
     "data": {
      "text/plain": [
       "expanding_grid (generic function with 1 method)"
      ]
     },
     "metadata": {},
     "output_type": "display_data"
    }
   ],
   "source": [
    "function expanding_grid(S)\n",
    "\n",
    "    zero_grid = LinRange(0, 1, S[3])\n",
    "\n",
    "    asset_grid = zeros(S[3], 1)\n",
    "\n",
    "    a_low = 0.0\n",
    "\n",
    "    a_high = 200.0\n",
    "\n",
    "    for i in 1:P[4]\n",
    "\n",
    "        asset_grid[i] = (zero_grid[i]^S[1]) * (a_high - a_low) + a_low\n",
    "\n",
    "    end\n",
    "\n",
    "    return asset_grid\n",
    "\n",
    "end"
   ]
  },
  {
   "cell_type": "code",
   "execution_count": 16,
   "metadata": {},
   "outputs": [
    {
     "data": {
      "text/plain": [
       "utility (generic function with 1 method)"
      ]
     },
     "metadata": {},
     "output_type": "display_data"
    }
   ],
   "source": [
    "function utility(c, P)\n",
    "\n",
    "    if P[2] == 1\n",
    "\n",
    "        return log(c)\n",
    "\n",
    "    else\n",
    "\n",
    "        return c^(1-P[2])/(1-P[2])\n",
    "\n",
    "    end\n",
    "\n",
    "end"
   ]
  },
  {
   "cell_type": "code",
   "execution_count": 18,
   "metadata": {},
   "outputs": [
    {
     "data": {
      "text/plain": [
       "states (generic function with 1 method)"
      ]
     },
     "metadata": {},
     "output_type": "display_data"
    }
   ],
   "source": [
    "function states(S)\n",
    "\n",
    "    states = LinRange(0.95, 1.05, S[2])\n",
    "\n",
    "    transition = zeros(S[2], S[2])\n",
    "\n",
    "    for i in 1:S[2]\n",
    "\n",
    "        for j in 1:S[2]\n",
    "\n",
    "            transition[i,j] = 1/S[2]\n",
    "\n",
    "        end\n",
    "    \n",
    "    end\n",
    "\n",
    "    return states, transition\n",
    "\n",
    "end"
   ]
  },
  {
   "cell_type": "code",
   "execution_count": 26,
   "metadata": {},
   "outputs": [
    {
     "data": {
      "text/plain": [
       "generate_matrices (generic function with 1 method)"
      ]
     },
     "metadata": {},
     "output_type": "display_data"
    }
   ],
   "source": [
    "function generate_matrices(S, P)\n",
    "\n",
    "    value = zeros(S[3], S[2])\n",
    "\n",
    "    policy = zeros(S[3], S[2])\n",
    "\n",
    "    return value, policy\n",
    "\n",
    "end"
   ]
  },
  {
   "cell_type": "code",
   "execution_count": null,
   "metadata": {},
   "outputs": [],
   "source": [
    "function Bellman(S, P)\n",
    "\n",
    "    Val, Pol = generate_matrices(S, P)\n",
    "\n",
    "    V_old = similar(V)\n",
    "\n",
    "    Pol_old = similar(Pol)\n",
    "\n",
    "    for j in 1:S[2]\n",
    "\n",
    "        \n",
    "\n"
   ]
  }
 ],
 "metadata": {
  "kernelspec": {
   "display_name": "Julia 1.10.1",
   "language": "julia",
   "name": "julia-1.10"
  },
  "language_info": {
   "file_extension": ".jl",
   "mimetype": "application/julia",
   "name": "julia",
   "version": "1.10.1"
  }
 },
 "nbformat": 4,
 "nbformat_minor": 2
}
