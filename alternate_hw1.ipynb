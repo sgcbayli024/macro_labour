{
 "cells": [
  {
   "cell_type": "markdown",
   "metadata": {},
   "source": [
    "In this notebook, I solve the alternative HW1 for Kyle Herkenhoff's Macro Labour class. In this homework, we are asked to solve a simple Bewley model."
   ]
  },
  {
   "cell_type": "code",
   "execution_count": 1,
   "metadata": {},
   "outputs": [],
   "source": [
    "using LinearAlgebra, Optim, Plots, SparseArrays"
   ]
  },
  {
   "cell_type": "code",
   "execution_count": 2,
   "metadata": {},
   "outputs": [
    {
     "data": {
      "text/plain": [
       "3-element Vector{Int64}:\n",
       "   2\n",
       "   2\n",
       " 101"
      ]
     },
     "metadata": {},
     "output_type": "display_data"
    }
   ],
   "source": [
    "# Params = [beta, gamma]\n",
    "Params = Vector{Float64}([0.9, 1.0])\n",
    "# Sizes = [grid_expansion_factor, number_of_states, number_of_actions]\n",
    "Sizes = Vector{Int64}([2, 2, 101])"
   ]
  },
  {
   "cell_type": "code",
   "execution_count": 3,
   "metadata": {},
   "outputs": [
    {
     "data": {
      "text/plain": [
       "expanding_grid (generic function with 1 method)"
      ]
     },
     "metadata": {},
     "output_type": "display_data"
    }
   ],
   "source": [
    "function expanding_grid(S)\n",
    "\n",
    "    zero_grid = LinRange(0, 1, S[3])\n",
    "\n",
    "    asset_grid = zeros(S[3], 1)\n",
    "\n",
    "    a_low = -2.0\n",
    "\n",
    "    a_high = 10.0\n",
    "\n",
    "    for i in 1:S[3]\n",
    "\n",
    "        asset_grid[i] = (zero_grid[i]^S[1]) * (a_high - a_low) + a_low\n",
    "\n",
    "    end\n",
    "\n",
    "    return asset_grid\n",
    "\n",
    "end"
   ]
  },
  {
   "cell_type": "code",
   "execution_count": 4,
   "metadata": {},
   "outputs": [
    {
     "data": {
      "text/plain": [
       "states (generic function with 1 method)"
      ]
     },
     "metadata": {},
     "output_type": "display_data"
    }
   ],
   "source": [
    "function states(S)\n",
    "\n",
    "    states = range(exp(1), exp(2), S[2])\n",
    "\n",
    "    transition = zeros(S[2], S[2])\n",
    "\n",
    "    for i in 1:S[2]\n",
    "\n",
    "        for j in 1:S[2]\n",
    "\n",
    "            transition[i,j] = 1/S[2]\n",
    "\n",
    "        end\n",
    "    \n",
    "    end\n",
    "\n",
    "    return states, transition\n",
    "\n",
    "end"
   ]
  },
  {
   "cell_type": "code",
   "execution_count": 5,
   "metadata": {},
   "outputs": [
    {
     "data": {
      "text/plain": [
       "generate_matrices (generic function with 1 method)"
      ]
     },
     "metadata": {},
     "output_type": "display_data"
    }
   ],
   "source": [
    "function generate_matrices(S, P)\n",
    "\n",
    "    value = zeros(S[3], S[2])\n",
    "\n",
    "    policy = zeros(S[3], S[2])\n",
    "\n",
    "    return value, policy\n",
    "\n",
    "end"
   ]
  },
  {
   "cell_type": "code",
   "execution_count": 6,
   "metadata": {},
   "outputs": [
    {
     "data": {
      "text/plain": [
       "Bellman_grid_search (generic function with 1 method)"
      ]
     },
     "metadata": {},
     "output_type": "display_data"
    }
   ],
   "source": [
    "function Bellman_grid_search(S, P, tolerance, max_iterations, q)\n",
    "\n",
    "    iter = 0\n",
    "\n",
    "    println(\"Iterating...\")\n",
    "\n",
    "    state, transition = states(S)\n",
    "\n",
    "    bond_grid = expanding_grid(S)\n",
    "\n",
    "    error = tolerance + 1\n",
    "\n",
    "    Val, Pol = generate_matrices(S, P)\n",
    "\n",
    "    V_old = similar(Val)\n",
    "\n",
    "    V_new = similar(Val)\n",
    "\n",
    "    expected_value = similar(Val)\n",
    "\n",
    "    util = similar(Val)\n",
    "\n",
    "    while (error > tolerance) && (max_iterations > 0)\n",
    "\n",
    "    #for j in 1:S[2]\n",
    "\n",
    "        for i in 1:S[3]\n",
    "\n",
    "            consumption = bond_grid[i] .+ state .- (q .* bond_grid')\n",
    "\n",
    "            c_positive = consumption .> 0\n",
    "\n",
    "            consumption_positive = consumption .* c_positive\n",
    "\n",
    "            expected_value = (V_old * transition)\n",
    "\n",
    "            util =  log.(consumption_positive')\n",
    "\n",
    "            Val = util .+ P[1] * expected_value\n",
    "\n",
    "            Val[.!c_positive'] .= -Inf \n",
    "\n",
    "            V_new[i,:], vmax_indices = findmax(Val, dims=1)\n",
    "\n",
    "            index = [vmax_indices[1][1], vmax_indices[2][1]]\n",
    "\n",
    "            Pol[i,:] = bond_grid[index]\n",
    "\n",
    "        end\n",
    "\n",
    "        error = maximum(abs.(V_new - V_old))\n",
    "\n",
    "        V_old = copy(V_new)\n",
    "\n",
    "        if isinteger(iter/25) == true\n",
    "            println(\"iteration $iter completed with error $error\")\n",
    "        end\n",
    "\n",
    "        iter += 1\n",
    "\n",
    "    end\n",
    "\n",
    "    println(\"converged in $iter iterations\")\n",
    "    \n",
    "    #v = Plots.plot(bond_grid, V_new[:,1], title=\"Value Functions\", label=\"Value 1\")\n",
    "\n",
    "    #Plots.plot!(bond_grid, V_new[:,2], title=\"Value Functions\", label=\"Value 2\")\n",
    "\n",
    "    #display(v)\n",
    "\n",
    "    #p = Plots.plot(bond_grid, Pol[:,1], title=\"Policy Functions\", label=\"Policy 1\")\n",
    "\n",
    "    #Plots.plot!(p, [-2, 10], [-2, 10], color=:black, label=\"45-degree line\")\n",
    "\n",
    "    #Plots.plot!(bond_grid, Pol[:,2], title=\"Policy Functions\", label=\"Policy 2\")\n",
    "\n",
    "    #display(p)\n",
    "    \n",
    "    return V_new, Pol\n",
    "\n",
    "end"
   ]
  },
  {
   "cell_type": "code",
   "execution_count": 8,
   "metadata": {},
   "outputs": [
    {
     "name": "stdout",
     "output_type": "stream",
     "text": [
      "Iterating...\n",
      "iteration 0 completed with error 4.233300009900137\n",
      "iteration 25 completed with error 0.0911435555369593\n",
      "iteration 50 completed with error 0.006543175799656353\n",
      "iteration 75 completed with error 0.0004697332739738158\n",
      "iteration 100 completed with error 3.372205721774435e-5\n",
      "iteration 125 completed with error 2.420899704702606e-6\n",
      "iteration 150 completed with error 1.7379590744326379e-7\n",
      "iteration 175 completed with error 1.2476778721293158e-8\n",
      "converged in 179 iterations\n",
      "  0.118838 seconds (308.12 k allocations: 206.539 MiB, 12.63% gc time)\n"
     ]
    },
    {
     "data": {
      "text/plain": [
       "([14.891989705613998 15.97909854727491; 14.892431063530667 15.979310679240708; … ; 17.040084439566844 17.60805039732661; 17.07098416442713 17.635292105059595], [-2.0 -0.2671999999999999; -2.0 -0.2671999999999999; … ; 4.75 8.378800000000002; 4.9312000000000005 8.6032])"
      ]
     },
     "metadata": {},
     "output_type": "display_data"
    }
   ],
   "source": [
    "@time begin\n",
    "Value, Policy = Bellman_grid_search(Sizes, Params, 1e-8, 10000, 1)\n",
    "end"
   ]
  },
  {
   "cell_type": "code",
   "execution_count": 41,
   "metadata": {},
   "outputs": [
    {
     "data": {
      "text/plain": [
       "clear_markets (generic function with 1 method)"
      ]
     },
     "metadata": {},
     "output_type": "display_data"
    }
   ],
   "source": [
    "function clear_markets(S, P, max_price_iter, quant_tolerance)\n",
    "\n",
    "    index = zeros(S[3], S[2])\n",
    "\n",
    "    state, transition = states(S)\n",
    "\n",
    "    bond_grid = expanding_grid(S)\n",
    "\n",
    "    q_low = P[1]\n",
    "\n",
    "    q_high = 1.0\n",
    "\n",
    "    price_iter = 0\n",
    "\n",
    "    error = quant_tolerance + 1\n",
    "\n",
    "    while price_iter < max_price_iter && error > quant_tolerance\n",
    "\n",
    "        q_update = (q_low + q_high) / 2\n",
    "\n",
    "        Value, Policy = Bellman_grid_search(Sizes, Params, 1e-8, 10000, q_update)\n",
    "\n",
    "        M = zeros(S[3], S[2], S[3], S[2])\n",
    "\n",
    "        for i in 1:S[3]\n",
    "\n",
    "            for j in 1:S[2]\n",
    "\n",
    "            index[i,j] = findfirst(isequal(Policy[i,j]), bond_grid)[1]\n",
    "\n",
    "            end\n",
    "\n",
    "        end\n",
    "\n",
    "        for i in 1:S[3]\n",
    "\n",
    "            for j in 1:S[2]\n",
    "\n",
    "                for k in 1:S[3]\n",
    "\n",
    "                    for l in 1:S[2]\n",
    "\n",
    "                        if Policy[i,j] == bond_grid[k]\n",
    "\n",
    "                            M[i,j,k,l] = 1/S[2]\n",
    "\n",
    "                        else \n",
    "\n",
    "                            M[i,j,k,l] = 0\n",
    "\n",
    "                        end\n",
    "\n",
    "                    end\n",
    "\n",
    "                end\n",
    "\n",
    "            end\n",
    "\n",
    "        end\n",
    "\n",
    "        O = reshape(M, (S[3]*S[2], S[3]*S[2]))\n",
    "\n",
    "        number_of_states = S[3]*S[2]\n",
    "\n",
    "        A = [I - O'; ones(1, number_of_states)]\n",
    "\n",
    "        b = [zeros(number_of_states); 1]\n",
    "\n",
    "        x = A\\b\n",
    "\n",
    "        negative_values = x .< 0\n",
    "\n",
    "        x[negative_values] .= 0\n",
    "\n",
    "        small_values = abs.(x) .< 1e-6\n",
    "\n",
    "        x[small_values] .= 0\n",
    "\n",
    "        x = x ./ sum(x)\n",
    "\n",
    "        p0 = reshape(Policy, (number_of_states, 1))\n",
    "\n",
    "        agg = dot(x, p0)\n",
    "\n",
    "        if agg < 0\n",
    "\n",
    "            q_low = q_low\n",
    "\n",
    "            q_high = q_update\n",
    "\n",
    "        elseif agg > 0\n",
    "\n",
    "            q_low = q_update\n",
    "\n",
    "            q_high = q_high\n",
    "\n",
    "        end\n",
    "        \n",
    "        error = abs(q_high - q_low)\n",
    "\n",
    "        price_iter += 1\n",
    "        \n",
    "        println(\"iteration $price_iter completed with error $error\")\n",
    "\n",
    "    end\n",
    "\n",
    "    return q_low, q_high\n",
    "    \n",
    "end\n",
    "    "
   ]
  },
  {
   "cell_type": "code",
   "execution_count": 45,
   "metadata": {},
   "outputs": [
    {
     "data": {
      "text/plain": [
       "(0.9771362304687499, 0.9771423339843749)"
      ]
     },
     "metadata": {},
     "output_type": "display_data"
    }
   ],
   "source": [
    "price = clear_markets(Sizes, Params, 1000, 1e-5)"
   ]
  },
  {
   "cell_type": "code",
   "execution_count": 29,
   "metadata": {},
   "outputs": [
    {
     "data": {
      "text/plain": [
       "check_zero (generic function with 2 methods)"
      ]
     },
     "metadata": {},
     "output_type": "display_data"
    }
   ],
   "source": [
    "function check_zero(S,P, q)\n",
    "\n",
    "    index = zeros(S[3], S[2])\n",
    "\n",
    "    state, transition = states(S)\n",
    "\n",
    "    bond_grid = expanding_grid(S)\n",
    "\n",
    "    Value, Policy = Bellman_grid_search(Sizes, Params, 1e-8, 10000, q)\n",
    "\n",
    "    M = zeros(S[3], S[2], S[3], S[2])\n",
    "\n",
    "    for i in 1:S[3]\n",
    "\n",
    "        for j in 1:S[2]\n",
    "\n",
    "        index[i,j] = findfirst(isequal(Policy[i,j]), bond_grid)[1]\n",
    "\n",
    "        end\n",
    "\n",
    "    end\n",
    "\n",
    "    for i in 1:S[3]\n",
    "\n",
    "        for j in 1:S[2]\n",
    "\n",
    "            for k in 1:S[3]\n",
    "\n",
    "                for l in 1:S[2]\n",
    "\n",
    "                    if Policy[i,j] == bond_grid[k]\n",
    "\n",
    "                        M[i,j,k,l] = 1/S[2]\n",
    "\n",
    "                    else \n",
    "\n",
    "                        M[i,j,k,l] = 0\n",
    "\n",
    "                    end\n",
    "\n",
    "                end\n",
    "\n",
    "            end\n",
    "\n",
    "        end\n",
    "\n",
    "    end\n",
    "\n",
    "    O = reshape(M, (S[3]*S[2], S[3]*S[2]))\n",
    "\n",
    "    number_of_states = S[3]*S[2]\n",
    "\n",
    "    A = [I - O'; ones(1, number_of_states)]\n",
    "\n",
    "    b = [zeros(number_of_states); 1]\n",
    "\n",
    "    x = A\\b\n",
    "\n",
    "    negative_values = x .< 0\n",
    "\n",
    "    x[negative_values] .= 0\n",
    "\n",
    "    small_values = abs.(x) .< 1e-6\n",
    "\n",
    "    x[small_values] .= 0\n",
    "\n",
    "    x = x ./ sum(x)\n",
    "\n",
    "    p0 = reshape(Policy, (number_of_states, 1))\n",
    "\n",
    "    agg = dot(x, p0)\n",
    "\n",
    "    return agg\n",
    "\n",
    "end"
   ]
  },
  {
   "cell_type": "code",
   "execution_count": 43,
   "metadata": {},
   "outputs": [
    {
     "data": {
      "text/plain": [
       "0.007965987046326561"
      ]
     },
     "metadata": {},
     "output_type": "display_data"
    }
   ],
   "source": [
    "agg_b_0 = check_zero(Sizes, Params, 0.9765625) "
   ]
  },
  {
   "cell_type": "code",
   "execution_count": 44,
   "metadata": {},
   "outputs": [
    {
     "data": {
      "text/plain": [
       "-0.005283879467871538"
      ]
     },
     "metadata": {},
     "output_type": "display_data"
    }
   ],
   "source": [
    "agg_b_1 = check_zero(Sizes, Params, 0.97734375) "
   ]
  }
 ],
 "metadata": {
  "kernelspec": {
   "display_name": "Julia 1.10.1",
   "language": "julia",
   "name": "julia-1.10"
  },
  "language_info": {
   "file_extension": ".jl",
   "mimetype": "application/julia",
   "name": "julia",
   "version": "1.10.1"
  }
 },
 "nbformat": 4,
 "nbformat_minor": 2
}
