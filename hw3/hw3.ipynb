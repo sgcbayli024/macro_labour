{
 "cells": [
  {
   "cell_type": "code",
   "execution_count": 1,
   "metadata": {},
   "outputs": [],
   "source": [
    "using LinearAlgebra, Plots, Random, Distributions, NLsolve"
   ]
  },
  {
   "cell_type": "markdown",
   "metadata": {},
   "source": [
    "First, let us create a NamedTuple with our parameters."
   ]
  },
  {
   "cell_type": "code",
   "execution_count": 2,
   "metadata": {},
   "outputs": [
    {
     "data": {
      "text/plain": [
       "(β = 0.72, r = 0.012, λ = 4, z = 0.4, p_star = 1.0, s_star = 0.1, c = 0.213, σ = 0.0165, γ = 0.004, n = 2001, lb = -1.0, ub = 1.0, mc = 1.355, me = -0.72, max_iter = 1000, agents = 10000, periods = 1213, seed1 = 10, seed2 = 4, seed3 = 11)"
      ]
     },
     "metadata": {},
     "output_type": "display_data"
    }
   ],
   "source": [
    "params = (; β = 0.72, # bargaining_power\n",
    "            r = 0.012, # discount rate\n",
    "            λ = 4, # arrival rate\n",
    "            z = 0.4, # value of leisure\n",
    "            p_star = 1., # productivity\n",
    "            s_star = 0.1, # separation rate\n",
    "            c = 0.213, # cost of vacancy\n",
    "            σ = 0.0165, # standard deviation \n",
    "            γ = 0.004, # autoregressive coefficient\n",
    "            n = 2001, # gridpoints\n",
    "            lb = -1., # bounds for grid\n",
    "            ub = 1., # bounds for grid\n",
    "            mc = 1.355, # constant term in matching function\n",
    "            me = -0.72, # exponent in matching function\n",
    "            max_iter  = 1000, # maximum number of iterations\n",
    "            agents = 10000, # number of agents\n",
    "            periods = 1213, # number of periods\n",
    "            seed1 = 10, # seed1 for random number generator\n",
    "            seed2 = 4, # seed2 for random number generator\n",
    "            seed3 = 11 ) # seed3 for random number generator "
   ]
  },
  {
   "cell_type": "code",
   "execution_count": 3,
   "metadata": {},
   "outputs": [
    {
     "data": {
      "text/plain": [
       "matching_function (generic function with 1 method)"
      ]
     },
     "metadata": {},
     "output_type": "display_data"
    }
   ],
   "source": [
    "function matching_function(grid, params)\n",
    "    (; mc, me) = params\n",
    "    return mc .* (grid .^ me)\n",
    "end"
   ]
  },
  {
   "cell_type": "code",
   "execution_count": 4,
   "metadata": {},
   "outputs": [
    {
     "data": {
      "text/plain": [
       "2001×2001 Matrix{Float64}:\n",
       " 0.0     1.0    0.0     0.0    0.0     0.0    …  0.0    0.0     0.0    0.0\n",
       " 0.0005  0.0    0.9995  0.0    0.0     0.0       0.0    0.0     0.0    0.0\n",
       " 0.0     0.001  0.0     0.999  0.0     0.0       0.0    0.0     0.0    0.0\n",
       " 0.0     0.0    0.0015  0.0    0.9985  0.0       0.0    0.0     0.0    0.0\n",
       " 0.0     0.0    0.0     0.002  0.0     0.998     0.0    0.0     0.0    0.0\n",
       " 0.0     0.0    0.0     0.0    0.0025  0.0    …  0.0    0.0     0.0    0.0\n",
       " 0.0     0.0    0.0     0.0    0.0     0.003     0.0    0.0     0.0    0.0\n",
       " 0.0     0.0    0.0     0.0    0.0     0.0       0.0    0.0     0.0    0.0\n",
       " 0.0     0.0    0.0     0.0    0.0     0.0       0.0    0.0     0.0    0.0\n",
       " 0.0     0.0    0.0     0.0    0.0     0.0       0.0    0.0     0.0    0.0\n",
       " ⋮                                     ⋮      ⋱                        ⋮\n",
       " 0.0     0.0    0.0     0.0    0.0     0.0       0.0    0.0     0.0    0.0\n",
       " 0.0     0.0    0.0     0.0    0.0     0.0       0.0    0.0     0.0    0.0\n",
       " 0.0     0.0    0.0     0.0    0.0     0.0       0.0    0.0     0.0    0.0\n",
       " 0.0     0.0    0.0     0.0    0.0     0.0    …  0.0    0.0     0.0    0.0\n",
       " 0.0     0.0    0.0     0.0    0.0     0.0       0.002  0.0     0.0    0.0\n",
       " 0.0     0.0    0.0     0.0    0.0     0.0       0.0    0.0015  0.0    0.0\n",
       " 0.0     0.0    0.0     0.0    0.0     0.0       0.999  0.0     0.001  0.0\n",
       " 0.0     0.0    0.0     0.0    0.0     0.0       0.0    0.9995  0.0    0.0005\n",
       " 0.0     0.0    0.0     0.0    0.0     0.0    …  0.0    0.0     1.0    0.0"
      ]
     },
     "metadata": {},
     "output_type": "display_data"
    }
   ],
   "source": [
    "function generate_income_process(params)\n",
    "    (; n, lb, ub) = params\n",
    "    Δ = ub / n\n",
    "    grid = LinRange(lb, ub, n)\n",
    "    exp_grid = exp.(grid)\n",
    "    transition_matrix = zeros(n, n)\n",
    "    for i in 1:n\n",
    "        if i == 1\n",
    "            transition_matrix[i, i] = ( 1/2 ) * (1 .+ (grid[i] / (n*Δ)))\n",
    "            transition_matrix[i, i+1] = ( 1/2 ) * (1 .- (grid[i] / (n*Δ)))\n",
    "        elseif i == n\n",
    "            transition_matrix[i, i-1] = ( 1/2 ) * (1 .+ (grid[i] / (n*Δ)))\n",
    "            transition_matrix[i, i] = ( 1/2 ) * (1 .- (grid[i] / (n*Δ)))\n",
    "        else\n",
    "            transition_matrix[i, i-1] = ( 1/2 ) * (1 .+ (grid[i] / (n*Δ)))\n",
    "            transition_matrix[i, i+1] = ( 1/2 ) * (1 .- (grid[i] / (n*Δ)))\n",
    "        end\n",
    "    end\n",
    "    return exp_grid, transition_matrix\n",
    "end\n",
    "\n",
    "income_process, transition_matrix = generate_income_process(params)\n",
    "display(transition_matrix)"
   ]
  },
  {
   "cell_type": "code",
   "execution_count": 5,
   "metadata": {},
   "outputs": [
    {
     "data": {
      "text/plain": [
       "theta_grid (generic function with 1 method)"
      ]
     },
     "metadata": {},
     "output_type": "display_data"
    }
   ],
   "source": [
    "function productivity_grid(params)\n",
    "    (; z, p_star) = params\n",
    "    grid = generate_income_process(params)\n",
    "    p_grid = z .+ (grid[1] .* (p_star - z))\n",
    "    return p_grid\n",
    "end\n",
    "\n",
    "function separation_grid(params)\n",
    "    (; n, s_star) = params\n",
    "    grid = generate_income_process(params)\n",
    "    s_grid = grid[1] .* s_star\n",
    "    return s_grid\n",
    "end\n",
    "\n",
    "function theta_grid(params)\n",
    "    (; n) = params\n",
    "    grid = generate_income_process(params)\n",
    "    θ_grid = LinRange(0.1,3,n)\n",
    "    return θ_grid\n",
    "end"
   ]
  },
  {
   "cell_type": "code",
   "execution_count": 6,
   "metadata": {},
   "outputs": [
    {
     "name": "stdout",
     "output_type": "stream",
     "text": [
      "Iteration: 1, Error: 22.24042821451652\n",
      "Iteration: 2, Error: 1.645337822710512\n",
      "Iteration: 3, Error: 0.13490677881814264\n",
      "Iteration: 4, Error: 0.012028792790704025\n",
      "Iteration: 5, Error: 0.0012228452433972544\n",
      "Iteration: 6, Error: 0.00014429373642639175\n"
     ]
    },
    {
     "data": {
      "text/plain": [
       "2001-element Vector{Float64}:\n",
       " 0.3504679344054823\n",
       " 0.3508306262460641\n",
       " 0.3511936493759864\n",
       " 0.3515570985052328\n",
       " 0.351920871184671\n",
       " 0.3522850393677497\n",
       " 0.35264958272735075\n",
       " 0.3530144697176859\n",
       " 0.3533797712593901\n",
       " 0.35374541566147344\n",
       " ⋮\n",
       " 2.7124282294989412\n",
       " 2.7151998609556762\n",
       " 2.717974312261973\n",
       " 2.7207515685657864\n",
       " 2.723531674825363\n",
       " 2.726314585161308\n",
       " 2.7291003336030744\n",
       " 2.7318889231898624\n",
       " 2.734680325969482"
      ]
     },
     "metadata": {},
     "output_type": "display_data"
    }
   ],
   "source": [
    "function iterate_prod(grid, params)\n",
    "    (; β, r, λ, z, p_star, s_star, c, σ, γ, n, lb, ub, mc, me, max_iter) = params\n",
    "    Δ = ub / n\n",
    "    exp_grid, transition_matrix = generate_income_process(params)\n",
    "    prod_grid = productivity_grid(params)\n",
    "    iter = 0\n",
    "    error = Inf\n",
    "    new_grid = zeros(n)\n",
    "    while iter < max_iter && error > 0.001\n",
    "        iter += 1\n",
    "        match_grid = matching_function(grid, params)\n",
    "        for i in 1:n\n",
    "            if i == 1\n",
    "                result = nlsolve(theta -> - ((r+s_star+λ) / match_grid[i]) + (((1-β)*(prod_grid[i]-z)) / c ) - β*theta[1] + λ*((transition_matrix[i, i+1] / match_grid[i+1])), [grid[i]])\n",
    "                new_grid[i] = result.zero[1]\n",
    "            elseif i == n\n",
    "                result = nlsolve(theta -> - ((r+s_star+λ) / match_grid[i]) + (((1-β)*(prod_grid[i]-z)) / c ) - β*theta[1] + λ*((transition_matrix[i, i-1] / match_grid[i-1])), [grid[i]])\n",
    "                new_grid[i] = result.zero[1]\n",
    "            else\n",
    "                result = nlsolve(theta -> - ((r+s_star+λ) / match_grid[i]) + (((1-β)*(prod_grid[i]-z)) / c ) - β*theta[1] + λ*((transition_matrix[i, i-1] / match_grid[i-1]) + (transition_matrix[i, i+1] / match_grid[i+1])), [grid[i]])\n",
    "                new_grid[i] = result.zero[1]\n",
    "            end\n",
    "        end\n",
    "        error = norm(new_grid - grid)\n",
    "        grid = copy(new_grid)\n",
    "        if iter % 1 == 0\n",
    "            println(\"Iteration: $iter, Error: $error\")\n",
    "        end\n",
    "    end\n",
    "    return grid\n",
    "end\n",
    "\n",
    "θ_grid = theta_grid(params)\n",
    "thetas = iterate_prod(θ_grid, params)"
   ]
  },
  {
   "cell_type": "code",
   "execution_count": 7,
   "metadata": {},
   "outputs": [
    {
     "name": "stdout",
     "output_type": "stream",
     "text": [
      "Iteration: 1, Error: 54.000472622261384\n",
      "Iteration: 2, Error: 7.700569011569239\n",
      "Iteration: 3, Error: 1.4943263408370036\n",
      "Iteration: 4, Error: 0.29482678774158727\n",
      "Iteration: 5, Error: 0.0614452372134459\n",
      "Iteration: 6, Error: 0.013214677460164956\n",
      "Iteration: 7, Error: 0.002923860883392916\n",
      "Iteration: 8, Error: 0.000711446442226081\n"
     ]
    },
    {
     "data": {
      "text/plain": [
       "2001-element Vector{Float64}:\n",
       " 1.0437770409880436\n",
       " 1.0437396761402775\n",
       " 1.0437019834920682\n",
       " 1.043664469796426\n",
       " 1.0436265391864397\n",
       " 1.0435891756585358\n",
       " 1.0435511573978233\n",
       " 1.0435135185145556\n",
       " 1.043475639612994\n",
       " 1.0434378362402184\n",
       " ⋮\n",
       " 0.8411663056806334\n",
       " 0.8410053785000571\n",
       " 0.8407777146815644\n",
       " 0.8405965475521828\n",
       " 0.8403823477397983\n",
       " 0.8401908473220112\n",
       " 0.8399995931775783\n",
       " 0.8397657141037753\n",
       " 0.8396222563331162"
      ]
     },
     "metadata": {},
     "output_type": "display_data"
    }
   ],
   "source": [
    "function iterate_sep(grid, params)\n",
    "    (; β, r, λ, z, p_star, s_star, c, σ, γ, n, lb, ub, mc, me, max_iter) = params\n",
    "    Δ = ub / n\n",
    "    exp_grid, transition_matrix = generate_income_process(params)\n",
    "    sep_grid = separation_grid(params)\n",
    "    iter = 0\n",
    "    error = Inf\n",
    "    new_grid = zeros(n)\n",
    "    while iter < max_iter && error > 0.001\n",
    "        iter += 1\n",
    "        match_grid = matching_function(grid, params)\n",
    "        for i in 1:n\n",
    "            if i == 1\n",
    "                result = nlsolve(theta -> - ((r+sep_grid[i]+λ) / match_grid[i]) + (((1-β)*(p_star-z)) / c ) - β*theta[1] + λ*((transition_matrix[i, i+1] / match_grid[i+1])), [grid[i]])\n",
    "                new_grid[i] = result.zero[1]\n",
    "            elseif i == n\n",
    "                result = nlsolve(theta -> - ((r+sep_grid[i]+λ) / match_grid[i]) + (((1-β)*(p_star-z)) / c ) - β*theta[1] + λ*((transition_matrix[i, i-1] / match_grid[i-1])), [grid[i]])\n",
    "                new_grid[i] = result.zero[1]\n",
    "            else\n",
    "                result = nlsolve(theta -> - ((r+sep_grid[i]+λ) / match_grid[i]) + (((1-β)*(p_star-z)) / c ) - β*theta[1] + λ*((transition_matrix[i, i-1] / match_grid[i-1]) + (transition_matrix[i, i+1] / match_grid[i+1])), [grid[i]])\n",
    "                new_grid[i] = result.zero[1]\n",
    "            end\n",
    "        end\n",
    "        error = norm(new_grid - grid)\n",
    "        grid = copy(new_grid)\n",
    "        if iter % 1 == 0\n",
    "            println(\"Iteration: $iter, Error: $error\")\n",
    "        end\n",
    "    end\n",
    "    return grid\n",
    "end\n",
    "\n",
    "θ_grid = theta_grid(params)\n",
    "sep_thetas = iterate_sep(θ_grid, params)\n",
    "    "
   ]
  },
  {
   "cell_type": "code",
   "execution_count": 8,
   "metadata": {},
   "outputs": [
    {
     "data": {
      "text/plain": [
       "2001-element LinRange{Float64, Int64}:\n",
       " 0.8, 0.79992, 0.79984, 0.79976, 0.79968, …, 0.64024, 0.64016, 0.64008, 0.64"
      ]
     },
     "metadata": {},
     "output_type": "display_data"
    }
   ],
   "source": [
    "function bargaining_grid(params)\n",
    "    (; n) = params\n",
    "    lower_bound = 0.64\n",
    "    upper_bound = 0.80\n",
    "    grid = LinRange(lower_bound, upper_bound, n)    \n",
    "    return reverse(grid)\n",
    "end\n",
    "\n",
    "barg_grid = bargaining_grid(params)"
   ]
  },
  {
   "cell_type": "code",
   "execution_count": 9,
   "metadata": {},
   "outputs": [
    {
     "name": "stdout",
     "output_type": "stream",
     "text": [
      "Iteration: 1, Error: 20.095365965672737\n",
      "Iteration: 2, Error: 1.5756105466694514\n",
      "Iteration: 3, Error: 0.13157801754922868\n",
      "Iteration: 4, Error: 0.01142946280340591\n",
      "Iteration: 5, Error: 0.0010867025345807162\n",
      "Iteration: 6, Error: 0.00012097652090862869\n"
     ]
    },
    {
     "data": {
      "text/plain": [
       "2001-element Vector{Float64}:\n",
       " 0.22514867331977384\n",
       " 0.22549511191916263\n",
       " 0.22584201765365652\n",
       " 0.2261894348516834\n",
       " 0.2265373416182277\n",
       " 0.22688574386916102\n",
       " 0.2272346394659428\n",
       " 0.2275840402300056\n",
       " 0.22793393091317585\n",
       " 0.22828432428018341\n",
       " ⋮\n",
       " 3.904921692787293\n",
       " 3.9102604083157284\n",
       " 3.9156063117875815\n",
       " 3.920959357162226\n",
       " 3.9263195420176134\n",
       " 3.9316869376197885\n",
       " 3.937061459077796\n",
       " 3.942443251550919\n",
       " 3.9478321392164313"
      ]
     },
     "metadata": {},
     "output_type": "display_data"
    }
   ],
   "source": [
    "function iterate_prod_barg(grid, params)\n",
    "    (; r, λ, z, p_star, s_star, c, σ, γ, n, lb, ub, mc, me, max_iter) = params\n",
    "    Δ = ub / n\n",
    "    exp_grid, transition_matrix = generate_income_process(params)\n",
    "    prod_grid = productivity_grid(params)\n",
    "    β = bargaining_grid(params)\n",
    "    iter = 0\n",
    "    error = Inf\n",
    "    new_grid = zeros(n)\n",
    "    while iter < max_iter && error > 0.001\n",
    "        iter += 1\n",
    "        match_grid = matching_function(grid, params)\n",
    "        for i in 1:n\n",
    "            if i == 1\n",
    "                result = nlsolve(theta -> - ((r+s_star+λ) / match_grid[i]) + (((1-β[i])*(prod_grid[i]-z)) / c ) - β[i]*theta[1] + λ*((transition_matrix[i, i+1] / match_grid[i+1])), [grid[i]])\n",
    "                new_grid[i] = result.zero[1]\n",
    "            elseif i == n\n",
    "                result = nlsolve(theta -> - ((r+s_star+λ) / match_grid[i]) + (((1-β[i])*(prod_grid[i]-z)) / c ) - β[i]*theta[1] + λ*((transition_matrix[i, i-1] / match_grid[i-1])), [grid[i]])\n",
    "                new_grid[i] = result.zero[1]\n",
    "            else\n",
    "                result = nlsolve(theta -> - ((r+s_star+λ) / match_grid[i]) + (((1-β[i])*(prod_grid[i]-z)) / c ) - β[i]*theta[1] + λ*((transition_matrix[i, i-1] / match_grid[i-1]) + (transition_matrix[i, i+1] / match_grid[i+1])), [grid[i]])\n",
    "                new_grid[i] = result.zero[1]\n",
    "            end\n",
    "        end\n",
    "        error = norm(new_grid - grid)\n",
    "        grid = copy(new_grid)\n",
    "        if iter % 1 == 0\n",
    "            println(\"Iteration: $iter, Error: $error\")\n",
    "        end\n",
    "    end\n",
    "    return grid\n",
    "end\n",
    "\n",
    "θ_grid = theta_grid(params)\n",
    "thetas_barg = iterate_prod_barg(θ_grid, params)"
   ]
  },
  {
   "cell_type": "code",
   "execution_count": 10,
   "metadata": {},
   "outputs": [
    {
     "name": "stdout",
     "output_type": "stream",
     "text": [
      "Iteration: 1, Error: 45.474316076776056\n",
      "Iteration: 2, Error: 6.846475992927783\n",
      "Iteration: 3, Error: 1.3201216451684383\n",
      "Iteration: 4, Error: 0.26430013613346603\n",
      "Iteration: 5, Error: 0.055789793551270284\n",
      "Iteration: 6, Error: 0.012175779014866875\n",
      "Iteration: 7, Error: 0.0027348862772769906\n",
      "Iteration: 8, Error: 0.0006594973776237966\n"
     ]
    },
    {
     "data": {
      "text/plain": [
       "2001-element Vector{Float64}:\n",
       " 0.6713666915893561\n",
       " 0.6716778304360874\n",
       " 0.6719889380856261\n",
       " 0.6723001499223206\n",
       " 0.672611201407783\n",
       " 0.6729225294044114\n",
       " 0.6732336434657564\n",
       " 0.6735449124293169\n",
       " 0.6738562003486475\n",
       " 0.6741673679889543\n",
       " ⋮\n",
       " 1.2079839606664111\n",
       " 1.2081191258054373\n",
       " 1.2082316062953533\n",
       " 1.2083532277483562\n",
       " 1.208469303179048\n",
       " 1.208599629669544\n",
       " 1.2087045705270776\n",
       " 1.20883275541049\n",
       " 1.2089486087360286"
      ]
     },
     "metadata": {},
     "output_type": "display_data"
    }
   ],
   "source": [
    "function iterate_sep_barg(grid, params)\n",
    "    (; r, λ, z, p_star, s_star, c, σ, γ, n, lb, ub, mc, me, max_iter) = params\n",
    "    Δ = ub / n\n",
    "    exp_grid, transition_matrix = generate_income_process(params)\n",
    "    sep_grid = separation_grid(params)\n",
    "    β = bargaining_grid(params)\n",
    "    iter = 0\n",
    "    error = Inf\n",
    "    new_grid = zeros(n)\n",
    "    while iter < max_iter && error > 0.001\n",
    "        iter += 1\n",
    "        match_grid = matching_function(grid, params)\n",
    "        for i in 1:n\n",
    "            if i == 1\n",
    "                result = nlsolve(theta -> - ((r+sep_grid[i]+λ) / match_grid[i]) + (((1-β[i])*(p_star-z)) / c ) - β[i]*theta[1] + λ*((transition_matrix[i, i+1] / match_grid[i+1])), [grid[i]])\n",
    "                new_grid[i] = result.zero[1]\n",
    "            elseif i == n\n",
    "                result = nlsolve(theta -> - ((r+sep_grid[i]+λ) / match_grid[i]) + (((1-β[i])*(p_star-z)) / c ) - β[i]*theta[1] + λ*((transition_matrix[i, i-1] / match_grid[i-1])), [grid[i]])\n",
    "                new_grid[i] = result.zero[1]\n",
    "            else\n",
    "                result = nlsolve(theta -> - ((r+sep_grid[i]+λ) / match_grid[i]) + (((1-β[i])*(p_star-z)) / c ) - β[i]*theta[1] + λ*((transition_matrix[i, i-1] / match_grid[i-1]) + (transition_matrix[i, i+1] / match_grid[i+1])), [grid[i]])\n",
    "                new_grid[i] = result.zero[1]\n",
    "            end\n",
    "        end\n",
    "        error = norm(new_grid - grid)\n",
    "        grid = copy(new_grid)\n",
    "        if iter % 1 == 0\n",
    "            println(\"Iteration: $iter, Error: $error\")\n",
    "        end\n",
    "    end\n",
    "    return grid\n",
    "end\n",
    "\n",
    "θ_grid = theta_grid(params)\n",
    "sep_thetas = iterate_sep_barg(θ_grid, params)"
   ]
  },
  {
   "cell_type": "code",
   "execution_count": 11,
   "metadata": {},
   "outputs": [
    {
     "data": {
      "text/plain": [
       "1×1213 Matrix{Int64}:\n",
       " 0  0  0  0  1  1  1  1  0  0  0  0  0  …  1  0  0  0  0  0  0  1  0  0  0  1"
      ]
     },
     "metadata": {},
     "output_type": "display_data"
    }
   ],
   "source": [
    "function generate_poisson_matrix(params)\n",
    "    (;periods, agents, λ) = params\n",
    "    dist = Poisson(λ)\n",
    "    matrix = rand(dist, 1, periods)\n",
    "    matrix[matrix .!= λ] .= 0.0\n",
    "    matrix[matrix .!= 0.0] .= 1.0\n",
    "    transition_matrix = zeros(1, periods)\n",
    "    Random.seed!(params.seed2)\n",
    "    dist2 = Uniform(0,1)\n",
    "    transitions = rand(dist2, 1, periods)\n",
    "    return matrix, transitions\n",
    "end\n",
    "\n",
    "arrival_matrix, transitions = generate_poisson_matrix(params)\n",
    "display(arrival_matrix)"
   ]
  },
  {
   "cell_type": "code",
   "execution_count": 12,
   "metadata": {},
   "outputs": [
    {
     "data": {
      "text/plain": [
       "10000×1213 Matrix{Float64}:\n",
       " 0.0  0.0  0.0  0.0  0.0  0.0  0.0  0.0  …  0.0  0.0  0.0  0.0  0.0  0.0  0.0\n",
       " 0.0  0.0  0.0  0.0  1.0  0.0  1.0  0.0     0.0  0.0  0.0  0.0  0.0  1.0  0.0\n",
       " 0.0  0.0  0.0  0.0  0.0  1.0  0.0  0.0     0.0  1.0  0.0  0.0  0.0  0.0  0.0\n",
       " 0.0  0.0  0.0  1.0  0.0  0.0  0.0  0.0     0.0  0.0  0.0  0.0  0.0  0.0  0.0\n",
       " 0.0  0.0  0.0  0.0  0.0  0.0  0.0  0.0     0.0  0.0  0.0  0.0  0.0  0.0  0.0\n",
       " 0.0  0.0  0.0  1.0  0.0  1.0  0.0  0.0  …  0.0  0.0  0.0  1.0  0.0  0.0  0.0\n",
       " 0.0  0.0  0.0  0.0  1.0  0.0  0.0  0.0     0.0  0.0  1.0  0.0  0.0  0.0  0.0\n",
       " 0.0  0.0  0.0  0.0  0.0  0.0  0.0  0.0     0.0  0.0  0.0  1.0  0.0  0.0  1.0\n",
       " 0.0  0.0  0.0  0.0  0.0  0.0  0.0  0.0     0.0  0.0  0.0  0.0  0.0  0.0  1.0\n",
       " 0.0  0.0  0.0  1.0  0.0  0.0  0.0  0.0     1.0  0.0  1.0  0.0  0.0  0.0  0.0\n",
       " ⋮                        ⋮              ⋱                      ⋮         \n",
       " 0.0  0.0  0.0  0.0  0.0  0.0  0.0  0.0     0.0  0.0  0.0  0.0  0.0  0.0  0.0\n",
       " 0.0  0.0  0.0  0.0  0.0  0.0  0.0  0.0     0.0  0.0  0.0  0.0  0.0  0.0  0.0\n",
       " 0.0  0.0  0.0  0.0  1.0  0.0  0.0  0.0     0.0  0.0  0.0  0.0  0.0  0.0  0.0\n",
       " 0.0  0.0  0.0  0.0  0.0  0.0  0.0  0.0     0.0  0.0  0.0  0.0  0.0  0.0  0.0\n",
       " 0.0  0.0  0.0  0.0  0.0  0.0  0.0  0.0  …  0.0  0.0  0.0  0.0  0.0  0.0  0.0\n",
       " 0.0  0.0  0.0  0.0  0.0  0.0  0.0  0.0     0.0  1.0  0.0  0.0  0.0  0.0  1.0\n",
       " 1.0  0.0  0.0  0.0  1.0  0.0  0.0  0.0     0.0  0.0  0.0  0.0  0.0  0.0  0.0\n",
       " 0.0  0.0  0.0  0.0  0.0  0.0  0.0  0.0     0.0  0.0  0.0  0.0  0.0  0.0  0.0\n",
       " 0.0  0.0  0.0  0.0  0.0  0.0  0.0  0.0     0.0  0.0  0.0  0.0  1.0  0.0  0.0"
      ]
     },
     "metadata": {},
     "output_type": "display_data"
    }
   ],
   "source": [
    "function generate_sep_matrix(params)\n",
    "    (;agents, periods, seed1) = params\n",
    "    Random.seed!(seed1)\n",
    "    dist = Uniform(0., 1.)\n",
    "    matrix = rand(dist, agents, periods)\n",
    "    matrix[matrix .> 0.1] .= 0.0\n",
    "    matrix[matrix .!= 0.0] .= 1.0\n",
    "    return matrix\n",
    "end\n",
    "\n",
    "sep_matrix = generate_sep_matrix(params)"
   ]
  },
  {
   "cell_type": "code",
   "execution_count": 13,
   "metadata": {},
   "outputs": [
    {
     "data": {
      "text/plain": [
       "10000×1213 Matrix{Float64}:\n",
       " 0.64056    0.780026   0.615713   …  0.981091  0.746891   0.925536\n",
       " 0.324442   0.861464   0.507289      0.895722  0.251462   0.0015065\n",
       " 0.428415   0.274646   0.508303      0.911043  0.181553   0.438091\n",
       " 0.353998   0.504371   0.746542      0.470011  0.520421   0.152647\n",
       " 0.624069   0.958314   0.964312      0.614595  0.778817   0.224829\n",
       " 0.609341   0.926286   0.549811   …  0.85397   0.0971608  0.700282\n",
       " 0.814895   0.682179   0.969977      0.974736  0.10915    0.0661041\n",
       " 0.858176   0.426651   0.6334        0.352351  0.131948   0.143058\n",
       " 0.403735   0.905022   0.75598       0.329795  0.359055   0.635839\n",
       " 0.0465632  0.0466358  0.330353      0.322006  0.96039    0.774086\n",
       " ⋮                                ⋱  ⋮                    \n",
       " 0.483252   0.985512   0.456219      0.141671  0.524543   0.349105\n",
       " 0.0409949  0.319155   0.154516      0.584434  0.744197   0.290747\n",
       " 0.277812   0.522861   0.0928757     0.614265  0.1321     0.556807\n",
       " 0.416269   0.958241   0.914777      0.91105   0.58617    0.19872\n",
       " 0.49475    0.548201   0.198073   …  0.045264  0.534619   0.764124\n",
       " 0.313207   0.550894   0.406817      0.672582  0.877183   0.591107\n",
       " 0.832828   0.915935   0.638548      0.571684  0.859835   0.871742\n",
       " 0.231427   0.975225   0.502016      0.94834   0.39674    0.21368\n",
       " 0.297181   0.859075   0.419337      0.868201  0.996694   0.834273"
      ]
     },
     "metadata": {},
     "output_type": "display_data"
    }
   ],
   "source": [
    "function generate_matching_matrix(params)\n",
    "    (;agents, periods, seed2) = params\n",
    "    Random.seed!(seed2)\n",
    "    dist = Uniform(0., 1.)\n",
    "    matrix = rand(dist, agents, periods)\n",
    "    return matrix\n",
    "end\n",
    "\n",
    "match_matrix = generate_matching_matrix(params)"
   ]
  },
  {
   "cell_type": "code",
   "execution_count": 14,
   "metadata": {},
   "outputs": [
    {
     "name": "stdout",
     "output_type": "stream",
     "text": [
      "Iteration: 1, Error: 22.24042821451652\n",
      "Iteration: 2, Error: 1.645337822710512\n",
      "Iteration: 3, Error: 0.13490677881814264\n",
      "Iteration: 4, Error: 0.012028792790704025\n",
      "Iteration: 5, Error: 0.0012228452433972544\n",
      "Iteration: 6, Error: 0.00014429373642639175\n"
     ]
    },
    {
     "data": {
      "text/plain": [
       "2001-element Vector{Float64}:\n",
       " 0.5625584887286226\n",
       " 0.562721438395461\n",
       " 0.562884415492137\n",
       " 0.5630474623743051\n",
       " 0.563210532922636\n",
       " 0.5633736592481231\n",
       " 0.563536832075869\n",
       " 0.5637000371424581\n",
       " 0.5638633060063852\n",
       " 0.5640266064640209\n",
       " ⋮\n",
       " 0.9977149343715417\n",
       " 0.9980002871043534\n",
       " 0.998285720187221\n",
       " 0.9985712318225917\n",
       " 0.9988568263599019\n",
       " 0.9991424988143064\n",
       " 0.9994282524091771\n",
       " 0.9997140871828105\n",
       " 1.0"
      ]
     },
     "metadata": {},
     "output_type": "display_data"
    }
   ],
   "source": [
    "function optim_theta(grid, params)\n",
    "    (; β, r, λ, z, p_star, s_star, c, σ, γ, n, lb, ub, mc, me, max_iter) = params\n",
    "    Δ = ub / n\n",
    "    exp_grid, transition_matrix = generate_income_process(params)\n",
    "    prod_grid = productivity_grid(params)\n",
    "    iter = 0\n",
    "    error = Inf\n",
    "    new_grid = zeros(n)\n",
    "    while iter < max_iter && error > 0.001\n",
    "        iter += 1\n",
    "        match_grid = matching_function(grid, params)\n",
    "        for i in 1:n\n",
    "            if i == 1\n",
    "                result = nlsolve(theta -> - ((r+s_star+λ) / match_grid[i]) + (((1-β)*(prod_grid[i]-z)) / c ) - β*theta[1] + λ*((transition_matrix[i, i+1] / match_grid[i+1])), [grid[i]])\n",
    "                new_grid[i] = result.zero[1]\n",
    "            elseif i == n\n",
    "                result = nlsolve(theta -> - ((r+s_star+λ) / match_grid[i]) + (((1-β)*(prod_grid[i]-z)) / c ) - β*theta[1] + λ*((transition_matrix[i, i-1] / match_grid[i-1])), [grid[i]])\n",
    "                new_grid[i] = result.zero[1]\n",
    "            else\n",
    "                result = nlsolve(theta -> - ((r+s_star+λ) / match_grid[i]) + (((1-β)*(prod_grid[i]-z)) / c ) - β*theta[1] + λ*((transition_matrix[i, i-1] / match_grid[i-1]) + (transition_matrix[i, i+1] / match_grid[i+1])), [grid[i]])\n",
    "                new_grid[i] = result.zero[1]\n",
    "            end\n",
    "        end\n",
    "        error = norm(new_grid - grid)\n",
    "        grid = copy(new_grid)\n",
    "        if iter % 1 == 0\n",
    "            println(\"Iteration: $iter, Error: $error\")\n",
    "        end\n",
    "    end\n",
    "    find_probs = matching_function(grid, params).*grid\n",
    "    find_probs = find_probs ./ maximum(find_probs)\n",
    "    return grid, find_probs\n",
    "end\n",
    "\n",
    "θ_grid = theta_grid(params)\n",
    "probs_find = optim_theta(θ_grid, params)[2]"
   ]
  },
  {
   "cell_type": "code",
   "execution_count": 15,
   "metadata": {},
   "outputs": [
    {
     "data": {
      "text/plain": [
       "10000-element Vector{Float64}:\n",
       " 1.0\n",
       " 1.0\n",
       " 0.0\n",
       " 0.0\n",
       " 0.0\n",
       " 1.0\n",
       " 0.0\n",
       " 0.0\n",
       " 1.0\n",
       " 1.0\n",
       " ⋮\n",
       " 0.0\n",
       " 1.0\n",
       " 1.0\n",
       " 1.0\n",
       " 1.0\n",
       " 0.0\n",
       " 0.0\n",
       " 0.0\n",
       " 0.0"
      ]
     },
     "metadata": {},
     "output_type": "display_data"
    }
   ],
   "source": [
    "function initial_u(params)\n",
    "    (; agents) = params\n",
    "    Random.seed!(10)\n",
    "    u_init = randn(1)\n",
    "    dist = Uniform(0., 1.)\n",
    "    matrix = rand(dist, agents)\n",
    "    matrix[matrix .> u_init] .= 1\n",
    "    matrix[matrix .!= 1] .= 0\n",
    "    return matrix\n",
    "end\n",
    "\n",
    "u_init = initial_u(params)\n"
   ]
  },
  {
   "cell_type": "code",
   "execution_count": 16,
   "metadata": {},
   "outputs": [
    {
     "name": "stdout",
     "output_type": "stream",
     "text": [
      "(2001, 2001)\n",
      "Iteration: 1, Error: 22.24042821451652\n",
      "Iteration: 2, Error: 1.645337822710512\n",
      "Iteration: 3, Error: 0.13490677881814264\n",
      "Iteration: 4, Error: 0.012028792790704025\n",
      "Iteration: 5, Error: 0.0012228452433972544\n",
      "Iteration: 6, Error: 0.00014429373642639175\n",
      "agent: 1000, period: 100\n",
      "agent: 1000, period: 200\n",
      "agent: 1000, period: 300\n",
      "agent: 1000, period: 400\n",
      "agent: 1000, period: 500\n",
      "agent: 1000, period: 600\n",
      "agent: 1000, period: 700\n",
      "agent: 1000, period: 800\n",
      "agent: 1000, period: 900\n",
      "agent: 1000, period: 1000\n",
      "agent: 1000, period: 1100\n",
      "agent: 1000, period: 1200\n",
      "agent: 2000, period: 100\n",
      "agent: 2000, period: 200\n",
      "agent: 2000, period: 300\n",
      "agent: 2000, period: 400\n",
      "agent: 2000, period: 500\n",
      "agent: 2000, period: 600\n",
      "agent: 2000, period: 700\n",
      "agent: 2000, period: 800\n",
      "agent: 2000, period: 900\n",
      "agent: 2000, period: 1000\n",
      "agent: 2000, period: 1100\n",
      "agent: 2000, period: 1200\n",
      "agent: 3000, period: 100\n",
      "agent: 3000, period: 200\n",
      "agent: 3000, period: 300\n",
      "agent: 3000, period: 400\n",
      "agent: 3000, period: 500\n",
      "agent: 3000, period: 600\n",
      "agent: 3000, period: 700\n",
      "agent: 3000, period: 800\n",
      "agent: 3000, period: 900\n",
      "agent: 3000, period: 1000\n",
      "agent: 3000, period: 1100\n",
      "agent: 3000, period: 1200\n",
      "agent: 4000, period: 100\n",
      "agent: 4000, period: 200\n",
      "agent: 4000, period: 300\n",
      "agent: 4000, period: 400\n",
      "agent: 4000, period: 500\n",
      "agent: 4000, period: 600\n",
      "agent: 4000, period: 700\n",
      "agent: 4000, period: 800\n",
      "agent: 4000, period: 900\n",
      "agent: 4000, period: 1000\n",
      "agent: 4000, period: 1100\n",
      "agent: 4000, period: 1200\n",
      "agent: 5000, period: 100\n",
      "agent: 5000, period: 200\n",
      "agent: 5000, period: 300\n",
      "agent: 5000, period: 400\n",
      "agent: 5000, period: 500\n",
      "agent: 5000, period: 600\n",
      "agent: 5000, period: 700\n",
      "agent: 5000, period: 800\n",
      "agent: 5000, period: 900\n",
      "agent: 5000, period: 1000\n",
      "agent: 5000, period: 1100\n",
      "agent: 5000, period: 1200\n",
      "agent: 6000, period: 100\n",
      "agent: 6000, period: 200\n",
      "agent: 6000, period: 300\n",
      "agent: 6000, period: 400\n",
      "agent: 6000, period: 500\n",
      "agent: 6000, period: 600\n",
      "agent: 6000, period: 700\n",
      "agent: 6000, period: 800\n",
      "agent: 6000, period: 900\n",
      "agent: 6000, period: 1000\n",
      "agent: 6000, period: 1100\n",
      "agent: 6000, period: 1200\n",
      "agent: 7000, period: 100\n",
      "agent: 7000, period: 200\n",
      "agent: 7000, period: 300\n",
      "agent: 7000, period: 400\n",
      "agent: 7000, period: 500\n",
      "agent: 7000, period: 600\n",
      "agent: 7000, period: 700\n",
      "agent: 7000, period: 800\n",
      "agent: 7000, period: 900\n",
      "agent: 7000, period: 1000\n",
      "agent: 7000, period: 1100\n",
      "agent: 7000, period: 1200\n",
      "agent: 8000, period: 100\n",
      "agent: 8000, period: 200\n",
      "agent: 8000, period: 300\n",
      "agent: 8000, period: 400\n",
      "agent: 8000, period: 500\n",
      "agent: 8000, period: 600\n",
      "agent: 8000, period: 700\n",
      "agent: 8000, period: 800\n",
      "agent: 8000, period: 900\n",
      "agent: 8000, period: 1000\n",
      "agent: 8000, period: 1100\n",
      "agent: 8000, period: 1200\n",
      "agent: 9000, period: 100\n",
      "agent: 9000, period: 200\n",
      "agent: 9000, period: 300\n",
      "agent: 9000, period: 400\n",
      "agent: 9000, period: 500\n",
      "agent: 9000, period: 600\n",
      "agent: 9000, period: 700\n",
      "agent: 9000, period: 800\n",
      "agent: 9000, period: 900\n",
      "agent: 9000, period: 1000\n",
      "agent: 9000, period: 1100\n",
      "agent: 9000, period: 1200\n",
      "agent: 10000, period: 100\n",
      "agent: 10000, period: 200\n",
      "agent: 10000, period: 300\n",
      "agent: 10000, period: 400\n",
      "agent: 10000, period: 500\n",
      "agent: 10000, period: 600\n",
      "agent: 10000, period: 700\n",
      "agent: 10000, period: 800\n",
      "agent: 10000, period: 900\n",
      "agent: 10000, period: 1000\n",
      "agent: 10000, period: 1100\n",
      "agent: 10000, period: 1200\n"
     ]
    },
    {
     "data": {
      "text/plain": [
       "([0.6595 1.0 … 0.0 0.0], [0.07455647500000001 0.11305000000000001 … 0.0 0.0], [0.6227231800344731 0.6227231800344731 … 0.6227231800344731 0.6227231800344731], [0.11305000000000001 0.11305000000000001 … 0.35374541566147344 0.35374541566147344], [0.7359614288056299 0.7359614288056299 … 0.7359614288056299 0.7359614288056299])"
      ]
     },
     "metadata": {},
     "output_type": "display_data"
    }
   ],
   "source": [
    "function simulation(params)  ### employment\n",
    "    (; agents, periods) = params\n",
    "\n",
    "    u_init = initial_u(params)\n",
    "    p_grid = productivity_grid(params)\n",
    "    s_grid = separation_grid(params)\n",
    "    θ_grid = theta_grid(params)\n",
    "    #bargaining_grid = bargaining_grid(params)\n",
    "\n",
    "    p_init = p_grid[10]\n",
    "\n",
    "\n",
    "    agg_prod, agg_transitions = generate_poisson_matrix(params)\n",
    "    income_process, transitions = generate_income_process(params)\n",
    "    println(size(transitions))\n",
    "\n",
    "    index = findfirst(isequal(p_init), p_grid)\n",
    "    initial_θ = θ_grid[index]\n",
    "\n",
    "    employment_sim = zeros(agents , periods) \n",
    "    employment_sim[:,1] .= u_init .== 0.0\n",
    "    \n",
    "    sim_p = zeros(1, periods)\n",
    "    sim_p[:,1] .= p_init\n",
    "    #println(sim_p[:,1])\n",
    "    #println(sim_p[1,1])\n",
    "\n",
    "    sim_θ = zeros(1, periods)\n",
    "    sim_θ[:,1] .= initial_θ\n",
    "\n",
    "    sim_f = zeros(1, periods) # θ*q(θ)\n",
    "    sim_f[:,1] .= sim_θ[:,1] .* matching_function(sim_θ[:,1], params)\n",
    "\n",
    "    sim_u = zeros(1, periods)\n",
    "    fraction = mean(u_init .== 1.0)\n",
    "    sim_u[:,1] .= fraction\n",
    "\n",
    "    sim_v = zeros(1, periods)\n",
    "    sim_v[:,1] .= sim_u[:,1] .* sim_θ[:,1] \n",
    "\n",
    "    thetas, probs_find = optim_theta(θ_grid, params)\n",
    "    match_matrix = generate_matching_matrix(params)\n",
    "    sep_matrix = generate_sep_matrix(params)\n",
    "\n",
    "    for i in 1:agents\n",
    "        for j in 1:periods\n",
    "            if i  % 1000 == 0 && j % 100 == 0\n",
    "                println(\"agent: $i, period: $j\")\n",
    "            end\n",
    "            index = findfirst(isequal(sim_p[1,j]), p_grid)\n",
    "            if agg_prod[1,j] == 1.0\n",
    "                #println(\"transition: $index, $index-1\")\n",
    "                if agg_transitions[1,j] < transitions[index,index-1]\n",
    "                    if index == 1\n",
    "                        sim_p[:,j] .= p_grid[index]\n",
    "                        sim_θ[:,j] .= thetas[index]\n",
    "                        sim_f[:,j] .= (sim_θ[:,j] .* matching_function(sim_θ[:,j], params)) ./ maximum((sim_θ[:,j] .* matching_function(sim_θ[:,j], params)))                  \n",
    "                    else\n",
    "                        sim_p[:,j] .= p_grid[index-1]\n",
    "                        sim_θ[:,j] .= thetas[index-1]\n",
    "                        sim_f[:,j] .= (sim_θ[:,j] .* matching_function(sim_θ[:,j], params)) ./ maximum((sim_θ[:,j] .* matching_function(sim_θ[:,j], params)))   \n",
    "                    end\n",
    "                else\n",
    "                    #println(\"transition: $index, $index+1\")\n",
    "                    sim_p[:,j+1] .= p_grid[index]\n",
    "                    sim_θ[:,j+1] .= thetas[index]\n",
    "                    sim_f[:,j+1] .= sim_f[:,j]  \n",
    "                end\n",
    "            elseif j < periods \n",
    "                sim_p[:,j+1] .= sim_p[:,j]\n",
    "                sim_θ[:,j+1] .= sim_θ[:,j]\n",
    "                sim_f[:,j+1] .= sim_f[:,j]   \n",
    "            end\n",
    "            if employment_sim[i,j] == 1.0 && sep_matrix[i,j] == 0.0 && j < periods\n",
    "                employment_sim[i,j+1] = 1.0\n",
    "            elseif employment_sim[i,j] == 1.0 && sep_matrix[i,j] == 1.0 && j < periods\n",
    "                employment_sim[i,j+1] = 0.0\n",
    "            end\n",
    "            if employment_sim[i,j] == 0.0 && match_matrix[i,j] <= probs_find[index] && j < periods\n",
    "                employment_sim[i,j+1] = 1.0\n",
    "            elseif employment_sim[i,j] == 0.0 && match_matrix[i,j] > probs_find[index] && j < periods\n",
    "                employment_sim[i,j+1] = 0.0\n",
    "            end\n",
    "            if j < periods\n",
    "                sim_u[:,j+1] .= mean(employment_sim[i,j+1] .== 1.0)\n",
    "                sim_v[:,j+1] .= sim_u[:,j+1] .* sim_θ[:,j+1]\n",
    "            end\n",
    "        end\n",
    "    end\n",
    "    return sim_u, sim_v, sim_p, sim_θ, sim_f\n",
    "end\n",
    "\n",
    "  \n",
    "sim_u, sim_v, sim_p, sim_θ, sim_f = simulation(params)\n"
   ]
  }
 ],
 "metadata": {
  "kernelspec": {
   "display_name": "Julia 1.10.1",
   "language": "julia",
   "name": "julia-1.10"
  },
  "language_info": {
   "file_extension": ".jl",
   "mimetype": "application/julia",
   "name": "julia",
   "version": "1.10.1"
  }
 },
 "nbformat": 4,
 "nbformat_minor": 2
}
