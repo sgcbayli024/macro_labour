{
 "cells": [
  {
   "cell_type": "code",
   "execution_count": 1,
   "metadata": {},
   "outputs": [],
   "source": [
    "using LinearAlgebra, Plots, Random, Distributions"
   ]
  },
  {
   "cell_type": "markdown",
   "metadata": {},
   "source": [
    "First, let us create a NamedTuple with our parameters."
   ]
  },
  {
   "cell_type": "code",
   "execution_count": 20,
   "metadata": {},
   "outputs": [
    {
     "data": {
      "text/plain": [
       "(β = 0.72, r = 0.012, λ = 4, z = 0.4, p_star = 1.0, s_star = 0.1, c = 0.213, σ = 0.0165, γ = 0.004, n = 2001, lb = -1.0, ub = 1.0, mc = 1.355, me = -0.72)"
      ]
     },
     "metadata": {},
     "output_type": "display_data"
    }
   ],
   "source": [
    "params = (; β = 0.72, # bargaining_power\n",
    "            r = 0.012, # discount rate\n",
    "            λ = 4, # arrival rate\n",
    "            z = 0.4, # value of leisure\n",
    "            p_star = 1., # productivity\n",
    "            s_star = 0.1, # separation rate\n",
    "            c = 0.213, # cost of vacancy\n",
    "            σ = 0.0165, # standard deviation \n",
    "            γ = 0.004, # autoregressive coefficient\n",
    "            n = 2001, # gridpoints\n",
    "            lb = -1., # bounds for grid\n",
    "            ub = 1., # bounds for grid\n",
    "            mc = 1.355, # constant term in matching function\n",
    "            me = -0.72 ) # exponent in matching function"
   ]
  },
  {
   "cell_type": "code",
   "execution_count": 21,
   "metadata": {},
   "outputs": [
    {
     "data": {
      "text/plain": [
       "matching_function (generic function with 1 method)"
      ]
     },
     "metadata": {},
     "output_type": "display_data"
    }
   ],
   "source": [
    "function matching_function(grid, params)\n",
    "    (; mc, me) = params\n",
    "    return mc .* grid .^ me\n",
    "end"
   ]
  },
  {
   "cell_type": "code",
   "execution_count": 22,
   "metadata": {},
   "outputs": [
    {
     "data": {
      "text/plain": [
       "([0.36787944117144233, 0.3682475046136629, 0.3686159363034188, 0.3689847366091417, 0.369353905899632, 0.3697234445440589, 0.3700933529119613, 0.37046363137324734, 0.37083428029819565, 0.37120530005745517  …  2.6939270528874992, 2.696622327353013, 2.6993202984410796, 2.7020209688496686, 2.7047243412794524, 2.7074304184338023, 2.7101392030187967, 2.7128506977432196, 2.715564905318567, 2.718281828459045], [0.0 1.0 … 0.0 0.0; 0.0004999999999999449 0.0 … 0.0 0.0; … ; 0.0 0.0 … 0.0 0.0004999999999999449; 0.0 0.0 … 1.0 0.0])"
      ]
     },
     "metadata": {},
     "output_type": "display_data"
    }
   ],
   "source": [
    "function generate_income_process(params)\n",
    "    (; n, lb, ub) = params\n",
    "    Δ = ub / n\n",
    "    grid = LinRange(lb, ub, n)\n",
    "    exp_grid = exp.(grid)\n",
    "    transition_matrix = zeros(n, n)\n",
    "    for i in 1:n\n",
    "        for j in 1:n\n",
    "            if i == 1\n",
    "                if j == 1\n",
    "                    transition_matrix[i, j] = ( 1/2 ) * (1 .+ (grid[i] / (n*Δ)))\n",
    "                elseif j == 2\n",
    "                    transition_matrix[i, j] = ( 1/2 ) * (1 .- (grid[i] / (n*Δ)))\n",
    "                end\n",
    "            elseif i == n\n",
    "                if j == n-1\n",
    "                    transition_matrix[i, j] = ( 1/2 ) * (1 .+ (grid[i] / (n*Δ)))\n",
    "                elseif j == n\n",
    "                    transition_matrix[i, j] = ( 1/2 ) * (1 .- (grid[i] / (n*Δ)))\n",
    "                end\n",
    "            else\n",
    "                if j == i - 1\n",
    "                    transition_matrix[i, j] = ( 1/2 ) * (1 .+ (grid[i] / (n*Δ)))\n",
    "                elseif j == i + 1\n",
    "                    transition_matrix[i, j] = ( 1/2 ) * (1 .- (grid[i] / (n*Δ)))\n",
    "                end\n",
    "            end\n",
    "        end\n",
    "    end\n",
    "    return exp_grid, transition_matrix\n",
    "end\n",
    "\n",
    "income_process, transition_matrix = generate_income_process(params)"
   ]
  },
  {
   "cell_type": "code",
   "execution_count": 23,
   "metadata": {},
   "outputs": [
    {
     "data": {
      "text/plain": [
       "2001-element Vector{Float64}:\n",
       " 0.6207276647028654\n",
       " 0.6209485027681978\n",
       " 0.6211695617820513\n",
       " 0.621390841965485\n",
       " 0.6216123435397792\n",
       " 0.6218340667264354\n",
       " 0.6220560117471768\n",
       " 0.6222781788239484\n",
       " 0.6225005681789174\n",
       " 0.6227231800344731\n",
       " ⋮\n",
       " 2.017973396411808\n",
       " 2.019592179064648\n",
       " 2.021212581309801\n",
       " 2.0228346047676715\n",
       " 2.0244582510602815\n",
       " 2.026083521811278\n",
       " 2.0277104186459316\n",
       " 2.02933894319114\n",
       " 2.030969097075427"
      ]
     },
     "metadata": {},
     "output_type": "display_data"
    }
   ],
   "source": [
    "function productivity_grid(params)\n",
    "    (; z, p_star) = params\n",
    "    grid = generate_income_process(params)\n",
    "    p_grid = z .+ (grid[1] .* (p_star - z))\n",
    "    return p_grid\n",
    "end\n",
    "\n",
    "p_grid  = productivity_grid(params)"
   ]
  },
  {
   "cell_type": "code",
   "execution_count": 24,
   "metadata": {},
   "outputs": [
    {
     "data": {
      "text/plain": [
       "2001-element Vector{Float64}:\n",
       " 0.036787944117144235\n",
       " 0.03682475046136629\n",
       " 0.03686159363034188\n",
       " 0.03689847366091417\n",
       " 0.0369353905899632\n",
       " 0.03697234445440589\n",
       " 0.037009335291196134\n",
       " 0.037046363137324734\n",
       " 0.037083428029819565\n",
       " 0.03712053000574552\n",
       " ⋮\n",
       " 0.2696622327353013\n",
       " 0.26993202984410797\n",
       " 0.2702020968849669\n",
       " 0.27047243412794525\n",
       " 0.2707430418433802\n",
       " 0.2710139203018797\n",
       " 0.271285069774322\n",
       " 0.2715564905318567\n",
       " 0.27182818284590454"
      ]
     },
     "metadata": {},
     "output_type": "display_data"
    }
   ],
   "source": [
    "function separation_grid(params)\n",
    "    (; n, s_star) = params\n",
    "    grid = generate_income_process(params)\n",
    "    s_grid = grid[1] .* s_star\n",
    "    return s_grid\n",
    "end\n",
    "\n",
    "s_grid = separation_grid(params)"
   ]
  }
 ],
 "metadata": {
  "kernelspec": {
   "display_name": "Julia 1.10.1",
   "language": "julia",
   "name": "julia-1.10"
  },
  "language_info": {
   "file_extension": ".jl",
   "mimetype": "application/julia",
   "name": "julia",
   "version": "1.10.1"
  }
 },
 "nbformat": 4,
 "nbformat_minor": 2
}
