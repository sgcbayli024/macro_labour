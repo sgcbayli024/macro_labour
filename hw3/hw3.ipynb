{
 "cells": [
  {
   "cell_type": "code",
   "execution_count": 2,
   "metadata": {},
   "outputs": [],
   "source": [
    "using LinearAlgebra, Plots, Random, Distributions, NLsolve"
   ]
  },
  {
   "cell_type": "markdown",
   "metadata": {},
   "source": [
    "First, let us create a NamedTuple with our parameters."
   ]
  },
  {
   "cell_type": "code",
   "execution_count": 3,
   "metadata": {},
   "outputs": [
    {
     "data": {
      "text/plain": [
       "(β = 0.72, r = 0.012, λ = 4, z = 0.4, p_star = 1.0, s_star = 0.1, c = 0.213, σ = 0.0165, γ = 0.004, n = 2001, lb = -1.0, ub = 1.0, mc = 1.355, me = -0.72, max_iter = 1000)"
      ]
     },
     "metadata": {},
     "output_type": "display_data"
    }
   ],
   "source": [
    "params = (; β = 0.72, # bargaining_power\n",
    "            r = 0.012, # discount rate\n",
    "            λ = 4, # arrival rate\n",
    "            z = 0.4, # value of leisure\n",
    "            p_star = 1., # productivity\n",
    "            s_star = 0.1, # separation rate\n",
    "            c = 0.213, # cost of vacancy\n",
    "            σ = 0.0165, # standard deviation \n",
    "            γ = 0.004, # autoregressive coefficient\n",
    "            n = 2001, # gridpoints\n",
    "            lb = -1., # bounds for grid\n",
    "            ub = 1., # bounds for grid\n",
    "            mc = 1.355, # constant term in matching function\n",
    "            me = -0.72, # exponent in matching function\n",
    "            max_iter  = 1000 )"
   ]
  },
  {
   "cell_type": "code",
   "execution_count": 4,
   "metadata": {},
   "outputs": [
    {
     "data": {
      "text/plain": [
       "matching_function (generic function with 1 method)"
      ]
     },
     "metadata": {},
     "output_type": "display_data"
    }
   ],
   "source": [
    "function matching_function(grid, params)\n",
    "    (; mc, me) = params\n",
    "    return mc .* (grid .^ me)\n",
    "end"
   ]
  },
  {
   "cell_type": "code",
   "execution_count": 5,
   "metadata": {},
   "outputs": [
    {
     "data": {
      "text/plain": [
       "([0.36787944117144233, 0.3682475046136629, 0.3686159363034188, 0.3689847366091417, 0.369353905899632, 0.3697234445440589, 0.3700933529119613, 0.37046363137324734, 0.37083428029819565, 0.37120530005745517  …  2.6939270528874992, 2.696622327353013, 2.6993202984410796, 2.7020209688496686, 2.7047243412794524, 2.7074304184338023, 2.7101392030187967, 2.7128506977432196, 2.715564905318567, 2.718281828459045], [0.0 1.0 … 0.0 0.0; 0.0004999999999999449 0.0 … 0.0 0.0; … ; 0.0 0.0 … 0.0 0.0004999999999999449; 0.0 0.0 … 1.0 0.0])"
      ]
     },
     "metadata": {},
     "output_type": "display_data"
    }
   ],
   "source": [
    "function generate_income_process(params)\n",
    "    (; n, lb, ub) = params\n",
    "    Δ = ub / n\n",
    "    grid = LinRange(lb, ub, n)\n",
    "    exp_grid = exp.(grid)\n",
    "    transition_matrix = zeros(n, n)\n",
    "    for i in 1:n\n",
    "        if i == 1\n",
    "            transition_matrix[i, i] = ( 1/2 ) * (1 .+ (grid[i] / (n*Δ)))\n",
    "            transition_matrix[i, i+1] = ( 1/2 ) * (1 .- (grid[i] / (n*Δ)))\n",
    "        elseif i == n\n",
    "            transition_matrix[i, i-1] = ( 1/2 ) * (1 .+ (grid[i] / (n*Δ)))\n",
    "            transition_matrix[i, i] = ( 1/2 ) * (1 .- (grid[i] / (n*Δ)))\n",
    "        else\n",
    "            transition_matrix[i, i-1] = ( 1/2 ) * (1 .+ (grid[i] / (n*Δ)))\n",
    "            transition_matrix[i, i+1] = ( 1/2 ) * (1 .- (grid[i] / (n*Δ)))\n",
    "        end\n",
    "    end\n",
    "    return exp_grid, transition_matrix\n",
    "end\n",
    "\n",
    "income_process, transition_matrix = generate_income_process(params)"
   ]
  },
  {
   "cell_type": "code",
   "execution_count": 21,
   "metadata": {},
   "outputs": [
    {
     "data": {
      "text/plain": [
       "theta_grid (generic function with 1 method)"
      ]
     },
     "metadata": {},
     "output_type": "display_data"
    }
   ],
   "source": [
    "function productivity_grid(params)\n",
    "    (; z, p_star) = params\n",
    "    grid = generate_income_process(params)\n",
    "    p_grid = z .+ (grid[1] .* (p_star - z))\n",
    "    return p_grid\n",
    "end\n",
    "\n",
    "function separation_grid(params)\n",
    "    (; n, s_star) = params\n",
    "    grid = generate_income_process(params)\n",
    "    s_grid = grid[1] .* s_star\n",
    "    return s_grid\n",
    "end\n",
    "\n",
    "function theta_grid(params)\n",
    "    (; n) = params\n",
    "    grid = generate_income_process(params)\n",
    "    θ_grid = LinRange(0.1,3,n)\n",
    "    return θ_grid\n",
    "end"
   ]
  },
  {
   "cell_type": "code",
   "execution_count": 27,
   "metadata": {},
   "outputs": [
    {
     "name": "stdout",
     "output_type": "stream",
     "text": [
      "Iteration: 1, Error: 22.24042821451652\n",
      "Iteration: 2, Error: 1.645337822710512\n",
      "Iteration: 3, Error: 0.13490677881814264\n",
      "Iteration: 4, Error: 0.012028792790704025\n",
      "Iteration: 5, Error: 0.0012228452433972544\n",
      "Iteration: 6, Error: 0.00014429373642639175\n"
     ]
    },
    {
     "data": {
      "text/plain": [
       "2001-element Vector{Float64}:\n",
       " 0.3504679344054823\n",
       " 0.3508306262460641\n",
       " 0.3511936493759864\n",
       " 0.3515570985052328\n",
       " 0.351920871184671\n",
       " 0.3522850393677497\n",
       " 0.35264958272735075\n",
       " 0.3530144697176859\n",
       " 0.3533797712593901\n",
       " 0.35374541566147344\n",
       " ⋮\n",
       " 2.7124282294989412\n",
       " 2.7151998609556762\n",
       " 2.717974312261973\n",
       " 2.7207515685657864\n",
       " 2.723531674825363\n",
       " 2.726314585161308\n",
       " 2.7291003336030744\n",
       " 2.7318889231898624\n",
       " 2.734680325969482"
      ]
     },
     "metadata": {},
     "output_type": "display_data"
    }
   ],
   "source": [
    "function iterate_prod(grid, params)\n",
    "    (; β, r, λ, z, p_star, s_star, c, σ, γ, n, lb, ub, mc, me, max_iter) = params\n",
    "    Δ = ub / n\n",
    "    exp_grid, transition_matrix = generate_income_process(params)\n",
    "    prod_grid = productivity_grid(params)\n",
    "    iter = 0\n",
    "    error = Inf\n",
    "    new_grid = zeros(n)\n",
    "    while iter < max_iter && error > 0.001\n",
    "        iter += 1\n",
    "        match_grid = matching_function(grid, params)\n",
    "        for i in 1:n\n",
    "            if i == 1\n",
    "                result = nlsolve(theta -> - ((r+s_star+λ) / match_grid[i]) + (((1-β)*(prod_grid[i]-z)) / c ) - β*theta[1] + λ*((transition_matrix[i, i+1] / match_grid[i+1])), [grid[i]])\n",
    "                new_grid[i] = result.zero[1]\n",
    "            elseif i == n\n",
    "                result = nlsolve(theta -> - ((r+s_star+λ) / match_grid[i]) + (((1-β)*(prod_grid[i]-z)) / c ) - β*theta[1] + λ*((transition_matrix[i, i-1] / match_grid[i-1])), [grid[i]])\n",
    "                new_grid[i] = result.zero[1]\n",
    "            else\n",
    "                result = nlsolve(theta -> - ((r+s_star+λ) / match_grid[i]) + (((1-β)*(prod_grid[i]-z)) / c ) - β*theta[1] + λ*((transition_matrix[i, i-1] / match_grid[i-1]) + (transition_matrix[i, i+1] / match_grid[i+1])), [grid[i]])\n",
    "                new_grid[i] = result.zero[1]\n",
    "            end\n",
    "        end\n",
    "        error = norm(new_grid - grid)\n",
    "        grid = copy(new_grid)\n",
    "        if iter % 1 == 0\n",
    "            println(\"Iteration: $iter, Error: $error\")\n",
    "        end\n",
    "    end\n",
    "    return grid\n",
    "end\n",
    "\n",
    "θ_grid = theta_grid(params)\n",
    "thetas = iterate_prod(θ_grid, params)"
   ]
  },
  {
   "cell_type": "code",
   "execution_count": 28,
   "metadata": {},
   "outputs": [
    {
     "name": "stdout",
     "output_type": "stream",
     "text": [
      "Iteration: 1, Error: 54.000472622261384\n",
      "Iteration: 2, Error: 7.700569011569239\n",
      "Iteration: 3, Error: 1.4943263408370036\n",
      "Iteration: 4, Error: 0.29482678774158727\n",
      "Iteration: 5, Error: 0.0614452372134459\n",
      "Iteration: 6, Error: 0.013214677460164956\n",
      "Iteration: 7, Error: 0.002923860883392916\n",
      "Iteration: 8, Error: 0.000711446442226081\n"
     ]
    },
    {
     "data": {
      "text/plain": [
       "2001-element Vector{Float64}:\n",
       " 1.0437770409880436\n",
       " 1.0437396761402775\n",
       " 1.0437019834920682\n",
       " 1.043664469796426\n",
       " 1.0436265391864397\n",
       " 1.0435891756585358\n",
       " 1.0435511573978233\n",
       " 1.0435135185145556\n",
       " 1.043475639612994\n",
       " 1.0434378362402184\n",
       " ⋮\n",
       " 0.8411663056806334\n",
       " 0.8410053785000571\n",
       " 0.8407777146815644\n",
       " 0.8405965475521828\n",
       " 0.8403823477397983\n",
       " 0.8401908473220112\n",
       " 0.8399995931775783\n",
       " 0.8397657141037753\n",
       " 0.8396222563331162"
      ]
     },
     "metadata": {},
     "output_type": "display_data"
    }
   ],
   "source": [
    "function iterate_sep(grid, params)\n",
    "    (; β, r, λ, z, p_star, s_star, c, σ, γ, n, lb, ub, mc, me, max_iter) = params\n",
    "    Δ = ub / n\n",
    "    exp_grid, transition_matrix = generate_income_process(params)\n",
    "    sep_grid = separation_grid(params)\n",
    "    iter = 0\n",
    "    error = Inf\n",
    "    new_grid = zeros(n)\n",
    "    while iter < max_iter && error > 0.001\n",
    "        iter += 1\n",
    "        match_grid = matching_function(grid, params)\n",
    "        for i in 1:n\n",
    "            if i == 1\n",
    "                result = nlsolve(theta -> - ((r+sep_grid[i]+λ) / match_grid[i]) + (((1-β)*(p_star-z)) / c ) - β*theta[1] + λ*((transition_matrix[i, i+1] / match_grid[i+1])), [grid[i]])\n",
    "                new_grid[i] = result.zero[1]\n",
    "            elseif i == n\n",
    "                result = nlsolve(theta -> - ((r+sep_grid[i]+λ) / match_grid[i]) + (((1-β)*(p_star-z)) / c ) - β*theta[1] + λ*((transition_matrix[i, i-1] / match_grid[i-1])), [grid[i]])\n",
    "                new_grid[i] = result.zero[1]\n",
    "            else\n",
    "                result = nlsolve(theta -> - ((r+sep_grid[i]+λ) / match_grid[i]) + (((1-β)*(p_star-z)) / c ) - β*theta[1] + λ*((transition_matrix[i, i-1] / match_grid[i-1]) + (transition_matrix[i, i+1] / match_grid[i+1])), [grid[i]])\n",
    "                new_grid[i] = result.zero[1]\n",
    "            end\n",
    "        end\n",
    "        error = norm(new_grid - grid)\n",
    "        grid = copy(new_grid)\n",
    "        if iter % 1 == 0\n",
    "            println(\"Iteration: $iter, Error: $error\")\n",
    "        end\n",
    "    end\n",
    "    return grid\n",
    "end\n",
    "\n",
    "θ_grid = theta_grid(params)\n",
    "sep_thetas = iterate_sep(θ_grid, params)\n",
    "    "
   ]
  },
  {
   "cell_type": "code",
   "execution_count": 38,
   "metadata": {},
   "outputs": [
    {
     "data": {
      "text/plain": [
       "2001-element LinRange{Float64, Int64}:\n",
       " 0.8, 0.79992, 0.79984, 0.79976, 0.79968, …, 0.64024, 0.64016, 0.64008, 0.64"
      ]
     },
     "metadata": {},
     "output_type": "display_data"
    }
   ],
   "source": [
    "function bargaining_grid(params)\n",
    "    (; n) = params\n",
    "    lower_bound = 0.64\n",
    "    upper_bound = 0.80\n",
    "    grid = LinRange(lower_bound, upper_bound, n)    \n",
    "    return reverse(grid)\n",
    "end\n",
    "\n",
    "barg_grid = bargaining_grid(params)"
   ]
  },
  {
   "cell_type": "code",
   "execution_count": 39,
   "metadata": {},
   "outputs": [
    {
     "name": "stdout",
     "output_type": "stream",
     "text": [
      "Iteration: 1, Error: 20.095365965672737\n",
      "Iteration: 2, Error: 1.5756105466694514\n",
      "Iteration: 3, Error: 0.13157801754922868\n",
      "Iteration: 4, Error: 0.01142946280340591\n",
      "Iteration: 5, Error: 0.0010867025345807162\n",
      "Iteration: 6, Error: 0.00012097652090862869\n"
     ]
    },
    {
     "data": {
      "text/plain": [
       "2001-element Vector{Float64}:\n",
       " 0.22514867331977384\n",
       " 0.22549511191916263\n",
       " 0.22584201765365652\n",
       " 0.2261894348516834\n",
       " 0.2265373416182277\n",
       " 0.22688574386916102\n",
       " 0.2272346394659428\n",
       " 0.2275840402300056\n",
       " 0.22793393091317585\n",
       " 0.22828432428018341\n",
       " ⋮\n",
       " 3.904921692787293\n",
       " 3.9102604083157284\n",
       " 3.9156063117875815\n",
       " 3.920959357162226\n",
       " 3.9263195420176134\n",
       " 3.9316869376197885\n",
       " 3.937061459077796\n",
       " 3.942443251550919\n",
       " 3.9478321392164313"
      ]
     },
     "metadata": {},
     "output_type": "display_data"
    }
   ],
   "source": [
    "function iterate_prod_barg(grid, params)\n",
    "    (; r, λ, z, p_star, s_star, c, σ, γ, n, lb, ub, mc, me, max_iter) = params\n",
    "    Δ = ub / n\n",
    "    exp_grid, transition_matrix = generate_income_process(params)\n",
    "    prod_grid = productivity_grid(params)\n",
    "    β = bargaining_grid(params)\n",
    "    iter = 0\n",
    "    error = Inf\n",
    "    new_grid = zeros(n)\n",
    "    while iter < max_iter && error > 0.001\n",
    "        iter += 1\n",
    "        match_grid = matching_function(grid, params)\n",
    "        for i in 1:n\n",
    "            if i == 1\n",
    "                result = nlsolve(theta -> - ((r+s_star+λ) / match_grid[i]) + (((1-β[i])*(prod_grid[i]-z)) / c ) - β[i]*theta[1] + λ*((transition_matrix[i, i+1] / match_grid[i+1])), [grid[i]])\n",
    "                new_grid[i] = result.zero[1]\n",
    "            elseif i == n\n",
    "                result = nlsolve(theta -> - ((r+s_star+λ) / match_grid[i]) + (((1-β[i])*(prod_grid[i]-z)) / c ) - β[i]*theta[1] + λ*((transition_matrix[i, i-1] / match_grid[i-1])), [grid[i]])\n",
    "                new_grid[i] = result.zero[1]\n",
    "            else\n",
    "                result = nlsolve(theta -> - ((r+s_star+λ) / match_grid[i]) + (((1-β[i])*(prod_grid[i]-z)) / c ) - β[i]*theta[1] + λ*((transition_matrix[i, i-1] / match_grid[i-1]) + (transition_matrix[i, i+1] / match_grid[i+1])), [grid[i]])\n",
    "                new_grid[i] = result.zero[1]\n",
    "            end\n",
    "        end\n",
    "        error = norm(new_grid - grid)\n",
    "        grid = copy(new_grid)\n",
    "        if iter % 1 == 0\n",
    "            println(\"Iteration: $iter, Error: $error\")\n",
    "        end\n",
    "    end\n",
    "    return grid\n",
    "end\n",
    "\n",
    "θ_grid = theta_grid(params)\n",
    "thetas_barg = iterate_prod_barg(θ_grid, params)"
   ]
  },
  {
   "cell_type": "code",
   "execution_count": 41,
   "metadata": {},
   "outputs": [
    {
     "name": "stdout",
     "output_type": "stream",
     "text": [
      "Iteration: 1, Error: 45.474316076776056\n",
      "Iteration: 2, Error: 6.846475992927783\n",
      "Iteration: 3, Error: 1.3201216451684383\n",
      "Iteration: 4, Error: 0.26430013613346603\n",
      "Iteration: 5, Error: 0.055789793551270284\n",
      "Iteration: 6, Error: 0.012175779014866875\n",
      "Iteration: 7, Error: 0.0027348862772769906\n",
      "Iteration: 8, Error: 0.0006594973776237966\n"
     ]
    },
    {
     "data": {
      "text/plain": [
       "2001-element Vector{Float64}:\n",
       " 0.6713666915893561\n",
       " 0.6716778304360874\n",
       " 0.6719889380856261\n",
       " 0.6723001499223206\n",
       " 0.672611201407783\n",
       " 0.6729225294044114\n",
       " 0.6732336434657564\n",
       " 0.6735449124293169\n",
       " 0.6738562003486475\n",
       " 0.6741673679889543\n",
       " ⋮\n",
       " 1.2079839606664111\n",
       " 1.2081191258054373\n",
       " 1.2082316062953533\n",
       " 1.2083532277483562\n",
       " 1.208469303179048\n",
       " 1.208599629669544\n",
       " 1.2087045705270776\n",
       " 1.20883275541049\n",
       " 1.2089486087360286"
      ]
     },
     "metadata": {},
     "output_type": "display_data"
    }
   ],
   "source": [
    "function iterate_sep_barg(grid, params)\n",
    "    (; r, λ, z, p_star, s_star, c, σ, γ, n, lb, ub, mc, me, max_iter) = params\n",
    "    Δ = ub / n\n",
    "    exp_grid, transition_matrix = generate_income_process(params)\n",
    "    sep_grid = separation_grid(params)\n",
    "    β = bargaining_grid(params)\n",
    "    iter = 0\n",
    "    error = Inf\n",
    "    new_grid = zeros(n)\n",
    "    while iter < max_iter && error > 0.001\n",
    "        iter += 1\n",
    "        match_grid = matching_function(grid, params)\n",
    "        for i in 1:n\n",
    "            if i == 1\n",
    "                result = nlsolve(theta -> - ((r+sep_grid[i]+λ) / match_grid[i]) + (((1-β[i])*(p_star-z)) / c ) - β[i]*theta[1] + λ*((transition_matrix[i, i+1] / match_grid[i+1])), [grid[i]])\n",
    "                new_grid[i] = result.zero[1]\n",
    "            elseif i == n\n",
    "                result = nlsolve(theta -> - ((r+sep_grid[i]+λ) / match_grid[i]) + (((1-β[i])*(p_star-z)) / c ) - β[i]*theta[1] + λ*((transition_matrix[i, i-1] / match_grid[i-1])), [grid[i]])\n",
    "                new_grid[i] = result.zero[1]\n",
    "            else\n",
    "                result = nlsolve(theta -> - ((r+sep_grid[i]+λ) / match_grid[i]) + (((1-β[i])*(p_star-z)) / c ) - β[i]*theta[1] + λ*((transition_matrix[i, i-1] / match_grid[i-1]) + (transition_matrix[i, i+1] / match_grid[i+1])), [grid[i]])\n",
    "                new_grid[i] = result.zero[1]\n",
    "            end\n",
    "        end\n",
    "        error = norm(new_grid - grid)\n",
    "        grid = copy(new_grid)\n",
    "        if iter % 1 == 0\n",
    "            println(\"Iteration: $iter, Error: $error\")\n",
    "        end\n",
    "    end\n",
    "    return grid\n",
    "end\n",
    "\n",
    "θ_grid = theta_grid(params)\n",
    "sep_thetas = iterate_sep_barg(θ_grid, params)"
   ]
  }
 ],
 "metadata": {
  "kernelspec": {
   "display_name": "Julia 1.10.1",
   "language": "julia",
   "name": "julia-1.10"
  },
  "language_info": {
   "file_extension": ".jl",
   "mimetype": "application/julia",
   "name": "julia",
   "version": "1.10.1"
  }
 },
 "nbformat": 4,
 "nbformat_minor": 2
}
