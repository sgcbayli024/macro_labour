{
 "cells": [
  {
   "cell_type": "code",
   "execution_count": 33,
   "metadata": {},
   "outputs": [],
   "source": [
    "using LinearAlgebra, Plots, Random, Distributions, Optim"
   ]
  },
  {
   "cell_type": "markdown",
   "metadata": {},
   "source": [
    "First, let us create a NamedTuple with our parameters."
   ]
  },
  {
   "cell_type": "code",
   "execution_count": 32,
   "metadata": {},
   "outputs": [
    {
     "data": {
      "text/plain": [
       "(β = 0.72, r = 0.012, λ = 4, z = 0.4, p_star = 1.0, s_star = 0.1, c = 0.213, σ = 0.0165, γ = 0.004, n = 2001, lb = -1.0, ub = 1.0, mc = 1.355, me = -0.72, max_iter = 1000)"
      ]
     },
     "metadata": {},
     "output_type": "display_data"
    }
   ],
   "source": [
    "params = (; β = 0.72, # bargaining_power\n",
    "            r = 0.012, # discount rate\n",
    "            λ = 4, # arrival rate\n",
    "            z = 0.4, # value of leisure\n",
    "            p_star = 1., # productivity\n",
    "            s_star = 0.1, # separation rate\n",
    "            c = 0.213, # cost of vacancy\n",
    "            σ = 0.0165, # standard deviation \n",
    "            γ = 0.004, # autoregressive coefficient\n",
    "            n = 2001, # gridpoints\n",
    "            lb = -1., # bounds for grid\n",
    "            ub = 1., # bounds for grid\n",
    "            mc = 1.355, # constant term in matching function\n",
    "            me = -0.72, # exponent in matching function\n",
    "            max_iter  = 1000 )"
   ]
  },
  {
   "cell_type": "code",
   "execution_count": 25,
   "metadata": {},
   "outputs": [
    {
     "data": {
      "text/plain": [
       "matching_function (generic function with 1 method)"
      ]
     },
     "metadata": {},
     "output_type": "display_data"
    }
   ],
   "source": [
    "function matching_function(grid, params)\n",
    "    (; mc, me) = params\n",
    "    return mc .* (grid .^ me)\n",
    "end"
   ]
  },
  {
   "cell_type": "code",
   "execution_count": 29,
   "metadata": {},
   "outputs": [
    {
     "data": {
      "text/plain": [
       "([0.36787944117144233, 0.3682475046136629, 0.3686159363034188, 0.3689847366091417, 0.369353905899632, 0.3697234445440589, 0.3700933529119613, 0.37046363137324734, 0.37083428029819565, 0.37120530005745517  …  2.6939270528874992, 2.696622327353013, 2.6993202984410796, 2.7020209688496686, 2.7047243412794524, 2.7074304184338023, 2.7101392030187967, 2.7128506977432196, 2.715564905318567, 2.718281828459045], [0.0 1.0 … 0.0 0.0; 0.0004999999999999449 0.0 … 0.0 0.0; … ; 0.0 0.0 … 0.0 0.0004999999999999449; 0.0 0.0 … 1.0 0.0])"
      ]
     },
     "metadata": {},
     "output_type": "display_data"
    }
   ],
   "source": [
    "function generate_income_process(params)\n",
    "    (; n, lb, ub) = params\n",
    "    Δ = ub / n\n",
    "    grid = LinRange(lb, ub, n)\n",
    "    exp_grid = exp.(grid)\n",
    "    transition_matrix = zeros(n, n)\n",
    "    for i in 1:n\n",
    "        if i == 1\n",
    "            transition_matrix[i, i] = ( 1/2 ) * (1 .+ (grid[i] / (n*Δ)))\n",
    "            transition_matrix[i, i+1] = ( 1/2 ) * (1 .- (grid[i] / (n*Δ)))\n",
    "        elseif i == n\n",
    "            transition_matrix[i, i-1] = ( 1/2 ) * (1 .+ (grid[i] / (n*Δ)))\n",
    "            transition_matrix[i, i] = ( 1/2 ) * (1 .- (grid[i] / (n*Δ)))\n",
    "        else\n",
    "            transition_matrix[i, i-1] = ( 1/2 ) * (1 .+ (grid[i] / (n*Δ)))\n",
    "            transition_matrix[i, i+1] = ( 1/2 ) * (1 .- (grid[i] / (n*Δ)))\n",
    "        end\n",
    "    end\n",
    "    return exp_grid, transition_matrix\n",
    "end\n",
    "\n",
    "income_process, transition_matrix = generate_income_process(params)"
   ]
  },
  {
   "cell_type": "code",
   "execution_count": 49,
   "metadata": {},
   "outputs": [
    {
     "data": {
      "text/plain": [
       "theta_grid (generic function with 1 method)"
      ]
     },
     "metadata": {},
     "output_type": "display_data"
    }
   ],
   "source": [
    "function productivity_grid(params)\n",
    "    (; z, p_star) = params\n",
    "    grid = generate_income_process(params)\n",
    "    p_grid = z .+ (grid[1] .* (p_star - z))\n",
    "    return p_grid\n",
    "end\n",
    "\n",
    "function separation_grid(params)\n",
    "    (; n, s_star) = params\n",
    "    grid = generate_income_process(params)\n",
    "    s_grid = grid[1] .* s_star\n",
    "    return s_grid\n",
    "end\n",
    "\n",
    "function theta_grid(params)\n",
    "    (; n) = params\n",
    "    grid = generate_income_process(params)\n",
    "    θ_grid = LinRange(1,2,n)\n",
    "    return θ_grid\n",
    "end\n",
    "    "
   ]
  },
  {
   "cell_type": "code",
   "execution_count": 57,
   "metadata": {},
   "outputs": [
    {
     "data": {
      "text/plain": [
       "iterate (generic function with 1 method)"
      ]
     },
     "metadata": {},
     "output_type": "display_data"
    }
   ],
   "source": [
    "function iterate(grid, params)\n",
    "    (; β, r, λ, z, p_star, s_star, c, σ, γ, n, lb, ub, mc, me, max_iter) = params\n",
    "    Δ = ub / n\n",
    "    exp_grid, transition_matrix = generate_income_process(params)\n",
    "    prod_grid = productivity_grid(params)\n",
    "    match_grid = matching_function(grid, params)\n",
    "    iter = 0\n",
    "    error = Inf\n",
    "    new_grid = ones(n)\n",
    "    while iter < max_iter && error > 1e-6\n",
    "        iter += 1\n",
    "        for i in 1:n\n",
    "            if i == 1\n",
    "                new_grid[i] = optimize(theta -> - ((r+s_star+λ) / theta) + (((1-β)*(prod_grid[i]-z)) / c ) - β*theta + λ*((transition_matrix[i, i+1] / grid[i+1])), 0, 2).minimizer\n",
    "            elseif i == n\n",
    "                new_grid[i] = optimize(theta -> - ((r+s_star+λ) / theta) + (((1-β)*(prod_grid[i]-z)) / c ) - β*theta + λ*((transition_matrix[i, i-1] / grid[i-1])), 0, 2).minimizer\n",
    "            else\n",
    "                new_grid[i] = optimize(theta -> - ((r+s_star+λ) / theta) + (((1-β)*(prod_grid[i]-z)) / c ) - β*theta + λ*((transition_matrix[i, i-1] / grid[i-1]) + (transition_matrix[i, i+1] / grid[i+1])), 0, 2).minimizer\n",
    "            end\n",
    "        end\n",
    "        error = norm(new_grid - grid)\n",
    "        grid = new_grid\n",
    "        if iter % 1 == 0\n",
    "            println(\"Iteration: $iter, Error: $error\")\n",
    "        end\n",
    "    end\n",
    "    return grid\n",
    "end"
   ]
  },
  {
   "cell_type": "code",
   "execution_count": 58,
   "metadata": {},
   "outputs": [
    {
     "name": "stdout",
     "output_type": "stream",
     "text": [
      "Iteration: 1, Error: 68.3313013925536\n",
      "Iteration: 2, Error: 0.0\n"
     ]
    },
    {
     "data": {
      "text/plain": [
       "2001-element Vector{Float64}:\n",
       " 4.2360100022891096e-16\n",
       " 4.2360100022891096e-16\n",
       " 4.2360100022891096e-16\n",
       " 4.2360100022891096e-16\n",
       " 4.2360100022891096e-16\n",
       " 4.2360100022891096e-16\n",
       " 4.2360100022891096e-16\n",
       " 4.2360100022891096e-16\n",
       " 4.2360100022891096e-16\n",
       " 4.2360100022891096e-16\n",
       " ⋮\n",
       " 4.2360100022891096e-16\n",
       " 4.2360100022891096e-16\n",
       " 4.2360100022891096e-16\n",
       " 4.2360100022891096e-16\n",
       " 4.2360100022891096e-16\n",
       " 4.2360100022891096e-16\n",
       " 4.2360100022891096e-16\n",
       " 4.2360100022891096e-16\n",
       " 4.2360100022891096e-16"
      ]
     },
     "metadata": {},
     "output_type": "display_data"
    }
   ],
   "source": [
    "θ_grid = theta_grid(params)\n",
    "thetas = iterate(θ_grid, params)    "
   ]
  }
 ],
 "metadata": {
  "kernelspec": {
   "display_name": "Julia 1.10.1",
   "language": "julia",
   "name": "julia-1.10"
  },
  "language_info": {
   "file_extension": ".jl",
   "mimetype": "application/julia",
   "name": "julia",
   "version": "1.10.1"
  }
 },
 "nbformat": 4,
 "nbformat_minor": 2
}
